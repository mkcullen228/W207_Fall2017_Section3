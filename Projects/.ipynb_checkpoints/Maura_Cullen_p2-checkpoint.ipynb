{
 "cells": [
  {
   "cell_type": "markdown",
   "metadata": {},
   "source": [
    "# Project 2: Topic Classification"
   ]
  },
  {
   "cell_type": "markdown",
   "metadata": {},
   "source": [
    "In this project, you'll work with text data from newsgroup postings on a variety of topics. You'll train classifiers to distinguish between the topics based on the text of the posts. Whereas with digit classification, the input is relatively dense: a 28x28 matrix of pixels, many of which are non-zero, here we'll represent each document with a \"bag-of-words\" model. As you'll see, this makes the feature representation quite sparse -- only a few words of the total vocabulary are active in any given document. The bag-of-words assumption here is that the label depends only on the words; their order is not important.\n",
    "\n",
    "The SK-learn documentation on feature extraction will prove useful:\n",
    "http://scikit-learn.org/stable/modules/feature_extraction.html\n",
    "\n",
    "Each problem can be addressed succinctly with the included packages -- please don't add any more. Grading will be based on writing clean, commented code, along with a few short answers.\n",
    "\n",
    "As always, you're welcome to work on the project in groups and discuss ideas on the course wall, but please prepare your own write-up and write your own code."
   ]
  },
  {
   "cell_type": "code",
   "execution_count": 1,
   "metadata": {},
   "outputs": [
    {
     "name": "stderr",
     "output_type": "stream",
     "text": [
      "/usr/local/lib/python2.7/site-packages/matplotlib/font_manager.py:273: UserWarning: Matplotlib is building the font cache using fc-list. This may take a moment.\n",
      "  warnings.warn('Matplotlib is building the font cache using fc-list. This may take a moment.')\n"
     ]
    }
   ],
   "source": [
    "# This tells matplotlib not to try opening a new window for each plot.\n",
    "%matplotlib inline\n",
    "\n",
    "# General libraries.\n",
    "import re\n",
    "import numpy as np\n",
    "import pandas as pd\n",
    "import matplotlib.pyplot as plt\n",
    "\n",
    "# SK-learn libraries for learning.\n",
    "from sklearn.pipeline import Pipeline\n",
    "from sklearn.neighbors import KNeighborsClassifier\n",
    "from sklearn.linear_model import LogisticRegression\n",
    "from sklearn.naive_bayes import BernoulliNB\n",
    "from sklearn.naive_bayes import MultinomialNB\n",
    "from sklearn.grid_search import GridSearchCV\n",
    "\n",
    "# SK-learn libraries for evaluation.\n",
    "from sklearn.metrics import confusion_matrix\n",
    "from sklearn import metrics\n",
    "from sklearn.metrics import classification_report\n",
    "\n",
    "# SK-learn library for importing the newsgroup data.\n",
    "from sklearn.datasets import fetch_20newsgroups\n",
    "\n",
    "# SK-learn libraries for feature extraction from text.\n",
    "from sklearn.feature_extraction.text import *"
   ]
  },
  {
   "cell_type": "markdown",
   "metadata": {},
   "source": [
    "Load the data, stripping out metadata so that we learn classifiers that only use textual features. By default, newsgroups data is split into train and test sets. We further split the test so we have a dev set. Note that we specify 4 categories to use for this project. If you remove the categories argument from the fetch function, you'll get all 20 categories."
   ]
  },
  {
   "cell_type": "code",
   "execution_count": 2,
   "metadata": {},
   "outputs": [
    {
     "name": "stdout",
     "output_type": "stream",
     "text": [
      "training label shape: (2034,)\n",
      "test label shape: (677,)\n",
      "dev label shape: (676,)\n",
      "labels names: ['alt.atheism', 'comp.graphics', 'sci.space', 'talk.religion.misc']\n"
     ]
    }
   ],
   "source": [
    "categories = ['alt.atheism', 'talk.religion.misc', 'comp.graphics', 'sci.space']\n",
    "newsgroups_train = fetch_20newsgroups(subset='train',\n",
    "                                      remove=('headers', 'footers', 'quotes'),\n",
    "                                      categories=categories)\n",
    "newsgroups_test = fetch_20newsgroups(subset='test',\n",
    "                                     remove=('headers', 'footers', 'quotes'),\n",
    "                                     categories=categories)\n",
    "\n",
    "num_test = len(newsgroups_test.target)\n",
    "test_data, test_labels = newsgroups_test.data[num_test/2:], newsgroups_test.target[num_test/2:]\n",
    "dev_data, dev_labels = newsgroups_test.data[:num_test/2], newsgroups_test.target[:num_test/2]\n",
    "train_data, train_labels = newsgroups_train.data, newsgroups_train.target\n",
    "\n",
    "print 'training label shape:', train_labels.shape\n",
    "print 'test label shape:', test_labels.shape\n",
    "print 'dev label shape:', dev_labels.shape\n",
    "print 'labels names:', newsgroups_train.target_names"
   ]
  },
  {
   "cell_type": "markdown",
   "metadata": {},
   "source": [
    "(1) For each of the first 5 training examples, print the text of the message along with the label."
   ]
  },
  {
   "cell_type": "code",
   "execution_count": 3,
   "metadata": {},
   "outputs": [
    {
     "name": "stdout",
     "output_type": "stream",
     "text": [
      "\n",
      "Eaxmple 1,  Label: 1\n",
      "Text: \n",
      "Hi,\n",
      "\n",
      "I've noticed that if you only save a model (with all your mapping planes\n",
      "positioned carefully) to a .3DS file that when you reload it after restarting\n",
      "3DS, they are given a default position and orientation.  But if you save\n",
      "to a .PRJ file their positions/orientation are preserved.  Does anyone\n",
      "know why this information is not stored in the .3DS file?  Nothing is\n",
      "explicitly said in the manual about saving texture rules in the .PRJ file. \n",
      "I'd like to be able to read the texture rule information, does anyone have \n",
      "the format for the .PRJ file?\n",
      "\n",
      "Is the .CEL file format available from somewhere?\n",
      "\n",
      "Rych\n",
      "\n",
      "Eaxmple 2,  Label: 3\n",
      "Text: \n",
      "\n",
      "\n",
      "Seems to be, barring evidence to the contrary, that Koresh was simply\n",
      "another deranged fanatic who thought it neccessary to take a whole bunch of\n",
      "folks with him, children and all, to satisfy his delusional mania. Jim\n",
      "Jones, circa 1993.\n",
      "\n",
      "\n",
      "Nope - fruitcakes like Koresh have been demonstrating such evil corruption\n",
      "for centuries.\n",
      "\n",
      "Eaxmple 3,  Label: 2\n",
      "Text: \n",
      "\n",
      " >In article <1993Apr19.020359.26996@sq.sq.com>, msb@sq.sq.com (Mark Brader) \n",
      "\n",
      "MB>                                                             So the\n",
      "MB> 1970 figure seems unlikely to actually be anything but a perijove.\n",
      "\n",
      "JG>Sorry, _perijoves_...I'm not used to talking this language.\n",
      "\n",
      "Couldn't we just say periapsis or apoapsis?\n",
      "\n",
      " \n",
      "\n",
      "Eaxmple 4,  Label: 0\n",
      "Text: \n",
      "I have a request for those who would like to see Charley Wingate\n",
      "respond to the \"Charley Challenges\" (and judging from my e-mail, there\n",
      "appear to be quite a few of you.)  \n",
      "\n",
      "It is clear that Mr. Wingate intends to continue to post tangential or\n",
      "unrelated articles while ingoring the Challenges themselves.  Between\n",
      "the last two re-postings of the Challenges, I noted perhaps a dozen or\n",
      "more posts by Mr. Wingate, none of which answered a single Challenge.  \n",
      "\n",
      "It seems unmistakable to me that Mr. Wingate hopes that the questions\n",
      "will just go away, and he is doing his level best to change the\n",
      "subject.  Given that this seems a rather common net.theist tactic, I\n",
      "would like to suggest that we impress upon him our desire for answers,\n",
      "in the following manner:\n",
      "\n",
      "1. Ignore any future articles by Mr. Wingate that do not address the\n",
      "Challenges, until he answers them or explictly announces that he\n",
      "refuses to do so.\n",
      "\n",
      "--or--\n",
      "\n",
      "2. If you must respond to one of his articles, include within it\n",
      "something similar to the following:\n",
      "\n",
      "    \"Please answer the questions posed to you in the Charley Challenges.\"\n",
      "\n",
      "Really, I'm not looking to humiliate anyone here, I just want some\n",
      "honest answers.  You wouldn't think that honesty would be too much to\n",
      "ask from a devout Christian, would you?  \n",
      "\n",
      "Nevermind, that was a rhetorical question.\n",
      "\n",
      "Eaxmple 5,  Label: 2\n",
      "Text: \n",
      "AW&ST  had a brief blurb on a Manned Lunar Exploration confernce\n",
      "May 7th  at Crystal City Virginia, under the auspices of AIAA.\n",
      "\n",
      "Does anyone know more about this?  How much, to attend????\n",
      "\n",
      "Anyone want to go?\n"
     ]
    }
   ],
   "source": [
    "def P1(num_examples=5):\n",
    "### STUDENT START ###\n",
    "    for i in range(num_examples):\n",
    "        print \"\\nEaxmple %i,  Label: %s\" % (i+1, train_labels[i])\n",
    "        print \"Text: \\n%s\" % train_data[i]\n",
    "\n",
    "### STUDENT END ###\n",
    "P1()"
   ]
  },
  {
   "cell_type": "markdown",
   "metadata": {},
   "source": [
    "(2) Use CountVectorizer to turn the raw training text into feature vectors. You should use the fit_transform function, which makes 2 passes through the data: first it computes the vocabulary (\"fit\"), second it converts the raw text into feature vectors using the vocabulary (\"transform\").\n",
    "\n",
    "The vectorizer has a lot of options. To get familiar with some of them, write code to answer these questions:\n",
    "\n",
    "a. The output of the transform (also of fit_transform) is a sparse matrix: http://docs.scipy.org/doc/scipy-0.14.0/reference/generated/scipy.sparse.csr_matrix.html. What is the size of the vocabulary? What is the average number of non-zero features per example? What fraction of the entries in the matrix are non-zero? Hint: use \"nnz\" and \"shape\" attributes.\n",
    "\n",
    "b. What are the 0th and last feature strings (in alphabetical order)? Hint: use the vectorizer's get_feature_names function.\n",
    "\n",
    "c. Specify your own vocabulary with 4 words: [\"atheism\", \"graphics\", \"space\", \"religion\"]. Confirm the training vectors are appropriately shaped. Now what's the average number of non-zero features per example?\n",
    "\n",
    "d. Instead of extracting unigram word features, use \"analyzer\" and \"ngram_range\" to extract bigram and trigram character features. What size vocabulary does this yield?\n",
    "\n",
    "e. Use the \"min_df\" argument to prune words that appear in fewer than 10 documents. What size vocabulary does this yield?\n",
    "\n",
    "f. Using the standard CountVectorizer, what fraction of the words in the dev data are missing from the vocabulary? Hint: build a vocabulary for both train and dev and look at the size of the difference."
   ]
  },
  {
   "cell_type": "code",
   "execution_count": 36,
   "metadata": {},
   "outputs": [
    {
     "name": "stdout",
     "output_type": "stream",
     "text": [
      "Size of Vocabulary: 26879\n",
      "Average number of non-zero features per example 0.0\n",
      "The fraction of non-zero entries in the matrix: 0.0\n",
      "\n",
      "Feature Strings: \n",
      "\tFirst: 00\n",
      "\tLast:  zyxel\n",
      "\n",
      "Specifing Vocab List:\n",
      "['atheism', 'graphics', 'space', 'religion']\n",
      "Size of Vocabulary with specified vocab list: 4 \n",
      "Average number of non-zero features per example 0.3\n",
      "\n",
      "Size of Bigram and trigram Vocabulary: 510583\n",
      "\n",
      "Size of Bigram and trigram Vocabulary After Pruning: 3381\n",
      "\n",
      "4027/16246 (0.25) Words in Dev Vocab are not in Train Vocab\n"
     ]
    }
   ],
   "source": [
    "def P2():\n",
    "### STUDENT START ###\n",
    "\n",
    "    # (a.) Turn the raw training text into feature vectors\n",
    "    count_vect = CountVectorizer()\n",
    "    X_train = count_vect.fit_transform(train_data)\n",
    "    # Size of the vocabulary\n",
    "    [num_examples, num_features] = X_train.shape\n",
    "    print \"Size of Vocabulary: %i\" % num_features\n",
    "    # The average number of non-zero features per example\n",
    "    print \"Average number of non-zero features per example %2.1f\" % (X_train[0].nnz / float(num_examples))\n",
    "    # The fraction of the entries in the matrix are non-zero\n",
    "# TODO: how is this different? \n",
    "    print \"The fraction of non-zero entries in the matrix: %2.1f\" % (X_train.nnz / float(num_features))\n",
    "    \n",
    "    # (b.) Print the 0th and last feature strings (in alphabetical order). \n",
    "    print \"\\nFeature Strings: \"\n",
    "    print \"\\tFirst: %s\" % count_vect.get_feature_names()[0]\n",
    "    print \"\\tLast:  %s\" % count_vect.get_feature_names()[-1]\n",
    "    feature_names = count_vect.get_feature_names()\n",
    "    \n",
    "    # (c.) Specify your own vocabulary with 4 words: [\"atheism\", \"graphics\", \"space\", \"religion\"]. \n",
    "    my_vocab = ['atheism', 'graphics', 'space', 'religion']\n",
    "    cv_vocab = CountVectorizer(vocabulary=my_vocab)\n",
    "    X_train_vocab = cv_vocab.fit_transform(train_data)\n",
    "    [l, w] = X_train_vocab.shape\n",
    "    print \"\\nSpecifing Vocab List:\"\n",
    "    print my_vocab\n",
    "    print \"Size of Vocabulary with specified vocab list: %i \" % w\n",
    "    print \"Average number of non-zero features per example %2.1f\" % (X_train_vocab.nnz / float(l))\n",
    "\n",
    "\n",
    "    # (d.) Extract Bigram and Trigram Character features \n",
    "# TODO: does this mean charaters or words\n",
    "# TODO: Are we to include single feautres too\n",
    "    bigram_vectorizer = CountVectorizer(ngram_range=(2, 3))\n",
    "    analyze = bigram_vectorizer.build_analyzer()\n",
    "    X_train_bigram = bigram_vectorizer.fit_transform(train_data)\n",
    "    [l, w] = X_train_bigram.shape\n",
    "    print \"\\nSize of Bigram and trigram Vocabulary: %i\" % w\n",
    "    feat_names_bigram = bigram_vectorizer.get_feature_names()\n",
    "    \n",
    "\n",
    "    # (e.) Prune for words that appear in fewer than 10 documents\n",
    "# TODO: Are we Which spefic arguments are we to use for this answer \n",
    "    bigram_vectorizer = CountVectorizer(ngram_range=(2, 3), min_df = 10)\n",
    "    analyze = bigram_vectorizer.build_analyzer()\n",
    "    X_train_bigram_pruned = bigram_vectorizer.fit_transform(train_data)\n",
    "    [l, w] = X_train_bigram_pruned.shape\n",
    "    print \"\\nSize of Bigram and trigram Vocabulary After Pruning: %i\" % w\n",
    "    \n",
    "\n",
    "    # (f.) Determine Words from Dev not in Train \n",
    "    train_vocab = count_vect.vocabulary_.keys()\n",
    "    cv_dev = CountVectorizer()\n",
    "    X_dev = cv_dev.fit_transform(dev_data)\n",
    "    dev_vocab = cv_dev.vocabulary_.keys()\n",
    "    yes, no = 0, 0\n",
    "    for word in dev_vocab:\n",
    "        if word not in train_vocab:\n",
    "            no += 1\n",
    "        else: \n",
    "            yes += 1\n",
    "    print \"\\n%i/%i (%1.2f) Words in Dev Vocab are not in Train Vocab\" % (no, len(dev_vocab) ,no / float(len(dev_vocab)))\n",
    "\n",
    "    return X_train, feature_names, X_train_bigram, feat_names_bigram, X_dev\n",
    "### STUDENT END ###\n",
    "[X_train, feature_names, X_train_bigram, feat_names_bigram, X_dev] = P2()"
   ]
  },
  {
   "cell_type": "code",
   "execution_count": null,
   "metadata": {
    "collapsed": true
   },
   "outputs": [],
   "source": []
  },
  {
   "cell_type": "markdown",
   "metadata": {},
   "source": [
    "(3) Use the default CountVectorizer options and report the f1 score (use metrics.f1_score) for a k nearest neighbors classifier; find the optimal value for k. Also fit a Multinomial Naive Bayes model and find the optimal value for alpha. Finally, fit a logistic regression model and find the optimal value for the regularization strength C using l2 regularization. A few questions:\n",
    "\n",
    "a. Why doesn't nearest neighbors work well for this problem?\n",
    "\n",
    "b. Any ideas why logistic regression doesn't work as well as Naive Bayes?\n",
    "\n",
    "c. Logistic regression estimates a weight vector for each class, which you can access with the coef\\_ attribute. Output the sum of the squared weight values for each class for each setting of the C parameter. Briefly explain the relationship between the sum and the value of C."
   ]
  },
  {
   "cell_type": "code",
   "execution_count": 5,
   "metadata": {
    "collapsed": true
   },
   "outputs": [],
   "source": [
    "# Defining Function to fit models with specific parameters to avoid duplicating code\n",
    "# Used in P3\n",
    "def fit_model(model_name, search_grid, score, train_df, train_labels):\n",
    "    model = model_name()\n",
    "    param_searcher = GridSearchCV(model, search_grid, cv=10, scoring=score)\n",
    "    param_searcher.fit(train_df, train_labels)\n",
    "    return param_searcher"
   ]
  },
  {
   "cell_type": "code",
   "execution_count": 6,
   "metadata": {},
   "outputs": [
    {
     "name": "stderr",
     "output_type": "stream",
     "text": [
      "/usr/local/lib/python2.7/site-packages/sklearn/neighbors/base.py:378: VisibleDeprecationWarning: using a non-integer number instead of an integer will result in an error in the future\n",
      "  neigh_ind = neigh_ind[:, :n_neighbors]\n"
     ]
    },
    {
     "data": {
      "image/png": "[encoded data removed]",
      "text/plain": [
       "<matplotlib.figure.Figure at 0x11496ad90>"
      ]
     },
     "metadata": {},
     "output_type": "display_data"
    },
    {
     "name": "stderr",
     "output_type": "stream",
     "text": [
      "/usr/local/lib/python2.7/site-packages/sklearn/metrics/classification.py:1074: UndefinedMetricWarning: F-score is ill-defined and being set to 0.0 in labels with no predicted samples.\n",
      "  'precision', 'predicted', average, warn_for)\n"
     ]
    },
    {
     "data": {
      "image/png": "[encoded data removed]",
      "text/plain": [
       "<matplotlib.figure.Figure at 0x1197d6f10>"
      ]
     },
     "metadata": {},
     "output_type": "display_data"
    },
    {
     "data": {
      "image/png": "[encoded data removed]",
      "text/plain": [
       "<matplotlib.figure.Figure at 0x110e31f90>"
      ]
     },
     "metadata": {},
     "output_type": "display_data"
    },
    {
     "name": "stdout",
     "output_type": "stream",
     "text": [
      "K-Nearest Neighbors\n",
      "\tOptimal k = 115\n",
      "\tBest f1_weighted Score: 0.453\n",
      "\n",
      "Multinomial Naive Bayes\n",
      "\tOptimal alpha = 0.1001\n",
      "\tBest f1_weighted Score: 0.832\n",
      "\n",
      "Logistic Regression\n",
      "\tOptimal C = 1.00000\n",
      "\tBest f1_weighted Score: 0.777\n"
     ]
    }
   ],
   "source": [
    "def P3(score, neighbors, alphas, regularization_cs):\n",
    "### STUDENT START ###\n",
    "    # Fit Models and Calculate scores\n",
    "\n",
    "    # k-NN\n",
    "    knn = fit_model(KNeighborsClassifier, neighbors, score, X_train, train_labels)\n",
    "    grid_scores = pd.DataFrame(knn.grid_scores_)\n",
    "    grid_scores['n_neighbors'] = pd.Series(neighbors['n_neighbors'])\n",
    "    plt.plot(grid_scores['n_neighbors'],grid_scores['mean_validation_score'], '.')\n",
    "    plt.xlabel('n-Neighbors')\n",
    "    plt.ylabel('Mean Validation Score')\n",
    "    plt.title(\"K-Nearset Neighbors: n-Neighbors Grid Search\")\n",
    "    plt.show()\n",
    "    \n",
    "    # Multinomial Naive Bayes\n",
    "    mnb = fit_model(MultinomialNB, alphas, score, X_train, train_labels)\n",
    "    grid_scores = pd.DataFrame(mnb.grid_scores_)\n",
    "    grid_scores['alpha'] = pd.Series(alphas['alpha'])\n",
    "    plt.plot(grid_scores['alpha'],grid_scores['mean_validation_score'], '.')\n",
    "    plt.xlabel('Alpha')\n",
    "    plt.ylabel('Mean Validation Score')\n",
    "    plt.title(\"Multinomial Naive Bayes: Alpha Grid Search\")\n",
    "    plt.show()\n",
    "    \n",
    "    # Logistic Regression \n",
    "    lr = fit_model(LogisticRegression, regularization_Cs, score, X_train, train_labels)\n",
    "    grid_scores = pd.DataFrame(lr.grid_scores_)\n",
    "    grid_scores['C'] = pd.Series(regularization_Cs['C'])\n",
    "    plt.plot(grid_scores['C'],grid_scores['mean_validation_score'], '.')\n",
    "    plt.xlabel(\"regularization C\")\n",
    "    plt.ylabel('Mean Validation Score')\n",
    "    plt.title(\"Logistic Regression: C Regularization Grid Search\")\n",
    "    plt.show()\n",
    "    \n",
    "    # Report Results\n",
    "    print \"K-Nearest Neighbors\"\n",
    "    print \"\\tOptimal k = %i\" % knn.best_params_.get('n_neighbors')\n",
    "    print \"\\tBest %s Score: %0.3f\" % (score, knn.best_score_)\n",
    "    \n",
    "    print \"\\nMultinomial Naive Bayes\"\n",
    "    print \"\\tOptimal alpha = %1.4f\" % mnb.best_params_.get('alpha')\n",
    "    print \"\\tBest %s Score: %0.3f\" % (score, mnb.best_score_)\n",
    "    \n",
    "    print \"\\nLogistic Regression\"\n",
    "    print \"\\tOptimal C = %3.5f\" % lr.best_params_.get('C')\n",
    "    print \"\\tBest %s Score: %0.3f\" % (score, lr.best_score_)\n",
    "    \n",
    "    return lr \n",
    "\n",
    "\n",
    "# Set model initilaization parameters\n",
    "score = 'f1_weighted'\n",
    "neighbors = {'n_neighbors': np.linspace(1, 200, 100, endpoint=True)}\n",
    "# alphas = {'alpha': [0.0, 0.0001, 0.001, 0.01, 0.1, 0.5, 1.0, 2.0, 10.0, 50.0, 100.0, 500.0, 1000.0]}\n",
    "alphas = {'alpha': np.linspace(0, 100, 1000, endpoint=True)}\n",
    "# regularization_Cs = {'C': [1, 10, 100, 1000], 'penalty': ['l2']}\n",
    "regularization_Cs = {'C': np.linspace(1, 100, 150, endpoint=True), 'penalty': ['l2']}\n",
    "\n",
    "### STUDENT END ###\n",
    "lr = P3(score, neighbors, alphas, regularization_Cs)\n",
    "lr_best_params = lr.best_params_"
   ]
  },
  {
   "cell_type": "code",
   "execution_count": 7,
   "metadata": {},
   "outputs": [],
   "source": [
    "# P3 Continued, part C\n",
    "# Output the sum of the squared weight values for each class for each setting of the C parameter. \n",
    "# Briefly explain the relationship between the sum and the value of C\n",
    "\n",
    "# coef_ is only available for individual fit models. How do I get for each value?\n",
    "\n",
    "# coef = lr.coef_\n",
    "# coef"
   ]
  },
  {
   "cell_type": "markdown",
   "metadata": {},
   "source": [
    "ANSWER:\n",
    "\n",
    "a. Why doesn't nearest neighbors work well for this problem? \n",
    "\n",
    "b. Any ideas why logistic regression doesn't work as well as Naive Bayes?\n",
    "\n",
    "c. Logistic regression estimates a weight vector for each class, which you can access with the coef_ attribute. Output the sum of the squared weight values for each class for each setting of the C parameter. Briefly explain the relationship between the sum and the value of C. "
   ]
  },
  {
   "cell_type": "markdown",
   "metadata": {},
   "source": [
    "(4) Train a logistic regression model. Find the 5 features with the largest weights for each label -- 20 features in total. Create a table with 20 rows and 4 columns that shows the weight for each of these features for each of the labels. Create the table again with bigram features. Any surprising features in this table?"
   ]
  },
  {
   "cell_type": "code",
   "execution_count": 8,
   "metadata": {
    "collapsed": true
   },
   "outputs": [],
   "source": [
    "# TODO: Answer P3 Questions"
   ]
  },
  {
   "cell_type": "code",
   "execution_count": 9,
   "metadata": {},
   "outputs": [
    {
     "name": "stdout",
     "output_type": "stream",
     "text": [
      "Original Features with highest weights for each label\n",
      "Index  |  Feature Name        |     alt.atheism |   talk.religion.misc |   comp.graphics |       sci.space |\n",
      " 17376 |                  oed | -5.80296171209e-09 |    2.66618691247e-05 | 1.8145407176e-05 | -2.70139471871e-05 |\n",
      "  4085 |                  axe | -5.80296171209e-09 |    2.66618691247e-05 | 1.8145407176e-05 | -2.70139471871e-05 |\n",
      " 18299 |             perjurer | -5.80296171209e-09 |    2.66618691247e-05 | 1.8145407176e-05 | -2.70139471871e-05 |\n",
      " 20543 |            rephrased | -5.80296171209e-09 |    2.66618691247e-05 | 1.8145407176e-05 | -2.70139471871e-05 |\n",
      " 22660 |           specifying | -5.80296171209e-09 |    2.66618691247e-05 | 1.8145407176e-05 | -2.70139471871e-05 |\n",
      " 10462 |               fitted | -0.00765021711194 |    1.10159458579e-09 | 1.41210381115e-05 | 7.16274903227e-06 |\n",
      " 17995 |            parallels | -0.00260470666119 |    -1.1577801793e-08 | -1.04796380186e-05 | 0.00213403225992 |\n",
      " 24498 |              touring | 5.6312979161e-06 |   -1.27503239695e-08 | -6.25422688015e-06 | 1.20485988423e-05 |\n",
      " 11448 |                 gory | 5.6312979161e-06 |   -1.27503239695e-08 | -6.25422688015e-06 | 1.20485988423e-05 |\n",
      "   833 |                  257 | 5.6312979161e-06 |   -1.27503239695e-08 | -6.25422688015e-06 | 1.20485988423e-05 |\n",
      "  3809 |               assure | -0.00151463228119 |    2.19677566321e-05 | 1.39632408175e-08 | 0.00184735530286 |\n",
      "  7879 |            demanding | -0.0125874921008 |       0.005456578946 | 1.0725090459e-07 |  0.004939756573 |\n",
      " 22354 |                smear | -0.00116858468096 |    1.80686798107e-06 | -1.08709585482e-07 | 0.000128777635624 |\n",
      " 21679 |             seducing | -0.00116858468096 |    1.80686798107e-06 | -1.08709585482e-07 | 0.000128777635624 |\n",
      "  7931 |              dentist | -0.00116858468096 |    1.80686798107e-06 | -1.08709585482e-07 | 0.000128777635624 |\n",
      " 13549 |        investigators | 9.64064098572e-06 |    -0.00542959525324 | 4.95511667288e-05 | -5.57171852162e-10 |\n",
      " 24776 |                truss | -1.10326178209e-05 |   -4.60122991618e-06 | 4.6455000802e-05 | 1.57790624972e-09 |\n",
      "  2333 |              _wants_ | 6.63298504711e-06 |   -7.04805643684e-07 | -2.1577702251e-06 | 8.61441488991e-08 |\n",
      " 18509 |      physiologically | 6.63298504711e-06 |   -7.04805643684e-07 | -2.1577702251e-06 | 8.61441488991e-08 |\n",
      " 12206 |                hijra | 6.63298504711e-06 |   -7.04805643684e-07 | -2.1577702251e-06 | 8.61441488991e-08 |\n",
      "\n",
      "\n",
      "Bigram Features with highest weights for each label\n",
      "Index  |  Feature Name        |     alt.atheism |   talk.religion.misc |   comp.graphics |       sci.space |\n",
      "314317 |    organizations the | 4.13626768721e-09 |   -0.000356363303151 | 0.00402699572695 | -0.000674066881677 |\n",
      "333743 |            posted or | -4.53080126899e-09 |      0.0152753108614 | -0.00453206964125 | -1.72412028134e-06 |\n",
      "457111 |          to the tube | -4.53080126899e-09 |      0.0152753108614 | -0.00453206964125 | -1.72412028134e-06 |\n",
      "322469 |   passing through it | -4.53080126899e-09 |      0.0152753108614 | -0.00453206964125 | -1.72412028134e-06 |\n",
      "255083 |            major and | -4.53080126899e-09 |      0.0152753108614 | -0.00453206964125 | -1.72412028134e-06 |\n",
      "175689 |     god as described | -0.00566818087267 |    4.03430612959e-10 | -8.46478720937e-07 | 0.0102014608426 |\n",
      " 54336 |      as described by | -0.00566818087267 |    4.03430612959e-10 | -8.46478720937e-07 | 0.0102014608426 |\n",
      "368706 |         scientist is | -0.00566818087267 |    4.03430612959e-10 | -8.46478720937e-07 | 0.0102014608426 |\n",
      "449416 |       to be believed | -0.00566818087267 |    4.03430612959e-10 | -8.46478720937e-07 | 0.0102014608426 |\n",
      "438029 | these interpretations | 0.000995418986161 |    7.31634962113e-10 | 9.02552122044e-08 | -1.27604898785e-08 |\n",
      "219187 | is because according | 0.000995418986161 |    7.31634962113e-10 | 9.02552122044e-08 | -1.27604898785e-08 |\n",
      "454082 |            to muslim | 0.000995418986161 |    7.31634962113e-10 | 9.02552122044e-08 | -1.27604898785e-08 |\n",
      "155412 |        finite length | 0.000995418986161 |    7.31634962113e-10 | 9.02552122044e-08 | -1.27604898785e-08 |\n",
      "155413 |     finite length it | 0.000995418986161 |    7.31634962113e-10 | 9.02552122044e-08 | -1.27604898785e-08 |\n",
      "457427 |             to twist | 0.000995418986161 |    7.31634962113e-10 | 9.02552122044e-08 | -1.27604898785e-08 |\n",
      "489387 |     which are rather | -1.02420875587e-05 |    3.32204551133e-07 | -0.000220424590861 | 2.5623406651e-09 |\n",
      "319795 |        p9000 drivers | -1.02420875587e-05 |    3.32204551133e-07 | -0.000220424590861 | 2.5623406651e-09 |\n",
      "319796 |    p9000 drivers for | -1.02420875587e-05 |    3.32204551133e-07 | -0.000220424590861 | 2.5623406651e-09 |\n",
      "184073 | hardware technical stuff | -1.02420875587e-05 |    3.32204551133e-07 | -0.000220424590861 | 2.5623406651e-09 |\n",
      "184072 |   hardware technical | -1.02420875587e-05 |    3.32204551133e-07 | -0.000220424590861 | 2.5623406651e-09 |\n"
     ]
    }
   ],
   "source": [
    "def P4(feature_names, lr_best_params):\n",
    "### STUDENT START ###\n",
    "    \n",
    "    # Train Model For Original Model\n",
    "    lr = LogisticRegression(C=lr_best_params.get('C'), penalty=lr_best_params.get('penalty'))\n",
    "    lr.fit(X_train, train_labels)\n",
    "    coeffs = lr.coef_\n",
    "    \n",
    "    # Print Weights and Features for each Category Label\n",
    "    print \"Original Features with highest weights for each label\"\n",
    "    print \"Index  |  Feature Name        | %15s | %20s | %15s | %15s |\" % (categories[0], categories[1], categories[2], categories[3])\n",
    "    for i in range(coeffs.shape[0]):\n",
    "        idx = np.argsort(np.abs(coeffs[i]))\n",
    "        for j in idx[0:5]:\n",
    "            print \"%6i | %20s | %15s | %20s | %15s | %15s |\" % (j, feature_names[j], coeffs[0,j], coeffs[1,j], coeffs[2,j], coeffs[3,j])\n",
    "\n",
    "            \n",
    "    # Train Model For Bigram Features Model\n",
    "    # Search for best regularization C parameter \n",
    "    regularization_Cs = {'C': [1, 10, 100, 1000], 'penalty': ['l2']} \n",
    "    lr = LogisticRegression()\n",
    "    param_searcher = GridSearchCV(lr, regularization_Cs, cv=10, scoring=score)\n",
    "    param_searcher.fit(X_train_bigram, train_labels)\n",
    "    lrbigram_best_params = param_searcher.best_params_\n",
    "    \n",
    "    lr_bigram = LogisticRegression(C=lrbigram_best_params.get('C'), penalty=lrbigram_best_params.get('penalty'))\n",
    "    lr_bigram.fit(X_train_bigram, train_labels)\n",
    "    coeffs_bigram = lr_bigram.coef_\n",
    "    \n",
    "    # Print Weights and Features for each Category Label\n",
    "    print \"\\n\\nBigram Features with highest weights for each label\"\n",
    "    print \"Index  |  Feature Name        | %15s | %20s | %15s | %15s |\" % (categories[0], categories[1], categories[2], categories[3])\n",
    "    for i in range(coeffs_bigram.shape[0]):\n",
    "        idx = np.argsort(np.abs(coeffs_bigram[i]))\n",
    "        for j in idx[0:5]:\n",
    "             print \"%6i | %20s | %15s | %20s | %15s | %15s |\" % (j, feat_names_bigram[j], coeffs_bigram[0,j], coeffs_bigram[1,j], coeffs_bigram[2,j], coeffs_bigram[3,j])\n",
    "   \n",
    "    \n",
    "    \n",
    "### STUDENT END ###\n",
    "P4(feature_names, lr_best_params)"
   ]
  },
  {
   "cell_type": "markdown",
   "metadata": {},
   "source": [
    "ANSWER:"
   ]
  },
  {
   "cell_type": "code",
   "execution_count": 10,
   "metadata": {
    "collapsed": true
   },
   "outputs": [],
   "source": [
    "# TODO: Answer P4 Questions"
   ]
  },
  {
   "cell_type": "markdown",
   "metadata": {},
   "source": [
    "(5) Try to improve the logistic regression classifier by passing a custom preprocessor to CountVectorizer. The preprocessing function runs on the raw text, before it is split into words by the tokenizer. Your preprocessor should try to normalize the input in various ways to improve generalization. For example, try lowercasing everything, replacing sequences of numbers with a single token, removing various other non-letter characters, and shortening long words. If you're not already familiar with regular expressions for manipulating strings, see https://docs.python.org/2/library/re.html, and re.sub() in particular. With your new preprocessor, how much did you reduce the size of the dictionary?\n",
    "\n",
    "For reference, I was able to improve dev F1 by 2 points."
   ]
  },
  {
   "cell_type": "code",
   "execution_count": 11,
   "metadata": {
    "collapsed": true
   },
   "outputs": [],
   "source": [
    "# porter steming to adjust word choice\n",
    "# trying to make features and adjust words to match more likely \n",
    "# take out puntuation and contractions"
   ]
  },
  {
   "cell_type": "code",
   "execution_count": 12,
   "metadata": {
    "collapsed": true
   },
   "outputs": [],
   "source": [
    "#def empty_preprocessor(s):\n",
    "#    return s\n",
    "\n",
    "#def better_preprocessor(s):\n",
    "### STUDENT START ###\n",
    "\n",
    "### STUDENT END ###\n",
    "\n",
    "#def P5():\n",
    "### STUDENT START ###\n",
    "\n",
    "### STUDENT END ###\n",
    "#P5()"
   ]
  },
  {
   "cell_type": "markdown",
   "metadata": {},
   "source": [
    "(6) The idea of regularization is to avoid learning very large weights (which are likely to fit the training data, but not generalize well) by adding a penalty to the total size of the learned weights. That is, logistic regression seeks the set of weights that minimizes errors in the training data AND has a small size. The default regularization, L2, computes this size as the sum of the squared weights (see P3, above). L1 regularization computes this size as the sum of the absolute values of the weights. The result is that whereas L2 regularization makes all the weights relatively small, L1 regularization drives lots of the weights to 0, effectively removing unimportant features.\n",
    "\n",
    "Train a logistic regression model using a \"l1\" penalty. Output the number of learned weights that are not equal to zero. How does this compare to the number of non-zero weights you get with \"l2\"? Now, reduce the size of the vocabulary by keeping only those features that have at least one non-zero weight and retrain a model using \"l2\".\n",
    "\n",
    "Make a plot showing accuracy of the re-trained model vs. the vocabulary size you get when pruning unused features by adjusting the C parameter.\n",
    "\n",
    "Note: The gradient descent code that trains the logistic regression model sometimes has trouble converging with extreme settings of the C parameter. Relax the convergence criteria by setting tol=.01 (the default is .0001)."
   ]
  },
  {
   "cell_type": "code",
   "execution_count": 26,
   "metadata": {},
   "outputs": [
    {
     "name": "stdout",
     "output_type": "stream",
     "text": [
      "Searching for best Logistic Regression parameters with pnealty 'l1'\n",
      "\tBest Score for penalty l1 trained model: 0.772\n",
      "\tBest C parameter 7.75\n"
     ]
    },
    {
     "data": {
      "image/png": "[encoded data removed]",
      "text/plain": [
       "<matplotlib.figure.Figure at 0x10bc90310>"
      ]
     },
     "metadata": {},
     "output_type": "display_data"
    },
    {
     "name": "stdout",
     "output_type": "stream",
     "text": [
      "Fit model with penalty = l1 with optimal C value 7.7500\n",
      "\n",
      "Number or learned weights not equal to zero 1100 of 26879\n",
      "\tRemoving features with zero weights. \n",
      "\tShape of training features now: 2034 X 1100\n",
      "\n",
      "Search for Optical C value with penalty = l2 and reduced feature space\n"
     ]
    },
    {
     "data": {
      "image/png": "[encoded data removed]",
      "text/plain": [
       "<matplotlib.figure.Figure at 0x110e3cad0>"
      ]
     },
     "metadata": {},
     "output_type": "display_data"
    },
    {
     "name": "stdout",
     "output_type": "stream",
     "text": [
      "\n",
      "Fit model with penalty = l2 on Reduced Features. Optimal C value 5.5000\n"
     ]
    }
   ],
   "source": [
    "def P6():\n",
    "    # Keep this random seed here to make comparison easier.\n",
    "    np.random.seed(0)\n",
    "\n",
    "    ### STUDENT START ###\n",
    "    \n",
    "    # Search for best C to use with penalty l1\n",
    "    print \"Searching for best Logistic Regression parameters with pnealty 'l1'\"\n",
    "    # regularization_Cs = {'C': np.linspace(1, 100, 200, endpoint=True), 'penalty': ['l1'], 'tol' : [0.01]}\n",
    "    regularization_Cs = {'C': np.linspace(1, 10, 5, endpoint=True), 'penalty': ['l1'], 'tol' : [0.01]}\n",
    "    score = 'f1_weighted'\n",
    "    lr_gs = fit_model(LogisticRegression, regularization_Cs, score, X_train, train_labels)\n",
    "    print \"\\tBest Score for penalty l1 trained model: %0.3f\" % lr_gs.best_score_\n",
    "    print \"\\tBest C parameter %s\" % lr_gs.best_params_.get('C')\n",
    "    \n",
    "    # Visualize search parameters and validation scores\n",
    "    grid_scores = pd.DataFrame(lr_gs.grid_scores_)\n",
    "    grid_scores['C'] = pd.Series(regularization_Cs['C'])\n",
    "    plt.plot(grid_scores['C'],grid_scores['mean_validation_score'], '.')\n",
    "    plt.xlabel(\"regularization C\")\n",
    "    plt.ylabel(\"Mean Validation Score\")\n",
    "    plt.title(\"Logistic Regression: C Regularization Grid Search, penalty = l1\")\n",
    "    plt.show()\n",
    "    \n",
    "    # Fit with all features and penalty = l1 using C found above\n",
    "    print \"Fit model with penalty = l1 with optimal C value %1.4f\" % lr_gs.best_params_.get('C')\n",
    "    lr_l1 = LogisticRegression(C=lr_gs.best_params_.get('C'), penalty=\"l1\")\n",
    "    lr_l1.fit(X_train, train_labels)\n",
    "    \n",
    "    # Output the number of learned weights that are not equal to zero\n",
    "    coefs = lr_l1.coef_\n",
    "    non_zero_index = []\n",
    "    for i in range(coefs.shape[1]):\n",
    "        if sum(coefs[:,i]) > 0:\n",
    "            non_zero_index.append(i)\n",
    "    print \"\\nNumber or learned weights not equal to zero %i of %i\" % (len(non_zero_index), coefs.shape[1])\n",
    "\n",
    "# TODO: How does this compare to the number of non-zero weights you get with \"l2\"? \n",
    "\n",
    "    # Keeping only Featues that have at least one non-zero weight \n",
    "    f = np.asarray(feature_names)\n",
    "    X_train_reduce = X_train[:,non_zero_index]\n",
    "    feature_names_reduce = f[non_zero_index]\n",
    "    print \"\\tRemoving features with zero weights. \\n\\tShape of training features now: %i X %i\" % (X_train_reduce.shape[0], X_train_reduce.shape[1])\n",
    "    del f\n",
    "    \n",
    "    # Retrain Logistic Regression with penalty = \"l2\"\n",
    "    # regularization_Cs = {'C': np.linspace(1, 100, 200, endpoint=True), 'penalty': ['l2'], 'tol' : [0.01]}\n",
    "    regularization_Cs = {'C': np.linspace(1, 10, 5, endpoint=True), 'penalty': ['l2'], 'tol' : [0.01]}\n",
    "    lr_l2_gs = fit_model(LogisticRegression, regularization_Cs, score, X_train_reduce, train_labels)\n",
    "    \n",
    "    print \"\\nSearch for Optical C value with penalty = l2 and reduced feature space\"\n",
    "    grid_scores = pd.DataFrame(lr_l2_gs.grid_scores_)\n",
    "    grid_scores['C'] = pd.Series(regularization_Cs['C'])\n",
    "    plt.plot(grid_scores['C'],grid_scores['mean_validation_score'], '.')\n",
    "    plt.xlabel(\"regularization C\")\n",
    "    plt.ylabel('Mean Validation Score')\n",
    "    plt.title(\"Logistic Regression: C Regularization Grid Search, penalty = l2\")\n",
    "    plt.show()\n",
    "    \n",
    "    print \"\\nFit model with penalty = l2 on Reduced Features. Optimal C value %1.4f\" % lr_l2_gs.best_params_.get('C')\n",
    "    lr_l2 = LogisticRegression(C=lr_l2_gs.best_params_.get('C'), penalty=\"l2\")\n",
    "    lr_l2.fit(X_train_reduce, train_labels)\n",
    "    \n",
    "    \n",
    "# TODO: Make a plot showing accuracy of the re-trained model vs. the vocabulary size you get when pruning unused \n",
    "    # features by adjusting the C parameter\n",
    "    \n",
    "    \n",
    "    \n",
    "    ### STUDENT END ###\n",
    "P6()"
   ]
  },
  {
   "cell_type": "code",
   "execution_count": 25,
   "metadata": {},
   "outputs": [],
   "source": [
    "# P6 continued\n",
    "# Make a plot showing accuracy of the re-trained model vs. the \n",
    "# vocabulary size you get when pruning unused features by adjusting the C parameter.\n"
   ]
  },
  {
   "cell_type": "markdown",
   "metadata": {},
   "source": [
    "(7) Use the TfidfVectorizer -- how is this different from the CountVectorizer? Train a logistic regression model with C=100.\n",
    "\n",
    "Make predictions on the dev data and show the top 3 documents where the ratio R is largest, where R is:\n",
    "\n",
    "maximum predicted probability / predicted probability of the correct label\n",
    "\n",
    "What kinds of mistakes is the model making? Suggest a way to address one particular issue that you see."
   ]
  },
  {
   "cell_type": "code",
   "execution_count": 15,
   "metadata": {
    "collapsed": true
   },
   "outputs": [],
   "source": [
    "#def P7():\n",
    "### STUDENT START ###\n",
    "\n",
    "## STUDENT END ###\n",
    "#P7()"
   ]
  },
  {
   "cell_type": "markdown",
   "metadata": {},
   "source": [
    "ANSWER:"
   ]
  },
  {
   "cell_type": "markdown",
   "metadata": {},
   "source": [
    "(8) EXTRA CREDIT\n",
    "\n",
    "Try implementing one of your ideas based on your error analysis. Use logistic regression as your underlying model."
   ]
  },
  {
   "cell_type": "code",
   "execution_count": null,
   "metadata": {
    "collapsed": true
   },
   "outputs": [],
   "source": []
  }
 ],
 "metadata": {
  "kernelspec": {
   "display_name": "Python 2",
   "language": "python",
   "name": "python2"
  },
  "language_info": {
   "codemirror_mode": {
    "name": "ipython",
    "version": 2
   },
   "file_extension": ".py",
   "mimetype": "text/x-python",
   "name": "python",
   "nbconvert_exporter": "python",
   "pygments_lexer": "ipython2",
   "version": "2.7.11"
  }
 },
 "nbformat": 4,
 "nbformat_minor": 1
}
