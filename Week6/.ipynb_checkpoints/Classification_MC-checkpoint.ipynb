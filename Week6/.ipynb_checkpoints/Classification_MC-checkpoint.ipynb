{
 "cells": [
  {
   "cell_type": "code",
   "execution_count": 1,
   "metadata": {
    "collapsed": true
   },
   "outputs": [],
   "source": [
    "import numpy as np\n",
    "import pandas as pd\n",
    "import matplotlib.pyplot as plt\n",
    "\n",
    "from sklearn.model_selection import train_test_split\n",
    "\n",
    "%matplotlib inline"
   ]
  },
  {
   "cell_type": "markdown",
   "metadata": {},
   "source": [
    "# Logistic Regression and Imbalanced Classes"
   ]
  },
  {
   "cell_type": "markdown",
   "metadata": {},
   "source": [
    "## Data"
   ]
  },
  {
   "cell_type": "code",
   "execution_count": 15,
   "metadata": {},
   "outputs": [],
   "source": [
    "df = pd.read_csv('abalone19.csv')"
   ]
  },
  {
   "cell_type": "markdown",
   "metadata": {},
   "source": [
    "The target variable is 'Class'. Check the distribution of values"
   ]
  },
  {
   "cell_type": "code",
   "execution_count": 16,
   "metadata": {},
   "outputs": [
    {
     "data": {
      "text/plain": [
       "(4174, 9)"
      ]
     },
     "execution_count": 16,
     "metadata": {},
     "output_type": "execute_result"
    }
   ],
   "source": [
    "df.shape"
   ]
  },
  {
   "cell_type": "markdown",
   "metadata": {},
   "source": [
    "Let's make 'Class' a boolean variable instead of a string."
   ]
  },
  {
   "cell_type": "code",
   "execution_count": 17,
   "metadata": {},
   "outputs": [
    {
     "data": {
      "text/plain": [
       "negative     4142\n",
       " positive      32\n",
       "Name: Class, dtype: int64"
      ]
     },
     "execution_count": 17,
     "metadata": {},
     "output_type": "execute_result"
    }
   ],
   "source": [
    "df.Class.value_counts()\n"
   ]
  },
  {
   "cell_type": "code",
   "execution_count": 18,
   "metadata": {
    "collapsed": true
   },
   "outputs": [],
   "source": [
    "# make class TRUE and FALSE to make it easier\n",
    "df.Class = df.Class == ' positive'"
   ]
  },
  {
   "cell_type": "code",
   "execution_count": 19,
   "metadata": {},
   "outputs": [
    {
     "data": {
      "text/plain": [
       "False    4142\n",
       "True       32\n",
       "Name: Class, dtype: int64"
      ]
     },
     "execution_count": 19,
     "metadata": {},
     "output_type": "execute_result"
    }
   ],
   "source": [
    "df.Class.value_counts()"
   ]
  },
  {
   "cell_type": "markdown",
   "metadata": {},
   "source": [
    "Keep track of different variable types"
   ]
  },
  {
   "cell_type": "code",
   "execution_count": 21,
   "metadata": {
    "collapsed": true
   },
   "outputs": [],
   "source": [
    "continuous = [\n",
    "    'Length',\n",
    "    'Diameter',\n",
    "    'Whole_weight',\n",
    "    'Shucked_weight',\n",
    "    'Viscera_weight',\n",
    "    'Shell_weight'\n",
    "]\n",
    "discrete = [\n",
    "    'Sex'\n",
    "]\n",
    "predictors = continuous + discrete\n",
    "target = 'Class'"
   ]
  },
  {
   "cell_type": "markdown",
   "metadata": {},
   "source": [
    "## Logistic Regression"
   ]
  },
  {
   "cell_type": "markdown",
   "metadata": {},
   "source": [
    "#### Train/Test Split\n",
    "\n",
    "This time, let's separate X from y"
   ]
  },
  {
   "cell_type": "code",
   "execution_count": 22,
   "metadata": {},
   "outputs": [],
   "source": [
    "X_train, X_test, y_train, y_test = train_test_split(df[predictors], df[target], random_state=2)"
   ]
  },
  {
   "cell_type": "code",
   "execution_count": 23,
   "metadata": {},
   "outputs": [
    {
     "data": {
      "text/html": [
       "<div>\n",
       "<style>\n",
       "    .dataframe thead tr:only-child th {\n",
       "        text-align: right;\n",
       "    }\n",
       "\n",
       "    .dataframe thead th {\n",
       "        text-align: left;\n",
       "    }\n",
       "\n",
       "    .dataframe tbody tr th {\n",
       "        vertical-align: top;\n",
       "    }\n",
       "</style>\n",
       "<table border=\"1\" class=\"dataframe\">\n",
       "  <thead>\n",
       "    <tr style=\"text-align: right;\">\n",
       "      <th></th>\n",
       "      <th>Length</th>\n",
       "      <th>Diameter</th>\n",
       "      <th>Whole_weight</th>\n",
       "      <th>Shucked_weight</th>\n",
       "      <th>Viscera_weight</th>\n",
       "      <th>Shell_weight</th>\n",
       "      <th>Sex</th>\n",
       "    </tr>\n",
       "  </thead>\n",
       "  <tbody>\n",
       "    <tr>\n",
       "      <th>1067</th>\n",
       "      <td>0.375</td>\n",
       "      <td>0.280</td>\n",
       "      <td>0.2345</td>\n",
       "      <td>0.1125</td>\n",
       "      <td>0.0455</td>\n",
       "      <td>0.0670</td>\n",
       "      <td>I</td>\n",
       "    </tr>\n",
       "    <tr>\n",
       "      <th>3000</th>\n",
       "      <td>0.645</td>\n",
       "      <td>0.505</td>\n",
       "      <td>1.4630</td>\n",
       "      <td>0.5920</td>\n",
       "      <td>0.3905</td>\n",
       "      <td>0.4160</td>\n",
       "      <td>M</td>\n",
       "    </tr>\n",
       "    <tr>\n",
       "      <th>2724</th>\n",
       "      <td>0.400</td>\n",
       "      <td>0.305</td>\n",
       "      <td>0.3415</td>\n",
       "      <td>0.1760</td>\n",
       "      <td>0.0625</td>\n",
       "      <td>0.0865</td>\n",
       "      <td>I</td>\n",
       "    </tr>\n",
       "    <tr>\n",
       "      <th>3858</th>\n",
       "      <td>0.550</td>\n",
       "      <td>0.465</td>\n",
       "      <td>1.0820</td>\n",
       "      <td>0.3575</td>\n",
       "      <td>0.1940</td>\n",
       "      <td>0.1900</td>\n",
       "      <td>F</td>\n",
       "    </tr>\n",
       "    <tr>\n",
       "      <th>2395</th>\n",
       "      <td>0.635</td>\n",
       "      <td>0.505</td>\n",
       "      <td>1.3315</td>\n",
       "      <td>0.5805</td>\n",
       "      <td>0.2520</td>\n",
       "      <td>0.4350</td>\n",
       "      <td>I</td>\n",
       "    </tr>\n",
       "  </tbody>\n",
       "</table>\n",
       "</div>"
      ],
      "text/plain": [
       "      Length  Diameter  Whole_weight  Shucked_weight  Viscera_weight  \\\n",
       "1067   0.375     0.280        0.2345          0.1125          0.0455   \n",
       "3000   0.645     0.505        1.4630          0.5920          0.3905   \n",
       "2724   0.400     0.305        0.3415          0.1760          0.0625   \n",
       "3858   0.550     0.465        1.0820          0.3575          0.1940   \n",
       "2395   0.635     0.505        1.3315          0.5805          0.2520   \n",
       "\n",
       "      Shell_weight Sex  \n",
       "1067        0.0670   I  \n",
       "3000        0.4160   M  \n",
       "2724        0.0865   I  \n",
       "3858        0.1900   F  \n",
       "2395        0.4350   I  "
      ]
     },
     "execution_count": 23,
     "metadata": {},
     "output_type": "execute_result"
    }
   ],
   "source": [
    "X_train.head()"
   ]
  },
  {
   "cell_type": "code",
   "execution_count": 24,
   "metadata": {},
   "outputs": [
    {
     "data": {
      "text/plain": [
       "1067    False\n",
       "3000    False\n",
       "2724    False\n",
       "3858    False\n",
       "2395    False\n",
       "Name: Class, dtype: bool"
      ]
     },
     "execution_count": 24,
     "metadata": {},
     "output_type": "execute_result"
    }
   ],
   "source": [
    "y_train.head()"
   ]
  },
  {
   "cell_type": "markdown",
   "metadata": {},
   "source": [
    "### Feature Engineering"
   ]
  },
  {
   "cell_type": "markdown",
   "metadata": {},
   "source": [
    "#### Normalize the continuous features\n",
    "aka trun into z-scores"
   ]
  },
  {
   "cell_type": "markdown",
   "metadata": {},
   "source": [
    "Wrong way:\n",
    "Because - normalization on the test and trainig set are differnet right. Need to normalize with same units to make comperable data sets. \n"
   ]
  },
  {
   "cell_type": "code",
   "execution_count": 26,
   "metadata": {},
   "outputs": [],
   "source": [
    "X_train_normalized = (X_train[continuous] - X_train[continuous].mean()) / X_train[continuous].std()\n",
    "X_test_normalized = (X_test[continuous] - X_test[continuous].mean()) / X_test[continuous].std()"
   ]
  },
  {
   "cell_type": "code",
   "execution_count": 28,
   "metadata": {},
   "outputs": [
    {
     "data": {
      "text/html": [
       "<div>\n",
       "<style>\n",
       "    .dataframe thead tr:only-child th {\n",
       "        text-align: right;\n",
       "    }\n",
       "\n",
       "    .dataframe thead th {\n",
       "        text-align: left;\n",
       "    }\n",
       "\n",
       "    .dataframe tbody tr th {\n",
       "        vertical-align: top;\n",
       "    }\n",
       "</style>\n",
       "<table border=\"1\" class=\"dataframe\">\n",
       "  <thead>\n",
       "    <tr style=\"text-align: right;\">\n",
       "      <th></th>\n",
       "      <th>Length</th>\n",
       "      <th>Diameter</th>\n",
       "      <th>Whole_weight</th>\n",
       "      <th>Shucked_weight</th>\n",
       "      <th>Viscera_weight</th>\n",
       "      <th>Shell_weight</th>\n",
       "    </tr>\n",
       "  </thead>\n",
       "  <tbody>\n",
       "    <tr>\n",
       "      <th>1067</th>\n",
       "      <td>-1.236041</td>\n",
       "      <td>-1.285171</td>\n",
       "      <td>-1.203153</td>\n",
       "      <td>-1.103119</td>\n",
       "      <td>-1.223602</td>\n",
       "      <td>-1.224640</td>\n",
       "    </tr>\n",
       "    <tr>\n",
       "      <th>3000</th>\n",
       "      <td>1.006819</td>\n",
       "      <td>0.977476</td>\n",
       "      <td>1.284152</td>\n",
       "      <td>1.035946</td>\n",
       "      <td>1.901391</td>\n",
       "      <td>1.260760</td>\n",
       "    </tr>\n",
       "    <tr>\n",
       "      <th>2724</th>\n",
       "      <td>-1.028369</td>\n",
       "      <td>-1.033766</td>\n",
       "      <td>-0.986513</td>\n",
       "      <td>-0.819844</td>\n",
       "      <td>-1.069617</td>\n",
       "      <td>-1.085771</td>\n",
       "    </tr>\n",
       "    <tr>\n",
       "      <th>3858</th>\n",
       "      <td>0.217664</td>\n",
       "      <td>0.575228</td>\n",
       "      <td>0.512753</td>\n",
       "      <td>-0.010166</td>\n",
       "      <td>0.121504</td>\n",
       "      <td>-0.348697</td>\n",
       "    </tr>\n",
       "    <tr>\n",
       "      <th>2395</th>\n",
       "      <td>0.923750</td>\n",
       "      <td>0.977476</td>\n",
       "      <td>1.017908</td>\n",
       "      <td>0.984644</td>\n",
       "      <td>0.646865</td>\n",
       "      <td>1.396068</td>\n",
       "    </tr>\n",
       "  </tbody>\n",
       "</table>\n",
       "</div>"
      ],
      "text/plain": [
       "        Length  Diameter  Whole_weight  Shucked_weight  Viscera_weight  \\\n",
       "1067 -1.236041 -1.285171     -1.203153       -1.103119       -1.223602   \n",
       "3000  1.006819  0.977476      1.284152        1.035946        1.901391   \n",
       "2724 -1.028369 -1.033766     -0.986513       -0.819844       -1.069617   \n",
       "3858  0.217664  0.575228      0.512753       -0.010166        0.121504   \n",
       "2395  0.923750  0.977476      1.017908        0.984644        0.646865   \n",
       "\n",
       "      Shell_weight  \n",
       "1067     -1.224640  \n",
       "3000      1.260760  \n",
       "2724     -1.085771  \n",
       "3858     -0.348697  \n",
       "2395      1.396068  "
      ]
     },
     "execution_count": 28,
     "metadata": {},
     "output_type": "execute_result"
    }
   ],
   "source": [
    "X_train_normalized.head()"
   ]
  },
  {
   "cell_type": "markdown",
   "metadata": {},
   "source": [
    "Correct way:"
   ]
  },
  {
   "cell_type": "code",
   "execution_count": 36,
   "metadata": {},
   "outputs": [],
   "source": [
    "from sklearn.preprocessing import StandardScaler\n",
    "# transforming step\n",
    "\n",
    "ss = StandardScaler()\n",
    "ss.fit(X_train[continuous]) # Compute mean and std of training data\n",
    "X_train[continuous] = ss.transform(X_train[continuous]) # Use that mean and std to normalize columns of training data\n",
    "X_test[continuous] = ss.transform(X_test[continuous]) # Use _the same_ mean and std to normalize columns of test data\n",
    "\n",
    "# Doing the transformation this way ensures \n",
    "#    there is no leakage between sets\n",
    "#    and the exact same transformation has been applied"
   ]
  },
  {
   "cell_type": "code",
   "execution_count": 37,
   "metadata": {},
   "outputs": [
    {
     "data": {
      "text/html": [
       "<div>\n",
       "<style>\n",
       "    .dataframe thead tr:only-child th {\n",
       "        text-align: right;\n",
       "    }\n",
       "\n",
       "    .dataframe thead th {\n",
       "        text-align: left;\n",
       "    }\n",
       "\n",
       "    .dataframe tbody tr th {\n",
       "        vertical-align: top;\n",
       "    }\n",
       "</style>\n",
       "<table border=\"1\" class=\"dataframe\">\n",
       "  <thead>\n",
       "    <tr style=\"text-align: right;\">\n",
       "      <th></th>\n",
       "      <th>Length</th>\n",
       "      <th>Diameter</th>\n",
       "      <th>Whole_weight</th>\n",
       "      <th>Shucked_weight</th>\n",
       "      <th>Viscera_weight</th>\n",
       "      <th>Shell_weight</th>\n",
       "      <th>Sex</th>\n",
       "    </tr>\n",
       "  </thead>\n",
       "  <tbody>\n",
       "    <tr>\n",
       "      <th>1067</th>\n",
       "      <td>-1.236238</td>\n",
       "      <td>-1.285376</td>\n",
       "      <td>-1.203345</td>\n",
       "      <td>-1.103296</td>\n",
       "      <td>-1.223797</td>\n",
       "      <td>-1.224836</td>\n",
       "      <td>I</td>\n",
       "    </tr>\n",
       "    <tr>\n",
       "      <th>3000</th>\n",
       "      <td>1.006980</td>\n",
       "      <td>0.977633</td>\n",
       "      <td>1.284357</td>\n",
       "      <td>1.036111</td>\n",
       "      <td>1.901695</td>\n",
       "      <td>1.260961</td>\n",
       "      <td>M</td>\n",
       "    </tr>\n",
       "    <tr>\n",
       "      <th>2724</th>\n",
       "      <td>-1.028533</td>\n",
       "      <td>-1.033931</td>\n",
       "      <td>-0.986671</td>\n",
       "      <td>-0.819975</td>\n",
       "      <td>-1.069788</td>\n",
       "      <td>-1.085945</td>\n",
       "      <td>I</td>\n",
       "    </tr>\n",
       "    <tr>\n",
       "      <th>3858</th>\n",
       "      <td>0.217699</td>\n",
       "      <td>0.575320</td>\n",
       "      <td>0.512835</td>\n",
       "      <td>-0.010168</td>\n",
       "      <td>0.121523</td>\n",
       "      <td>-0.348753</td>\n",
       "      <td>F</td>\n",
       "    </tr>\n",
       "    <tr>\n",
       "      <th>2395</th>\n",
       "      <td>0.923897</td>\n",
       "      <td>0.977633</td>\n",
       "      <td>1.018070</td>\n",
       "      <td>0.984801</td>\n",
       "      <td>0.646968</td>\n",
       "      <td>1.396291</td>\n",
       "      <td>I</td>\n",
       "    </tr>\n",
       "  </tbody>\n",
       "</table>\n",
       "</div>"
      ],
      "text/plain": [
       "        Length  Diameter  Whole_weight  Shucked_weight  Viscera_weight  \\\n",
       "1067 -1.236238 -1.285376     -1.203345       -1.103296       -1.223797   \n",
       "3000  1.006980  0.977633      1.284357        1.036111        1.901695   \n",
       "2724 -1.028533 -1.033931     -0.986671       -0.819975       -1.069788   \n",
       "3858  0.217699  0.575320      0.512835       -0.010168        0.121523   \n",
       "2395  0.923897  0.977633      1.018070        0.984801        0.646968   \n",
       "\n",
       "      Shell_weight Sex  \n",
       "1067     -1.224836   I  \n",
       "3000      1.260961   M  \n",
       "2724     -1.085945   I  \n",
       "3858     -0.348753   F  \n",
       "2395      1.396291   I  "
      ]
     },
     "execution_count": 37,
     "metadata": {},
     "output_type": "execute_result"
    }
   ],
   "source": [
    "X_train.head()"
   ]
  },
  {
   "cell_type": "code",
   "execution_count": 38,
   "metadata": {},
   "outputs": [
    {
     "data": {
      "text/html": [
       "<div>\n",
       "<style>\n",
       "    .dataframe thead tr:only-child th {\n",
       "        text-align: right;\n",
       "    }\n",
       "\n",
       "    .dataframe thead th {\n",
       "        text-align: left;\n",
       "    }\n",
       "\n",
       "    .dataframe tbody tr th {\n",
       "        vertical-align: top;\n",
       "    }\n",
       "</style>\n",
       "<table border=\"1\" class=\"dataframe\">\n",
       "  <thead>\n",
       "    <tr style=\"text-align: right;\">\n",
       "      <th></th>\n",
       "      <th>Length</th>\n",
       "      <th>Diameter</th>\n",
       "      <th>Whole_weight</th>\n",
       "      <th>Shucked_weight</th>\n",
       "      <th>Viscera_weight</th>\n",
       "      <th>Shell_weight</th>\n",
       "      <th>Sex</th>\n",
       "    </tr>\n",
       "  </thead>\n",
       "  <tbody>\n",
       "    <tr>\n",
       "      <th>1139</th>\n",
       "      <td>0.425404</td>\n",
       "      <td>0.273585</td>\n",
       "      <td>-0.048087</td>\n",
       "      <td>-0.197561</td>\n",
       "      <td>0.316300</td>\n",
       "      <td>0.042992</td>\n",
       "      <td>I</td>\n",
       "    </tr>\n",
       "    <tr>\n",
       "      <th>2698</th>\n",
       "      <td>1.214685</td>\n",
       "      <td>1.027922</td>\n",
       "      <td>1.723780</td>\n",
       "      <td>2.526335</td>\n",
       "      <td>1.059171</td>\n",
       "      <td>1.100702</td>\n",
       "      <td>M</td>\n",
       "    </tr>\n",
       "    <tr>\n",
       "      <th>2620</th>\n",
       "      <td>1.463931</td>\n",
       "      <td>1.681680</td>\n",
       "      <td>1.961716</td>\n",
       "      <td>1.649602</td>\n",
       "      <td>1.928873</td>\n",
       "      <td>1.976785</td>\n",
       "      <td>F</td>\n",
       "    </tr>\n",
       "    <tr>\n",
       "      <th>313</th>\n",
       "      <td>0.799274</td>\n",
       "      <td>0.625609</td>\n",
       "      <td>0.803421</td>\n",
       "      <td>0.094683</td>\n",
       "      <td>0.810038</td>\n",
       "      <td>1.396291</td>\n",
       "      <td>F</td>\n",
       "    </tr>\n",
       "    <tr>\n",
       "      <th>1713</th>\n",
       "      <td>1.006980</td>\n",
       "      <td>0.776476</td>\n",
       "      <td>0.795321</td>\n",
       "      <td>0.935722</td>\n",
       "      <td>0.841745</td>\n",
       "      <td>0.648415</td>\n",
       "      <td>M</td>\n",
       "    </tr>\n",
       "  </tbody>\n",
       "</table>\n",
       "</div>"
      ],
      "text/plain": [
       "        Length  Diameter  Whole_weight  Shucked_weight  Viscera_weight  \\\n",
       "1139  0.425404  0.273585     -0.048087       -0.197561        0.316300   \n",
       "2698  1.214685  1.027922      1.723780        2.526335        1.059171   \n",
       "2620  1.463931  1.681680      1.961716        1.649602        1.928873   \n",
       "313   0.799274  0.625609      0.803421        0.094683        0.810038   \n",
       "1713  1.006980  0.776476      0.795321        0.935722        0.841745   \n",
       "\n",
       "      Shell_weight Sex  \n",
       "1139      0.042992   I  \n",
       "2698      1.100702   M  \n",
       "2620      1.976785   F  \n",
       "313       1.396291   F  \n",
       "1713      0.648415   M  "
      ]
     },
     "execution_count": 38,
     "metadata": {},
     "output_type": "execute_result"
    }
   ],
   "source": [
    "X_test.head()"
   ]
  },
  {
   "cell_type": "markdown",
   "metadata": {},
   "source": [
    "#### Binarize the categorical column\n",
    "fetaure transformation "
   ]
  },
  {
   "cell_type": "code",
   "execution_count": 43,
   "metadata": {},
   "outputs": [],
   "source": [
    "from sklearn.feature_extraction import DictVectorizer\n",
    "\n",
    "dv = DictVectorizer(sparse=False) \n",
    "X_train = pd.DataFrame(\n",
    "    dv.fit_transform(X_train.to_dict(orient='records')),\n",
    "    columns = dv.feature_names_\n",
    "    )\n",
    "\n",
    "X_test = pd.DataFrame(\n",
    "    dv.transform(X_test.to_dict(orient='records')),\n",
    "    columns = dv.feature_names_\n",
    ")\n",
    "\n",
    "# binarized the categorical data to be handeled by logistic regression better"
   ]
  },
  {
   "cell_type": "code",
   "execution_count": 44,
   "metadata": {},
   "outputs": [
    {
     "data": {
      "text/html": [
       "<div>\n",
       "<style>\n",
       "    .dataframe thead tr:only-child th {\n",
       "        text-align: right;\n",
       "    }\n",
       "\n",
       "    .dataframe thead th {\n",
       "        text-align: left;\n",
       "    }\n",
       "\n",
       "    .dataframe tbody tr th {\n",
       "        vertical-align: top;\n",
       "    }\n",
       "</style>\n",
       "<table border=\"1\" class=\"dataframe\">\n",
       "  <thead>\n",
       "    <tr style=\"text-align: right;\">\n",
       "      <th></th>\n",
       "      <th>Diameter</th>\n",
       "      <th>Length</th>\n",
       "      <th>Sex=F</th>\n",
       "      <th>Sex=I</th>\n",
       "      <th>Sex=M</th>\n",
       "      <th>Shell_weight</th>\n",
       "      <th>Shucked_weight</th>\n",
       "      <th>Viscera_weight</th>\n",
       "      <th>Whole_weight</th>\n",
       "    </tr>\n",
       "  </thead>\n",
       "  <tbody>\n",
       "    <tr>\n",
       "      <th>0</th>\n",
       "      <td>-1.285376</td>\n",
       "      <td>-1.236238</td>\n",
       "      <td>0.0</td>\n",
       "      <td>1.0</td>\n",
       "      <td>0.0</td>\n",
       "      <td>-1.224836</td>\n",
       "      <td>-1.103296</td>\n",
       "      <td>-1.223797</td>\n",
       "      <td>-1.203345</td>\n",
       "    </tr>\n",
       "    <tr>\n",
       "      <th>1</th>\n",
       "      <td>0.977633</td>\n",
       "      <td>1.006980</td>\n",
       "      <td>0.0</td>\n",
       "      <td>0.0</td>\n",
       "      <td>1.0</td>\n",
       "      <td>1.260961</td>\n",
       "      <td>1.036111</td>\n",
       "      <td>1.901695</td>\n",
       "      <td>1.284357</td>\n",
       "    </tr>\n",
       "    <tr>\n",
       "      <th>2</th>\n",
       "      <td>-1.033931</td>\n",
       "      <td>-1.028533</td>\n",
       "      <td>0.0</td>\n",
       "      <td>1.0</td>\n",
       "      <td>0.0</td>\n",
       "      <td>-1.085945</td>\n",
       "      <td>-0.819975</td>\n",
       "      <td>-1.069788</td>\n",
       "      <td>-0.986671</td>\n",
       "    </tr>\n",
       "    <tr>\n",
       "      <th>3</th>\n",
       "      <td>0.575320</td>\n",
       "      <td>0.217699</td>\n",
       "      <td>1.0</td>\n",
       "      <td>0.0</td>\n",
       "      <td>0.0</td>\n",
       "      <td>-0.348753</td>\n",
       "      <td>-0.010168</td>\n",
       "      <td>0.121523</td>\n",
       "      <td>0.512835</td>\n",
       "    </tr>\n",
       "    <tr>\n",
       "      <th>4</th>\n",
       "      <td>0.977633</td>\n",
       "      <td>0.923897</td>\n",
       "      <td>0.0</td>\n",
       "      <td>1.0</td>\n",
       "      <td>0.0</td>\n",
       "      <td>1.396291</td>\n",
       "      <td>0.984801</td>\n",
       "      <td>0.646968</td>\n",
       "      <td>1.018070</td>\n",
       "    </tr>\n",
       "  </tbody>\n",
       "</table>\n",
       "</div>"
      ],
      "text/plain": [
       "   Diameter    Length  Sex=F  Sex=I  Sex=M  Shell_weight  Shucked_weight  \\\n",
       "0 -1.285376 -1.236238    0.0    1.0    0.0     -1.224836       -1.103296   \n",
       "1  0.977633  1.006980    0.0    0.0    1.0      1.260961        1.036111   \n",
       "2 -1.033931 -1.028533    0.0    1.0    0.0     -1.085945       -0.819975   \n",
       "3  0.575320  0.217699    1.0    0.0    0.0     -0.348753       -0.010168   \n",
       "4  0.977633  0.923897    0.0    1.0    0.0      1.396291        0.984801   \n",
       "\n",
       "   Viscera_weight  Whole_weight  \n",
       "0       -1.223797     -1.203345  \n",
       "1        1.901695      1.284357  \n",
       "2       -1.069788     -0.986671  \n",
       "3        0.121523      0.512835  \n",
       "4        0.646968      1.018070  "
      ]
     },
     "execution_count": 44,
     "metadata": {},
     "output_type": "execute_result"
    }
   ],
   "source": [
    "X_train.head()"
   ]
  },
  {
   "cell_type": "code",
   "execution_count": 45,
   "metadata": {},
   "outputs": [
    {
     "data": {
      "text/html": [
       "<div>\n",
       "<style>\n",
       "    .dataframe thead tr:only-child th {\n",
       "        text-align: right;\n",
       "    }\n",
       "\n",
       "    .dataframe thead th {\n",
       "        text-align: left;\n",
       "    }\n",
       "\n",
       "    .dataframe tbody tr th {\n",
       "        vertical-align: top;\n",
       "    }\n",
       "</style>\n",
       "<table border=\"1\" class=\"dataframe\">\n",
       "  <thead>\n",
       "    <tr style=\"text-align: right;\">\n",
       "      <th></th>\n",
       "      <th>Diameter</th>\n",
       "      <th>Length</th>\n",
       "      <th>Sex=F</th>\n",
       "      <th>Sex=I</th>\n",
       "      <th>Sex=M</th>\n",
       "      <th>Shell_weight</th>\n",
       "      <th>Shucked_weight</th>\n",
       "      <th>Viscera_weight</th>\n",
       "      <th>Whole_weight</th>\n",
       "    </tr>\n",
       "  </thead>\n",
       "  <tbody>\n",
       "    <tr>\n",
       "      <th>0</th>\n",
       "      <td>0.273585</td>\n",
       "      <td>0.425404</td>\n",
       "      <td>0.0</td>\n",
       "      <td>1.0</td>\n",
       "      <td>0.0</td>\n",
       "      <td>0.042992</td>\n",
       "      <td>-0.197561</td>\n",
       "      <td>0.316300</td>\n",
       "      <td>-0.048087</td>\n",
       "    </tr>\n",
       "    <tr>\n",
       "      <th>1</th>\n",
       "      <td>1.027922</td>\n",
       "      <td>1.214685</td>\n",
       "      <td>0.0</td>\n",
       "      <td>0.0</td>\n",
       "      <td>1.0</td>\n",
       "      <td>1.100702</td>\n",
       "      <td>2.526335</td>\n",
       "      <td>1.059171</td>\n",
       "      <td>1.723780</td>\n",
       "    </tr>\n",
       "    <tr>\n",
       "      <th>2</th>\n",
       "      <td>1.681680</td>\n",
       "      <td>1.463931</td>\n",
       "      <td>1.0</td>\n",
       "      <td>0.0</td>\n",
       "      <td>0.0</td>\n",
       "      <td>1.976785</td>\n",
       "      <td>1.649602</td>\n",
       "      <td>1.928873</td>\n",
       "      <td>1.961716</td>\n",
       "    </tr>\n",
       "    <tr>\n",
       "      <th>3</th>\n",
       "      <td>0.625609</td>\n",
       "      <td>0.799274</td>\n",
       "      <td>1.0</td>\n",
       "      <td>0.0</td>\n",
       "      <td>0.0</td>\n",
       "      <td>1.396291</td>\n",
       "      <td>0.094683</td>\n",
       "      <td>0.810038</td>\n",
       "      <td>0.803421</td>\n",
       "    </tr>\n",
       "    <tr>\n",
       "      <th>4</th>\n",
       "      <td>0.776476</td>\n",
       "      <td>1.006980</td>\n",
       "      <td>0.0</td>\n",
       "      <td>0.0</td>\n",
       "      <td>1.0</td>\n",
       "      <td>0.648415</td>\n",
       "      <td>0.935722</td>\n",
       "      <td>0.841745</td>\n",
       "      <td>0.795321</td>\n",
       "    </tr>\n",
       "  </tbody>\n",
       "</table>\n",
       "</div>"
      ],
      "text/plain": [
       "   Diameter    Length  Sex=F  Sex=I  Sex=M  Shell_weight  Shucked_weight  \\\n",
       "0  0.273585  0.425404    0.0    1.0    0.0      0.042992       -0.197561   \n",
       "1  1.027922  1.214685    0.0    0.0    1.0      1.100702        2.526335   \n",
       "2  1.681680  1.463931    1.0    0.0    0.0      1.976785        1.649602   \n",
       "3  0.625609  0.799274    1.0    0.0    0.0      1.396291        0.094683   \n",
       "4  0.776476  1.006980    0.0    0.0    1.0      0.648415        0.935722   \n",
       "\n",
       "   Viscera_weight  Whole_weight  \n",
       "0        0.316300     -0.048087  \n",
       "1        1.059171      1.723780  \n",
       "2        1.928873      1.961716  \n",
       "3        0.810038      0.803421  \n",
       "4        0.841745      0.795321  "
      ]
     },
     "execution_count": 45,
     "metadata": {},
     "output_type": "execute_result"
    }
   ],
   "source": [
    "X_test.head()"
   ]
  },
  {
   "cell_type": "markdown",
   "metadata": {},
   "source": [
    "Train the logistic regression model"
   ]
  },
  {
   "cell_type": "code",
   "execution_count": 47,
   "metadata": {},
   "outputs": [
    {
     "data": {
      "text/plain": [
       "LogisticRegression(C=1.0, class_weight=None, dual=False, fit_intercept=True,\n",
       "          intercept_scaling=1, max_iter=100, multi_class='ovr', n_jobs=1,\n",
       "          penalty='l2', random_state=None, solver='liblinear', tol=0.0001,\n",
       "          verbose=0, warm_start=False)"
      ]
     },
     "execution_count": 47,
     "metadata": {},
     "output_type": "execute_result"
    }
   ],
   "source": [
    "from sklearn.linear_model import LogisticRegression\n",
    "\n",
    "lr = LogisticRegression()\n",
    "lr.fit(X_train, y_train)\n"
   ]
  },
  {
   "cell_type": "markdown",
   "metadata": {},
   "source": [
    "Compute the accuracy on the test set"
   ]
  },
  {
   "cell_type": "code",
   "execution_count": 48,
   "metadata": {},
   "outputs": [
    {
     "data": {
      "text/plain": [
       "0.99329501915708818"
      ]
     },
     "execution_count": 48,
     "metadata": {},
     "output_type": "execute_result"
    }
   ],
   "source": [
    "lr.score(X_test,y_test)"
   ]
  },
  {
   "cell_type": "markdown",
   "metadata": {},
   "source": [
    "Accuracy seems too high, \n",
    "\n",
    "Look at a confusion matrix to get a better idea how well our classifier is doing for more detail"
   ]
  },
  {
   "cell_type": "code",
   "execution_count": 50,
   "metadata": {
    "scrolled": true
   },
   "outputs": [
    {
     "name": "stdout",
     "output_type": "stream",
     "text": [
      "          Predicted=0  Predicted=1\n",
      "Actual=0         1037            0\n",
      "Actual=1            7            0\n",
      "\n",
      "\n",
      "True positive rate (detection rate): 0.0\n",
      "False positive rate (false alarm rate): 0.0\n"
     ]
    }
   ],
   "source": [
    "from sklearn.metrics import confusion_matrix, roc_curve\n",
    "\n",
    "pred = lr.predict(X_test)\n",
    "c = pd.DataFrame(\n",
    "        confusion_matrix(y_test, pred), \n",
    "        columns=['Predicted=0', 'Predicted=1'], \n",
    "        index=['Actual=0', 'Actual=1']\n",
    ")\n",
    "\n",
    "print c\n",
    "\n",
    "tpr = c.loc['Actual=1', 'Predicted=1'].astype(float) / c.loc['Actual=1', :].sum()\n",
    "fpr = c.loc['Actual=0', 'Predicted=1'].astype(float) / c.loc['Actual=0', :].sum()\n",
    "\n",
    "print\n",
    "print\n",
    "print \"True positive rate (detection rate): {:.3}\".format(tpr)\n",
    "print \"False positive rate (false alarm rate): {:.3}\".format(fpr)"
   ]
  },
  {
   "cell_type": "markdown",
   "metadata": {},
   "source": [
    "Closer look at model behavior"
   ]
  },
  {
   "cell_type": "code",
   "execution_count": 51,
   "metadata": {},
   "outputs": [
    {
     "data": {
      "text/plain": [
       "<matplotlib.lines.Line2D at 0x11300dc50>"
      ]
     },
     "execution_count": 51,
     "metadata": {},
     "output_type": "execute_result"
    },
    {
     "data": {
      "image/png": "[encoded data removed]",
      "text/plain": [
       "<matplotlib.figure.Figure at 0x1112c0e50>"
      ]
     },
     "metadata": {},
     "output_type": "display_data"
    }
   ],
   "source": [
    "def logistic(x):\n",
    "    return 1 / (1 + np.exp(-x))\n",
    "\n",
    "# Inverse of logistic\n",
    "def logit(p):\n",
    "    return np.log(p / (1 - p))\n",
    "\n",
    "# Full spectrum of model behavior\n",
    "pltdf = pd.DataFrame({\n",
    "        'Class': y_test,\n",
    "        'pred': lr.predict_proba(X_test)[:, 1]\n",
    "    })\n",
    "pltdf['logit'] = pltdf.pred.apply(logit)\n",
    "logits = np.linspace(-6, 6, 200)\n",
    "probs = logistic(logits)\n",
    "\n",
    "# Plot\n",
    "ax = pd.DataFrame({'probs': probs}, index=logits).plot()\n",
    "pltdf.plot(x='logit', y='Class', kind='scatter', ax=ax, label='Actual')\n",
    "plt.legend(loc='lower right')\n",
    "plt.axvline(x=0, color='red')\n",
    "plt.axhline(y=logistic(0), color='purple')"
   ]
  },
  {
   "cell_type": "markdown",
   "metadata": {},
   "source": [
    "#### Threshold: p >= 0.01"
   ]
  },
  {
   "cell_type": "code",
   "execution_count": 52,
   "metadata": {
    "scrolled": true
   },
   "outputs": [
    {
     "data": {
      "text/plain": [
       "<matplotlib.lines.Line2D at 0x113b4e5d0>"
      ]
     },
     "execution_count": 52,
     "metadata": {},
     "output_type": "execute_result"
    },
    {
     "data": {
      "image/png": "[encoded data removed]",
      "text/plain": [
       "<matplotlib.figure.Figure at 0x1059b1090>"
      ]
     },
     "metadata": {},
     "output_type": "display_data"
    }
   ],
   "source": [
    "# ax = plt.plot(logits, probs, label='Predicted')\n",
    "ax = pd.DataFrame({'probs': probs}, index=logits).plot()\n",
    "pltdf.plot(x='logit', y='Class', kind='scatter', ax=ax, label='Actual')\n",
    "plt.legend(loc='lower right')\n",
    "plt.axvline(x=logit(.01), color='red')\n",
    "plt.axhline(y=.01, color='purple')"
   ]
  },
  {
   "cell_type": "code",
   "execution_count": 53,
   "metadata": {},
   "outputs": [
    {
     "name": "stdout",
     "output_type": "stream",
     "text": [
      "          Predicted=0  Predicted=1\n",
      "Actual=0          702          335\n",
      "Actual=1            1            6\n",
      "\n",
      "\n",
      "True positive rate (detection rate): 0.857\n",
      "False positive rate (false alarm rate): 0.323\n"
     ]
    }
   ],
   "source": [
    "pred = lr.predict_proba(X_test)[:, 1] >= .01\n",
    "c = pd.DataFrame(\n",
    "        confusion_matrix(y_test, pred), \n",
    "        columns=['Predicted=0', 'Predicted=1'], \n",
    "        index=['Actual=0', 'Actual=1']\n",
    ")\n",
    "\n",
    "print c\n",
    "\n",
    "tpr = c.loc['Actual=1', 'Predicted=1'].astype(float) / c.loc['Actual=1', :].sum()\n",
    "fpr = c.loc['Actual=0', 'Predicted=1'].astype(float) / c.loc['Actual=0', :].sum()\n",
    "\n",
    "print\n",
    "print\n",
    "print \"True positive rate (detection rate): {:.3}\".format(tpr)\n",
    "print \"False positive rate (false alarm rate): {:.3}\".format(fpr)"
   ]
  },
  {
   "cell_type": "markdown",
   "metadata": {},
   "source": [
    "### ROC Curve"
   ]
  },
  {
   "cell_type": "code",
   "execution_count": 57,
   "metadata": {},
   "outputs": [
    {
     "data": {
      "text/plain": [
       "<matplotlib.text.Text at 0x113c5eb50>"
      ]
     },
     "execution_count": 57,
     "metadata": {},
     "output_type": "execute_result"
    },
    {
     "data": {
      "image/png": "[encoded data removed]",
      "text/plain": [
       "<matplotlib.figure.Figure at 0x113c70250>"
      ]
     },
     "metadata": {},
     "output_type": "display_data"
    }
   ],
   "source": [
    "from sklearn.metrics import roc_curve\n",
    "pred = lr.predict_proba(X_test)[:, 1]\n",
    "fpr, tpr, thresh = roc_curve(y_test, pred)\n",
    "\n",
    "plt.plot(fpr, tpr)\n",
    "plt.xlabel('FPR')\n",
    "plt.ylabel('TPR')\n",
    "\n",
    "# the better a model the more a curve will strecth to the top left corner\n",
    "# Area under the curve (AOC) -\n",
    "# Best model  AOC = 1\n",
    "# Worst model AOC = 0.5 \n",
    "# only takes into account the probabilities output by the model"
   ]
  },
  {
   "cell_type": "code",
   "execution_count": 59,
   "metadata": {},
   "outputs": [
    {
     "data": {
      "text/plain": [
       "0.77958396473343439"
      ]
     },
     "execution_count": 59,
     "metadata": {},
     "output_type": "execute_result"
    }
   ],
   "source": [
    "from sklearn.metrics import roc_auc_score\n",
    "roc_auc_score(y_test, pred)\n",
    "\n",
    "# Want to evaluated classifiers with AOC. They are more than just binary decision makers\n",
    "# Could be becaus eyou have specific cases to match \n",
    "# good for model comparison"
   ]
  },
  {
   "cell_type": "markdown",
   "metadata": {},
   "source": [
    "## Find optimal model"
   ]
  },
  {
   "cell_type": "markdown",
   "metadata": {},
   "source": [
    "### Add polynomial coefficients"
   ]
  },
  {
   "cell_type": "code",
   "execution_count": 60,
   "metadata": {},
   "outputs": [
    {
     "data": {
      "text/plain": [
       "PolynomialFeatures(degree=2, include_bias=True, interaction_only=False)"
      ]
     },
     "execution_count": 60,
     "metadata": {},
     "output_type": "execute_result"
    }
   ],
   "source": [
    "from sklearn.preprocessing import PolynomialFeatures\n",
    "\n",
    "poly = PolynomialFeatures(degree=2)\n",
    "poly.fit(X_train)"
   ]
  },
  {
   "cell_type": "code",
   "execution_count": 61,
   "metadata": {},
   "outputs": [
    {
     "name": "stdout",
     "output_type": "stream",
     "text": [
      "0.85356109657\n"
     ]
    },
    {
     "data": {
      "text/plain": [
       "<matplotlib.text.Text at 0x113ea01d0>"
      ]
     },
     "execution_count": 61,
     "metadata": {},
     "output_type": "execute_result"
    },
    {
     "data": {
      "image/png": "[encoded data removed]",
      "text/plain": [
       "<matplotlib.figure.Figure at 0x113d6b0d0>"
      ]
     },
     "metadata": {},
     "output_type": "display_data"
    }
   ],
   "source": [
    "from sklearn.preprocessing import PolynomialFeatures\n",
    "from sklearn.linear_model import LogisticRegressionCV\n",
    "from sklearn.pipeline import Pipeline\n",
    "\n",
    "\n",
    "poly = PolynomialFeatures(degree=2)\n",
    "lrcv = LogisticRegressionCV(scoring='roc_auc')\n",
    "\n",
    "polylr = Pipeline([('poly', poly), ('logistic', lrcv)])\n",
    "polylr.fit(X_train, y_train)\n",
    "\n",
    "pred = polylr.predict_proba(X_test)[:, 1]\n",
    "print roc_auc_score(y_test, pred)\n",
    "\n",
    "fpr, tpr, thresh = roc_curve(y_test, pred)\n",
    "_ = plt.plot(fpr, tpr)\n",
    "plt.xlabel('FPR')\n",
    "plt.ylabel('TPR')"
   ]
  },
  {
   "cell_type": "markdown",
   "metadata": {},
   "source": [
    "### Gradient Boosted Decision Trees"
   ]
  },
  {
   "cell_type": "code",
   "execution_count": 62,
   "metadata": {},
   "outputs": [
    {
     "name": "stdout",
     "output_type": "stream",
     "text": [
      "0.703471552555\n"
     ]
    },
    {
     "data": {
      "text/plain": [
       "<matplotlib.text.Text at 0x1141497d0>"
      ]
     },
     "execution_count": 62,
     "metadata": {},
     "output_type": "execute_result"
    },
    {
     "data": {
      "image/png": "[encoded data removed]",
      "text/plain": [
       "<matplotlib.figure.Figure at 0x113e30190>"
      ]
     },
     "metadata": {},
     "output_type": "display_data"
    }
   ],
   "source": [
    "from sklearn.ensemble import GradientBoostingClassifier\n",
    "\n",
    "gb = GradientBoostingClassifier()\n",
    "gb.fit(X_train, y_train)\n",
    "\n",
    "pred = gb.predict_proba(X_test)[:, 1]\n",
    "print roc_auc_score(y_test, pred)\n",
    "\n",
    "fpr, tpr, thresh = roc_curve(y_test, pred)\n",
    "plt.plot(fpr, tpr)\n",
    "plt.xlabel('FPR')\n",
    "plt.ylabel('TPR')"
   ]
  },
  {
   "cell_type": "markdown",
   "metadata": {},
   "source": [
    "## Compare all three models"
   ]
  },
  {
   "cell_type": "code",
   "execution_count": 63,
   "metadata": {},
   "outputs": [
    {
     "name": "stdout",
     "output_type": "stream",
     "text": [
      "Standard AUC: 0.78\n",
      "Polynomial AUC: 0.854\n",
      "Gradient Boosting AUC: 0.703\n"
     ]
    },
    {
     "data": {
      "image/png": "[encoded data removed]",
      "text/plain": [
       "<matplotlib.figure.Figure at 0x113b5b790>"
      ]
     },
     "metadata": {},
     "output_type": "display_data"
    }
   ],
   "source": [
    "# Standard logistic regression\n",
    "pred = lr.predict_proba(X_test)[:, 1]\n",
    "fpr, tpr, thresh = roc_curve(y_test, pred)\n",
    "standard_auc = roc_auc_score(y_test, pred)\n",
    "plt.plot(fpr, tpr, label = 'Standard Logistic')\n",
    "\n",
    "# Polynomial logistic regression\n",
    "pred = polylr.predict_proba(X_test)[:, 1]\n",
    "fpr, tpr, thresh = roc_curve(y_test, pred)\n",
    "poly_auc = roc_auc_score(y_test, pred)\n",
    "plt.plot(fpr, tpr, label = 'Polynomial Logistic')\n",
    "\n",
    "# Gradient Boosting\n",
    "pred = gb.predict_proba(X_test)[:, 1]\n",
    "fpr, tpr, thresh = roc_curve(y_test, pred)\n",
    "rf_auc = roc_auc_score(y_test, pred)\n",
    "plt.plot(fpr, tpr, label = 'Gradient Boosting')\n",
    "\n",
    "plt.xlabel('FPR')\n",
    "plt.ylabel('TPR')\n",
    "plt.legend(loc='lower right')\n",
    "\n",
    "print \"Standard AUC: {:.3}\".format(standard_auc)\n",
    "print \"Polynomial AUC: {:.3}\".format(poly_auc)\n",
    "print \"Gradient Boosting AUC: {:.3}\".format(rf_auc)"
   ]
  },
  {
   "cell_type": "code",
   "execution_count": null,
   "metadata": {
    "collapsed": true
   },
   "outputs": [],
   "source": [
    "# After comparison. using ROC curve\n",
    "# the best choice depends on application \n",
    "# If worried about false positives, want to minimize fals epositives may want to choose Gradient Boosting \n",
    "# If worried about true poitive rate may want tochoose Polynomial logistic regression \n",
    "\n",
    "# If overfitting - the ROC on test data will be poor. It will show up in the test ROC\n",
    "\n",
    "# evaluating classifiers is harder than regressors \n",
    "\n"
   ]
  }
 ],
 "metadata": {
  "anaconda-cloud": {},
  "kernelspec": {
   "display_name": "Python 2",
   "language": "python",
   "name": "python2"
  },
  "language_info": {
   "codemirror_mode": {
    "name": "ipython",
    "version": 2
   },
   "file_extension": ".py",
   "mimetype": "text/x-python",
   "name": "python",
   "nbconvert_exporter": "python",
   "pygments_lexer": "ipython2",
   "version": "2.7.13"
  }
 },
 "nbformat": 4,
 "nbformat_minor": 1
}
