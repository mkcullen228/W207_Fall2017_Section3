{
 "cells": [
  {
   "cell_type": "code",
   "execution_count": null,
   "metadata": {
    "collapsed": true
   },
   "outputs": [],
   "source": [
    "import numpy as np\n",
    "import pandas as pd\n",
    "import matplotlib.pyplot as plt\n",
    "\n",
    "from sklearn.model_selection import train_test_split\n",
    "\n",
    "%matplotlib inline"
   ]
  },
  {
   "cell_type": "markdown",
   "metadata": {},
   "source": [
    "# Logistic Regression and Imbalanced Classes"
   ]
  },
  {
   "cell_type": "markdown",
   "metadata": {},
   "source": [
    "## Data"
   ]
  },
  {
   "cell_type": "code",
   "execution_count": null,
   "metadata": {
    "collapsed": false
   },
   "outputs": [],
   "source": [
    "df = pd.read_csv('abalone19.csv')"
   ]
  },
  {
   "cell_type": "markdown",
   "metadata": {},
   "source": [
    "The target variable is 'Class'. Check the distribution of values"
   ]
  },
  {
   "cell_type": "markdown",
   "metadata": {},
   "source": [
    "Let's make 'Class' a boolean variable instead of a string."
   ]
  },
  {
   "cell_type": "markdown",
   "metadata": {},
   "source": [
    "Keep track of different variable types"
   ]
  },
  {
   "cell_type": "code",
   "execution_count": null,
   "metadata": {
    "collapsed": true
   },
   "outputs": [],
   "source": [
    "continuous = [\n",
    "    'Length',\n",
    "    'Diameter',\n",
    "    'Whole_weight',\n",
    "    'Shucked_weight',\n",
    "    'Viscera_weight',\n",
    "    'Shell_weight'\n",
    "]\n",
    "discrete = [\n",
    "    'Sex'\n",
    "]\n",
    "predictors = continuous + discrete\n",
    "target = 'Class'"
   ]
  },
  {
   "cell_type": "markdown",
   "metadata": {},
   "source": [
    "## Logistic Regression"
   ]
  },
  {
   "cell_type": "markdown",
   "metadata": {},
   "source": [
    "#### Train/Test Split\n",
    "\n",
    "This time, let's separate X from y"
   ]
  },
  {
   "cell_type": "code",
   "execution_count": null,
   "metadata": {
    "collapsed": false
   },
   "outputs": [],
   "source": [
    "X_train, X_test, y_train, y_test = train_test_split(df[predictors], df[target], random_state=2)"
   ]
  },
  {
   "cell_type": "markdown",
   "metadata": {},
   "source": [
    "### Feature Engineering"
   ]
  },
  {
   "cell_type": "markdown",
   "metadata": {},
   "source": [
    "#### Normalize the continuous features"
   ]
  },
  {
   "cell_type": "markdown",
   "metadata": {},
   "source": [
    "Wrong way:"
   ]
  },
  {
   "cell_type": "code",
   "execution_count": null,
   "metadata": {
    "collapsed": false
   },
   "outputs": [],
   "source": [
    "X_train_normalized = (X_train[continuous] - X_train[continuous].mean()) / X_train[continuous].std()\n",
    "X_test_normalized = (X_test[continuous] - X_test[continuous].mean()) / X_test[continuous].std()"
   ]
  },
  {
   "cell_type": "markdown",
   "metadata": {},
   "source": [
    "Correct way:"
   ]
  },
  {
   "cell_type": "code",
   "execution_count": null,
   "metadata": {
    "collapsed": false
   },
   "outputs": [],
   "source": [
    "from sklearn.preprocessing import StandardScaler\n",
    "\n",
    "ss = StandardScaler()\n",
    "# Compute mean and std of training data\n",
    "# Use that mean and std to normalize columns of training data\n",
    "# Use _the same_ mean and std to normalize columns of test data"
   ]
  },
  {
   "cell_type": "markdown",
   "metadata": {},
   "source": [
    "#### Binarize the categorical column"
   ]
  },
  {
   "cell_type": "code",
   "execution_count": null,
   "metadata": {
    "collapsed": false
   },
   "outputs": [],
   "source": [
    "from sklearn.feature_extraction import DictVectorizer\n",
    "\n",
    "dv = DictVectorizer(sparse=False) \n",
    "X_train = pd.DataFrame(\n",
    "    dv.fit_transform(X_train.to_dict(orient='records')),\n",
    "    columns = dv.feature_names_\n",
    "    )\n",
    "\n",
    "X_test = pd.DataFrame(\n",
    "    dv.transform(X_test.to_dict(orient='records')),\n",
    "    columns = dv.feature_names_\n",
    ")"
   ]
  },
  {
   "cell_type": "markdown",
   "metadata": {},
   "source": [
    "Train the logistic regression model"
   ]
  },
  {
   "cell_type": "code",
   "execution_count": null,
   "metadata": {
    "collapsed": false
   },
   "outputs": [],
   "source": [
    "from sklearn.linear_model import LogisticRegression"
   ]
  },
  {
   "cell_type": "markdown",
   "metadata": {},
   "source": [
    "Compute the accuracy on the test set"
   ]
  },
  {
   "cell_type": "code",
   "execution_count": null,
   "metadata": {
    "collapsed": false
   },
   "outputs": [],
   "source": []
  },
  {
   "cell_type": "markdown",
   "metadata": {},
   "source": [
    "Look at a confusion matrix to get a better idea how well our classifier is doing"
   ]
  },
  {
   "cell_type": "code",
   "execution_count": null,
   "metadata": {
    "collapsed": false,
    "scrolled": true
   },
   "outputs": [],
   "source": [
    "from sklearn.metrics import confusion_matrix, roc_curve\n",
    "\n",
    "pred = lr.predict(X_test)\n",
    "c = pd.DataFrame(\n",
    "        confusion_matrix(y_test, pred), \n",
    "        columns=['Predicted=0', 'Predicted=1'], \n",
    "        index=['Actual=0', 'Actual=1']\n",
    ")\n",
    "\n",
    "print c\n",
    "\n",
    "tpr = c.loc['Actual=1', 'Predicted=1'].astype(float) / c.loc['Actual=1', :].sum()\n",
    "fpr = c.loc['Actual=0', 'Predicted=1'].astype(float) / c.loc['Actual=0', :].sum()\n",
    "\n",
    "print\n",
    "print\n",
    "print \"True positive rate (detection rate): {:.3}\".format(tpr)\n",
    "print \"False positive rate (false alarm rate): {:.3}\".format(fpr)"
   ]
  },
  {
   "cell_type": "markdown",
   "metadata": {},
   "source": [
    "Closer look at model behavior"
   ]
  },
  {
   "cell_type": "code",
   "execution_count": null,
   "metadata": {
    "collapsed": false
   },
   "outputs": [],
   "source": [
    "def logistic(x):\n",
    "    return 1 / (1 + np.exp(-x))\n",
    "\n",
    "# Inverse of logistic\n",
    "def logit(p):\n",
    "    return np.log(p / (1 - p))\n",
    "\n",
    "# Full spectrum of model behavior\n",
    "pltdf = pd.DataFrame({\n",
    "        'Class': y_test,\n",
    "        'pred': lr.predict_proba(X_test)[:, 1]\n",
    "    })\n",
    "pltdf['logit'] = pltdf.pred.apply(logit)\n",
    "logits = np.linspace(-6, 6, 200)\n",
    "probs = logistic(logits)\n",
    "\n",
    "# Plot\n",
    "ax = pd.DataFrame({'probs': probs}, index=logits).plot()\n",
    "pltdf.plot(x='logit', y='Class', kind='scatter', ax=ax, label='Actual')\n",
    "plt.legend(loc='lower right')\n",
    "plt.axvline(x=0, color='red')\n",
    "plt.axhline(y=logistic(0), color='purple')"
   ]
  },
  {
   "cell_type": "markdown",
   "metadata": {},
   "source": [
    "#### Threshold: p >= 0.01"
   ]
  },
  {
   "cell_type": "code",
   "execution_count": null,
   "metadata": {
    "collapsed": false,
    "scrolled": true
   },
   "outputs": [],
   "source": [
    "# ax = plt.plot(logits, probs, label='Predicted')\n",
    "ax = pd.DataFrame({'probs': probs}, index=logits).plot()\n",
    "pltdf.plot(x='logit', y='Class', kind='scatter', ax=ax, label='Actual')\n",
    "plt.legend(loc='lower right')\n",
    "plt.axvline(x=logit(.01), color='red')\n",
    "plt.axhline(y=.01, color='purple')"
   ]
  },
  {
   "cell_type": "code",
   "execution_count": null,
   "metadata": {
    "collapsed": false
   },
   "outputs": [],
   "source": [
    "pred = lr.predict_proba(X_test)[:, 1] >= .01\n",
    "c = pd.DataFrame(\n",
    "        confusion_matrix(y_test, pred), \n",
    "        columns=['Predicted=0', 'Predicted=1'], \n",
    "        index=['Actual=0', 'Actual=1']\n",
    ")\n",
    "\n",
    "print c\n",
    "\n",
    "tpr = c.loc['Actual=1', 'Predicted=1'].astype(float) / c.loc['Actual=1', :].sum()\n",
    "fpr = c.loc['Actual=0', 'Predicted=1'].astype(float) / c.loc['Actual=0', :].sum()\n",
    "\n",
    "print\n",
    "print\n",
    "print \"True positive rate (detection rate): {:.3}\".format(tpr)\n",
    "print \"False positive rate (false alarm rate): {:.3}\".format(fpr)"
   ]
  },
  {
   "cell_type": "markdown",
   "metadata": {},
   "source": [
    "### ROC Curve"
   ]
  },
  {
   "cell_type": "code",
   "execution_count": null,
   "metadata": {
    "collapsed": false
   },
   "outputs": [],
   "source": [
    "from sklearn.metrics import roc_curve\n",
    "pred = lr.predict_proba(X_test)[:, 1]\n",
    "fpr, tpr, thresh = roc_curve(y_test, pred)\n",
    "\n",
    "plt.plot(fpr, tpr)\n",
    "plt.xlabel('FPR')\n",
    "plt.ylabel('TPR')"
   ]
  },
  {
   "cell_type": "code",
   "execution_count": null,
   "metadata": {
    "collapsed": false
   },
   "outputs": [],
   "source": [
    "from sklearn.metrics import roc_auc_score\n",
    "roc_auc_score(y_test, pred)"
   ]
  },
  {
   "cell_type": "markdown",
   "metadata": {},
   "source": [
    "## Find optimal model"
   ]
  },
  {
   "cell_type": "markdown",
   "metadata": {},
   "source": [
    "### Add polynomial coefficients"
   ]
  },
  {
   "cell_type": "code",
   "execution_count": null,
   "metadata": {
    "collapsed": false
   },
   "outputs": [],
   "source": [
    "from sklearn.preprocessing import PolynomialFeatures\n",
    "\n",
    "poly = PolynomialFeatures(degree=2)\n",
    "poly.fit(X_train)"
   ]
  },
  {
   "cell_type": "code",
   "execution_count": null,
   "metadata": {
    "collapsed": true
   },
   "outputs": [],
   "source": [
    "from sklearn.preprocessing import PolynomialFeatures\n",
    "from sklearn.linear_model import LogisticRegressionCV\n",
    "from sklearn.pipeline import Pipeline\n",
    "\n",
    "\n",
    "poly = PolynomialFeatures(degree=2)\n",
    "lrcv = LogisticRegressionCV(scoring='roc_auc')\n",
    "\n",
    "polylr = Pipeline([('poly', poly), ('logistic', lrcv)])\n",
    "polylr.fit(X_train, y_train)\n",
    "\n",
    "pred = polylr.predict_proba(X_test)[:, 1]\n",
    "print roc_auc_score(y_test, pred)\n",
    "\n",
    "fpr, tpr, thresh = roc_curve(y_test, pred)\n",
    "_ = plt.plot(fpr, tpr)\n",
    "plt.xlabel('FPR')\n",
    "plt.ylabel('TPR')"
   ]
  },
  {
   "cell_type": "markdown",
   "metadata": {},
   "source": [
    "### Gradient Boosted Decision Trees"
   ]
  },
  {
   "cell_type": "code",
   "execution_count": null,
   "metadata": {
    "collapsed": false
   },
   "outputs": [],
   "source": [
    "from sklearn.ensemble import GradientBoostingClassifier\n",
    "\n",
    "gb = GradientBoostingClassifier()\n",
    "gb.fit(X_train, y_train)\n",
    "\n",
    "pred = gb.predict_proba(X_test)[:, 1]\n",
    "print roc_auc_score(y_test, pred)\n",
    "\n",
    "fpr, tpr, thresh = roc_curve(y_test, pred)\n",
    "plt.plot(fpr, tpr)\n",
    "plt.xlabel('FPR')\n",
    "plt.ylabel('TPR')"
   ]
  },
  {
   "cell_type": "markdown",
   "metadata": {},
   "source": [
    "## Compare all three models"
   ]
  },
  {
   "cell_type": "code",
   "execution_count": null,
   "metadata": {
    "collapsed": false
   },
   "outputs": [],
   "source": [
    "# Standard logistic regression\n",
    "pred = lr.predict_proba(X_test)[:, 1]\n",
    "fpr, tpr, thresh = roc_curve(y_test, pred)\n",
    "standard_auc = roc_auc_score(y_test, pred)\n",
    "plt.plot(fpr, tpr, label = 'Standard Logistic')\n",
    "\n",
    "# Polynomial logistic regression\n",
    "pred = polylr.predict_proba(X_test)[:, 1]\n",
    "fpr, tpr, thresh = roc_curve(y_test, pred)\n",
    "poly_auc = roc_auc_score(y_test, pred)\n",
    "plt.plot(fpr, tpr, label = 'Polynomial Logistic')\n",
    "\n",
    "# Gradient Boosting\n",
    "pred = gb.predict_proba(X_test)[:, 1]\n",
    "fpr, tpr, thresh = roc_curve(y_test, pred)\n",
    "rf_auc = roc_auc_score(y_test, pred)\n",
    "plt.plot(fpr, tpr, label = 'Gradient Boosting')\n",
    "\n",
    "plt.xlabel('FPR')\n",
    "plt.ylabel('TPR')\n",
    "plt.legend(loc='lower right')\n",
    "\n",
    "print \"Standard AUC: {:.3}\".format(standard_auc)\n",
    "print \"Polynomial AUC: {:.3}\".format(poly_auc)\n",
    "print \"Gradient Boosting AUC: {:.3}\".format(rf_auc)"
   ]
  },
  {
   "cell_type": "code",
   "execution_count": null,
   "metadata": {
    "collapsed": true
   },
   "outputs": [],
   "source": []
  }
 ],
 "metadata": {
  "anaconda-cloud": {},
  "kernelspec": {
   "display_name": "Python [conda root]",
   "language": "python",
   "name": "conda-root-py"
  },
  "language_info": {
   "codemirror_mode": {
    "name": "ipython",
    "version": 2
   },
   "file_extension": ".py",
   "mimetype": "text/x-python",
   "name": "python",
   "nbconvert_exporter": "python",
   "pygments_lexer": "ipython2",
   "version": "2.7.13"
  }
 },
 "nbformat": 4,
 "nbformat_minor": 1
}
