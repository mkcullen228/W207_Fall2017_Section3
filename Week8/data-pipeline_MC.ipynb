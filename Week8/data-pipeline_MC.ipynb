{
 "cells": [
  {
   "cell_type": "code",
   "execution_count": 1,
   "metadata": {
    "collapsed": true
   },
   "outputs": [],
   "source": [
    "import pandas as pd\n",
    "import numpy as np\n",
    "\n",
    "%matplotlib inline"
   ]
  },
  {
   "cell_type": "markdown",
   "metadata": {},
   "source": [
    "# Data Pipelines\n",
    "\n",
    "In this exercise, you will practice pasting together multiple feature processing steps into a single pipeline that allows for easy cross-validation and model selection."
   ]
  },
  {
   "cell_type": "markdown",
   "metadata": {},
   "source": [
    "## Data"
   ]
  },
  {
   "cell_type": "markdown",
   "metadata": {},
   "source": [
    "We will use the crime rate data that we have used in previous weeks. This time, we will not drop the first few columns or the rows with missing values in them."
   ]
  },
  {
   "cell_type": "code",
   "execution_count": 3,
   "metadata": {
    "collapsed": true
   },
   "outputs": [],
   "source": [
    "from sklearn.model_selection import train_test_split\n",
    "\n",
    "# Load some crime data\n",
    "headers = pd.read_csv('comm_names.txt', squeeze=True)\n",
    "headers = headers.apply(lambda s: s.split()[1])\n",
    "crime = (pd.read_csv('http://archive.ics.uci.edu/ml/machine-learning-databases/communities/communities.data', \n",
    "                    header=None, na_values=['?'], names=headers)\n",
    "#          .iloc[:, 5:]\n",
    "#          .dropna()\n",
    "         )\n",
    "\n",
    "# Set target and predictors\n",
    "target = 'ViolentCrimesPerPop'\n",
    "predictors = [c for c in crime.columns if not c == target]\n",
    "\n",
    "# Train/test split\n",
    "X = crime[predictors]\n",
    "y = crime[[target]]\n",
    "X_train, X_test, y_train, y_test = train_test_split(X, y, random_state=2)\n",
    "# train_df, test_df = train_test_split(crime, random_state=2)"
   ]
  },
  {
   "cell_type": "markdown",
   "metadata": {},
   "source": [
    "Always start by taking a look at the first few rows of your data."
   ]
  },
  {
   "cell_type": "code",
   "execution_count": 5,
   "metadata": {},
   "outputs": [
    {
     "name": "stdout",
     "output_type": "stream",
     "text": [
      "(1495, 126)\n",
      "(499, 126)\n"
     ]
    },
    {
     "data": {
      "text/html": [
       "<div>\n",
       "<style>\n",
       "    .dataframe thead tr:only-child th {\n",
       "        text-align: right;\n",
       "    }\n",
       "\n",
       "    .dataframe thead th {\n",
       "        text-align: left;\n",
       "    }\n",
       "\n",
       "    .dataframe tbody tr th {\n",
       "        vertical-align: top;\n",
       "    }\n",
       "</style>\n",
       "<table border=\"1\" class=\"dataframe\">\n",
       "  <thead>\n",
       "    <tr style=\"text-align: right;\">\n",
       "      <th></th>\n",
       "      <th>county</th>\n",
       "      <th>community</th>\n",
       "      <th>communityname</th>\n",
       "      <th>fold</th>\n",
       "      <th>population</th>\n",
       "      <th>householdsize</th>\n",
       "      <th>racepctblack</th>\n",
       "      <th>racePctWhite</th>\n",
       "      <th>racePctAsian</th>\n",
       "      <th>racePctHisp</th>\n",
       "      <th>...</th>\n",
       "      <th>PolicAveOTWorked</th>\n",
       "      <th>LandArea</th>\n",
       "      <th>PopDens</th>\n",
       "      <th>PctUsePubTrans</th>\n",
       "      <th>PolicCars</th>\n",
       "      <th>PolicOperBudg</th>\n",
       "      <th>LemasPctPolicOnPatr</th>\n",
       "      <th>LemasGangUnitDeploy</th>\n",
       "      <th>LemasPctOfficDrugUn</th>\n",
       "      <th>PolicBudgPerPop</th>\n",
       "    </tr>\n",
       "  </thead>\n",
       "  <tbody>\n",
       "    <tr>\n",
       "      <th>55</th>\n",
       "      <td>79.0</td>\n",
       "      <td>17975.0</td>\n",
       "      <td>Cudahycity</td>\n",
       "      <td>10</td>\n",
       "      <td>0.01</td>\n",
       "      <td>0.36</td>\n",
       "      <td>0.01</td>\n",
       "      <td>0.97</td>\n",
       "      <td>0.04</td>\n",
       "      <td>0.04</td>\n",
       "      <td>...</td>\n",
       "      <td>NaN</td>\n",
       "      <td>0.01</td>\n",
       "      <td>0.33</td>\n",
       "      <td>0.26</td>\n",
       "      <td>NaN</td>\n",
       "      <td>NaN</td>\n",
       "      <td>NaN</td>\n",
       "      <td>NaN</td>\n",
       "      <td>0.0</td>\n",
       "      <td>NaN</td>\n",
       "    </tr>\n",
       "    <tr>\n",
       "      <th>35</th>\n",
       "      <td>NaN</td>\n",
       "      <td>NaN</td>\n",
       "      <td>Gallupcity</td>\n",
       "      <td>8</td>\n",
       "      <td>0.01</td>\n",
       "      <td>0.67</td>\n",
       "      <td>0.02</td>\n",
       "      <td>0.23</td>\n",
       "      <td>0.07</td>\n",
       "      <td>0.64</td>\n",
       "      <td>...</td>\n",
       "      <td>NaN</td>\n",
       "      <td>0.03</td>\n",
       "      <td>0.14</td>\n",
       "      <td>0.01</td>\n",
       "      <td>NaN</td>\n",
       "      <td>NaN</td>\n",
       "      <td>NaN</td>\n",
       "      <td>NaN</td>\n",
       "      <td>0.0</td>\n",
       "      <td>NaN</td>\n",
       "    </tr>\n",
       "    <tr>\n",
       "      <th>6</th>\n",
       "      <td>NaN</td>\n",
       "      <td>NaN</td>\n",
       "      <td>Petalumacity</td>\n",
       "      <td>1</td>\n",
       "      <td>0.05</td>\n",
       "      <td>0.46</td>\n",
       "      <td>0.02</td>\n",
       "      <td>0.88</td>\n",
       "      <td>0.20</td>\n",
       "      <td>0.17</td>\n",
       "      <td>...</td>\n",
       "      <td>NaN</td>\n",
       "      <td>0.03</td>\n",
       "      <td>0.29</td>\n",
       "      <td>0.24</td>\n",
       "      <td>NaN</td>\n",
       "      <td>NaN</td>\n",
       "      <td>NaN</td>\n",
       "      <td>NaN</td>\n",
       "      <td>0.0</td>\n",
       "      <td>NaN</td>\n",
       "    </tr>\n",
       "    <tr>\n",
       "      <th>13</th>\n",
       "      <td>NaN</td>\n",
       "      <td>NaN</td>\n",
       "      <td>Waycrosscity</td>\n",
       "      <td>8</td>\n",
       "      <td>0.01</td>\n",
       "      <td>0.36</td>\n",
       "      <td>0.95</td>\n",
       "      <td>0.24</td>\n",
       "      <td>0.03</td>\n",
       "      <td>0.01</td>\n",
       "      <td>...</td>\n",
       "      <td>NaN</td>\n",
       "      <td>0.03</td>\n",
       "      <td>0.12</td>\n",
       "      <td>0.01</td>\n",
       "      <td>NaN</td>\n",
       "      <td>NaN</td>\n",
       "      <td>NaN</td>\n",
       "      <td>NaN</td>\n",
       "      <td>0.0</td>\n",
       "      <td>NaN</td>\n",
       "    </tr>\n",
       "    <tr>\n",
       "      <th>48</th>\n",
       "      <td>NaN</td>\n",
       "      <td>NaN</td>\n",
       "      <td>Templecity</td>\n",
       "      <td>8</td>\n",
       "      <td>0.06</td>\n",
       "      <td>0.38</td>\n",
       "      <td>0.33</td>\n",
       "      <td>0.59</td>\n",
       "      <td>0.05</td>\n",
       "      <td>0.25</td>\n",
       "      <td>...</td>\n",
       "      <td>NaN</td>\n",
       "      <td>0.12</td>\n",
       "      <td>0.09</td>\n",
       "      <td>0.01</td>\n",
       "      <td>NaN</td>\n",
       "      <td>NaN</td>\n",
       "      <td>NaN</td>\n",
       "      <td>NaN</td>\n",
       "      <td>0.0</td>\n",
       "      <td>NaN</td>\n",
       "    </tr>\n",
       "  </tbody>\n",
       "</table>\n",
       "<p>5 rows × 126 columns</p>\n",
       "</div>"
      ],
      "text/plain": [
       "    county  community communityname  fold  population  householdsize  \\\n",
       "55    79.0    17975.0    Cudahycity    10        0.01           0.36   \n",
       "35     NaN        NaN    Gallupcity     8        0.01           0.67   \n",
       "6      NaN        NaN  Petalumacity     1        0.05           0.46   \n",
       "13     NaN        NaN  Waycrosscity     8        0.01           0.36   \n",
       "48     NaN        NaN    Templecity     8        0.06           0.38   \n",
       "\n",
       "    racepctblack  racePctWhite  racePctAsian  racePctHisp       ...         \\\n",
       "55          0.01          0.97          0.04         0.04       ...          \n",
       "35          0.02          0.23          0.07         0.64       ...          \n",
       "6           0.02          0.88          0.20         0.17       ...          \n",
       "13          0.95          0.24          0.03         0.01       ...          \n",
       "48          0.33          0.59          0.05         0.25       ...          \n",
       "\n",
       "    PolicAveOTWorked  LandArea  PopDens  PctUsePubTrans  PolicCars  \\\n",
       "55               NaN      0.01     0.33            0.26        NaN   \n",
       "35               NaN      0.03     0.14            0.01        NaN   \n",
       "6                NaN      0.03     0.29            0.24        NaN   \n",
       "13               NaN      0.03     0.12            0.01        NaN   \n",
       "48               NaN      0.12     0.09            0.01        NaN   \n",
       "\n",
       "    PolicOperBudg  LemasPctPolicOnPatr  LemasGangUnitDeploy  \\\n",
       "55            NaN                  NaN                  NaN   \n",
       "35            NaN                  NaN                  NaN   \n",
       "6             NaN                  NaN                  NaN   \n",
       "13            NaN                  NaN                  NaN   \n",
       "48            NaN                  NaN                  NaN   \n",
       "\n",
       "    LemasPctOfficDrugUn  PolicBudgPerPop  \n",
       "55                  0.0              NaN  \n",
       "35                  0.0              NaN  \n",
       "6                   0.0              NaN  \n",
       "13                  0.0              NaN  \n",
       "48                  0.0              NaN  \n",
       "\n",
       "[5 rows x 126 columns]"
      ]
     },
     "execution_count": 5,
     "metadata": {},
     "output_type": "execute_result"
    }
   ],
   "source": [
    "print X_train.shape\n",
    "print X_test.shape\n",
    "X_train.head()"
   ]
  },
  {
   "cell_type": "markdown",
   "metadata": {},
   "source": [
    "## EDA\n",
    "\n",
    "It's always a good idea to start by asking yourself a few questions about the data. For example\n",
    "- What types of features are there?\n",
    "- Are there missing values?\n",
    "- What is the distribution of the target?"
   ]
  },
  {
   "cell_type": "markdown",
   "metadata": {},
   "source": [
    "#### What types of features are there?"
   ]
  },
  {
   "cell_type": "code",
   "execution_count": 15,
   "metadata": {},
   "outputs": [
    {
     "name": "stdout",
     "output_type": "stream",
     "text": [
      "float64    124\n",
      "int64        1\n",
      "object       1\n",
      "dtype: int64\n"
     ]
    },
    {
     "data": {
      "text/plain": [
       "county                  float64\n",
       "community               float64\n",
       "communityname            object\n",
       "fold                      int64\n",
       "population              float64\n",
       "householdsize           float64\n",
       "racepctblack            float64\n",
       "racePctWhite            float64\n",
       "racePctAsian            float64\n",
       "racePctHisp             float64\n",
       "agePct12t21             float64\n",
       "agePct12t29             float64\n",
       "agePct16t24             float64\n",
       "agePct65up              float64\n",
       "numbUrban               float64\n",
       "pctUrban                float64\n",
       "medIncome               float64\n",
       "pctWWage                float64\n",
       "pctWFarmSelf            float64\n",
       "pctWInvInc              float64\n",
       "pctWSocSec              float64\n",
       "pctWPubAsst             float64\n",
       "pctWRetire              float64\n",
       "medFamInc               float64\n",
       "perCapInc               float64\n",
       "whitePerCap             float64\n",
       "blackPerCap             float64\n",
       "indianPerCap            float64\n",
       "AsianPerCap             float64\n",
       "OtherPerCap             float64\n",
       "                         ...   \n",
       "PctBornSameState        float64\n",
       "PctSameHouse85          float64\n",
       "PctSameCity85           float64\n",
       "PctSameState85          float64\n",
       "LemasSwornFT            float64\n",
       "LemasSwFTPerPop         float64\n",
       "LemasSwFTFieldOps       float64\n",
       "LemasSwFTFieldPerPop    float64\n",
       "LemasTotalReq           float64\n",
       "LemasTotReqPerPop       float64\n",
       "PolicReqPerOffic        float64\n",
       "PolicPerPop             float64\n",
       "RacialMatchCommPol      float64\n",
       "PctPolicWhite           float64\n",
       "PctPolicBlack           float64\n",
       "PctPolicHisp            float64\n",
       "PctPolicAsian           float64\n",
       "PctPolicMinor           float64\n",
       "OfficAssgnDrugUnits     float64\n",
       "NumKindsDrugsSeiz       float64\n",
       "PolicAveOTWorked        float64\n",
       "LandArea                float64\n",
       "PopDens                 float64\n",
       "PctUsePubTrans          float64\n",
       "PolicCars               float64\n",
       "PolicOperBudg           float64\n",
       "LemasPctPolicOnPatr     float64\n",
       "LemasGangUnitDeploy     float64\n",
       "LemasPctOfficDrugUn     float64\n",
       "PolicBudgPerPop         float64\n",
       "Length: 126, dtype: object"
      ]
     },
     "execution_count": 15,
     "metadata": {},
     "output_type": "execute_result"
    }
   ],
   "source": [
    "print X_train.dtypes.value_counts()\n",
    "X_train.dtypes"
   ]
  },
  {
   "cell_type": "markdown",
   "metadata": {},
   "source": [
    "#### Are there missing values?"
   ]
  },
  {
   "cell_type": "code",
   "execution_count": 13,
   "metadata": {},
   "outputs": [
    {
     "data": {
      "text/plain": [
       "PolicBudgPerPop      0.838127\n",
       "PctPolicMinor        0.838127\n",
       "LemasTotalReq        0.838127\n",
       "LemasTotReqPerPop    0.838127\n",
       "PolicReqPerOffic     0.838127\n",
       "dtype: float64"
      ]
     },
     "execution_count": 13,
     "metadata": {},
     "output_type": "execute_result"
    }
   ],
   "source": [
    "X_train.apply(lambda col: col.isnull()).sum().sort_values(ascending = False).head()\n",
    "X_train.apply(lambda col: col.isnull()).mean().sort_values(ascending = False).head()"
   ]
  },
  {
   "cell_type": "markdown",
   "metadata": {},
   "source": [
    "#### What is the distribution of the target?"
   ]
  },
  {
   "cell_type": "code",
   "execution_count": 14,
   "metadata": {},
   "outputs": [
    {
     "data": {
      "text/plain": [
       "array([[<matplotlib.axes._subplots.AxesSubplot object at 0x10dee5350>]], dtype=object)"
      ]
     },
     "execution_count": 14,
     "metadata": {},
     "output_type": "execute_result"
    },
    {
     "data": {
      "image/png": "[encoded data removed]",
      "text/plain": [
       "<matplotlib.figure.Figure at 0x103b1bb50>"
      ]
     },
     "metadata": {},
     "output_type": "display_data"
    }
   ],
   "source": [
    "y_train.hist()"
   ]
  },
  {
   "cell_type": "markdown",
   "metadata": {},
   "source": [
    "#### What are the distributions of the features?"
   ]
  },
  {
   "cell_type": "markdown",
   "metadata": {},
   "source": [
    "It looks like there are both continuous and categorical features. It is usually a good idea to separate them."
   ]
  },
  {
   "cell_type": "code",
   "execution_count": 22,
   "metadata": {
    "collapsed": true
   },
   "outputs": [],
   "source": [
    "categorical_predictors = ['county', 'community', 'fold', 'communityname']\n",
    "numeric_predictors = X_train.columns[4:]"
   ]
  },
  {
   "cell_type": "markdown",
   "metadata": {},
   "source": [
    "##### Numeric"
   ]
  },
  {
   "cell_type": "code",
   "execution_count": 23,
   "metadata": {},
   "outputs": [
    {
     "data": {
      "text/html": [
       "<div>\n",
       "<style>\n",
       "    .dataframe thead tr:only-child th {\n",
       "        text-align: right;\n",
       "    }\n",
       "\n",
       "    .dataframe thead th {\n",
       "        text-align: left;\n",
       "    }\n",
       "\n",
       "    .dataframe tbody tr th {\n",
       "        vertical-align: top;\n",
       "    }\n",
       "</style>\n",
       "<table border=\"1\" class=\"dataframe\">\n",
       "  <thead>\n",
       "    <tr style=\"text-align: right;\">\n",
       "      <th></th>\n",
       "      <th>count</th>\n",
       "      <th>mean</th>\n",
       "      <th>std</th>\n",
       "      <th>min</th>\n",
       "      <th>25%</th>\n",
       "      <th>50%</th>\n",
       "      <th>75%</th>\n",
       "      <th>max</th>\n",
       "    </tr>\n",
       "  </thead>\n",
       "  <tbody>\n",
       "    <tr>\n",
       "      <th>population</th>\n",
       "      <td>1495.0</td>\n",
       "      <td>0.056883</td>\n",
       "      <td>0.122571</td>\n",
       "      <td>0.00</td>\n",
       "      <td>0.0100</td>\n",
       "      <td>0.020</td>\n",
       "      <td>0.0600</td>\n",
       "      <td>1.0</td>\n",
       "    </tr>\n",
       "    <tr>\n",
       "      <th>householdsize</th>\n",
       "      <td>1495.0</td>\n",
       "      <td>0.464074</td>\n",
       "      <td>0.165073</td>\n",
       "      <td>0.00</td>\n",
       "      <td>0.3500</td>\n",
       "      <td>0.440</td>\n",
       "      <td>0.5400</td>\n",
       "      <td>1.0</td>\n",
       "    </tr>\n",
       "    <tr>\n",
       "      <th>racepctblack</th>\n",
       "      <td>1495.0</td>\n",
       "      <td>0.177331</td>\n",
       "      <td>0.252775</td>\n",
       "      <td>0.00</td>\n",
       "      <td>0.0200</td>\n",
       "      <td>0.060</td>\n",
       "      <td>0.2200</td>\n",
       "      <td>1.0</td>\n",
       "    </tr>\n",
       "    <tr>\n",
       "      <th>racePctWhite</th>\n",
       "      <td>1495.0</td>\n",
       "      <td>0.752020</td>\n",
       "      <td>0.246175</td>\n",
       "      <td>0.00</td>\n",
       "      <td>0.6300</td>\n",
       "      <td>0.840</td>\n",
       "      <td>0.9400</td>\n",
       "      <td>1.0</td>\n",
       "    </tr>\n",
       "    <tr>\n",
       "      <th>racePctAsian</th>\n",
       "      <td>1495.0</td>\n",
       "      <td>0.153860</td>\n",
       "      <td>0.211290</td>\n",
       "      <td>0.00</td>\n",
       "      <td>0.0400</td>\n",
       "      <td>0.070</td>\n",
       "      <td>0.1600</td>\n",
       "      <td>1.0</td>\n",
       "    </tr>\n",
       "    <tr>\n",
       "      <th>racePctHisp</th>\n",
       "      <td>1495.0</td>\n",
       "      <td>0.150843</td>\n",
       "      <td>0.239894</td>\n",
       "      <td>0.00</td>\n",
       "      <td>0.0150</td>\n",
       "      <td>0.040</td>\n",
       "      <td>0.1650</td>\n",
       "      <td>1.0</td>\n",
       "    </tr>\n",
       "    <tr>\n",
       "      <th>agePct12t21</th>\n",
       "      <td>1495.0</td>\n",
       "      <td>0.423157</td>\n",
       "      <td>0.153432</td>\n",
       "      <td>0.00</td>\n",
       "      <td>0.3300</td>\n",
       "      <td>0.400</td>\n",
       "      <td>0.4800</td>\n",
       "      <td>1.0</td>\n",
       "    </tr>\n",
       "    <tr>\n",
       "      <th>agePct12t29</th>\n",
       "      <td>1495.0</td>\n",
       "      <td>0.493331</td>\n",
       "      <td>0.142199</td>\n",
       "      <td>0.00</td>\n",
       "      <td>0.4100</td>\n",
       "      <td>0.480</td>\n",
       "      <td>0.5400</td>\n",
       "      <td>1.0</td>\n",
       "    </tr>\n",
       "    <tr>\n",
       "      <th>agePct16t24</th>\n",
       "      <td>1495.0</td>\n",
       "      <td>0.335097</td>\n",
       "      <td>0.163870</td>\n",
       "      <td>0.00</td>\n",
       "      <td>0.2500</td>\n",
       "      <td>0.290</td>\n",
       "      <td>0.3600</td>\n",
       "      <td>1.0</td>\n",
       "    </tr>\n",
       "    <tr>\n",
       "      <th>agePct65up</th>\n",
       "      <td>1495.0</td>\n",
       "      <td>0.423880</td>\n",
       "      <td>0.179779</td>\n",
       "      <td>0.00</td>\n",
       "      <td>0.3000</td>\n",
       "      <td>0.420</td>\n",
       "      <td>0.5300</td>\n",
       "      <td>1.0</td>\n",
       "    </tr>\n",
       "    <tr>\n",
       "      <th>numbUrban</th>\n",
       "      <td>1495.0</td>\n",
       "      <td>0.063438</td>\n",
       "      <td>0.124029</td>\n",
       "      <td>0.00</td>\n",
       "      <td>0.0000</td>\n",
       "      <td>0.030</td>\n",
       "      <td>0.0700</td>\n",
       "      <td>1.0</td>\n",
       "    </tr>\n",
       "    <tr>\n",
       "      <th>pctUrban</th>\n",
       "      <td>1495.0</td>\n",
       "      <td>0.700508</td>\n",
       "      <td>0.442880</td>\n",
       "      <td>0.00</td>\n",
       "      <td>0.0000</td>\n",
       "      <td>1.000</td>\n",
       "      <td>1.0000</td>\n",
       "      <td>1.0</td>\n",
       "    </tr>\n",
       "    <tr>\n",
       "      <th>medIncome</th>\n",
       "      <td>1495.0</td>\n",
       "      <td>0.360676</td>\n",
       "      <td>0.207475</td>\n",
       "      <td>0.00</td>\n",
       "      <td>0.2000</td>\n",
       "      <td>0.320</td>\n",
       "      <td>0.4900</td>\n",
       "      <td>1.0</td>\n",
       "    </tr>\n",
       "    <tr>\n",
       "      <th>pctWWage</th>\n",
       "      <td>1495.0</td>\n",
       "      <td>0.557719</td>\n",
       "      <td>0.182848</td>\n",
       "      <td>0.00</td>\n",
       "      <td>0.4500</td>\n",
       "      <td>0.570</td>\n",
       "      <td>0.6900</td>\n",
       "      <td>1.0</td>\n",
       "    </tr>\n",
       "    <tr>\n",
       "      <th>pctWFarmSelf</th>\n",
       "      <td>1495.0</td>\n",
       "      <td>0.294040</td>\n",
       "      <td>0.207067</td>\n",
       "      <td>0.00</td>\n",
       "      <td>0.1500</td>\n",
       "      <td>0.230</td>\n",
       "      <td>0.3700</td>\n",
       "      <td>1.0</td>\n",
       "    </tr>\n",
       "    <tr>\n",
       "      <th>pctWInvInc</th>\n",
       "      <td>1495.0</td>\n",
       "      <td>0.495585</td>\n",
       "      <td>0.179209</td>\n",
       "      <td>0.00</td>\n",
       "      <td>0.3650</td>\n",
       "      <td>0.480</td>\n",
       "      <td>0.6200</td>\n",
       "      <td>1.0</td>\n",
       "    </tr>\n",
       "    <tr>\n",
       "      <th>pctWSocSec</th>\n",
       "      <td>1495.0</td>\n",
       "      <td>0.471625</td>\n",
       "      <td>0.173880</td>\n",
       "      <td>0.00</td>\n",
       "      <td>0.3500</td>\n",
       "      <td>0.480</td>\n",
       "      <td>0.5800</td>\n",
       "      <td>1.0</td>\n",
       "    </tr>\n",
       "    <tr>\n",
       "      <th>pctWPubAsst</th>\n",
       "      <td>1495.0</td>\n",
       "      <td>0.318207</td>\n",
       "      <td>0.223364</td>\n",
       "      <td>0.01</td>\n",
       "      <td>0.1400</td>\n",
       "      <td>0.260</td>\n",
       "      <td>0.4400</td>\n",
       "      <td>1.0</td>\n",
       "    </tr>\n",
       "    <tr>\n",
       "      <th>pctWRetire</th>\n",
       "      <td>1495.0</td>\n",
       "      <td>0.480823</td>\n",
       "      <td>0.168086</td>\n",
       "      <td>0.00</td>\n",
       "      <td>0.3600</td>\n",
       "      <td>0.470</td>\n",
       "      <td>0.5900</td>\n",
       "      <td>1.0</td>\n",
       "    </tr>\n",
       "    <tr>\n",
       "      <th>medFamInc</th>\n",
       "      <td>1495.0</td>\n",
       "      <td>0.375030</td>\n",
       "      <td>0.196597</td>\n",
       "      <td>0.00</td>\n",
       "      <td>0.2300</td>\n",
       "      <td>0.330</td>\n",
       "      <td>0.4800</td>\n",
       "      <td>1.0</td>\n",
       "    </tr>\n",
       "    <tr>\n",
       "      <th>perCapInc</th>\n",
       "      <td>1495.0</td>\n",
       "      <td>0.349244</td>\n",
       "      <td>0.189196</td>\n",
       "      <td>0.00</td>\n",
       "      <td>0.2200</td>\n",
       "      <td>0.300</td>\n",
       "      <td>0.4300</td>\n",
       "      <td>1.0</td>\n",
       "    </tr>\n",
       "    <tr>\n",
       "      <th>whitePerCap</th>\n",
       "      <td>1495.0</td>\n",
       "      <td>0.367338</td>\n",
       "      <td>0.185614</td>\n",
       "      <td>0.00</td>\n",
       "      <td>0.2400</td>\n",
       "      <td>0.320</td>\n",
       "      <td>0.4400</td>\n",
       "      <td>1.0</td>\n",
       "    </tr>\n",
       "    <tr>\n",
       "      <th>blackPerCap</th>\n",
       "      <td>1495.0</td>\n",
       "      <td>0.293204</td>\n",
       "      <td>0.175106</td>\n",
       "      <td>0.00</td>\n",
       "      <td>0.1800</td>\n",
       "      <td>0.250</td>\n",
       "      <td>0.3800</td>\n",
       "      <td>1.0</td>\n",
       "    </tr>\n",
       "    <tr>\n",
       "      <th>indianPerCap</th>\n",
       "      <td>1495.0</td>\n",
       "      <td>0.201251</td>\n",
       "      <td>0.161950</td>\n",
       "      <td>0.00</td>\n",
       "      <td>0.1100</td>\n",
       "      <td>0.170</td>\n",
       "      <td>0.2500</td>\n",
       "      <td>1.0</td>\n",
       "    </tr>\n",
       "    <tr>\n",
       "      <th>AsianPerCap</th>\n",
       "      <td>1495.0</td>\n",
       "      <td>0.320381</td>\n",
       "      <td>0.195006</td>\n",
       "      <td>0.00</td>\n",
       "      <td>0.1900</td>\n",
       "      <td>0.280</td>\n",
       "      <td>0.4000</td>\n",
       "      <td>1.0</td>\n",
       "    </tr>\n",
       "    <tr>\n",
       "      <th>OtherPerCap</th>\n",
       "      <td>1494.0</td>\n",
       "      <td>0.284485</td>\n",
       "      <td>0.188322</td>\n",
       "      <td>0.00</td>\n",
       "      <td>0.1700</td>\n",
       "      <td>0.260</td>\n",
       "      <td>0.3600</td>\n",
       "      <td>1.0</td>\n",
       "    </tr>\n",
       "    <tr>\n",
       "      <th>HispPerCap</th>\n",
       "      <td>1495.0</td>\n",
       "      <td>0.385666</td>\n",
       "      <td>0.180306</td>\n",
       "      <td>0.00</td>\n",
       "      <td>0.2600</td>\n",
       "      <td>0.340</td>\n",
       "      <td>0.4800</td>\n",
       "      <td>1.0</td>\n",
       "    </tr>\n",
       "    <tr>\n",
       "      <th>NumUnderPov</th>\n",
       "      <td>1495.0</td>\n",
       "      <td>0.055231</td>\n",
       "      <td>0.126146</td>\n",
       "      <td>0.00</td>\n",
       "      <td>0.0100</td>\n",
       "      <td>0.020</td>\n",
       "      <td>0.0500</td>\n",
       "      <td>1.0</td>\n",
       "    </tr>\n",
       "    <tr>\n",
       "      <th>PctPopUnderPov</th>\n",
       "      <td>1495.0</td>\n",
       "      <td>0.304167</td>\n",
       "      <td>0.230261</td>\n",
       "      <td>0.00</td>\n",
       "      <td>0.1100</td>\n",
       "      <td>0.240</td>\n",
       "      <td>0.4500</td>\n",
       "      <td>1.0</td>\n",
       "    </tr>\n",
       "    <tr>\n",
       "      <th>PctLess9thGrade</th>\n",
       "      <td>1495.0</td>\n",
       "      <td>0.318201</td>\n",
       "      <td>0.215811</td>\n",
       "      <td>0.00</td>\n",
       "      <td>0.1600</td>\n",
       "      <td>0.270</td>\n",
       "      <td>0.4200</td>\n",
       "      <td>1.0</td>\n",
       "    </tr>\n",
       "    <tr>\n",
       "      <th>...</th>\n",
       "      <td>...</td>\n",
       "      <td>...</td>\n",
       "      <td>...</td>\n",
       "      <td>...</td>\n",
       "      <td>...</td>\n",
       "      <td>...</td>\n",
       "      <td>...</td>\n",
       "      <td>...</td>\n",
       "    </tr>\n",
       "    <tr>\n",
       "      <th>PctBornSameState</th>\n",
       "      <td>1495.0</td>\n",
       "      <td>0.609391</td>\n",
       "      <td>0.203908</td>\n",
       "      <td>0.00</td>\n",
       "      <td>0.4700</td>\n",
       "      <td>0.630</td>\n",
       "      <td>0.7700</td>\n",
       "      <td>1.0</td>\n",
       "    </tr>\n",
       "    <tr>\n",
       "      <th>PctSameHouse85</th>\n",
       "      <td>1495.0</td>\n",
       "      <td>0.535967</td>\n",
       "      <td>0.179911</td>\n",
       "      <td>0.00</td>\n",
       "      <td>0.4250</td>\n",
       "      <td>0.540</td>\n",
       "      <td>0.6600</td>\n",
       "      <td>1.0</td>\n",
       "    </tr>\n",
       "    <tr>\n",
       "      <th>PctSameCity85</th>\n",
       "      <td>1495.0</td>\n",
       "      <td>0.628221</td>\n",
       "      <td>0.199217</td>\n",
       "      <td>0.00</td>\n",
       "      <td>0.5200</td>\n",
       "      <td>0.670</td>\n",
       "      <td>0.7700</td>\n",
       "      <td>1.0</td>\n",
       "    </tr>\n",
       "    <tr>\n",
       "      <th>PctSameState85</th>\n",
       "      <td>1495.0</td>\n",
       "      <td>0.655538</td>\n",
       "      <td>0.194837</td>\n",
       "      <td>0.00</td>\n",
       "      <td>0.5600</td>\n",
       "      <td>0.710</td>\n",
       "      <td>0.7900</td>\n",
       "      <td>1.0</td>\n",
       "    </tr>\n",
       "    <tr>\n",
       "      <th>LemasSwornFT</th>\n",
       "      <td>242.0</td>\n",
       "      <td>0.066529</td>\n",
       "      <td>0.135247</td>\n",
       "      <td>0.00</td>\n",
       "      <td>0.0100</td>\n",
       "      <td>0.020</td>\n",
       "      <td>0.0500</td>\n",
       "      <td>1.0</td>\n",
       "    </tr>\n",
       "    <tr>\n",
       "      <th>LemasSwFTPerPop</th>\n",
       "      <td>242.0</td>\n",
       "      <td>0.217273</td>\n",
       "      <td>0.158096</td>\n",
       "      <td>0.00</td>\n",
       "      <td>0.1300</td>\n",
       "      <td>0.180</td>\n",
       "      <td>0.2500</td>\n",
       "      <td>1.0</td>\n",
       "    </tr>\n",
       "    <tr>\n",
       "      <th>LemasSwFTFieldOps</th>\n",
       "      <td>242.0</td>\n",
       "      <td>0.927273</td>\n",
       "      <td>0.129899</td>\n",
       "      <td>0.00</td>\n",
       "      <td>0.9400</td>\n",
       "      <td>0.970</td>\n",
       "      <td>0.9800</td>\n",
       "      <td>1.0</td>\n",
       "    </tr>\n",
       "    <tr>\n",
       "      <th>LemasSwFTFieldPerPop</th>\n",
       "      <td>242.0</td>\n",
       "      <td>0.246860</td>\n",
       "      <td>0.155686</td>\n",
       "      <td>0.00</td>\n",
       "      <td>0.1600</td>\n",
       "      <td>0.210</td>\n",
       "      <td>0.2875</td>\n",
       "      <td>1.0</td>\n",
       "    </tr>\n",
       "    <tr>\n",
       "      <th>LemasTotalReq</th>\n",
       "      <td>242.0</td>\n",
       "      <td>0.093223</td>\n",
       "      <td>0.157376</td>\n",
       "      <td>0.00</td>\n",
       "      <td>0.0200</td>\n",
       "      <td>0.040</td>\n",
       "      <td>0.0800</td>\n",
       "      <td>1.0</td>\n",
       "    </tr>\n",
       "    <tr>\n",
       "      <th>LemasTotReqPerPop</th>\n",
       "      <td>242.0</td>\n",
       "      <td>0.211694</td>\n",
       "      <td>0.168978</td>\n",
       "      <td>0.00</td>\n",
       "      <td>0.1200</td>\n",
       "      <td>0.170</td>\n",
       "      <td>0.2375</td>\n",
       "      <td>1.0</td>\n",
       "    </tr>\n",
       "    <tr>\n",
       "      <th>PolicReqPerOffic</th>\n",
       "      <td>242.0</td>\n",
       "      <td>0.338802</td>\n",
       "      <td>0.198911</td>\n",
       "      <td>0.00</td>\n",
       "      <td>0.2200</td>\n",
       "      <td>0.280</td>\n",
       "      <td>0.4300</td>\n",
       "      <td>1.0</td>\n",
       "    </tr>\n",
       "    <tr>\n",
       "      <th>PolicPerPop</th>\n",
       "      <td>242.0</td>\n",
       "      <td>0.217314</td>\n",
       "      <td>0.158113</td>\n",
       "      <td>0.00</td>\n",
       "      <td>0.1300</td>\n",
       "      <td>0.180</td>\n",
       "      <td>0.2500</td>\n",
       "      <td>1.0</td>\n",
       "    </tr>\n",
       "    <tr>\n",
       "      <th>RacialMatchCommPol</th>\n",
       "      <td>242.0</td>\n",
       "      <td>0.689132</td>\n",
       "      <td>0.229404</td>\n",
       "      <td>0.00</td>\n",
       "      <td>0.5525</td>\n",
       "      <td>0.750</td>\n",
       "      <td>0.8600</td>\n",
       "      <td>1.0</td>\n",
       "    </tr>\n",
       "    <tr>\n",
       "      <th>PctPolicWhite</th>\n",
       "      <td>242.0</td>\n",
       "      <td>0.717851</td>\n",
       "      <td>0.231725</td>\n",
       "      <td>0.00</td>\n",
       "      <td>0.6100</td>\n",
       "      <td>0.770</td>\n",
       "      <td>0.8900</td>\n",
       "      <td>1.0</td>\n",
       "    </tr>\n",
       "    <tr>\n",
       "      <th>PctPolicBlack</th>\n",
       "      <td>242.0</td>\n",
       "      <td>0.226653</td>\n",
       "      <td>0.244265</td>\n",
       "      <td>0.00</td>\n",
       "      <td>0.0500</td>\n",
       "      <td>0.130</td>\n",
       "      <td>0.3550</td>\n",
       "      <td>1.0</td>\n",
       "    </tr>\n",
       "    <tr>\n",
       "      <th>PctPolicHisp</th>\n",
       "      <td>242.0</td>\n",
       "      <td>0.141116</td>\n",
       "      <td>0.205428</td>\n",
       "      <td>0.00</td>\n",
       "      <td>0.0100</td>\n",
       "      <td>0.055</td>\n",
       "      <td>0.1775</td>\n",
       "      <td>1.0</td>\n",
       "    </tr>\n",
       "    <tr>\n",
       "      <th>PctPolicAsian</th>\n",
       "      <td>242.0</td>\n",
       "      <td>0.119711</td>\n",
       "      <td>0.230259</td>\n",
       "      <td>0.00</td>\n",
       "      <td>0.0000</td>\n",
       "      <td>0.000</td>\n",
       "      <td>0.1300</td>\n",
       "      <td>1.0</td>\n",
       "    </tr>\n",
       "    <tr>\n",
       "      <th>PctPolicMinor</th>\n",
       "      <td>242.0</td>\n",
       "      <td>0.269215</td>\n",
       "      <td>0.238202</td>\n",
       "      <td>0.00</td>\n",
       "      <td>0.0800</td>\n",
       "      <td>0.210</td>\n",
       "      <td>0.3575</td>\n",
       "      <td>1.0</td>\n",
       "    </tr>\n",
       "    <tr>\n",
       "      <th>OfficAssgnDrugUnits</th>\n",
       "      <td>242.0</td>\n",
       "      <td>0.073802</td>\n",
       "      <td>0.117941</td>\n",
       "      <td>0.00</td>\n",
       "      <td>0.0200</td>\n",
       "      <td>0.040</td>\n",
       "      <td>0.0800</td>\n",
       "      <td>1.0</td>\n",
       "    </tr>\n",
       "    <tr>\n",
       "      <th>NumKindsDrugsSeiz</th>\n",
       "      <td>242.0</td>\n",
       "      <td>0.562893</td>\n",
       "      <td>0.203204</td>\n",
       "      <td>0.00</td>\n",
       "      <td>0.4300</td>\n",
       "      <td>0.570</td>\n",
       "      <td>0.7100</td>\n",
       "      <td>1.0</td>\n",
       "    </tr>\n",
       "    <tr>\n",
       "      <th>PolicAveOTWorked</th>\n",
       "      <td>242.0</td>\n",
       "      <td>0.307893</td>\n",
       "      <td>0.232727</td>\n",
       "      <td>0.00</td>\n",
       "      <td>0.1400</td>\n",
       "      <td>0.250</td>\n",
       "      <td>0.4175</td>\n",
       "      <td>1.0</td>\n",
       "    </tr>\n",
       "    <tr>\n",
       "      <th>LandArea</th>\n",
       "      <td>1495.0</td>\n",
       "      <td>0.063766</td>\n",
       "      <td>0.103681</td>\n",
       "      <td>0.00</td>\n",
       "      <td>0.0200</td>\n",
       "      <td>0.040</td>\n",
       "      <td>0.0700</td>\n",
       "      <td>1.0</td>\n",
       "    </tr>\n",
       "    <tr>\n",
       "      <th>PopDens</th>\n",
       "      <td>1495.0</td>\n",
       "      <td>0.234067</td>\n",
       "      <td>0.204418</td>\n",
       "      <td>0.00</td>\n",
       "      <td>0.1000</td>\n",
       "      <td>0.170</td>\n",
       "      <td>0.2800</td>\n",
       "      <td>1.0</td>\n",
       "    </tr>\n",
       "    <tr>\n",
       "      <th>PctUsePubTrans</th>\n",
       "      <td>1495.0</td>\n",
       "      <td>0.163853</td>\n",
       "      <td>0.231840</td>\n",
       "      <td>0.00</td>\n",
       "      <td>0.0200</td>\n",
       "      <td>0.070</td>\n",
       "      <td>0.1900</td>\n",
       "      <td>1.0</td>\n",
       "    </tr>\n",
       "    <tr>\n",
       "      <th>PolicCars</th>\n",
       "      <td>242.0</td>\n",
       "      <td>0.156116</td>\n",
       "      <td>0.208316</td>\n",
       "      <td>0.00</td>\n",
       "      <td>0.0400</td>\n",
       "      <td>0.070</td>\n",
       "      <td>0.1800</td>\n",
       "      <td>1.0</td>\n",
       "    </tr>\n",
       "    <tr>\n",
       "      <th>PolicOperBudg</th>\n",
       "      <td>242.0</td>\n",
       "      <td>0.072975</td>\n",
       "      <td>0.137365</td>\n",
       "      <td>0.00</td>\n",
       "      <td>0.0200</td>\n",
       "      <td>0.030</td>\n",
       "      <td>0.0600</td>\n",
       "      <td>1.0</td>\n",
       "    </tr>\n",
       "    <tr>\n",
       "      <th>LemasPctPolicOnPatr</th>\n",
       "      <td>242.0</td>\n",
       "      <td>0.707686</td>\n",
       "      <td>0.211007</td>\n",
       "      <td>0.00</td>\n",
       "      <td>0.6300</td>\n",
       "      <td>0.760</td>\n",
       "      <td>0.8475</td>\n",
       "      <td>1.0</td>\n",
       "    </tr>\n",
       "    <tr>\n",
       "      <th>LemasGangUnitDeploy</th>\n",
       "      <td>242.0</td>\n",
       "      <td>0.448347</td>\n",
       "      <td>0.412986</td>\n",
       "      <td>0.00</td>\n",
       "      <td>0.0000</td>\n",
       "      <td>0.500</td>\n",
       "      <td>1.0000</td>\n",
       "      <td>1.0</td>\n",
       "    </tr>\n",
       "    <tr>\n",
       "      <th>LemasPctOfficDrugUn</th>\n",
       "      <td>1495.0</td>\n",
       "      <td>0.095244</td>\n",
       "      <td>0.239836</td>\n",
       "      <td>0.00</td>\n",
       "      <td>0.0000</td>\n",
       "      <td>0.000</td>\n",
       "      <td>0.0000</td>\n",
       "      <td>1.0</td>\n",
       "    </tr>\n",
       "    <tr>\n",
       "      <th>PolicBudgPerPop</th>\n",
       "      <td>242.0</td>\n",
       "      <td>0.192603</td>\n",
       "      <td>0.162195</td>\n",
       "      <td>0.00</td>\n",
       "      <td>0.1100</td>\n",
       "      <td>0.150</td>\n",
       "      <td>0.2200</td>\n",
       "      <td>1.0</td>\n",
       "    </tr>\n",
       "  </tbody>\n",
       "</table>\n",
       "<p>122 rows × 8 columns</p>\n",
       "</div>"
      ],
      "text/plain": [
       "                       count      mean       std   min     25%    50%     75%  \\\n",
       "population            1495.0  0.056883  0.122571  0.00  0.0100  0.020  0.0600   \n",
       "householdsize         1495.0  0.464074  0.165073  0.00  0.3500  0.440  0.5400   \n",
       "racepctblack          1495.0  0.177331  0.252775  0.00  0.0200  0.060  0.2200   \n",
       "racePctWhite          1495.0  0.752020  0.246175  0.00  0.6300  0.840  0.9400   \n",
       "racePctAsian          1495.0  0.153860  0.211290  0.00  0.0400  0.070  0.1600   \n",
       "racePctHisp           1495.0  0.150843  0.239894  0.00  0.0150  0.040  0.1650   \n",
       "agePct12t21           1495.0  0.423157  0.153432  0.00  0.3300  0.400  0.4800   \n",
       "agePct12t29           1495.0  0.493331  0.142199  0.00  0.4100  0.480  0.5400   \n",
       "agePct16t24           1495.0  0.335097  0.163870  0.00  0.2500  0.290  0.3600   \n",
       "agePct65up            1495.0  0.423880  0.179779  0.00  0.3000  0.420  0.5300   \n",
       "numbUrban             1495.0  0.063438  0.124029  0.00  0.0000  0.030  0.0700   \n",
       "pctUrban              1495.0  0.700508  0.442880  0.00  0.0000  1.000  1.0000   \n",
       "medIncome             1495.0  0.360676  0.207475  0.00  0.2000  0.320  0.4900   \n",
       "pctWWage              1495.0  0.557719  0.182848  0.00  0.4500  0.570  0.6900   \n",
       "pctWFarmSelf          1495.0  0.294040  0.207067  0.00  0.1500  0.230  0.3700   \n",
       "pctWInvInc            1495.0  0.495585  0.179209  0.00  0.3650  0.480  0.6200   \n",
       "pctWSocSec            1495.0  0.471625  0.173880  0.00  0.3500  0.480  0.5800   \n",
       "pctWPubAsst           1495.0  0.318207  0.223364  0.01  0.1400  0.260  0.4400   \n",
       "pctWRetire            1495.0  0.480823  0.168086  0.00  0.3600  0.470  0.5900   \n",
       "medFamInc             1495.0  0.375030  0.196597  0.00  0.2300  0.330  0.4800   \n",
       "perCapInc             1495.0  0.349244  0.189196  0.00  0.2200  0.300  0.4300   \n",
       "whitePerCap           1495.0  0.367338  0.185614  0.00  0.2400  0.320  0.4400   \n",
       "blackPerCap           1495.0  0.293204  0.175106  0.00  0.1800  0.250  0.3800   \n",
       "indianPerCap          1495.0  0.201251  0.161950  0.00  0.1100  0.170  0.2500   \n",
       "AsianPerCap           1495.0  0.320381  0.195006  0.00  0.1900  0.280  0.4000   \n",
       "OtherPerCap           1494.0  0.284485  0.188322  0.00  0.1700  0.260  0.3600   \n",
       "HispPerCap            1495.0  0.385666  0.180306  0.00  0.2600  0.340  0.4800   \n",
       "NumUnderPov           1495.0  0.055231  0.126146  0.00  0.0100  0.020  0.0500   \n",
       "PctPopUnderPov        1495.0  0.304167  0.230261  0.00  0.1100  0.240  0.4500   \n",
       "PctLess9thGrade       1495.0  0.318201  0.215811  0.00  0.1600  0.270  0.4200   \n",
       "...                      ...       ...       ...   ...     ...    ...     ...   \n",
       "PctBornSameState      1495.0  0.609391  0.203908  0.00  0.4700  0.630  0.7700   \n",
       "PctSameHouse85        1495.0  0.535967  0.179911  0.00  0.4250  0.540  0.6600   \n",
       "PctSameCity85         1495.0  0.628221  0.199217  0.00  0.5200  0.670  0.7700   \n",
       "PctSameState85        1495.0  0.655538  0.194837  0.00  0.5600  0.710  0.7900   \n",
       "LemasSwornFT           242.0  0.066529  0.135247  0.00  0.0100  0.020  0.0500   \n",
       "LemasSwFTPerPop        242.0  0.217273  0.158096  0.00  0.1300  0.180  0.2500   \n",
       "LemasSwFTFieldOps      242.0  0.927273  0.129899  0.00  0.9400  0.970  0.9800   \n",
       "LemasSwFTFieldPerPop   242.0  0.246860  0.155686  0.00  0.1600  0.210  0.2875   \n",
       "LemasTotalReq          242.0  0.093223  0.157376  0.00  0.0200  0.040  0.0800   \n",
       "LemasTotReqPerPop      242.0  0.211694  0.168978  0.00  0.1200  0.170  0.2375   \n",
       "PolicReqPerOffic       242.0  0.338802  0.198911  0.00  0.2200  0.280  0.4300   \n",
       "PolicPerPop            242.0  0.217314  0.158113  0.00  0.1300  0.180  0.2500   \n",
       "RacialMatchCommPol     242.0  0.689132  0.229404  0.00  0.5525  0.750  0.8600   \n",
       "PctPolicWhite          242.0  0.717851  0.231725  0.00  0.6100  0.770  0.8900   \n",
       "PctPolicBlack          242.0  0.226653  0.244265  0.00  0.0500  0.130  0.3550   \n",
       "PctPolicHisp           242.0  0.141116  0.205428  0.00  0.0100  0.055  0.1775   \n",
       "PctPolicAsian          242.0  0.119711  0.230259  0.00  0.0000  0.000  0.1300   \n",
       "PctPolicMinor          242.0  0.269215  0.238202  0.00  0.0800  0.210  0.3575   \n",
       "OfficAssgnDrugUnits    242.0  0.073802  0.117941  0.00  0.0200  0.040  0.0800   \n",
       "NumKindsDrugsSeiz      242.0  0.562893  0.203204  0.00  0.4300  0.570  0.7100   \n",
       "PolicAveOTWorked       242.0  0.307893  0.232727  0.00  0.1400  0.250  0.4175   \n",
       "LandArea              1495.0  0.063766  0.103681  0.00  0.0200  0.040  0.0700   \n",
       "PopDens               1495.0  0.234067  0.204418  0.00  0.1000  0.170  0.2800   \n",
       "PctUsePubTrans        1495.0  0.163853  0.231840  0.00  0.0200  0.070  0.1900   \n",
       "PolicCars              242.0  0.156116  0.208316  0.00  0.0400  0.070  0.1800   \n",
       "PolicOperBudg          242.0  0.072975  0.137365  0.00  0.0200  0.030  0.0600   \n",
       "LemasPctPolicOnPatr    242.0  0.707686  0.211007  0.00  0.6300  0.760  0.8475   \n",
       "LemasGangUnitDeploy    242.0  0.448347  0.412986  0.00  0.0000  0.500  1.0000   \n",
       "LemasPctOfficDrugUn   1495.0  0.095244  0.239836  0.00  0.0000  0.000  0.0000   \n",
       "PolicBudgPerPop        242.0  0.192603  0.162195  0.00  0.1100  0.150  0.2200   \n",
       "\n",
       "                      max  \n",
       "population            1.0  \n",
       "householdsize         1.0  \n",
       "racepctblack          1.0  \n",
       "racePctWhite          1.0  \n",
       "racePctAsian          1.0  \n",
       "racePctHisp           1.0  \n",
       "agePct12t21           1.0  \n",
       "agePct12t29           1.0  \n",
       "agePct16t24           1.0  \n",
       "agePct65up            1.0  \n",
       "numbUrban             1.0  \n",
       "pctUrban              1.0  \n",
       "medIncome             1.0  \n",
       "pctWWage              1.0  \n",
       "pctWFarmSelf          1.0  \n",
       "pctWInvInc            1.0  \n",
       "pctWSocSec            1.0  \n",
       "pctWPubAsst           1.0  \n",
       "pctWRetire            1.0  \n",
       "medFamInc             1.0  \n",
       "perCapInc             1.0  \n",
       "whitePerCap           1.0  \n",
       "blackPerCap           1.0  \n",
       "indianPerCap          1.0  \n",
       "AsianPerCap           1.0  \n",
       "OtherPerCap           1.0  \n",
       "HispPerCap            1.0  \n",
       "NumUnderPov           1.0  \n",
       "PctPopUnderPov        1.0  \n",
       "PctLess9thGrade       1.0  \n",
       "...                   ...  \n",
       "PctBornSameState      1.0  \n",
       "PctSameHouse85        1.0  \n",
       "PctSameCity85         1.0  \n",
       "PctSameState85        1.0  \n",
       "LemasSwornFT          1.0  \n",
       "LemasSwFTPerPop       1.0  \n",
       "LemasSwFTFieldOps     1.0  \n",
       "LemasSwFTFieldPerPop  1.0  \n",
       "LemasTotalReq         1.0  \n",
       "LemasTotReqPerPop     1.0  \n",
       "PolicReqPerOffic      1.0  \n",
       "PolicPerPop           1.0  \n",
       "RacialMatchCommPol    1.0  \n",
       "PctPolicWhite         1.0  \n",
       "PctPolicBlack         1.0  \n",
       "PctPolicHisp          1.0  \n",
       "PctPolicAsian         1.0  \n",
       "PctPolicMinor         1.0  \n",
       "OfficAssgnDrugUnits   1.0  \n",
       "NumKindsDrugsSeiz     1.0  \n",
       "PolicAveOTWorked      1.0  \n",
       "LandArea              1.0  \n",
       "PopDens               1.0  \n",
       "PctUsePubTrans        1.0  \n",
       "PolicCars             1.0  \n",
       "PolicOperBudg         1.0  \n",
       "LemasPctPolicOnPatr   1.0  \n",
       "LemasGangUnitDeploy   1.0  \n",
       "LemasPctOfficDrugUn   1.0  \n",
       "PolicBudgPerPop       1.0  \n",
       "\n",
       "[122 rows x 8 columns]"
      ]
     },
     "execution_count": 23,
     "metadata": {},
     "output_type": "execute_result"
    }
   ],
   "source": [
    "# Gives good overview summary \n",
    "# Sometimes easier to look at it transposed (T)\n",
    "X_train[numeric_predictors].describe().T"
   ]
  },
  {
   "cell_type": "markdown",
   "metadata": {},
   "source": [
    "##### Categorical"
   ]
  },
  {
   "cell_type": "code",
   "execution_count": 24,
   "metadata": {},
   "outputs": [
    {
     "name": "stdout",
     "output_type": "stream",
     "text": [
      "county\n",
      "3.0     58\n",
      "17.0    48\n",
      "9.0     34\n",
      "1.0     31\n",
      "7.0     28\n",
      "Name: county, dtype: int64\n",
      "community\n",
      "21344.0    2\n",
      "60120.0    2\n",
      "57000.0    2\n",
      "2060.0     2\n",
      "51000.0    2\n",
      "Name: community, dtype: int64\n",
      "fold\n",
      "6     155\n",
      "4     155\n",
      "5     154\n",
      "1     153\n",
      "10    152\n",
      "Name: fold, dtype: int64\n",
      "communityname\n",
      "Jacksonvillecity    5\n",
      "Greenvillecity      4\n",
      "Athenscity          4\n",
      "Columbuscity        3\n",
      "Milfordtown         3\n",
      "Name: communityname, dtype: int64\n"
     ]
    }
   ],
   "source": [
    "for col in categorical_predictors:\n",
    "    print col\n",
    "    print X_train[col].value_counts().head()"
   ]
  },
  {
   "cell_type": "markdown",
   "metadata": {},
   "source": [
    "Both `community` and `communityname` look like they are sliced too thin to be useful. `fold` is probably an index that was added for k-fold cross-validation. So it looks like the only real categorical variable is `county`. We'll leave `communityname` for now, just so we have more than one categorical variable."
   ]
  },
  {
   "cell_type": "code",
   "execution_count": 25,
   "metadata": {
    "collapsed": true
   },
   "outputs": [],
   "source": [
    "categorical_predictors = ['county', 'communityname']"
   ]
  },
  {
   "cell_type": "markdown",
   "metadata": {},
   "source": [
    "## Processing"
   ]
  },
  {
   "cell_type": "markdown",
   "metadata": {},
   "source": [
    "There are a few obvious things we would like to do with this data before we start trying different models."
   ]
  },
  {
   "cell_type": "markdown",
   "metadata": {},
   "source": [
    "1. Impute missing values. For categorical variables, this is easy, a good strategy is to just add a new level: '?'. For the continuous variables, we need to be a little bit more careful.\n",
    "- All of our sklearn learning algorithms only work with numeric data. We need to convert the categorical column to numeric, using either one-hot encoding or feature hashing.\n",
    "- Some learning algorithms are sensitive to scaling. We should try normalizing the numeric features.\n",
    "- This dataset has a relatively large number of features, compared to a small number of examples. We might want to try some dimensionality reduction (will be discussed in future classes).\n",
    "\n",
    "There are different strategies for the two feature types (numeric and categorical), so we will treat them individually."
   ]
  },
  {
   "cell_type": "markdown",
   "metadata": {},
   "source": [
    "## Numeric Feature Processing Pipeline"
   ]
  },
  {
   "cell_type": "markdown",
   "metadata": {},
   "source": [
    "For the continuous features, there are two main feature processing steps:\n",
    "1. Impute missing values\n",
    "2. Scale features to normalized z-scores.\n",
    "\n",
    "One can imagine other feature processing steps, e.g. dealing with outliers, discretization, etc., but we will stick with these for now"
   ]
  },
  {
   "cell_type": "code",
   "execution_count": 26,
   "metadata": {
    "collapsed": true
   },
   "outputs": [],
   "source": [
    "from sklearn.preprocessing import FunctionTransformer, StandardScaler, Imputer\n",
    "from sklearn.pipeline import Pipeline"
   ]
  },
  {
   "cell_type": "markdown",
   "metadata": {},
   "source": [
    "### Step 1: Select Numeric Features"
   ]
  },
  {
   "cell_type": "code",
   "execution_count": 29,
   "metadata": {},
   "outputs": [
    {
     "data": {
      "text/html": [
       "<div>\n",
       "<style>\n",
       "    .dataframe thead tr:only-child th {\n",
       "        text-align: right;\n",
       "    }\n",
       "\n",
       "    .dataframe thead th {\n",
       "        text-align: left;\n",
       "    }\n",
       "\n",
       "    .dataframe tbody tr th {\n",
       "        vertical-align: top;\n",
       "    }\n",
       "</style>\n",
       "<table border=\"1\" class=\"dataframe\">\n",
       "  <thead>\n",
       "    <tr style=\"text-align: right;\">\n",
       "      <th></th>\n",
       "      <th>population</th>\n",
       "      <th>householdsize</th>\n",
       "      <th>racepctblack</th>\n",
       "      <th>racePctWhite</th>\n",
       "      <th>racePctAsian</th>\n",
       "      <th>racePctHisp</th>\n",
       "      <th>agePct12t21</th>\n",
       "      <th>agePct12t29</th>\n",
       "      <th>agePct16t24</th>\n",
       "      <th>agePct65up</th>\n",
       "      <th>...</th>\n",
       "      <th>PolicAveOTWorked</th>\n",
       "      <th>LandArea</th>\n",
       "      <th>PopDens</th>\n",
       "      <th>PctUsePubTrans</th>\n",
       "      <th>PolicCars</th>\n",
       "      <th>PolicOperBudg</th>\n",
       "      <th>LemasPctPolicOnPatr</th>\n",
       "      <th>LemasGangUnitDeploy</th>\n",
       "      <th>LemasPctOfficDrugUn</th>\n",
       "      <th>PolicBudgPerPop</th>\n",
       "    </tr>\n",
       "  </thead>\n",
       "  <tbody>\n",
       "    <tr>\n",
       "      <th>55</th>\n",
       "      <td>0.01</td>\n",
       "      <td>0.36</td>\n",
       "      <td>0.01</td>\n",
       "      <td>0.97</td>\n",
       "      <td>0.04</td>\n",
       "      <td>0.04</td>\n",
       "      <td>0.35</td>\n",
       "      <td>0.47</td>\n",
       "      <td>0.28</td>\n",
       "      <td>0.47</td>\n",
       "      <td>...</td>\n",
       "      <td>NaN</td>\n",
       "      <td>0.01</td>\n",
       "      <td>0.33</td>\n",
       "      <td>0.26</td>\n",
       "      <td>NaN</td>\n",
       "      <td>NaN</td>\n",
       "      <td>NaN</td>\n",
       "      <td>NaN</td>\n",
       "      <td>0.0</td>\n",
       "      <td>NaN</td>\n",
       "    </tr>\n",
       "    <tr>\n",
       "      <th>35</th>\n",
       "      <td>0.01</td>\n",
       "      <td>0.67</td>\n",
       "      <td>0.02</td>\n",
       "      <td>0.23</td>\n",
       "      <td>0.07</td>\n",
       "      <td>0.64</td>\n",
       "      <td>0.46</td>\n",
       "      <td>0.49</td>\n",
       "      <td>0.27</td>\n",
       "      <td>0.21</td>\n",
       "      <td>...</td>\n",
       "      <td>NaN</td>\n",
       "      <td>0.03</td>\n",
       "      <td>0.14</td>\n",
       "      <td>0.01</td>\n",
       "      <td>NaN</td>\n",
       "      <td>NaN</td>\n",
       "      <td>NaN</td>\n",
       "      <td>NaN</td>\n",
       "      <td>0.0</td>\n",
       "      <td>NaN</td>\n",
       "    </tr>\n",
       "    <tr>\n",
       "      <th>6</th>\n",
       "      <td>0.05</td>\n",
       "      <td>0.46</td>\n",
       "      <td>0.02</td>\n",
       "      <td>0.88</td>\n",
       "      <td>0.20</td>\n",
       "      <td>0.17</td>\n",
       "      <td>0.35</td>\n",
       "      <td>0.40</td>\n",
       "      <td>0.24</td>\n",
       "      <td>0.36</td>\n",
       "      <td>...</td>\n",
       "      <td>NaN</td>\n",
       "      <td>0.03</td>\n",
       "      <td>0.29</td>\n",
       "      <td>0.24</td>\n",
       "      <td>NaN</td>\n",
       "      <td>NaN</td>\n",
       "      <td>NaN</td>\n",
       "      <td>NaN</td>\n",
       "      <td>0.0</td>\n",
       "      <td>NaN</td>\n",
       "    </tr>\n",
       "    <tr>\n",
       "      <th>13</th>\n",
       "      <td>0.01</td>\n",
       "      <td>0.36</td>\n",
       "      <td>0.95</td>\n",
       "      <td>0.24</td>\n",
       "      <td>0.03</td>\n",
       "      <td>0.01</td>\n",
       "      <td>0.44</td>\n",
       "      <td>0.42</td>\n",
       "      <td>0.27</td>\n",
       "      <td>0.63</td>\n",
       "      <td>...</td>\n",
       "      <td>NaN</td>\n",
       "      <td>0.03</td>\n",
       "      <td>0.12</td>\n",
       "      <td>0.01</td>\n",
       "      <td>NaN</td>\n",
       "      <td>NaN</td>\n",
       "      <td>NaN</td>\n",
       "      <td>NaN</td>\n",
       "      <td>0.0</td>\n",
       "      <td>NaN</td>\n",
       "    </tr>\n",
       "    <tr>\n",
       "      <th>48</th>\n",
       "      <td>0.06</td>\n",
       "      <td>0.38</td>\n",
       "      <td>0.33</td>\n",
       "      <td>0.59</td>\n",
       "      <td>0.05</td>\n",
       "      <td>0.25</td>\n",
       "      <td>0.36</td>\n",
       "      <td>0.45</td>\n",
       "      <td>0.28</td>\n",
       "      <td>0.52</td>\n",
       "      <td>...</td>\n",
       "      <td>NaN</td>\n",
       "      <td>0.12</td>\n",
       "      <td>0.09</td>\n",
       "      <td>0.01</td>\n",
       "      <td>NaN</td>\n",
       "      <td>NaN</td>\n",
       "      <td>NaN</td>\n",
       "      <td>NaN</td>\n",
       "      <td>0.0</td>\n",
       "      <td>NaN</td>\n",
       "    </tr>\n",
       "  </tbody>\n",
       "</table>\n",
       "<p>5 rows × 122 columns</p>\n",
       "</div>"
      ],
      "text/plain": [
       "    population  householdsize  racepctblack  racePctWhite  racePctAsian  \\\n",
       "55        0.01           0.36          0.01          0.97          0.04   \n",
       "35        0.01           0.67          0.02          0.23          0.07   \n",
       "6         0.05           0.46          0.02          0.88          0.20   \n",
       "13        0.01           0.36          0.95          0.24          0.03   \n",
       "48        0.06           0.38          0.33          0.59          0.05   \n",
       "\n",
       "    racePctHisp  agePct12t21  agePct12t29  agePct16t24  agePct65up  \\\n",
       "55         0.04         0.35         0.47         0.28        0.47   \n",
       "35         0.64         0.46         0.49         0.27        0.21   \n",
       "6          0.17         0.35         0.40         0.24        0.36   \n",
       "13         0.01         0.44         0.42         0.27        0.63   \n",
       "48         0.25         0.36         0.45         0.28        0.52   \n",
       "\n",
       "         ...         PolicAveOTWorked  LandArea  PopDens  PctUsePubTrans  \\\n",
       "55       ...                      NaN      0.01     0.33            0.26   \n",
       "35       ...                      NaN      0.03     0.14            0.01   \n",
       "6        ...                      NaN      0.03     0.29            0.24   \n",
       "13       ...                      NaN      0.03     0.12            0.01   \n",
       "48       ...                      NaN      0.12     0.09            0.01   \n",
       "\n",
       "    PolicCars  PolicOperBudg  LemasPctPolicOnPatr  LemasGangUnitDeploy  \\\n",
       "55        NaN            NaN                  NaN                  NaN   \n",
       "35        NaN            NaN                  NaN                  NaN   \n",
       "6         NaN            NaN                  NaN                  NaN   \n",
       "13        NaN            NaN                  NaN                  NaN   \n",
       "48        NaN            NaN                  NaN                  NaN   \n",
       "\n",
       "    LemasPctOfficDrugUn  PolicBudgPerPop  \n",
       "55                  0.0              NaN  \n",
       "35                  0.0              NaN  \n",
       "6                   0.0              NaN  \n",
       "13                  0.0              NaN  \n",
       "48                  0.0              NaN  \n",
       "\n",
       "[5 rows x 122 columns]"
      ]
     },
     "execution_count": 29,
     "metadata": {},
     "output_type": "execute_result"
    }
   ],
   "source": [
    "X_train_numeric = X_train[numeric_predictors]\n",
    "X_train_numeric.head()"
   ]
  },
  {
   "cell_type": "code",
   "execution_count": 33,
   "metadata": {
    "collapsed": true
   },
   "outputs": [],
   "source": [
    "# define a function to select numeric predictors\n",
    "def select_numeric_features(X):\n",
    "    return X[numeric_predictors]\n",
    "\n",
    "# Pass this function to the Function Transformer to complete transformation step\n",
    "numeric_selector = FunctionTransformer(select_numeric_features, validate=False)\n",
    "# creates and object (numeric_selector) to do fit and transform\n",
    "# inherits all the functions that the scikit learn object has\n"
   ]
  },
  {
   "cell_type": "code",
   "execution_count": 34,
   "metadata": {},
   "outputs": [
    {
     "data": {
      "text/html": [
       "<div>\n",
       "<style>\n",
       "    .dataframe thead tr:only-child th {\n",
       "        text-align: right;\n",
       "    }\n",
       "\n",
       "    .dataframe thead th {\n",
       "        text-align: left;\n",
       "    }\n",
       "\n",
       "    .dataframe tbody tr th {\n",
       "        vertical-align: top;\n",
       "    }\n",
       "</style>\n",
       "<table border=\"1\" class=\"dataframe\">\n",
       "  <thead>\n",
       "    <tr style=\"text-align: right;\">\n",
       "      <th></th>\n",
       "      <th>population</th>\n",
       "      <th>householdsize</th>\n",
       "      <th>racepctblack</th>\n",
       "      <th>racePctWhite</th>\n",
       "      <th>racePctAsian</th>\n",
       "      <th>racePctHisp</th>\n",
       "      <th>agePct12t21</th>\n",
       "      <th>agePct12t29</th>\n",
       "      <th>agePct16t24</th>\n",
       "      <th>agePct65up</th>\n",
       "      <th>...</th>\n",
       "      <th>PolicAveOTWorked</th>\n",
       "      <th>LandArea</th>\n",
       "      <th>PopDens</th>\n",
       "      <th>PctUsePubTrans</th>\n",
       "      <th>PolicCars</th>\n",
       "      <th>PolicOperBudg</th>\n",
       "      <th>LemasPctPolicOnPatr</th>\n",
       "      <th>LemasGangUnitDeploy</th>\n",
       "      <th>LemasPctOfficDrugUn</th>\n",
       "      <th>PolicBudgPerPop</th>\n",
       "    </tr>\n",
       "  </thead>\n",
       "  <tbody>\n",
       "    <tr>\n",
       "      <th>55</th>\n",
       "      <td>0.01</td>\n",
       "      <td>0.36</td>\n",
       "      <td>0.01</td>\n",
       "      <td>0.97</td>\n",
       "      <td>0.04</td>\n",
       "      <td>0.04</td>\n",
       "      <td>0.35</td>\n",
       "      <td>0.47</td>\n",
       "      <td>0.28</td>\n",
       "      <td>0.47</td>\n",
       "      <td>...</td>\n",
       "      <td>NaN</td>\n",
       "      <td>0.01</td>\n",
       "      <td>0.33</td>\n",
       "      <td>0.26</td>\n",
       "      <td>NaN</td>\n",
       "      <td>NaN</td>\n",
       "      <td>NaN</td>\n",
       "      <td>NaN</td>\n",
       "      <td>0.0</td>\n",
       "      <td>NaN</td>\n",
       "    </tr>\n",
       "    <tr>\n",
       "      <th>35</th>\n",
       "      <td>0.01</td>\n",
       "      <td>0.67</td>\n",
       "      <td>0.02</td>\n",
       "      <td>0.23</td>\n",
       "      <td>0.07</td>\n",
       "      <td>0.64</td>\n",
       "      <td>0.46</td>\n",
       "      <td>0.49</td>\n",
       "      <td>0.27</td>\n",
       "      <td>0.21</td>\n",
       "      <td>...</td>\n",
       "      <td>NaN</td>\n",
       "      <td>0.03</td>\n",
       "      <td>0.14</td>\n",
       "      <td>0.01</td>\n",
       "      <td>NaN</td>\n",
       "      <td>NaN</td>\n",
       "      <td>NaN</td>\n",
       "      <td>NaN</td>\n",
       "      <td>0.0</td>\n",
       "      <td>NaN</td>\n",
       "    </tr>\n",
       "    <tr>\n",
       "      <th>6</th>\n",
       "      <td>0.05</td>\n",
       "      <td>0.46</td>\n",
       "      <td>0.02</td>\n",
       "      <td>0.88</td>\n",
       "      <td>0.20</td>\n",
       "      <td>0.17</td>\n",
       "      <td>0.35</td>\n",
       "      <td>0.40</td>\n",
       "      <td>0.24</td>\n",
       "      <td>0.36</td>\n",
       "      <td>...</td>\n",
       "      <td>NaN</td>\n",
       "      <td>0.03</td>\n",
       "      <td>0.29</td>\n",
       "      <td>0.24</td>\n",
       "      <td>NaN</td>\n",
       "      <td>NaN</td>\n",
       "      <td>NaN</td>\n",
       "      <td>NaN</td>\n",
       "      <td>0.0</td>\n",
       "      <td>NaN</td>\n",
       "    </tr>\n",
       "    <tr>\n",
       "      <th>13</th>\n",
       "      <td>0.01</td>\n",
       "      <td>0.36</td>\n",
       "      <td>0.95</td>\n",
       "      <td>0.24</td>\n",
       "      <td>0.03</td>\n",
       "      <td>0.01</td>\n",
       "      <td>0.44</td>\n",
       "      <td>0.42</td>\n",
       "      <td>0.27</td>\n",
       "      <td>0.63</td>\n",
       "      <td>...</td>\n",
       "      <td>NaN</td>\n",
       "      <td>0.03</td>\n",
       "      <td>0.12</td>\n",
       "      <td>0.01</td>\n",
       "      <td>NaN</td>\n",
       "      <td>NaN</td>\n",
       "      <td>NaN</td>\n",
       "      <td>NaN</td>\n",
       "      <td>0.0</td>\n",
       "      <td>NaN</td>\n",
       "    </tr>\n",
       "    <tr>\n",
       "      <th>48</th>\n",
       "      <td>0.06</td>\n",
       "      <td>0.38</td>\n",
       "      <td>0.33</td>\n",
       "      <td>0.59</td>\n",
       "      <td>0.05</td>\n",
       "      <td>0.25</td>\n",
       "      <td>0.36</td>\n",
       "      <td>0.45</td>\n",
       "      <td>0.28</td>\n",
       "      <td>0.52</td>\n",
       "      <td>...</td>\n",
       "      <td>NaN</td>\n",
       "      <td>0.12</td>\n",
       "      <td>0.09</td>\n",
       "      <td>0.01</td>\n",
       "      <td>NaN</td>\n",
       "      <td>NaN</td>\n",
       "      <td>NaN</td>\n",
       "      <td>NaN</td>\n",
       "      <td>0.0</td>\n",
       "      <td>NaN</td>\n",
       "    </tr>\n",
       "  </tbody>\n",
       "</table>\n",
       "<p>5 rows × 122 columns</p>\n",
       "</div>"
      ],
      "text/plain": [
       "    population  householdsize  racepctblack  racePctWhite  racePctAsian  \\\n",
       "55        0.01           0.36          0.01          0.97          0.04   \n",
       "35        0.01           0.67          0.02          0.23          0.07   \n",
       "6         0.05           0.46          0.02          0.88          0.20   \n",
       "13        0.01           0.36          0.95          0.24          0.03   \n",
       "48        0.06           0.38          0.33          0.59          0.05   \n",
       "\n",
       "    racePctHisp  agePct12t21  agePct12t29  agePct16t24  agePct65up  \\\n",
       "55         0.04         0.35         0.47         0.28        0.47   \n",
       "35         0.64         0.46         0.49         0.27        0.21   \n",
       "6          0.17         0.35         0.40         0.24        0.36   \n",
       "13         0.01         0.44         0.42         0.27        0.63   \n",
       "48         0.25         0.36         0.45         0.28        0.52   \n",
       "\n",
       "         ...         PolicAveOTWorked  LandArea  PopDens  PctUsePubTrans  \\\n",
       "55       ...                      NaN      0.01     0.33            0.26   \n",
       "35       ...                      NaN      0.03     0.14            0.01   \n",
       "6        ...                      NaN      0.03     0.29            0.24   \n",
       "13       ...                      NaN      0.03     0.12            0.01   \n",
       "48       ...                      NaN      0.12     0.09            0.01   \n",
       "\n",
       "    PolicCars  PolicOperBudg  LemasPctPolicOnPatr  LemasGangUnitDeploy  \\\n",
       "55        NaN            NaN                  NaN                  NaN   \n",
       "35        NaN            NaN                  NaN                  NaN   \n",
       "6         NaN            NaN                  NaN                  NaN   \n",
       "13        NaN            NaN                  NaN                  NaN   \n",
       "48        NaN            NaN                  NaN                  NaN   \n",
       "\n",
       "    LemasPctOfficDrugUn  PolicBudgPerPop  \n",
       "55                  0.0              NaN  \n",
       "35                  0.0              NaN  \n",
       "6                   0.0              NaN  \n",
       "13                  0.0              NaN  \n",
       "48                  0.0              NaN  \n",
       "\n",
       "[5 rows x 122 columns]"
      ]
     },
     "execution_count": 34,
     "metadata": {},
     "output_type": "execute_result"
    }
   ],
   "source": [
    "X_train_numeric = numeric_selector.fit_transform(X_train)\n",
    "X_train_numeric.head()"
   ]
  },
  {
   "cell_type": "markdown",
   "metadata": {},
   "source": [
    "### Step 2: Impute missing values"
   ]
  },
  {
   "cell_type": "code",
   "execution_count": 35,
   "metadata": {},
   "outputs": [
    {
     "data": {
      "text/plain": [
       "Imputer(axis=0, copy=True, missing_values='NaN', strategy='mean', verbose=0)"
      ]
     },
     "execution_count": 35,
     "metadata": {},
     "output_type": "execute_result"
    }
   ],
   "source": [
    "imp = Imputer(strategy='mean') #instansiate it\n",
    "imp.fit(X_train_numeric) # fit the model with only the numeric features"
   ]
  },
  {
   "cell_type": "code",
   "execution_count": 41,
   "metadata": {},
   "outputs": [
    {
     "data": {
      "text/plain": [
       "array([[ 0.01,  0.36,  0.01,  0.97,  0.04,  0.04,  0.35,  0.47,  0.28,\n",
       "         0.47],\n",
       "       [ 0.01,  0.67,  0.02,  0.23,  0.07,  0.64,  0.46,  0.49,  0.27,\n",
       "         0.21],\n",
       "       [ 0.05,  0.46,  0.02,  0.88,  0.2 ,  0.17,  0.35,  0.4 ,  0.24,\n",
       "         0.36],\n",
       "       [ 0.01,  0.36,  0.95,  0.24,  0.03,  0.01,  0.44,  0.42,  0.27,\n",
       "         0.63],\n",
       "       [ 0.06,  0.38,  0.33,  0.59,  0.05,  0.25,  0.36,  0.45,  0.28,\n",
       "         0.52]])"
      ]
     },
     "execution_count": 41,
     "metadata": {},
     "output_type": "execute_result"
    }
   ],
   "source": [
    "X_train_imputed = imp.transform(X_train_numeric)\n",
    "# X_train_imputed = imp.fit_transform(X_train_numeric)\n",
    "X_train_imputed[:5,:10]"
   ]
  },
  {
   "cell_type": "code",
   "execution_count": 42,
   "metadata": {},
   "outputs": [
    {
     "data": {
      "text/plain": [
       "array([[ 0.02,  0.64,  0.02,  0.96,  0.05,  0.04,  0.39,  0.44,  0.25,\n",
       "         0.18],\n",
       "       [ 0.04,  0.55,  0.24,  0.74,  0.13,  0.12,  0.51,  0.48,  0.29,\n",
       "         0.19],\n",
       "       [ 0.03,  0.32,  0.01,  0.89,  0.31,  0.09,  0.28,  0.37,  0.2 ,\n",
       "         0.38],\n",
       "       [ 0.02,  0.32,  0.  ,  0.88,  0.06,  0.16,  0.36,  0.4 ,  0.26,\n",
       "         0.57],\n",
       "       [ 0.06,  0.43,  0.07,  0.78,  0.62,  0.08,  0.31,  0.52,  0.3 ,\n",
       "         0.27]])"
      ]
     },
     "execution_count": 42,
     "metadata": {},
     "output_type": "execute_result"
    }
   ],
   "source": [
    "X_test_imputed = imp.transform(numeric_selector.transform(X_test))\n",
    "X_test_imputed[:5,:10]\n",
    "# Make sure fit is ONLY run on TRAIN data so there is not leakage "
   ]
  },
  {
   "cell_type": "markdown",
   "metadata": {},
   "source": [
    "### Step 3: Scale"
   ]
  },
  {
   "cell_type": "code",
   "execution_count": 43,
   "metadata": {
    "collapsed": true
   },
   "outputs": [],
   "source": [
    "# cannot work on categorical fetaures or with df with missing values\n",
    "ss = StandardScaler()\n",
    "X_train_scaled = ss.fit_transform(X_train_imputed)\n",
    "X_test_scaled = ss.transform(imp.transform(numeric_selector.transform(X_test)))\n",
    "# Must happen in order"
   ]
  },
  {
   "cell_type": "code",
   "execution_count": 45,
   "metadata": {},
   "outputs": [
    {
     "data": {
      "text/plain": [
       "array([[-0.3826247 , -0.63067988, -0.66219722,  0.88576311, -0.53905874,\n",
       "        -0.46220389, -0.47696431, -0.16412824, -0.33633705,  0.25662557],\n",
       "       [-0.3826247 ,  1.24790223, -0.62262315, -2.12123249, -0.39702617,\n",
       "         2.0397386 ,  0.24020476, -0.02343345, -0.39738159, -1.19008012],\n",
       "       [-0.05617361, -0.02468565, -0.62262315,  0.52004743,  0.21844831,\n",
       "         0.07988365, -0.47696431, -0.65656002, -0.58051522, -0.35544223],\n",
       "       [-0.3826247 , -0.63067988,  3.057765  , -2.08059741, -0.58640293,\n",
       "        -0.58730102,  0.10981038, -0.51586522, -0.39738159,  1.14690599],\n",
       "       [ 0.02543917, -0.50948103,  0.6041729 , -0.65836977, -0.49171455,\n",
       "         0.41347598, -0.41176713, -0.30482303, -0.33633705,  0.5348382 ]])"
      ]
     },
     "execution_count": 45,
     "metadata": {},
     "output_type": "execute_result"
    }
   ],
   "source": [
    "X_train_scaled[:5,:10]"
   ]
  },
  {
   "cell_type": "markdown",
   "metadata": {},
   "source": [
    "### Put it all in a pipeline"
   ]
  },
  {
   "cell_type": "code",
   "execution_count": 47,
   "metadata": {
    "collapsed": true
   },
   "outputs": [],
   "source": [
    "# only input is a listof the steps you would like carried out in the order to carry it out\n",
    "numeric_feature_pipeline = Pipeline(steps =[\n",
    "    ('select', numeric_selector),\n",
    "    ('impute', imp),\n",
    "    ('sclae', ss)\n",
    "])\n",
    "\n",
    "# all of these have a transform and a fit method so they can work like puzzel pieces that work together. \n",
    "# this just establishes a processing pipeline - nothing more\n",
    "# This has not used any data! "
   ]
  },
  {
   "cell_type": "code",
   "execution_count": 48,
   "metadata": {
    "collapsed": true
   },
   "outputs": [],
   "source": [
    "# to fit the model now just use the pipeline\n",
    "X_test_scaled = numeric_feature_pipeline.fit_transform(X_train)"
   ]
  },
  {
   "cell_type": "code",
   "execution_count": 49,
   "metadata": {},
   "outputs": [
    {
     "data": {
      "text/plain": [
       "array([[-0.3826247 , -0.63067988, -0.66219722,  0.88576311, -0.53905874,\n",
       "        -0.46220389, -0.47696431, -0.16412824, -0.33633705,  0.25662557],\n",
       "       [-0.3826247 ,  1.24790223, -0.62262315, -2.12123249, -0.39702617,\n",
       "         2.0397386 ,  0.24020476, -0.02343345, -0.39738159, -1.19008012],\n",
       "       [-0.05617361, -0.02468565, -0.62262315,  0.52004743,  0.21844831,\n",
       "         0.07988365, -0.47696431, -0.65656002, -0.58051522, -0.35544223],\n",
       "       [-0.3826247 , -0.63067988,  3.057765  , -2.08059741, -0.58640293,\n",
       "        -0.58730102,  0.10981038, -0.51586522, -0.39738159,  1.14690599],\n",
       "       [ 0.02543917, -0.50948103,  0.6041729 , -0.65836977, -0.49171455,\n",
       "         0.41347598, -0.41176713, -0.30482303, -0.33633705,  0.5348382 ]])"
      ]
     },
     "execution_count": 49,
     "metadata": {},
     "output_type": "execute_result"
    }
   ],
   "source": [
    "X_test_scaled[:5,:10] # creates dataset that is the same as what we did above"
   ]
  },
  {
   "cell_type": "markdown",
   "metadata": {},
   "source": [
    "## Categorical Feature Processing Pipeline"
   ]
  },
  {
   "cell_type": "code",
   "execution_count": 50,
   "metadata": {},
   "outputs": [
    {
     "data": {
      "text/html": [
       "<div>\n",
       "<style>\n",
       "    .dataframe thead tr:only-child th {\n",
       "        text-align: right;\n",
       "    }\n",
       "\n",
       "    .dataframe thead th {\n",
       "        text-align: left;\n",
       "    }\n",
       "\n",
       "    .dataframe tbody tr th {\n",
       "        vertical-align: top;\n",
       "    }\n",
       "</style>\n",
       "<table border=\"1\" class=\"dataframe\">\n",
       "  <thead>\n",
       "    <tr style=\"text-align: right;\">\n",
       "      <th></th>\n",
       "      <th>county</th>\n",
       "      <th>communityname</th>\n",
       "    </tr>\n",
       "  </thead>\n",
       "  <tbody>\n",
       "    <tr>\n",
       "      <th>55</th>\n",
       "      <td>79.0</td>\n",
       "      <td>Cudahycity</td>\n",
       "    </tr>\n",
       "    <tr>\n",
       "      <th>35</th>\n",
       "      <td>NaN</td>\n",
       "      <td>Gallupcity</td>\n",
       "    </tr>\n",
       "    <tr>\n",
       "      <th>6</th>\n",
       "      <td>NaN</td>\n",
       "      <td>Petalumacity</td>\n",
       "    </tr>\n",
       "    <tr>\n",
       "      <th>13</th>\n",
       "      <td>NaN</td>\n",
       "      <td>Waycrosscity</td>\n",
       "    </tr>\n",
       "    <tr>\n",
       "      <th>48</th>\n",
       "      <td>NaN</td>\n",
       "      <td>Templecity</td>\n",
       "    </tr>\n",
       "  </tbody>\n",
       "</table>\n",
       "</div>"
      ],
      "text/plain": [
       "    county communityname\n",
       "55    79.0    Cudahycity\n",
       "35     NaN    Gallupcity\n",
       "6      NaN  Petalumacity\n",
       "13     NaN  Waycrosscity\n",
       "48     NaN    Templecity"
      ]
     },
     "execution_count": 50,
     "metadata": {},
     "output_type": "execute_result"
    }
   ],
   "source": [
    "X_train[categorical_predictors].head()"
   ]
  },
  {
   "cell_type": "markdown",
   "metadata": {},
   "source": [
    "### Step 1: Select columns that correspond to categorical features"
   ]
  },
  {
   "cell_type": "code",
   "execution_count": null,
   "metadata": {
    "collapsed": true
   },
   "outputs": [],
   "source": [
    "# fix colums so they have the correct datatype (i.e. county = 79 is not a float)\n",
    "# encode these features as categorical "
   ]
  },
  {
   "cell_type": "code",
   "execution_count": 51,
   "metadata": {
    "collapsed": true
   },
   "outputs": [],
   "source": [
    "# Select the categorical features \n",
    "# define a function to select categorical features\n",
    "def select_categorical_features(X):\n",
    "    return X[categorical_predictors]\n",
    "\n",
    "# Pass this function to the Function Transformer to complete transformation step\n",
    "scf = FunctionTransformer(select_categorical_features, validate=False)"
   ]
  },
  {
   "cell_type": "code",
   "execution_count": 52,
   "metadata": {},
   "outputs": [
    {
     "data": {
      "text/html": [
       "<div>\n",
       "<style>\n",
       "    .dataframe thead tr:only-child th {\n",
       "        text-align: right;\n",
       "    }\n",
       "\n",
       "    .dataframe thead th {\n",
       "        text-align: left;\n",
       "    }\n",
       "\n",
       "    .dataframe tbody tr th {\n",
       "        vertical-align: top;\n",
       "    }\n",
       "</style>\n",
       "<table border=\"1\" class=\"dataframe\">\n",
       "  <thead>\n",
       "    <tr style=\"text-align: right;\">\n",
       "      <th></th>\n",
       "      <th>county</th>\n",
       "      <th>communityname</th>\n",
       "    </tr>\n",
       "  </thead>\n",
       "  <tbody>\n",
       "    <tr>\n",
       "      <th>55</th>\n",
       "      <td>79.0</td>\n",
       "      <td>Cudahycity</td>\n",
       "    </tr>\n",
       "    <tr>\n",
       "      <th>35</th>\n",
       "      <td>NaN</td>\n",
       "      <td>Gallupcity</td>\n",
       "    </tr>\n",
       "    <tr>\n",
       "      <th>6</th>\n",
       "      <td>NaN</td>\n",
       "      <td>Petalumacity</td>\n",
       "    </tr>\n",
       "    <tr>\n",
       "      <th>13</th>\n",
       "      <td>NaN</td>\n",
       "      <td>Waycrosscity</td>\n",
       "    </tr>\n",
       "    <tr>\n",
       "      <th>48</th>\n",
       "      <td>NaN</td>\n",
       "      <td>Templecity</td>\n",
       "    </tr>\n",
       "  </tbody>\n",
       "</table>\n",
       "</div>"
      ],
      "text/plain": [
       "    county communityname\n",
       "55    79.0    Cudahycity\n",
       "35     NaN    Gallupcity\n",
       "6      NaN  Petalumacity\n",
       "13     NaN  Waycrosscity\n",
       "48     NaN    Templecity"
      ]
     },
     "execution_count": 52,
     "metadata": {},
     "output_type": "execute_result"
    }
   ],
   "source": [
    "scf.fit_transform(X_train).head()"
   ]
  },
  {
   "cell_type": "markdown",
   "metadata": {},
   "source": [
    "#### Start a Pipeline"
   ]
  },
  {
   "cell_type": "code",
   "execution_count": 53,
   "metadata": {
    "collapsed": true
   },
   "outputs": [],
   "source": [
    "categorical_pipeline = Pipeline(steps = [\n",
    "    ('select',scf)\n",
    "])"
   ]
  },
  {
   "cell_type": "code",
   "execution_count": 54,
   "metadata": {},
   "outputs": [
    {
     "data": {
      "text/html": [
       "<div>\n",
       "<style>\n",
       "    .dataframe thead tr:only-child th {\n",
       "        text-align: right;\n",
       "    }\n",
       "\n",
       "    .dataframe thead th {\n",
       "        text-align: left;\n",
       "    }\n",
       "\n",
       "    .dataframe tbody tr th {\n",
       "        vertical-align: top;\n",
       "    }\n",
       "</style>\n",
       "<table border=\"1\" class=\"dataframe\">\n",
       "  <thead>\n",
       "    <tr style=\"text-align: right;\">\n",
       "      <th></th>\n",
       "      <th>county</th>\n",
       "      <th>communityname</th>\n",
       "    </tr>\n",
       "  </thead>\n",
       "  <tbody>\n",
       "    <tr>\n",
       "      <th>55</th>\n",
       "      <td>79.0</td>\n",
       "      <td>Cudahycity</td>\n",
       "    </tr>\n",
       "    <tr>\n",
       "      <th>35</th>\n",
       "      <td>NaN</td>\n",
       "      <td>Gallupcity</td>\n",
       "    </tr>\n",
       "    <tr>\n",
       "      <th>6</th>\n",
       "      <td>NaN</td>\n",
       "      <td>Petalumacity</td>\n",
       "    </tr>\n",
       "    <tr>\n",
       "      <th>13</th>\n",
       "      <td>NaN</td>\n",
       "      <td>Waycrosscity</td>\n",
       "    </tr>\n",
       "    <tr>\n",
       "      <th>48</th>\n",
       "      <td>NaN</td>\n",
       "      <td>Templecity</td>\n",
       "    </tr>\n",
       "  </tbody>\n",
       "</table>\n",
       "</div>"
      ],
      "text/plain": [
       "    county communityname\n",
       "55    79.0    Cudahycity\n",
       "35     NaN    Gallupcity\n",
       "6      NaN  Petalumacity\n",
       "13     NaN  Waycrosscity\n",
       "48     NaN    Templecity"
      ]
     },
     "execution_count": 54,
     "metadata": {},
     "output_type": "execute_result"
    }
   ],
   "source": [
    "categorical_pipeline.fit_transform(X_train).head()"
   ]
  },
  {
   "cell_type": "markdown",
   "metadata": {},
   "source": [
    "### Step 2: Ensure that each feature has the correct data type"
   ]
  },
  {
   "cell_type": "code",
   "execution_count": 55,
   "metadata": {
    "collapsed": true
   },
   "outputs": [],
   "source": [
    "# Datatype comversion function\n",
    "# build a function that takes a dataframe and returns a datafram with dtype = str\n",
    "def ensure_datatype(X):\n",
    "    return X.apply(lambda col: col.astype(str))\n",
    "\n",
    "ed = FunctionTransformer(ensure_datatype, validate=False)"
   ]
  },
  {
   "cell_type": "markdown",
   "metadata": {},
   "source": [
    "#### Continue the pipeline"
   ]
  },
  {
   "cell_type": "code",
   "execution_count": 56,
   "metadata": {
    "collapsed": true
   },
   "outputs": [],
   "source": [
    "# Continue building on pipeline by added datatype conversion\n",
    "categorical_pipeline = Pipeline(steps = [\n",
    "    ('select',scf),\n",
    "    ('datatype',ed)\n",
    "])"
   ]
  },
  {
   "cell_type": "code",
   "execution_count": 58,
   "metadata": {},
   "outputs": [
    {
     "data": {
      "text/html": [
       "<div>\n",
       "<style>\n",
       "    .dataframe thead tr:only-child th {\n",
       "        text-align: right;\n",
       "    }\n",
       "\n",
       "    .dataframe thead th {\n",
       "        text-align: left;\n",
       "    }\n",
       "\n",
       "    .dataframe tbody tr th {\n",
       "        vertical-align: top;\n",
       "    }\n",
       "</style>\n",
       "<table border=\"1\" class=\"dataframe\">\n",
       "  <thead>\n",
       "    <tr style=\"text-align: right;\">\n",
       "      <th></th>\n",
       "      <th>county</th>\n",
       "      <th>communityname</th>\n",
       "    </tr>\n",
       "  </thead>\n",
       "  <tbody>\n",
       "    <tr>\n",
       "      <th>55</th>\n",
       "      <td>79.0</td>\n",
       "      <td>Cudahycity</td>\n",
       "    </tr>\n",
       "    <tr>\n",
       "      <th>35</th>\n",
       "      <td>nan</td>\n",
       "      <td>Gallupcity</td>\n",
       "    </tr>\n",
       "    <tr>\n",
       "      <th>6</th>\n",
       "      <td>nan</td>\n",
       "      <td>Petalumacity</td>\n",
       "    </tr>\n",
       "    <tr>\n",
       "      <th>13</th>\n",
       "      <td>nan</td>\n",
       "      <td>Waycrosscity</td>\n",
       "    </tr>\n",
       "    <tr>\n",
       "      <th>48</th>\n",
       "      <td>nan</td>\n",
       "      <td>Templecity</td>\n",
       "    </tr>\n",
       "  </tbody>\n",
       "</table>\n",
       "</div>"
      ],
      "text/plain": [
       "   county communityname\n",
       "55   79.0    Cudahycity\n",
       "35    nan    Gallupcity\n",
       "6     nan  Petalumacity\n",
       "13    nan  Waycrosscity\n",
       "48    nan    Templecity"
      ]
     },
     "execution_count": 58,
     "metadata": {},
     "output_type": "execute_result"
    }
   ],
   "source": [
    "categorical_pipeline.fit_transform(X_train).head()\n",
    "# note: \"nan\" is not missing is is a string of letters nan"
   ]
  },
  {
   "cell_type": "markdown",
   "metadata": {},
   "source": [
    "### Step 3: Encode as numeric features"
   ]
  },
  {
   "cell_type": "code",
   "execution_count": 61,
   "metadata": {
    "collapsed": true
   },
   "outputs": [],
   "source": [
    "from sklearn.feature_extraction import DictVectorizer\n",
    "\n",
    "# Creates a dictionary from data\n",
    "# Creates an entry for each record\n",
    "def make_dictionaries(X):\n",
    "    return X.to_dict(orient='records')\n",
    "\n",
    "md = FunctionTransformer(make_dictionaries, validate=False)"
   ]
  },
  {
   "cell_type": "markdown",
   "metadata": {},
   "source": [
    "#### Continue the pipeline"
   ]
  },
  {
   "cell_type": "code",
   "execution_count": 65,
   "metadata": {
    "collapsed": true
   },
   "outputs": [],
   "source": [
    "# Continue building on pipeline by added datatype conversion\n",
    "categorical_pipeline = Pipeline(steps = [\n",
    "    ('select',scf),\n",
    "    ('datatype',ed),\n",
    "    ('dictionary',md),\n",
    "    ('vectorize', DictVectorizer(sparse=False)) # prevents getting a sparse matrix\n",
    "])"
   ]
  },
  {
   "cell_type": "code",
   "execution_count": 67,
   "metadata": {},
   "outputs": [
    {
     "name": "stdout",
     "output_type": "stream",
     "text": [
      "(1495, 1479)\n"
     ]
    },
    {
     "data": {
      "text/plain": [
       "array([[ 0.,  0.,  0., ...,  0.,  0.,  0.],\n",
       "       [ 0.,  0.,  0., ...,  0.,  0.,  1.],\n",
       "       [ 0.,  0.,  0., ...,  0.,  0.,  1.],\n",
       "       [ 0.,  0.,  0., ...,  0.,  0.,  1.],\n",
       "       [ 0.,  0.,  0., ...,  0.,  0.,  1.]])"
      ]
     },
     "execution_count": 67,
     "metadata": {},
     "output_type": "execute_result"
    }
   ],
   "source": [
    "out = categorical_pipeline.fit_transform(X_train)\n",
    "print out.shape\n",
    "out[:5]"
   ]
  },
  {
   "cell_type": "code",
   "execution_count": 70,
   "metadata": {},
   "outputs": [
    {
     "data": {
      "text/plain": [
       "['communityname=Aberdeencity',\n",
       " 'communityname=Aberdeentownship',\n",
       " 'communityname=Adacity',\n",
       " 'communityname=Aikencity',\n",
       " 'communityname=Alabastercity',\n",
       " 'communityname=Alamedacity',\n",
       " 'communityname=Alamogordocity',\n",
       " 'communityname=Albanycity',\n",
       " 'communityname=Albemarlecity',\n",
       " 'communityname=Albuquerquecity']"
      ]
     },
     "execution_count": 70,
     "metadata": {},
     "output_type": "execute_result"
    }
   ],
   "source": [
    "# you name your steps in your pipeline so you can access each step of the process as so\n",
    "categorical_pipeline.get_params()['vectorize'].feature_names_[:10]\n",
    "# shows we got a 1-hot encodeing \n",
    "# so we have one value for each possible \"communityname\" for each values"
   ]
  },
  {
   "cell_type": "code",
   "execution_count": 71,
   "metadata": {
    "collapsed": true
   },
   "outputs": [],
   "source": [
    "# this may give too many features and cause problems\n",
    "# may want to pick another method"
   ]
  },
  {
   "cell_type": "markdown",
   "metadata": {},
   "source": [
    "#### Let's do this with feature hashing instead"
   ]
  },
  {
   "cell_type": "code",
   "execution_count": 72,
   "metadata": {
    "collapsed": true
   },
   "outputs": [],
   "source": [
    "from sklearn.feature_extraction import FeatureHasher\n",
    "categorical_pipeline = Pipeline(steps = [\n",
    "    ('select',scf),\n",
    "    ('datatype',ed),\n",
    "    ('dictionary',md),\n",
    "    ('vectorize', FeatureHasher(n_features=5)) # gives n buckets and assigns the fetaures to the buckets\n",
    "])\n"
   ]
  },
  {
   "cell_type": "code",
   "execution_count": 77,
   "metadata": {},
   "outputs": [
    {
     "data": {
      "text/html": [
       "<div>\n",
       "<style>\n",
       "    .dataframe thead tr:only-child th {\n",
       "        text-align: right;\n",
       "    }\n",
       "\n",
       "    .dataframe thead th {\n",
       "        text-align: left;\n",
       "    }\n",
       "\n",
       "    .dataframe tbody tr th {\n",
       "        vertical-align: top;\n",
       "    }\n",
       "</style>\n",
       "<table border=\"1\" class=\"dataframe\">\n",
       "  <thead>\n",
       "    <tr style=\"text-align: right;\">\n",
       "      <th></th>\n",
       "      <th>county</th>\n",
       "      <th>communityname</th>\n",
       "    </tr>\n",
       "  </thead>\n",
       "  <tbody>\n",
       "    <tr>\n",
       "      <th>55</th>\n",
       "      <td>79.0</td>\n",
       "      <td>Cudahycity</td>\n",
       "    </tr>\n",
       "    <tr>\n",
       "      <th>35</th>\n",
       "      <td>NaN</td>\n",
       "      <td>Gallupcity</td>\n",
       "    </tr>\n",
       "    <tr>\n",
       "      <th>6</th>\n",
       "      <td>NaN</td>\n",
       "      <td>Petalumacity</td>\n",
       "    </tr>\n",
       "    <tr>\n",
       "      <th>13</th>\n",
       "      <td>NaN</td>\n",
       "      <td>Waycrosscity</td>\n",
       "    </tr>\n",
       "    <tr>\n",
       "      <th>48</th>\n",
       "      <td>NaN</td>\n",
       "      <td>Templecity</td>\n",
       "    </tr>\n",
       "    <tr>\n",
       "      <th>48</th>\n",
       "      <td>NaN</td>\n",
       "      <td>LeagueCitycity</td>\n",
       "    </tr>\n",
       "    <tr>\n",
       "      <th>29</th>\n",
       "      <td>NaN</td>\n",
       "      <td>Kennettcity</td>\n",
       "    </tr>\n",
       "    <tr>\n",
       "      <th>54</th>\n",
       "      <td>NaN</td>\n",
       "      <td>Bluefieldcity</td>\n",
       "    </tr>\n",
       "    <tr>\n",
       "      <th>51</th>\n",
       "      <td>775.0</td>\n",
       "      <td>Salemcity</td>\n",
       "    </tr>\n",
       "    <tr>\n",
       "      <th>18</th>\n",
       "      <td>NaN</td>\n",
       "      <td>Connersvillecity</td>\n",
       "    </tr>\n",
       "  </tbody>\n",
       "</table>\n",
       "</div>"
      ],
      "text/plain": [
       "    county     communityname\n",
       "55    79.0        Cudahycity\n",
       "35     NaN        Gallupcity\n",
       "6      NaN      Petalumacity\n",
       "13     NaN      Waycrosscity\n",
       "48     NaN        Templecity\n",
       "48     NaN    LeagueCitycity\n",
       "29     NaN       Kennettcity\n",
       "54     NaN     Bluefieldcity\n",
       "51   775.0         Salemcity\n",
       "18     NaN  Connersvillecity"
      ]
     },
     "execution_count": 77,
     "metadata": {},
     "output_type": "execute_result"
    }
   ],
   "source": [
    "X_train[categorical_predictors].head(10)"
   ]
  },
  {
   "cell_type": "code",
   "execution_count": 78,
   "metadata": {},
   "outputs": [
    {
     "name": "stdout",
     "output_type": "stream",
     "text": [
      "(1495, 5)\n"
     ]
    },
    {
     "data": {
      "text/plain": [
       "matrix([[ 0.,  1.,  0.,  1.,  0.],\n",
       "        [ 0.,  1.,  0.,  0., -1.],\n",
       "        [ 0.,  0.,  0.,  0.,  0.],\n",
       "        [ 1.,  0.,  0.,  0., -1.],\n",
       "        [ 0.,  0.,  0., -1., -1.],\n",
       "        [ 0.,  1.,  0.,  0., -1.],\n",
       "        [ 0.,  0.,  1.,  0., -1.],\n",
       "        [ 0.,  0.,  0., -1., -1.],\n",
       "        [ 0.,  1.,  0., -1.,  0.],\n",
       "        [-1.,  0.,  0.,  0., -1.]])"
      ]
     },
     "execution_count": 78,
     "metadata": {},
     "output_type": "execute_result"
    }
   ],
   "source": [
    "out = categorical_pipeline.fit_transform(X_train)\n",
    "print out.shape\n",
    "out.todense()[:10, :]"
   ]
  },
  {
   "cell_type": "markdown",
   "metadata": {},
   "source": [
    "## Combine the two Pipelines"
   ]
  },
  {
   "cell_type": "code",
   "execution_count": 81,
   "metadata": {
    "collapsed": true
   },
   "outputs": [],
   "source": [
    "# recap of code above: \n",
    "from sklearn.pipeline import FeatureUnion\n",
    "\n",
    "## Function Defs\n",
    "# Numeric \n",
    "def select_numeric_features(X):\n",
    "    return X[numeric_predictors]\n",
    "numeric_selector = FunctionTransformer(select_numeric_features, validate=False)\n",
    "ss = StandardScaler()\n",
    "imp = Imputer(strategy='mean')\n",
    "\n",
    "# Categorical \n",
    "def select_categorical_features(X):\n",
    "    return X[categorical_predictors]\n",
    "scf = FunctionTransformer(select_categorical_features, validate=False)\n",
    "\n",
    "def ensure_datatype(X):\n",
    "    return X.apply(lambda col: col.astype(str))\n",
    "ed = FunctionTransformer(ensure_datatype, validate=False)\n",
    "\n",
    "def make_dictionaries(X):\n",
    "    return X.to_dict(orient='records')\n",
    "md = FunctionTransformer(make_dictionaries, validate=False)\n",
    "\n",
    "\n",
    "# Pipelines\n",
    "numeric_feature_pipeline = Pipeline(steps =[\n",
    "    ('select', numeric_selector),\n",
    "    ('impute', imp),\n",
    "    ('sclae', ss)\n",
    "])\n",
    "\n",
    "categorical_pipeline = Pipeline(steps = [\n",
    "    ('select',scf),\n",
    "    ('datatype',ed),\n",
    "    ('dictionary',md),\n",
    "    ('vectorize', FeatureHasher(n_features=5)) # gives n buckets and assigns the fetaures to the buckets\n",
    "])\n",
    "# Above is the full code of what is needed to define a pipeline\n",
    "\n",
    "\n",
    "# this Combines the two pipelines\n",
    "fu = FeatureUnion([\n",
    "    ('numeric', numeric_feature_pipeline),\n",
    "    ('categorical', categorical_pipeline)\n",
    "])\n",
    "\n",
    "# if the pipeline changes, the results will changes\n",
    "# for examples editing the fetuare haser feautres"
   ]
  },
  {
   "cell_type": "code",
   "execution_count": 82,
   "metadata": {
    "collapsed": true
   },
   "outputs": [],
   "source": [
    "out = fu.fit_transform(X_train)"
   ]
  },
  {
   "cell_type": "code",
   "execution_count": 85,
   "metadata": {
    "collapsed": true
   },
   "outputs": [],
   "source": [
    "test_out = fu.transform(X_test)"
   ]
  },
  {
   "cell_type": "code",
   "execution_count": 86,
   "metadata": {},
   "outputs": [
    {
     "data": {
      "text/plain": [
       "(499, 127)"
      ]
     },
     "execution_count": 86,
     "metadata": {},
     "output_type": "execute_result"
    }
   ],
   "source": [
    "test_out.shape"
   ]
  },
  {
   "cell_type": "markdown",
   "metadata": {},
   "source": [
    "## Try some different models"
   ]
  },
  {
   "cell_type": "markdown",
   "metadata": {},
   "source": [
    "The great thing about this paradigm is that you can write a whole data processing a modeling pipeline 'in the abstract' without doing anthing to your data. Scikit-learn then lets you treat the entire pipeline as one 'model', which allows you to do things like cross-validation and model selection without ever contaminating your test data."
   ]
  },
  {
   "cell_type": "markdown",
   "metadata": {},
   "source": [
    "### Linear Regression"
   ]
  },
  {
   "cell_type": "markdown",
   "metadata": {},
   "source": [
    "Here is an example using linear regression"
   ]
  },
  {
   "cell_type": "code",
   "execution_count": 88,
   "metadata": {
    "collapsed": true
   },
   "outputs": [],
   "source": [
    "from sklearn.model_selection import GridSearchCV\n",
    "from sklearn.linear_model import LinearRegression, Ridge"
   ]
  },
  {
   "cell_type": "markdown",
   "metadata": {},
   "source": [
    "#### Define the Pipeline"
   ]
  },
  {
   "cell_type": "code",
   "execution_count": 91,
   "metadata": {
    "collapsed": true
   },
   "outputs": [],
   "source": [
    "# copied from above\n",
    "# Pipelines\n",
    "numeric_feature_pipeline = Pipeline(steps =[\n",
    "    ('select', numeric_selector),\n",
    "    ('impute', imp),\n",
    "    ('sclae', ss)\n",
    "])\n",
    "\n",
    "categorical_pipeline = Pipeline(steps = [\n",
    "    ('select',scf),\n",
    "    ('datatype',ed),\n",
    "    ('dictionary',md),\n",
    "    ('vectorize', FeatureHasher(n_features=5)) # gives n buckets and assigns the fetaures to the buckets\n",
    "])\n",
    "\n",
    "# this Combines the two pipelines\n",
    "fu = FeatureUnion([\n",
    "    ('numeric', numeric_feature_pipeline),\n",
    "    ('categorical', categorical_pipeline)\n",
    "])\n",
    "\n",
    "# Now, create a model pipe that that include preprocessing and the model fit \n",
    "model_pipe = Pipeline(steps=[\n",
    "    ('preprocess',fu),\n",
    "    ('model', LinearRegression())\n",
    "])"
   ]
  },
  {
   "cell_type": "code",
   "execution_count": 93,
   "metadata": {},
   "outputs": [
    {
     "data": {
      "text/plain": [
       "Pipeline(steps=[('preprocess', FeatureUnion(n_jobs=1,\n",
       "       transformer_list=[('numeric', Pipeline(steps=[('select', FunctionTransformer(accept_sparse=False,\n",
       "          func=<function select_numeric_features at 0x10f8e6f50>,\n",
       "          inv_kw_args=None, inverse_func=None, kw_args=None, pass_y=False,\n",
       "         ...hts=None)), ('model', LinearRegression(copy_X=True, fit_intercept=True, n_jobs=1, normalize=False))])"
      ]
     },
     "execution_count": 93,
     "metadata": {},
     "output_type": "execute_result"
    }
   ],
   "source": [
    "model_pipe.fit(X_train, y_train)"
   ]
  },
  {
   "cell_type": "code",
   "execution_count": 94,
   "metadata": {},
   "outputs": [
    {
     "data": {
      "text/plain": [
       "0.63765246784025464"
      ]
     },
     "execution_count": 94,
     "metadata": {},
     "output_type": "execute_result"
    }
   ],
   "source": [
    "model_pipe.score(X_test, y_test)"
   ]
  },
  {
   "cell_type": "markdown",
   "metadata": {},
   "source": [
    "#### Define some hyper-parameters to search over"
   ]
  },
  {
   "cell_type": "code",
   "execution_count": 105,
   "metadata": {
    "collapsed": true
   },
   "outputs": [],
   "source": [
    "# copied again\n",
    "snf = FunctionTransformer(select_numeric_features, validate=False)\n",
    "scf = FunctionTransformer(select_categorical_features, validate=False)\n",
    "edt = FunctionTransformer(ensure_datatype, validate=False)\n",
    "md = FunctionTransformer(make_dictionaries, validate=False)\n",
    "\n",
    "model_pipe = Pipeline(steps=[\n",
    "    ('preprocess', FeatureUnion([\n",
    "        ('categorical', Pipeline([\n",
    "           ('select',scf),\n",
    "            ('datatype',edt),\n",
    "            ('dictionary',md),\n",
    "            ('vectorize', FeatureHasher()) \n",
    "        ])),\n",
    "        ('numeric', Pipeline([\n",
    "            ('select', snf),\n",
    "            ('impute', Imputer()),\n",
    "            ('sclae', StandardScaler())\n",
    "        ]))\n",
    "    ])),\n",
    "    ('predict',Ridge())\n",
    "])\n",
    "\n"
   ]
  },
  {
   "cell_type": "code",
   "execution_count": 106,
   "metadata": {
    "collapsed": true
   },
   "outputs": [],
   "source": [
    "search_params = {\n",
    "    'preprocess__categorical__vectorize__n_features': [5,15,25,100],\n",
    "    'preprocess__numeric__impute__strategy': ['mean','median'],\n",
    "    'predict__alpha': [0.1, 1.0, 10.0]\n",
    "}"
   ]
  },
  {
   "cell_type": "markdown",
   "metadata": {},
   "source": [
    "#### Grid Search"
   ]
  },
  {
   "cell_type": "code",
   "execution_count": 107,
   "metadata": {},
   "outputs": [
    {
     "data": {
      "text/plain": [
       "GridSearchCV(cv=3, error_score='raise',\n",
       "       estimator=Pipeline(steps=[('preprocess', FeatureUnion(n_jobs=1,\n",
       "       transformer_list=[('categorical', Pipeline(steps=[('select', FunctionTransformer(accept_sparse=False,\n",
       "          func=<function select_categorical_features at 0x10f8e6c80>,\n",
       "          inv_kw_args=None, inverse_func=None, kw_args=None, pass_y=False,\n",
       " ...it_intercept=True, max_iter=None,\n",
       "   normalize=False, random_state=None, solver='auto', tol=0.001))]),\n",
       "       fit_params={}, iid=True, n_jobs=1,\n",
       "       param_grid={'preprocess__numeric__impute__strategy': ['mean', 'median'], 'preprocess__categorical__vectorize__n_features': [5, 15, 25, 100], 'predict__alpha': [0.1, 1.0, 10.0]},\n",
       "       pre_dispatch='2*n_jobs', refit=True, return_train_score=True,\n",
       "       scoring=None, verbose=0)"
      ]
     },
     "execution_count": 107,
     "metadata": {},
     "output_type": "execute_result"
    }
   ],
   "source": [
    "grid_search = GridSearchCV(model_pipe, search_params, cv=3)\n",
    "grid_search.fit(X_train, y_train)"
   ]
  },
  {
   "cell_type": "markdown",
   "metadata": {},
   "source": [
    "**Exercise**: Try to build your own pipeline. You can use a different estimator (e.g. Ridge(), RandomForestRegressor(), GradientBoostingRegressor(), SVR(), ...), and you can also add additional variables to the steps in the pipeline (e.g., what happens if you binarize the numeric variables? take the logs? perform dimensionality reduction with PCA?)\n",
    "\n",
    "How high can you get your R^2 on the test set?"
   ]
  },
  {
   "cell_type": "code",
   "execution_count": null,
   "metadata": {
    "collapsed": true
   },
   "outputs": [],
   "source": []
  },
  {
   "cell_type": "code",
   "execution_count": null,
   "metadata": {
    "collapsed": true
   },
   "outputs": [],
   "source": []
  }
 ],
 "metadata": {
  "kernelspec": {
   "display_name": "Python 2",
   "language": "python",
   "name": "python2"
  },
  "language_info": {
   "codemirror_mode": {
    "name": "ipython",
    "version": 2
   },
   "file_extension": ".py",
   "mimetype": "text/x-python",
   "name": "python",
   "nbconvert_exporter": "python",
   "pygments_lexer": "ipython2",
   "version": "2.7.11"
  }
 },
 "nbformat": 4,
 "nbformat_minor": 2
}
