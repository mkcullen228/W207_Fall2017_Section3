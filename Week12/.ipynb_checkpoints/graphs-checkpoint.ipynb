{
 "cells": [
  {
   "cell_type": "markdown",
   "metadata": {},
   "source": [
    "# Graphs"
   ]
  },
  {
   "cell_type": "markdown",
   "metadata": {},
   "source": [
    "In this notebook, you will practice using networkx to interact with a graph in Python."
   ]
  },
  {
   "cell_type": "code",
   "execution_count": 1,
   "metadata": {},
   "outputs": [],
   "source": [
    "import networkx as nx\n",
    "import numpy as np\n",
    "import pandas as pd\n",
    "\n",
    "import matplotlib.pyplot as plt\n",
    "%matplotlib inline"
   ]
  },
  {
   "cell_type": "markdown",
   "metadata": {},
   "source": [
    "#### Load the IMDB actors graph"
   ]
  },
  {
   "cell_type": "markdown",
   "metadata": {},
   "source": [
    "Each actor in the IMDB database is a node. There is an edge between those two nodes if the actors have appeared in a movie together"
   ]
  },
  {
   "cell_type": "code",
   "execution_count": 2,
   "metadata": {},
   "outputs": [],
   "source": [
    "G = nx.read_edgelist('data/actor_edges.tsv', delimiter='\\t')"
   ]
  },
  {
   "cell_type": "code",
   "execution_count": 3,
   "metadata": {},
   "outputs": [
    {
     "name": "stdout",
     "output_type": "stream",
     "text": [
      "John Shea\tRachel Miner\r\n",
      "Eddie Martinez\tIan Duncan\r\n",
      "Concetta Tomei\tThea Gill\r\n",
      "Ashley Brightwell\tTed Myre\r\n",
      "Andre Royo\tJulianna Gabert\r\n",
      "Jessica Schwarz\tRamon Pujol\r\n",
      "Danielle Kotch\tLorraine Aceves\r\n",
      "Chantell D. Christopher\tTamela Mann\r\n",
      "Alexis Arquette\tLochlyn Munro\r\n",
      "Demi Petersen\tTalon G. Ackerman\r\n"
     ]
    }
   ],
   "source": [
    "!head data/actor_edges.tsv"
   ]
  },
  {
   "cell_type": "markdown",
   "metadata": {},
   "source": [
    "Total number of nodes (actors)"
   ]
  },
  {
   "cell_type": "code",
   "execution_count": 4,
   "metadata": {},
   "outputs": [
    {
     "data": {
      "text/plain": [
       "80249"
      ]
     },
     "execution_count": 4,
     "metadata": {},
     "output_type": "execute_result"
    }
   ],
   "source": [
    "G.number_of_nodes()"
   ]
  },
  {
   "cell_type": "markdown",
   "metadata": {},
   "source": [
    "Total number of edges"
   ]
  },
  {
   "cell_type": "code",
   "execution_count": 5,
   "metadata": {},
   "outputs": [
    {
     "data": {
      "text/plain": [
       "1332443"
      ]
     },
     "execution_count": 5,
     "metadata": {},
     "output_type": "execute_result"
    }
   ],
   "source": [
    "G.number_of_edges()"
   ]
  },
  {
   "cell_type": "markdown",
   "metadata": {},
   "source": [
    "Take a look at the notes and edges"
   ]
  },
  {
   "cell_type": "code",
   "execution_count": 6,
   "metadata": {},
   "outputs": [
    {
     "data": {
      "text/plain": [
       "[u'Alex Zahara',\n",
       " u'Sam Saliba',\n",
       " u'Chellis Glendinning',\n",
       " u'Zamariah Zane Loupe',\n",
       " u'John Eatherly',\n",
       " u'John Dartt',\n",
       " u'Omid Djalili',\n",
       " u'Jacki Weaver',\n",
       " u'Kim LeBlanc',\n",
       " u'Dan Finnerty',\n",
       " u'Kyrrin Marshall',\n",
       " u'Negar Saberi',\n",
       " u'Barry Sigismondi',\n",
       " u'Richard Holden',\n",
       " u'Dale Mattison']"
      ]
     },
     "execution_count": 6,
     "metadata": {},
     "output_type": "execute_result"
    }
   ],
   "source": [
    "G.nodes()[:15]"
   ]
  },
  {
   "cell_type": "code",
   "execution_count": 7,
   "metadata": {},
   "outputs": [
    {
     "data": {
      "text/plain": [
       "[(u'Alex Zahara', u'Valin Shinyei'),\n",
       " (u'Alex Zahara', u'Aleks Paunovic'),\n",
       " (u'Alex Zahara', u'Tiera Skovbye'),\n",
       " (u'Alex Zahara', u'Christa Campbell'),\n",
       " (u'Alex Zahara', u'Kansas Joe McCoy'),\n",
       " (u'Alex Zahara', u'Steph DuVall'),\n",
       " (u'Alex Zahara', u'Kaj-Erik Eriksen'),\n",
       " (u'Alex Zahara', u'Rio Alexander'),\n",
       " (u'Alex Zahara', u'Arron Shiver'),\n",
       " (u'Alex Zahara', u'Laine MacNeil'),\n",
       " (u'Alex Zahara', u'Mark McConchie'),\n",
       " (u'Alex Zahara', u'Andee Frizzell'),\n",
       " (u'Alex Zahara', u'Paralee Cook'),\n",
       " (u'Alex Zahara', u'William McDonald'),\n",
       " (u'Alex Zahara', u'Stacey Travis')]"
      ]
     },
     "execution_count": 7,
     "metadata": {},
     "output_type": "execute_result"
    }
   ],
   "source": [
    "G.edges()[:15]"
   ]
  },
  {
   "cell_type": "markdown",
   "metadata": {},
   "source": [
    "Neighborhood of John Goodman"
   ]
  },
  {
   "cell_type": "code",
   "execution_count": 8,
   "metadata": {},
   "outputs": [
    {
     "data": {
      "text/plain": [
       "[u'Edi Gathegi',\n",
       " u'Donald Sutherland',\n",
       " u'Dane Davenport',\n",
       " u'Jamie Preston',\n",
       " u'Matt L. Jones',\n",
       " u'Anna Kendrick',\n",
       " u'Kyle Chandler',\n",
       " u'Max Casella',\n",
       " u'Jon Woodward Kirby',\n",
       " u'Allen Walls',\n",
       " u'Alex Karpovsky',\n",
       " u'Tiya Sircar',\n",
       " u'Kate Mulligan',\n",
       " u'Eddie Griffin',\n",
       " u'Brendan Connolly']"
      ]
     },
     "execution_count": 8,
     "metadata": {},
     "output_type": "execute_result"
    }
   ],
   "source": [
    "# G is graph looking at and the actor looking at\n",
    "nx.neighbors(G, 'John Goodman')[:15]"
   ]
  },
  {
   "cell_type": "markdown",
   "metadata": {},
   "source": [
    "Shortest path between two actors"
   ]
  },
  {
   "cell_type": "code",
   "execution_count": 9,
   "metadata": {},
   "outputs": [
    {
     "data": {
      "text/plain": [
       "['John Goodman', u'Alex Borstein', 'Paul Rudd']"
      ]
     },
     "execution_count": 9,
     "metadata": {},
     "output_type": "execute_result"
    }
   ],
   "source": [
    "nx.shortest_path(G, 'John Goodman', 'Paul Rudd')"
   ]
  },
  {
   "cell_type": "markdown",
   "metadata": {},
   "source": [
    "All of the shortest paths"
   ]
  },
  {
   "cell_type": "code",
   "execution_count": 10,
   "metadata": {},
   "outputs": [
    {
     "name": "stdout",
     "output_type": "stream",
     "text": [
      "['John Goodman', u'Alex Borstein', 'Paul Rudd']\n",
      "['John Goodman', u'Seann William Scott', 'Paul Rudd']\n",
      "['John Goodman', u'Zach Galifianakis', 'Paul Rudd']\n",
      "['John Goodman', u'Justin Long', 'Paul Rudd']\n",
      "['John Goodman', u'Tracey Ullman', 'Paul Rudd']\n",
      "['John Goodman', u'Owen Wilson', 'Paul Rudd']\n",
      "['John Goodman', u'Fred Armisen', 'Paul Rudd']\n",
      "['John Goodman', u'Ron Silver', 'Paul Rudd']\n",
      "['John Goodman', u'Rhoda Griffis', 'Paul Rudd']\n",
      "['John Goodman', u'Nicholas Braun', 'Paul Rudd']\n",
      "['John Goodman', u'Johnny Simmons', 'Paul Rudd']\n",
      "['John Goodman', u'Octavia Spencer', 'Paul Rudd']\n",
      "['John Goodman', u'Steve Carell', 'Paul Rudd']\n",
      "['John Goodman', u'Ren?e Zellweger', 'Paul Rudd']\n",
      "['John Goodman', u'Joan Cusack', 'Paul Rudd']\n",
      "['John Goodman', u'Lauren Graham', 'Paul Rudd']\n",
      "['John Goodman', u'Emile Hirsch', 'Paul Rudd']\n",
      "['John Goodman', u'Ray Liotta', 'Paul Rudd']\n",
      "['John Goodman', u'Ken Jeong', 'Paul Rudd']\n",
      "['John Goodman', u'Hugh Dancy', 'Paul Rudd']\n",
      "['John Goodman', u'Bruce Greenwood', 'Paul Rudd']\n",
      "['John Goodman', u'Stephen Root', 'Paul Rudd']\n",
      "['John Goodman', u'Jonah Hill', 'Paul Rudd']\n",
      "['John Goodman', u'Amy Adams', 'Paul Rudd']\n",
      "['John Goodman', u'Leslie Mann', 'Paul Rudd']\n",
      "['John Goodman', u'Patricia French', 'Paul Rudd']\n",
      "['John Goodman', u'Danny DeVito', 'Paul Rudd']\n",
      "['John Goodman', u'B. J. Novak', 'Paul Rudd']\n",
      "['John Goodman', u'Christopher Mintz-Plasse', 'Paul Rudd']\n",
      "['John Goodman', u'Matthew Glave', 'Paul Rudd']\n",
      "['John Goodman', u'Zooey Deschanel', 'Paul Rudd']\n",
      "['John Goodman', u'Vince Vaughn', 'Paul Rudd']\n",
      "['John Goodman', u'Peter Hermann', 'Paul Rudd']\n",
      "['John Goodman', u'Keith David', 'Paul Rudd']\n"
     ]
    }
   ],
   "source": [
    "paths = nx.shortest_paths.all_shortest_paths(G, 'John Goodman', 'Paul Rudd')\n",
    "paths\n",
    "# Returns generater not the list itself. Means you have to iterate through it \n",
    "for path in paths:\n",
    "    print path"
   ]
  },
  {
   "cell_type": "markdown",
   "metadata": {},
   "source": [
    "#### Exercise\n",
    "\n",
    "Make a histogram of the degree distribution of this graph. Does it match any of the distributions discussed in the async?"
   ]
  },
  {
   "cell_type": "code",
   "execution_count": 11,
   "metadata": {},
   "outputs": [
    {
     "name": "stdout",
     "output_type": "stream",
     "text": [
      "(array([  7.24330000e+04,   5.56900000e+03,   1.28200000e+03,\n",
      "         5.27000000e+02,   2.45000000e+02,   1.05000000e+02,\n",
      "         5.40000000e+01,   1.40000000e+01,   1.10000000e+01,\n",
      "         3.00000000e+00,   2.00000000e+00,   3.00000000e+00,\n",
      "         0.00000000e+00,   0.00000000e+00,   1.00000000e+00]), array([  1.00000000e+00,   7.20666667e+01,   1.43133333e+02,\n",
      "         2.14200000e+02,   2.85266667e+02,   3.56333333e+02,\n",
      "         4.27400000e+02,   4.98466667e+02,   5.69533333e+02,\n",
      "         6.40600000e+02,   7.11666667e+02,   7.82733333e+02,\n",
      "         8.53800000e+02,   9.24866667e+02,   9.95933333e+02,\n",
      "         1.06700000e+03]), <a list of 15 Patch objects>)\n"
     ]
    },
    {
     "data": {
      "image/png": "[encoded data removed]",
      "text/plain": [
       "<matplotlib.figure.Figure at 0x1117cb9d0>"
      ]
     },
     "metadata": {},
     "output_type": "display_data"
    }
   ],
   "source": [
    "degree_sequence=sorted(nx.degree(G).values(),reverse=True) # degree sequence\n",
    "p = plt.hist(degree_sequence, bins = 15)\n",
    "print p"
   ]
  },
  {
   "cell_type": "markdown",
   "metadata": {},
   "source": [
    "#### Exercise\n",
    "\n",
    "Which actor has the highest degree centrality?"
   ]
  },
  {
   "cell_type": "code",
   "execution_count": 12,
   "metadata": {},
   "outputs": [
    {
     "name": "stdout",
     "output_type": "stream",
     "text": [
      "Danny Trejo\n",
      "0.0132962815273\n"
     ]
    },
    {
     "data": {
      "text/plain": [
       "<matplotlib.axes._subplots.AxesSubplot at 0x142d1db10>"
      ]
     },
     "execution_count": 12,
     "metadata": {},
     "output_type": "execute_result"
    },
    {
     "data": {
      "image/png": "[encoded data removed]",
      "text/plain": [
       "<matplotlib.figure.Figure at 0x111769490>"
      ]
     },
     "metadata": {},
     "output_type": "display_data"
    }
   ],
   "source": [
    "degrees = pd.Series(nx.degree_centrality(G))\n",
    "print degrees.argmax()\n",
    "print degrees[degrees.argmax()]\n",
    "degrees.hist(bins = 100)"
   ]
  },
  {
   "cell_type": "markdown",
   "metadata": {},
   "source": [
    "#### Exercise\n",
    "\n",
    "How many connected components are there?"
   ]
  },
  {
   "cell_type": "code",
   "execution_count": 13,
   "metadata": {},
   "outputs": [
    {
     "data": {
      "text/plain": [
       "1390"
      ]
     },
     "execution_count": 13,
     "metadata": {},
     "output_type": "execute_result"
    }
   ],
   "source": [
    "nx.number_connected_components(G)"
   ]
  },
  {
   "cell_type": "markdown",
   "metadata": {},
   "source": [
    "#### Exercise\n",
    "\n",
    "Make a histogram of the sizes of the connected components. (Try removing the first component for better results)"
   ]
  },
  {
   "cell_type": "code",
   "execution_count": 14,
   "metadata": {},
   "outputs": [
    {
     "name": "stdout",
     "output_type": "stream",
     "text": [
      "[73375, 46, 2, 5, 8, 3, 14, 13, 9, 12]\n"
     ]
    },
    {
     "data": {
      "text/plain": [
       "<matplotlib.axes._subplots.AxesSubplot at 0x1434a8f50>"
      ]
     },
     "execution_count": 14,
     "metadata": {},
     "output_type": "execute_result"
    },
    {
     "data": {
      "image/png": "[encoded data removed]",
      "text/plain": [
       "<matplotlib.figure.Figure at 0x143251d10>"
      ]
     },
     "metadata": {},
     "output_type": "display_data"
    }
   ],
   "source": [
    "components = pd.Series(nx.connected_components(G))\n",
    "num_comp = []\n",
    "for c in range(len(components)):\n",
    "    num_comp.append(len(components[c]))\n",
    "\n",
    "print num_comp[:10]\n",
    "num_comp = pd.Series(num_comp)\n",
    "num_comp = num_comp[1:len(num_comp)]\n",
    "num_comp.hist(bins = 50)"
   ]
  },
  {
   "cell_type": "markdown",
   "metadata": {},
   "source": [
    "For the remainder of the problems, work with a subset of the original graph"
   ]
  },
  {
   "cell_type": "code",
   "execution_count": 15,
   "metadata": {},
   "outputs": [],
   "source": [
    "smallG = nx.read_edgelist('data/small_actor_edges.tsv', delimiter='\\t')"
   ]
  },
  {
   "cell_type": "code",
   "execution_count": 16,
   "metadata": {},
   "outputs": [
    {
     "data": {
      "text/plain": [
       "6433"
      ]
     },
     "execution_count": 16,
     "metadata": {},
     "output_type": "execute_result"
    }
   ],
   "source": [
    "smallG.number_of_edges()"
   ]
  },
  {
   "cell_type": "code",
   "execution_count": 17,
   "metadata": {},
   "outputs": [
    {
     "data": {
      "text/plain": [
       "357"
      ]
     },
     "execution_count": 17,
     "metadata": {},
     "output_type": "execute_result"
    }
   ],
   "source": [
    "smallG.number_of_nodes()"
   ]
  },
  {
   "cell_type": "markdown",
   "metadata": {},
   "source": [
    "#### Exercise\n",
    "\n",
    "How many connected components are there in this graph?"
   ]
  },
  {
   "cell_type": "code",
   "execution_count": 18,
   "metadata": {},
   "outputs": [
    {
     "data": {
      "text/plain": [
       "1"
      ]
     },
     "execution_count": 18,
     "metadata": {},
     "output_type": "execute_result"
    }
   ],
   "source": [
    "nx.number_connected_components(smallG)"
   ]
  },
  {
   "cell_type": "markdown",
   "metadata": {},
   "source": [
    "#### Exercise\n",
    "\n",
    "Find the most important actor in this subgroup according to each of the following centrality measures:\n",
    "- Degree\n",
    "- Betweenness\n",
    "- Eigenvector\n",
    "- Pagerank"
   ]
  },
  {
   "cell_type": "code",
   "execution_count": 19,
   "metadata": {},
   "outputs": [
    {
     "name": "stdout",
     "output_type": "stream",
     "text": [
      "Degree Centrality:      David Koechner, 0.256\n",
      "Betweenness Centrality: Danny Trejo, 0.017\n",
      "Eigenvector Centrality: David Koechner, 0.140\n",
      "Pagerank Centrality:    David Koechner, 0.006\n"
     ]
    }
   ],
   "source": [
    "dc = pd.Series(nx.degree_centrality(smallG))\n",
    "bc = pd.Series(nx.betweenness_centrality(smallG))\n",
    "ec = pd.Series(nx.eigenvector_centrality(smallG))\n",
    "pc = pd.Series(nx.pagerank(smallG))\n",
    "\n",
    "print \"Degree Centrality:      %s, %0.3f\" % (dc.argmax(), dc.max())\n",
    "print \"Betweenness Centrality: %s, %0.3f\" % (bc.argmax(), bc.max())\n",
    "print \"Eigenvector Centrality: %s, %0.3f\" % (ec.argmax(), ec.max())\n",
    "print \"Pagerank Centrality:    %s, %0.3f\" % (pc.argmax(), pc.max())"
   ]
  },
  {
   "cell_type": "code",
   "execution_count": null,
   "metadata": {},
   "outputs": [],
   "source": []
  },
  {
   "cell_type": "markdown",
   "metadata": {},
   "source": [
    "#### Exercise\n",
    "\n",
    "Compare the ranks of some of the top actors. That is, make a table with one row for each actor and one column for each centrality measure. The values should be the relative rank of the each actor according to that centrality measure. Hint: http://pandas.pydata.org/pandas-docs/stable/generated/pandas.Series.rank.html"
   ]
  },
  {
   "cell_type": "code",
   "execution_count": 20,
   "metadata": {},
   "outputs": [
    {
     "data": {
      "text/html": [
       "<div>\n",
       "<style>\n",
       "    .dataframe thead tr:only-child th {\n",
       "        text-align: right;\n",
       "    }\n",
       "\n",
       "    .dataframe thead th {\n",
       "        text-align: left;\n",
       "    }\n",
       "\n",
       "    .dataframe tbody tr th {\n",
       "        vertical-align: top;\n",
       "    }\n",
       "</style>\n",
       "<table border=\"1\" class=\"dataframe\">\n",
       "  <thead>\n",
       "    <tr style=\"text-align: right;\">\n",
       "      <th></th>\n",
       "      <th>bet_rank</th>\n",
       "      <th>deg_rank</th>\n",
       "      <th>eig_rank</th>\n",
       "      <th>pr_rank</th>\n",
       "    </tr>\n",
       "  </thead>\n",
       "  <tbody>\n",
       "    <tr>\n",
       "      <th>David Koechner</th>\n",
       "      <td>3.0</td>\n",
       "      <td>1.0</td>\n",
       "      <td>1.0</td>\n",
       "      <td>1.0</td>\n",
       "    </tr>\n",
       "    <tr>\n",
       "      <th>Justin Long</th>\n",
       "      <td>2.0</td>\n",
       "      <td>2.0</td>\n",
       "      <td>2.0</td>\n",
       "      <td>2.0</td>\n",
       "    </tr>\n",
       "    <tr>\n",
       "      <th>Paul Rudd</th>\n",
       "      <td>24.0</td>\n",
       "      <td>4.0</td>\n",
       "      <td>3.0</td>\n",
       "      <td>4.0</td>\n",
       "    </tr>\n",
       "    <tr>\n",
       "      <th>Will Ferrell</th>\n",
       "      <td>39.0</td>\n",
       "      <td>5.5</td>\n",
       "      <td>4.0</td>\n",
       "      <td>8.0</td>\n",
       "    </tr>\n",
       "    <tr>\n",
       "      <th>Seth Rogen</th>\n",
       "      <td>76.0</td>\n",
       "      <td>18.0</td>\n",
       "      <td>5.0</td>\n",
       "      <td>25.0</td>\n",
       "    </tr>\n",
       "    <tr>\n",
       "      <th>Kristen Wiig</th>\n",
       "      <td>113.0</td>\n",
       "      <td>24.0</td>\n",
       "      <td>6.0</td>\n",
       "      <td>28.0</td>\n",
       "    </tr>\n",
       "    <tr>\n",
       "      <th>Jason Bateman</th>\n",
       "      <td>14.0</td>\n",
       "      <td>5.5</td>\n",
       "      <td>7.0</td>\n",
       "      <td>6.0</td>\n",
       "    </tr>\n",
       "    <tr>\n",
       "      <th>Ben Stiller</th>\n",
       "      <td>35.0</td>\n",
       "      <td>12.0</td>\n",
       "      <td>8.0</td>\n",
       "      <td>13.0</td>\n",
       "    </tr>\n",
       "    <tr>\n",
       "      <th>Elizabeth Banks</th>\n",
       "      <td>25.0</td>\n",
       "      <td>9.0</td>\n",
       "      <td>9.0</td>\n",
       "      <td>10.0</td>\n",
       "    </tr>\n",
       "    <tr>\n",
       "      <th>Jonah Hill</th>\n",
       "      <td>45.0</td>\n",
       "      <td>18.0</td>\n",
       "      <td>10.0</td>\n",
       "      <td>20.0</td>\n",
       "    </tr>\n",
       "    <tr>\n",
       "      <th>Danny McBride</th>\n",
       "      <td>120.0</td>\n",
       "      <td>30.0</td>\n",
       "      <td>11.0</td>\n",
       "      <td>35.0</td>\n",
       "    </tr>\n",
       "    <tr>\n",
       "      <th>Jane Lynch</th>\n",
       "      <td>63.0</td>\n",
       "      <td>24.0</td>\n",
       "      <td>12.0</td>\n",
       "      <td>27.0</td>\n",
       "    </tr>\n",
       "    <tr>\n",
       "      <th>Rob Corddry</th>\n",
       "      <td>60.0</td>\n",
       "      <td>18.0</td>\n",
       "      <td>13.0</td>\n",
       "      <td>23.0</td>\n",
       "    </tr>\n",
       "    <tr>\n",
       "      <th>Owen Wilson</th>\n",
       "      <td>16.0</td>\n",
       "      <td>14.5</td>\n",
       "      <td>14.0</td>\n",
       "      <td>14.0</td>\n",
       "    </tr>\n",
       "    <tr>\n",
       "      <th>Vince Vaughn</th>\n",
       "      <td>38.0</td>\n",
       "      <td>18.0</td>\n",
       "      <td>15.0</td>\n",
       "      <td>17.0</td>\n",
       "    </tr>\n",
       "    <tr>\n",
       "      <th>Amy Poehler</th>\n",
       "      <td>107.0</td>\n",
       "      <td>36.0</td>\n",
       "      <td>16.0</td>\n",
       "      <td>43.0</td>\n",
       "    </tr>\n",
       "    <tr>\n",
       "      <th>Stanley Tucci</th>\n",
       "      <td>8.0</td>\n",
       "      <td>7.0</td>\n",
       "      <td>17.0</td>\n",
       "      <td>7.0</td>\n",
       "    </tr>\n",
       "    <tr>\n",
       "      <th>Richard Jenkins</th>\n",
       "      <td>27.0</td>\n",
       "      <td>12.0</td>\n",
       "      <td>18.0</td>\n",
       "      <td>12.0</td>\n",
       "    </tr>\n",
       "    <tr>\n",
       "      <th>Steve Carell</th>\n",
       "      <td>83.0</td>\n",
       "      <td>30.0</td>\n",
       "      <td>19.0</td>\n",
       "      <td>34.0</td>\n",
       "    </tr>\n",
       "    <tr>\n",
       "      <th>Will Arnett</th>\n",
       "      <td>74.0</td>\n",
       "      <td>32.5</td>\n",
       "      <td>20.0</td>\n",
       "      <td>36.0</td>\n",
       "    </tr>\n",
       "    <tr>\n",
       "      <th>Steve Buscemi</th>\n",
       "      <td>11.0</td>\n",
       "      <td>12.0</td>\n",
       "      <td>21.0</td>\n",
       "      <td>11.0</td>\n",
       "    </tr>\n",
       "    <tr>\n",
       "      <th>John C. Reilly</th>\n",
       "      <td>137.0</td>\n",
       "      <td>42.0</td>\n",
       "      <td>22.0</td>\n",
       "      <td>50.0</td>\n",
       "    </tr>\n",
       "    <tr>\n",
       "      <th>J.K. Simmons</th>\n",
       "      <td>22.0</td>\n",
       "      <td>14.5</td>\n",
       "      <td>23.0</td>\n",
       "      <td>15.0</td>\n",
       "    </tr>\n",
       "    <tr>\n",
       "      <th>Woody Harrelson</th>\n",
       "      <td>12.0</td>\n",
       "      <td>10.0</td>\n",
       "      <td>24.0</td>\n",
       "      <td>9.0</td>\n",
       "    </tr>\n",
       "    <tr>\n",
       "      <th>Stephen Root</th>\n",
       "      <td>30.0</td>\n",
       "      <td>21.5</td>\n",
       "      <td>25.0</td>\n",
       "      <td>18.0</td>\n",
       "    </tr>\n",
       "    <tr>\n",
       "      <th>Zach Galifianakis</th>\n",
       "      <td>53.0</td>\n",
       "      <td>27.5</td>\n",
       "      <td>26.0</td>\n",
       "      <td>30.0</td>\n",
       "    </tr>\n",
       "    <tr>\n",
       "      <th>Bill Hader</th>\n",
       "      <td>72.0</td>\n",
       "      <td>36.0</td>\n",
       "      <td>27.0</td>\n",
       "      <td>40.0</td>\n",
       "    </tr>\n",
       "    <tr>\n",
       "      <th>Ed Helms</th>\n",
       "      <td>164.0</td>\n",
       "      <td>48.0</td>\n",
       "      <td>28.0</td>\n",
       "      <td>58.0</td>\n",
       "    </tr>\n",
       "    <tr>\n",
       "      <th>Amy Adams</th>\n",
       "      <td>32.0</td>\n",
       "      <td>30.0</td>\n",
       "      <td>29.0</td>\n",
       "      <td>29.0</td>\n",
       "    </tr>\n",
       "    <tr>\n",
       "      <th>Susan Sarandon</th>\n",
       "      <td>15.0</td>\n",
       "      <td>18.0</td>\n",
       "      <td>30.0</td>\n",
       "      <td>16.0</td>\n",
       "    </tr>\n",
       "    <tr>\n",
       "      <th>Danny Trejo</th>\n",
       "      <td>1.0</td>\n",
       "      <td>3.0</td>\n",
       "      <td>31.0</td>\n",
       "      <td>3.0</td>\n",
       "    </tr>\n",
       "    <tr>\n",
       "      <th>James Franco</th>\n",
       "      <td>23.0</td>\n",
       "      <td>21.5</td>\n",
       "      <td>32.0</td>\n",
       "      <td>19.0</td>\n",
       "    </tr>\n",
       "    <tr>\n",
       "      <th>Ray Liotta</th>\n",
       "      <td>18.0</td>\n",
       "      <td>24.0</td>\n",
       "      <td>33.0</td>\n",
       "      <td>21.0</td>\n",
       "    </tr>\n",
       "    <tr>\n",
       "      <th>Rob Riggle</th>\n",
       "      <td>181.0</td>\n",
       "      <td>59.0</td>\n",
       "      <td>34.0</td>\n",
       "      <td>72.0</td>\n",
       "    </tr>\n",
       "    <tr>\n",
       "      <th>Kathryn Hahn</th>\n",
       "      <td>116.0</td>\n",
       "      <td>53.0</td>\n",
       "      <td>35.0</td>\n",
       "      <td>62.0</td>\n",
       "    </tr>\n",
       "  </tbody>\n",
       "</table>\n",
       "</div>"
      ],
      "text/plain": [
       "                   bet_rank  deg_rank  eig_rank  pr_rank\n",
       "David Koechner          3.0       1.0       1.0      1.0\n",
       "Justin Long             2.0       2.0       2.0      2.0\n",
       "Paul Rudd              24.0       4.0       3.0      4.0\n",
       "Will Ferrell           39.0       5.5       4.0      8.0\n",
       "Seth Rogen             76.0      18.0       5.0     25.0\n",
       "Kristen Wiig          113.0      24.0       6.0     28.0\n",
       "Jason Bateman          14.0       5.5       7.0      6.0\n",
       "Ben Stiller            35.0      12.0       8.0     13.0\n",
       "Elizabeth Banks        25.0       9.0       9.0     10.0\n",
       "Jonah Hill             45.0      18.0      10.0     20.0\n",
       "Danny McBride         120.0      30.0      11.0     35.0\n",
       "Jane Lynch             63.0      24.0      12.0     27.0\n",
       "Rob Corddry            60.0      18.0      13.0     23.0\n",
       "Owen Wilson            16.0      14.5      14.0     14.0\n",
       "Vince Vaughn           38.0      18.0      15.0     17.0\n",
       "Amy Poehler           107.0      36.0      16.0     43.0\n",
       "Stanley Tucci           8.0       7.0      17.0      7.0\n",
       "Richard Jenkins        27.0      12.0      18.0     12.0\n",
       "Steve Carell           83.0      30.0      19.0     34.0\n",
       "Will Arnett            74.0      32.5      20.0     36.0\n",
       "Steve Buscemi          11.0      12.0      21.0     11.0\n",
       "John C. Reilly        137.0      42.0      22.0     50.0\n",
       "J.K. Simmons           22.0      14.5      23.0     15.0\n",
       "Woody Harrelson        12.0      10.0      24.0      9.0\n",
       "Stephen Root           30.0      21.5      25.0     18.0\n",
       "Zach Galifianakis      53.0      27.5      26.0     30.0\n",
       "Bill Hader             72.0      36.0      27.0     40.0\n",
       "Ed Helms              164.0      48.0      28.0     58.0\n",
       "Amy Adams              32.0      30.0      29.0     29.0\n",
       "Susan Sarandon         15.0      18.0      30.0     16.0\n",
       "Danny Trejo             1.0       3.0      31.0      3.0\n",
       "James Franco           23.0      21.5      32.0     19.0\n",
       "Ray Liotta             18.0      24.0      33.0     21.0\n",
       "Rob Riggle            181.0      59.0      34.0     72.0\n",
       "Kathryn Hahn          116.0      53.0      35.0     62.0"
      ]
     },
     "execution_count": 20,
     "metadata": {},
     "output_type": "execute_result"
    }
   ],
   "source": [
    "df = pd.DataFrame({\n",
    "    'eig_rank': ec.rank(ascending=False),\n",
    "    'deg_rank': dc.rank(ascending=False),\n",
    "    'bet_rank' : bc.rank(ascending=False),\n",
    "    'pr_rank' : pc.rank(ascending=False)\n",
    "})\n",
    "\n",
    "df.sort_values('eig_rank').head(35)"
   ]
  },
  {
   "cell_type": "code",
   "execution_count": null,
   "metadata": {},
   "outputs": [],
   "source": []
  },
  {
   "cell_type": "markdown",
   "metadata": {},
   "source": [
    "#### Exercise\n",
    "\n",
    "Community detection is like clustering for graphs. There's lots of approaches, and we won't go into the details here. \n",
    "\n",
    "One good approach seems to be the [Louvain Method](https://www.quora.com/Is-there-a-simple-explanation-of-the-Louvain-Method-of-community-detection). It is implemented in the [community](https://github.com/taynaud/python-louvain) package in Python. Do NOT try `pip install community`, that is a different community package. Instead, you'll need to use `pip install python-louvain`\n",
    "\n",
    "Once you get it installed, try using the `best_partition` method to apply the Louvain Method for community detection\n"
   ]
  },
  {
   "cell_type": "code",
   "execution_count": 115,
   "metadata": {},
   "outputs": [
    {
     "ename": "AttributeError",
     "evalue": "'module' object has no attribute 'best_partition'",
     "output_type": "error",
     "traceback": [
      "\u001b[0;31m---------------------------------------------------------------------------\u001b[0m",
      "\u001b[0;31mAttributeError\u001b[0m                            Traceback (most recent call last)",
      "\u001b[0;32m<ipython-input-115-8497ad806358>\u001b[0m in \u001b[0;36m<module>\u001b[0;34m()\u001b[0m\n\u001b[1;32m      1\u001b[0m \u001b[0;32mimport\u001b[0m \u001b[0mcommunity\u001b[0m\u001b[0;34m\u001b[0m\u001b[0m\n\u001b[1;32m      2\u001b[0m \u001b[0;34m\u001b[0m\u001b[0m\n\u001b[0;32m----> 3\u001b[0;31m \u001b[0mcomms\u001b[0m \u001b[0;34m=\u001b[0m \u001b[0mpd\u001b[0m\u001b[0;34m.\u001b[0m\u001b[0mSeries\u001b[0m\u001b[0;34m(\u001b[0m\u001b[0mcommunity\u001b[0m\u001b[0;34m.\u001b[0m\u001b[0mbest_partition\u001b[0m\u001b[0;34m(\u001b[0m\u001b[0msmallG\u001b[0m\u001b[0;34m)\u001b[0m\u001b[0;34m)\u001b[0m\u001b[0;34m\u001b[0m\u001b[0m\n\u001b[0m\u001b[1;32m      4\u001b[0m \u001b[0mcomms\u001b[0m\u001b[0;34m.\u001b[0m\u001b[0mvalue_counts\u001b[0m\u001b[0;34m(\u001b[0m\u001b[0;34m)\u001b[0m\u001b[0;34m\u001b[0m\u001b[0m\n",
      "\u001b[0;31mAttributeError\u001b[0m: 'module' object has no attribute 'best_partition'"
     ]
    }
   ],
   "source": [
    "import community\n",
    "\n",
    "comms = pd.Series(community.best_partition(smallG))\n",
    "comms.value_counts()"
   ]
  },
  {
   "cell_type": "markdown",
   "metadata": {},
   "source": [
    "#### Exercise\n",
    "\n",
    "See if you can find the most important actors in each community. Do you recognize any of the communities?\n",
    "\n",
    "Hint: Use nx.subgraph to create a sub-graph from each community"
   ]
  },
  {
   "cell_type": "code",
   "execution_count": null,
   "metadata": {},
   "outputs": [],
   "source": []
  },
  {
   "cell_type": "markdown",
   "metadata": {},
   "source": [
    "#### Exercise\n",
    "\n",
    "Pick one of the communities you found above and plot the network using the code below"
   ]
  },
  {
   "cell_type": "code",
   "execution_count": null,
   "metadata": {
    "collapsed": true
   },
   "outputs": [],
   "source": []
  },
  {
   "cell_type": "code",
   "execution_count": null,
   "metadata": {},
   "outputs": [],
   "source": [
    "plt.figure(figsize=(12,12))\n",
    "\n",
    "# Pick a node layout\n",
    "# node_position = nx.fruchterman_reingold_layout(subG)\n",
    "# node_position = nx.spring_layout(subG)\n",
    "node_position = nx.random_layout(subG)\n",
    "# node_position = nx.circular_layout(subG)\n",
    "# node_position = nx.spectral_layout(subG)\n",
    "# node_position = nx.shell_layout(subG)\n",
    "\n",
    "nx.draw_networkx_nodes(subG, node_position, node_size=100, alpha=.8)\n",
    "nx.draw_networkx_edges(subG, node_position, alpha=.1)\n",
    "nx.draw_networkx_labels(subG, node_position)\n",
    "\n",
    "plt.show()"
   ]
  },
  {
   "cell_type": "markdown",
   "metadata": {},
   "source": [
    "You can experiment with the node layouts, but none of them are really satisfactory. A better approach is to use a graph visualization tool like [gephi](https://gephi.org/)"
   ]
  },
  {
   "cell_type": "code",
   "execution_count": null,
   "metadata": {
    "collapsed": true
   },
   "outputs": [],
   "source": [
    "nx.write_gml(subG, 'my_community.gml')"
   ]
  },
  {
   "cell_type": "markdown",
   "metadata": {},
   "source": [
    "Here's a few steps to get started\n",
    "\n",
    "1. Open the gml file in gephi\n",
    "2. Use the Layout tab and choose Force Atlas as the layout. Adjust the repulsion strength until the nodes are sufficiently spread apart. More densely connected nodes should be near the center.\n",
    "3. Add the labels by clicking the T in the lower left hand corner.\n",
    "4. Use the statistics tab to calculate eigenvector centrality, pagerank, and anything else you're interested in.\n",
    "5. Use the appearance tab to scale the text color/size according to various centrality measures.\n",
    "6. Keep experimenting!"
   ]
  },
  {
   "cell_type": "markdown",
   "metadata": {},
   "source": [
    "#### Extra Credit\n",
    "\n",
    "How many actors are connected to Kevin Bacon, but by more than six degrees?"
   ]
  },
  {
   "cell_type": "code",
   "execution_count": null,
   "metadata": {},
   "outputs": [],
   "source": [
    "G = nx.read_edgelist('data/actor_edges.tsv', delimiter='\\t')"
   ]
  },
  {
   "cell_type": "code",
   "execution_count": null,
   "metadata": {
    "collapsed": true
   },
   "outputs": [],
   "source": []
  }
 ],
 "metadata": {
  "kernelspec": {
   "display_name": "Python 2",
   "language": "python",
   "name": "python2"
  },
  "language_info": {
   "codemirror_mode": {
    "name": "ipython",
    "version": 2
   },
   "file_extension": ".py",
   "mimetype": "text/x-python",
   "name": "python",
   "nbconvert_exporter": "python",
   "pygments_lexer": "ipython2",
   "version": "2.7.13"
  }
 },
 "nbformat": 4,
 "nbformat_minor": 2
}
