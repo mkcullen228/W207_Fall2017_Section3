{
 "cells": [
  {
   "cell_type": "code",
   "execution_count": 1,
   "metadata": {},
   "outputs": [],
   "source": [
    "# Things to Try\n",
    "# Cross Validation for tetsing models \n",
    "# PCA \n",
    "# Initial Cluster Analysis \n",
    "# Improve visuals with seaborn \n",
    "# Break data by type of tree first\n",
    "    # classify three types then further down( Build own tree)\n",
    "    "
   ]
  },
  {
   "cell_type": "code",
   "execution_count": 62,
   "metadata": {},
   "outputs": [],
   "source": [
    "import numpy as np\n",
    "import pandas as pd\n",
    "import sys\n",
    "import os.path\n",
    "import matplotlib.pyplot as plt\n",
    "\n",
    "from sklearn.cross_validation import train_test_split\n",
    "from sklearn.neighbors import KNeighborsClassifier\n",
    "from sklearn.linear_model import LogisticRegression\n",
    "from sklearn.naive_bayes import BernoulliNB\n",
    "from sklearn.naive_bayes import MultinomialNB\n",
    "from sklearn.naive_bayes import GaussianNB\n",
    "from sklearn.metrics import confusion_matrix\n",
    "from sklearn.metrics import average_precision_score\n",
    "from sklearn.grid_search import GridSearchCV\n",
    "from sklearn import metrics\n",
    "from sklearn.tree import DecisionTreeRegressor\n",
    "\n",
    "\n",
    "from IPython.display import Image  \n",
    "from sklearn import tree\n",
    "import pydotplus"
   ]
  },
  {
   "cell_type": "markdown",
   "metadata": {},
   "source": [
    "## EDA Analysis"
   ]
  },
  {
   "cell_type": "markdown",
   "metadata": {},
   "source": [
    "#### Load data"
   ]
  },
  {
   "cell_type": "code",
   "execution_count": 3,
   "metadata": {},
   "outputs": [],
   "source": [
    "file_path = os.getcwd() + \"/data\"\n",
    "trian_df = pd.read_csv(file_path + '/train.csv')\n",
    "# print trian_df.head()\n",
    "test_df = pd.read_csv(file_path + '/test.csv')\n",
    "# print test_df.head()"
   ]
  },
  {
   "cell_type": "code",
   "execution_count": 4,
   "metadata": {},
   "outputs": [],
   "source": [
    "target = trian_df['Cover_Type']\n",
    "trian_df = trian_df.drop('Cover_Type', 1)"
   ]
  },
  {
   "cell_type": "code",
   "execution_count": 5,
   "metadata": {},
   "outputs": [
    {
     "name": "stdout",
     "output_type": "stream",
     "text": [
      "Class Distribution in Tagret Var: \n",
      "\tClass                    |  Number of Examples\n",
      "\t1, Spruce/Fir            |   2160 (14.29)\n",
      "\t2, Lodgepole Pine        |   2160 (14.29)\n",
      "\t3, Ponderosa Pine        |   2160 (14.29)\n",
      "\t4, Cottonwood/Willow     |   2160 (14.29)\n",
      "\t5, Aspen                 |   2160 (14.29)\n",
      "\t6, Douglas-fir           |   2160 (14.29)\n",
      "\t7, Krummholz             |   2160 (14.29)\n"
     ]
    }
   ],
   "source": [
    "target_names_list = [\"Spruce/Fir\", \"Lodgepole Pine\", \"Ponderosa Pine\", \n",
    "                \"Cottonwood/Willow\", \"Aspen\", \"Douglas-fir\", \"Krummholz\"]\n",
    "target_names_dict = {1:\"Spruce/Fir\",2:\"Lodgepole Pine\",3:\"Ponderosa Pine\", \n",
    "                4:\"Cottonwood/Willow\",5:\"Aspen\", 6:\"Douglas-fir\", 7:\"Krummholz\"}\n",
    "\n",
    "counts = target.value_counts(sort=False)\n",
    "total = sum(counts)\n",
    "print \"Class Distribution in Target Var: \"\n",
    "print \"\\tClass                    |  Number of Examples\"\n",
    "for c in np.unique(target):\n",
    "    print \"\\t%i, %-17s     |   %i (%0.2f)\" %(c, target_names_dict[c] ,counts[c], (counts[c]/float(total))*100)\n"
   ]
  },
  {
   "cell_type": "code",
   "execution_count": 6,
   "metadata": {},
   "outputs": [
    {
     "name": "stdout",
     "output_type": "stream",
     "text": [
      "Train data size 10130 X 55\n",
      "Test data size 4990 X 55\n"
     ]
    }
   ],
   "source": [
    "# Split into Train, Dev, Test Sets \n",
    "l = len(target)\n",
    "X_train, X_dev, y_train, y_dev = train_test_split(trian_df, target, test_size=0.30, random_state=42)\n",
    "print \"Train data size %i X %i\" % (X_train.shape[0], X_train.shape[1])\n",
    "print \"Test data size %i X %i\" % (X_dev.shape[0], X_dev.shape[1])"
   ]
  },
  {
   "cell_type": "code",
   "execution_count": 7,
   "metadata": {},
   "outputs": [
    {
     "name": "stdout",
     "output_type": "stream",
     "text": [
      "Class Distribution in Train: \n",
      "\tClass                    |  Number of Examples\n",
      "\t1, Spruce/Fir            |   1481 (14.62)\n",
      "\t2, Lodgepole Pine        |   1438 (14.20)\n",
      "\t3, Ponderosa Pine        |   1456 (14.37)\n",
      "\t4, Cottonwood/Willow     |   1421 (14.03)\n",
      "\t5, Aspen                 |   1439 (14.21)\n",
      "\t6, Douglas-fir           |   1438 (14.20)\n",
      "\t7, Krummholz             |   1457 (14.38)\n",
      "\n",
      "Class Distribution in Development: \n",
      "\tClass                    |  Number of Examples\n",
      "\t1, Spruce/Fir            |   679 (13.61)\n",
      "\t2, Lodgepole Pine        |   722 (14.47)\n",
      "\t3, Ponderosa Pine        |   704 (14.11)\n",
      "\t4, Cottonwood/Willow     |   739 (14.81)\n",
      "\t5, Aspen                 |   721 (14.45)\n",
      "\t6, Douglas-fir           |   722 (14.47)\n",
      "\t7, Krummholz             |   703 (14.09)\n"
     ]
    }
   ],
   "source": [
    "# Dirstribution of true classes\n",
    "counts = y_train.value_counts(sort=False)\n",
    "total = sum(counts)\n",
    "print \"Class Distribution in Train: \"\n",
    "print \"\\tClass                    |  Number of Examples\"\n",
    "for c in np.unique(y_train):\n",
    "    print \"\\t%i, %-17s     |   %i (%0.2f)\" %(c, target_names_dict[c] ,counts[c], (counts[c]/float(total))*100)\n",
    "\n",
    "\n",
    "counts = y_dev.value_counts(sort=False)\n",
    "total = sum(counts)\n",
    "print \"\\nClass Distribution in Development: \"\n",
    "print \"\\tClass                    |  Number of Examples\"\n",
    "for c in np.unique(y_dev):\n",
    "    print \"\\t%i, %-17s     |   %i (%0.2f)\" %(c, target_names_dict[c] ,counts[c], (counts[c]/float(total))*100)\n",
    "    \n",
    "\n",
    "    "
   ]
  },
  {
   "cell_type": "code",
   "execution_count": 8,
   "metadata": {},
   "outputs": [
    {
     "name": "stdout",
     "output_type": "stream",
     "text": [
      "About the Data\n",
      "Shape of Data: 10130 X 55\n",
      "\n",
      "Fetaures in Dataset\n",
      "Num   | Fetaure Name                       |  Data Type          |  Null Values \n",
      " 1    | Id                                 |   signed integer    |  0  \n",
      " 2    | Elevation                          |   signed integer    |  0  \n",
      " 3    | Aspect                             |   signed integer    |  0  \n",
      " 4    | Slope                              |   signed integer    |  0  \n",
      " 5    | Horizontal_Distance_To_Hydrology   |   signed integer    |  0  \n",
      " 6    | Vertical_Distance_To_Hydrology     |   signed integer    |  0  \n",
      " 7    | Horizontal_Distance_To_Roadways    |   signed integer    |  0  \n",
      " 8    | Hillshade_9am                      |   signed integer    |  0  \n",
      " 9    | Hillshade_Noon                     |   signed integer    |  0  \n",
      " 10   | Hillshade_3pm                      |   signed integer    |  0  \n",
      " 11   | Horizontal_Distance_To_Fire_Points |   signed integer    |  0  \n",
      " 12   | Wilderness_Area1                   |   signed integer    |  0  \n",
      " 13   | Wilderness_Area2                   |   signed integer    |  0  \n",
      " 14   | Wilderness_Area3                   |   signed integer    |  0  \n",
      " 15   | Wilderness_Area4                   |   signed integer    |  0  \n",
      " 16   | Soil_Type1                         |   signed integer    |  0  \n",
      " 17   | Soil_Type2                         |   signed integer    |  0  \n",
      " 18   | Soil_Type3                         |   signed integer    |  0  \n",
      " 19   | Soil_Type4                         |   signed integer    |  0  \n",
      " 20   | Soil_Type5                         |   signed integer    |  0  \n",
      " 21   | Soil_Type6                         |   signed integer    |  0  \n",
      " 22   | Soil_Type7                         |   signed integer    |  0  \n",
      " 23   | Soil_Type8                         |   signed integer    |  0  \n",
      " 24   | Soil_Type9                         |   signed integer    |  0  \n",
      " 25   | Soil_Type10                        |   signed integer    |  0  \n",
      " 26   | Soil_Type11                        |   signed integer    |  0  \n",
      " 27   | Soil_Type12                        |   signed integer    |  0  \n",
      " 28   | Soil_Type13                        |   signed integer    |  0  \n",
      " 29   | Soil_Type14                        |   signed integer    |  0  \n",
      " 30   | Soil_Type15                        |   signed integer    |  0  \n",
      " 31   | Soil_Type16                        |   signed integer    |  0  \n",
      " 32   | Soil_Type17                        |   signed integer    |  0  \n",
      " 33   | Soil_Type18                        |   signed integer    |  0  \n",
      " 34   | Soil_Type19                        |   signed integer    |  0  \n",
      " 35   | Soil_Type20                        |   signed integer    |  0  \n",
      " 36   | Soil_Type21                        |   signed integer    |  0  \n",
      " 37   | Soil_Type22                        |   signed integer    |  0  \n",
      " 38   | Soil_Type23                        |   signed integer    |  0  \n",
      " 39   | Soil_Type24                        |   signed integer    |  0  \n",
      " 40   | Soil_Type25                        |   signed integer    |  0  \n",
      " 41   | Soil_Type26                        |   signed integer    |  0  \n",
      " 42   | Soil_Type27                        |   signed integer    |  0  \n",
      " 43   | Soil_Type28                        |   signed integer    |  0  \n",
      " 44   | Soil_Type29                        |   signed integer    |  0  \n",
      " 45   | Soil_Type30                        |   signed integer    |  0  \n",
      " 46   | Soil_Type31                        |   signed integer    |  0  \n",
      " 47   | Soil_Type32                        |   signed integer    |  0  \n",
      " 48   | Soil_Type33                        |   signed integer    |  0  \n",
      " 49   | Soil_Type34                        |   signed integer    |  0  \n",
      " 50   | Soil_Type35                        |   signed integer    |  0  \n",
      " 51   | Soil_Type36                        |   signed integer    |  0  \n",
      " 52   | Soil_Type37                        |   signed integer    |  0  \n",
      " 53   | Soil_Type38                        |   signed integer    |  0  \n",
      " 54   | Soil_Type39                        |   signed integer    |  0  \n",
      " 55   | Soil_Type40                        |   signed integer    |  0  \n"
     ]
    }
   ],
   "source": [
    "# Features Information\n",
    "print \"About the Data\"\n",
    "print \"Shape of Data: %i X %i\" %(X_train.shape[0], X_train.shape[1])\n",
    "# print \"Column Names\" \n",
    "# print list(X_train.columns)\n",
    "\n",
    "# Print type of featuers and NaN Values \n",
    "dtype_dict = {'b': 'boolean', 'i': 'signed integer', 'u':'unsigned integer', 'f': 'floating-point',\n",
    "              'c':'complex floating-point', 'm': 'timedelta', 'M': 'datetime','O':'object',\n",
    "              'S':'(byte-)string', 'U':'Unicode','V':'void'}\n",
    "\n",
    "print \"\\nFetaures in Dataset\" \n",
    "print \"Num   | Fetaure Name                       |  Data Type          |  Null Values \"\n",
    "c = 1\n",
    "for feat in X_train.columns:\n",
    "    print \" %-3i  | %-35s|  %15s    |  %i  \" % (c, feat, dtype_dict[X_train[feat].dtype.kind], X_train[feat].isnull().sum())\n",
    "    c = c+1\n"
   ]
  },
  {
   "cell_type": "markdown",
   "metadata": {},
   "source": [
    "## Null Models"
   ]
  },
  {
   "cell_type": "code",
   "execution_count": 68,
   "metadata": {},
   "outputs": [
    {
     "name": "stdout",
     "output_type": "stream",
     "text": [
      "Accuracy Score for Null Model 1 (predic single value): 0.14%\n",
      "\n",
      "                   precision    recall  f1-score   support\n",
      "\n",
      "       Spruce/Fir       0.14      1.00      0.24       679\n",
      "   Lodgepole Pine       0.00      0.00      0.00       722\n",
      "   Ponderosa Pine       0.00      0.00      0.00       704\n",
      "Cottonwood/Willow       0.00      0.00      0.00       739\n",
      "            Aspen       0.00      0.00      0.00       721\n",
      "      Douglas-fir       0.00      0.00      0.00       722\n",
      "        Krummholz       0.00      0.00      0.00       703\n",
      "\n",
      "      avg / total       0.02      0.14      0.03      4990\n",
      "\n"
     ]
    },
    {
     "name": "stderr",
     "output_type": "stream",
     "text": [
      "/Users/mauracullen/anaconda/lib/python2.7/site-packages/sklearn/metrics/classification.py:1113: UndefinedMetricWarning: Precision and F-score are ill-defined and being set to 0.0 in labels with no predicted samples.\n",
      "  'precision', 'predicted', average, warn_for)\n"
     ]
    }
   ],
   "source": [
    "# Predict one type for all\n",
    "preds = np.ones(len(X_dev))\n",
    "\n",
    "# Print Classification Summary Scored in Development \n",
    "print \"Accuracy Score for Null Model 1 (predic single value): %0.2f%%\\n\" % (np.mean(preds == y_dev))\n",
    "\n",
    "print metrics.classification_report(y_dev, preds,\n",
    "                                    target_names = target_names_list)"
   ]
  },
  {
   "cell_type": "code",
   "execution_count": 74,
   "metadata": {},
   "outputs": [
    {
     "name": "stdout",
     "output_type": "stream",
     "text": [
      "Accuracy Score for Null Model 1 (predic single value): 0.15%\n",
      "\n",
      "                   precision    recall  f1-score   support\n",
      "\n",
      "       Spruce/Fir       0.13      0.15      0.14       679\n",
      "   Lodgepole Pine       0.14      0.17      0.16       722\n",
      "   Ponderosa Pine       0.16      0.18      0.17       704\n",
      "Cottonwood/Willow       0.15      0.17      0.16       739\n",
      "            Aspen       0.15      0.18      0.17       721\n",
      "      Douglas-fir       0.15      0.17      0.16       722\n",
      "        Krummholz       0.00      0.00      0.00       703\n",
      "\n",
      "      avg / total       0.13      0.15      0.14      4990\n",
      "\n"
     ]
    }
   ],
   "source": [
    "# Predict a random possibility for all \n",
    "preds = np.random.randint(np.min(np.unique(y_dev)), np.max(np.unique(y_dev)), size=len(y_dev))\n",
    "\n",
    "# Print Classification Summary Scored in Development \n",
    "print \"Accuracy Score for Null Model 1 (predic single value): %0.2f%%\\n\" % (np.mean(preds == y_dev))\n",
    "\n",
    "print metrics.classification_report(y_dev, preds,\n",
    "                                    target_names = target_names_list)"
   ]
  },
  {
   "cell_type": "markdown",
   "metadata": {},
   "source": [
    "### Try Different Modeling Types "
   ]
  },
  {
   "cell_type": "code",
   "execution_count": 49,
   "metadata": {},
   "outputs": [],
   "source": [
    "def fit_model(model_name, search_grid, score, train_df, train_labels, cv):\n",
    "    param_searcher = GridSearchCV(model_name(), search_grid, cv=cv, scoring=score)\n",
    "    param_searcher.fit(train_df, train_labels)\n",
    "    return param_searcher"
   ]
  },
  {
   "cell_type": "code",
   "execution_count": 50,
   "metadata": {},
   "outputs": [],
   "source": [
    "# Defining function to plot grid scores\n",
    "def plot_grid_scores(x,y,x_label,y_label,title, best_x, best_y):\n",
    "    plt.plot(x, y, '.')\n",
    "    plt.plot(best_x, best_y, 'm*', ms=10)\n",
    "    plt.xlabel(x_label)\n",
    "    plt.ylabel(y_label)\n",
    "    plt.title(title)\n",
    "    plt.show()\n",
    "    return plt"
   ]
  },
  {
   "cell_type": "markdown",
   "metadata": {},
   "source": [
    "TODO: \n",
    "* For KNN Add visual of clusters if the results are good enough\n",
    "* Try Higher K"
   ]
  },
  {
   "cell_type": "code",
   "execution_count": 11,
   "metadata": {},
   "outputs": [
    {
     "name": "stdout",
     "output_type": "stream",
     "text": [
      "KNN test Score: 0.78%\n",
      "Confusion Matrix\n"
     ]
    },
    {
     "data": {
      "text/plain": [
       "array([[428, 115,   4,   0,  40,   4,  88],\n",
       "       [133, 389,  37,   0, 114,  26,  23],\n",
       "       [  0,   5, 488,  90,  15, 106,   0],\n",
       "       [  0,   0,  28, 696,   0,  15,   0],\n",
       "       [  0,  22,  22,   0, 672,   5,   0],\n",
       "       [  0,   8,  80,  51,   9, 574,   0],\n",
       "       [ 32,   2,   0,   0,   0,   0, 669]])"
      ]
     },
     "execution_count": 11,
     "metadata": {},
     "output_type": "execute_result"
    }
   ],
   "source": [
    "# Quick KNN Model\n",
    "knn = KNeighborsClassifier(n_neighbors = 7)\n",
    "knn.fit(X_train, y_train)\n",
    "print \"KNN test Score: %0.2f%%\" % knn.score(X_dev,y_dev)\n",
    "preds = knn.predict(X_dev)\n",
    "print \"Confusion Matrix\"\n",
    "confusion_matrix(y_dev, preds)"
   ]
  },
  {
   "cell_type": "code",
   "execution_count": 12,
   "metadata": {},
   "outputs": [],
   "source": [
    "# Set Parameters for all Models\n",
    "cv = 100\n",
    "score = 'f1_weighted' # can try different scores "
   ]
  },
  {
   "cell_type": "markdown",
   "metadata": {},
   "source": [
    "## KNearestNeigbors"
   ]
  },
  {
   "cell_type": "code",
   "execution_count": 13,
   "metadata": {
    "scrolled": false
   },
   "outputs": [
    {
     "data": {
      "image/png": "[encoded data removed]",
      "text/plain": [
       "<matplotlib.figure.Figure at 0x117d00050>"
      ]
     },
     "metadata": {},
     "output_type": "display_data"
    },
    {
     "name": "stdout",
     "output_type": "stream",
     "text": [
      "Accuracy Score on Dev Set with Best Params Neighbors = 1, 0.85%\n",
      "                   precision    recall  f1-score   support\n",
      "\n",
      "       Spruce/Fir       0.77      0.72      0.74       679\n",
      "   Lodgepole Pine       0.76      0.66      0.71       722\n",
      "   Ponderosa Pine       0.85      0.81      0.82       704\n",
      "Cottonwood/Willow       0.89      0.95      0.92       739\n",
      "            Aspen       0.88      0.96      0.92       721\n",
      "      Douglas-fir       0.85      0.88      0.86       722\n",
      "        Krummholz       0.92      0.97      0.94       703\n",
      "\n",
      "      avg / total       0.85      0.85      0.85      4990\n",
      "\n"
     ]
    }
   ],
   "source": [
    "# Grid Search KNN \n",
    "# Parameters to search\n",
    "# 'algorithm': [\"auto\", \"ball_tree\", \"kd_tree\", \"brute\"]\n",
    "search_grid = {'n_neighbors': np.linspace(1, 200, 50, endpoint=True, dtype = int)}\n",
    "# search_grid = {'n_neighbors': np.linspace(1, 1000, 2, endpoint=True, dtype = int)}\n",
    "# np.linspace(1, 500, 100, endpoint=True, dtype = int)\n",
    "\n",
    "knn_gs = fit_model(KNeighborsClassifier, search_grid, score, X_train, y_train, cv)\n",
    "grid_scores = pd.DataFrame(knn_gs.grid_scores_)\n",
    "neighbors = []\n",
    "for i in range(len(grid_scores['parameters'])):\n",
    "    neighbors.append(grid_scores['parameters'][i]['n_neighbors'])\n",
    "\n",
    "# Visualize Scores for each Search\n",
    "plot_grid_scores(neighbors,grid_scores['mean_validation_score'], \"n_Neighbors\", \"Mean Validation Score\",\n",
    "                 \"K-Nearset Neighbors: n-Neighbors Grid Search\", \n",
    "                 knn_gs.best_params_.get('n_neighbors'), knn_gs.best_score_)\n",
    "\n",
    "# Fit best model from Grid Search\n",
    "knn = KNeighborsClassifier(n_neighbors = knn_gs.best_params_.get('n_neighbors'))\n",
    "knn.fit(X_train, y_train)\n",
    "\n",
    "# Print Classification Summary Scored in Development \n",
    "print \"Accuracy Score on Dev Set with Best Params Neighbors = %i, %0.2f%%\" % ( knn_gs.best_params_.get('n_neighbors'),\n",
    "                                                      knn.score(X_dev,y_dev))\n",
    "preds = knn.predict(X_dev)\n",
    "print metrics.classification_report(y_dev, preds, target_names = target_names_list)\n"
   ]
  },
  {
   "cell_type": "code",
   "execution_count": null,
   "metadata": {},
   "outputs": [],
   "source": [
    "# Visualize reuslts \n",
    "# Scatter with jitter or clusters \n"
   ]
  },
  {
   "cell_type": "markdown",
   "metadata": {},
   "source": [
    "## Logistic Regression"
   ]
  },
  {
   "cell_type": "markdown",
   "metadata": {},
   "source": [
    "TODO: \n",
    "* ROC curve / AUC Score \n",
    "* Polynomial Feature Search \n",
    "* RidgeCV, LassoCV, Elastic Net\n",
    "* Check coefficients to see if regularization is needed (Week 5) \n",
    "\n"
   ]
  },
  {
   "cell_type": "code",
   "execution_count": 14,
   "metadata": {},
   "outputs": [
    {
     "name": "stdout",
     "output_type": "stream",
     "text": [
      "Logistic Regression test Score: 0.65%\n",
      "Confusion Matrix\n"
     ]
    },
    {
     "data": {
      "text/plain": [
       "array([[366, 138,   4,   0,  53,   3, 115],\n",
       "       [162, 343,  29,   2, 148,  23,  15],\n",
       "       [  0,   3, 352, 126,  32, 190,   1],\n",
       "       [  0,   0,  45, 662,   0,  32,   0],\n",
       "       [ 20, 116,  59,   0, 495,  31,   0],\n",
       "       [  0,  19, 130,  90,  83, 400,   0],\n",
       "       [ 48,   4,   2,   0,   3,   0, 646]])"
      ]
     },
     "execution_count": 14,
     "metadata": {},
     "output_type": "execute_result"
    }
   ],
   "source": [
    "# Quick Logistic Regression \n",
    "lr = LogisticRegression()\n",
    "lr.fit(X_train, y_train)\n",
    "print \"Logistic Regression test Score: %0.2f%%\" % lr.score(X_dev, y_dev)\n",
    "preds = lr.predict(X_dev)\n",
    "print \"Confusion Matrix\"\n",
    "confusion_matrix(y_dev, preds)"
   ]
  },
  {
   "cell_type": "code",
   "execution_count": 16,
   "metadata": {},
   "outputs": [
    {
     "data": {
      "image/png": "[encoded data removed]",
      "text/plain": [
       "<matplotlib.figure.Figure at 0x109c2c610>"
      ]
     },
     "metadata": {},
     "output_type": "display_data"
    },
    {
     "name": "stdout",
     "output_type": "stream",
     "text": [
      "Accuracy Score on Dev Set with Best Params: C = 1000, 0.65%\n",
      "                   precision    recall  f1-score   support\n",
      "\n",
      "       Spruce/Fir       0.61      0.59      0.60       679\n",
      "   Lodgepole Pine       0.53      0.49      0.51       722\n",
      "   Ponderosa Pine       0.57      0.48      0.52       704\n",
      "Cottonwood/Willow       0.75      0.89      0.82       739\n",
      "            Aspen       0.61      0.64      0.62       721\n",
      "      Douglas-fir       0.59      0.57      0.58       722\n",
      "        Krummholz       0.85      0.90      0.87       703\n",
      "\n",
      "      avg / total       0.65      0.65      0.65      4990\n",
      "\n"
     ]
    }
   ],
   "source": [
    "# Grid Search Logistic Regression\n",
    "\n",
    "# Adjust tol (tolenrance if needed)\n",
    "# multi_class : str, {‘ovr’, ‘multinomial’},\n",
    "# solver : {‘newton-cg’, ‘lbfgs’, ‘liblinear’, ‘sag’, ‘saga’} (might need max_iter)\n",
    "\n",
    "# regularization_Cs = {'C': np.linspace(1, 100, 2, endpoint=True)} # 'penalty': ['l1','l2']\n",
    "regularization_Cs = {'C': np.linspace(1, 3000, 5, endpoint=True)} # 'penalty': ['l1', 'l2']\n",
    "\n",
    "# Model\n",
    "lr_gs = fit_model(LogisticRegression, regularization_Cs, score, X_train, y_train, cv)\n",
    "grid_scores = pd.DataFrame(lr_gs.grid_scores_)\n",
    "C_s = []\n",
    "for i in range(len(grid_scores['parameters'])):\n",
    "    C_s.append(grid_scores['parameters'][i]['C'])\n",
    "\n",
    "# Visualize Scores for each Search\n",
    "plot_grid_scores(C_s,grid_scores['mean_validation_score'], \"regularization C\", \n",
    "                 \"Mean Validation Score\",\"Logistic Regression: C Regularization Grid Search\", \n",
    "                 lr_gs.best_params_.get('C'), lr_gs.best_score_)\n",
    "\n",
    "# Fit best model from Grid Search\n",
    "lr = LogisticRegression(C = lr_gs.best_params_.get('C'))\n",
    "lr.fit(X_train, y_train)\n",
    "\n",
    "# Print Classification Summary Scored in Development \n",
    "print \"Accuracy Score on Dev Set with Best Params: C = %i, %0.2f%%\" % ( lr_gs.best_params_.get('C'), \n",
    "                                                                              lr.score(X_dev,y_dev))\n",
    "\n",
    "preds = lr.predict(X_dev)\n",
    "print metrics.classification_report(y_dev, preds,\n",
    "                                    target_names = target_names_list)"
   ]
  },
  {
   "cell_type": "markdown",
   "metadata": {},
   "source": [
    "## Naive Bayes"
   ]
  },
  {
   "cell_type": "markdown",
   "metadata": {},
   "source": [
    "### GuassianNB"
   ]
  },
  {
   "cell_type": "code",
   "execution_count": 17,
   "metadata": {},
   "outputs": [
    {
     "name": "stdout",
     "output_type": "stream",
     "text": [
      "Accuracy Score on Dev Set 0.65%\n",
      "\n",
      "                   precision    recall  f1-score   support\n",
      "\n",
      "       Spruce/Fir       0.56      0.67      0.61       679\n",
      "   Lodgepole Pine       0.61      0.40      0.48       722\n",
      "   Ponderosa Pine       0.52      0.61      0.56       704\n",
      "Cottonwood/Willow       0.71      0.93      0.80       739\n",
      "            Aspen       0.65      0.72      0.69       721\n",
      "      Douglas-fir       0.69      0.39      0.49       722\n",
      "        Krummholz       0.87      0.86      0.86       703\n",
      "\n",
      "      avg / total       0.66      0.65      0.64      4990\n",
      "\n"
     ]
    }
   ],
   "source": [
    "# Fit GuassianNB\n",
    "gnb = GaussianNB()\n",
    "gnb.fit(X_train, y_train)\n",
    "\n",
    "# Print Classification Summary Scored in Development \n",
    "print \"Accuracy Score on Dev Set %0.2f%%\\n\" % (gnb.score(X_dev,y_dev))\n",
    "preds = gnb.predict(X_dev)\n",
    "print metrics.classification_report(y_dev, preds,\n",
    "                                    target_names = target_names_list)\n"
   ]
  },
  {
   "cell_type": "markdown",
   "metadata": {},
   "source": [
    "### BernoulliNB"
   ]
  },
  {
   "cell_type": "code",
   "execution_count": 19,
   "metadata": {},
   "outputs": [
    {
     "data": {
      "image/png": "[encoded data removed]",
      "text/plain": [
       "<matplotlib.figure.Figure at 0x117ce9490>"
      ]
     },
     "metadata": {},
     "output_type": "display_data"
    },
    {
     "name": "stdout",
     "output_type": "stream",
     "text": [
      "Accuracy Score on Dev Set with Best Params Alpha = 44, 0.59%\n",
      "\n",
      "                   precision    recall  f1-score   support\n",
      "\n",
      "       Spruce/Fir       0.53      0.39      0.45       679\n",
      "   Lodgepole Pine       0.47      0.47      0.47       722\n",
      "   Ponderosa Pine       0.51      0.46      0.49       704\n",
      "Cottonwood/Willow       0.80      0.85      0.82       739\n",
      "            Aspen       0.46      0.65      0.54       721\n",
      "      Douglas-fir       0.55      0.50      0.52       722\n",
      "        Krummholz       0.86      0.82      0.84       703\n",
      "\n",
      "      avg / total       0.60      0.59      0.59      4990\n",
      "\n"
     ]
    }
   ],
   "source": [
    "# Partial fit if need be\n",
    "alphas = {'alpha': np.linspace(0, 100, 1000, endpoint=True)}\n",
    "alphas = {'alpha': np.linspace(0, 100, 10, endpoint=True)}\n",
    "\n",
    "# Model \n",
    "bnb_gs = fit_model(BernoulliNB, alphas, score, X_train, y_train, cv)\n",
    "grid_scores = pd.DataFrame(bnb_gs.grid_scores_)\n",
    "alphas_search = []\n",
    "for i in range(len(grid_scores['parameters'])):\n",
    "    alphas_search.append(grid_scores['parameters'][i]['alpha'])\n",
    "\n",
    "# Visualize Scores for each Search\n",
    "plot_grid_scores(alphas_search,grid_scores['mean_validation_score'], \"Alphas\", \n",
    "                 \"Mean Validation Score\", \"Bernoulli Naive Bayes: Alpha Grid Search\", \n",
    "                 bnb_gs.best_params_.get('alpha'), bnb_gs.best_score_)\n",
    "\n",
    "# Fit best model from Grid Search\n",
    "bnb = BernoulliNB(alpha = bnb_gs.best_params_.get('alpha'))\n",
    "bnb.fit(X_train, y_train)\n",
    "\n",
    "# Print Classification Summary Scored in Development \n",
    "print \"Accuracy Score on Dev Set with Best Params Alpha = %i, %0.2f%%\\n\" % (bnb_gs.best_params_.get('alpha'), \n",
    "                                                                              bnb.score(X_dev,y_dev))\n",
    "\n",
    "preds = bnb.predict(X_dev)\n",
    "print metrics.classification_report(y_dev, preds,\n",
    "                                    target_names = target_names_list)\n",
    "\n",
    "\n"
   ]
  },
  {
   "cell_type": "markdown",
   "metadata": {},
   "source": [
    "## MultinomialNB"
   ]
  },
  {
   "cell_type": "code",
   "execution_count": null,
   "metadata": {},
   "outputs": [],
   "source": [
    "# Need to make all data positive\n",
    "# Square or take Square root of data \n",
    "# Bin Data?\n",
    "# Find Best option for "
   ]
  },
  {
   "cell_type": "code",
   "execution_count": 42,
   "metadata": {},
   "outputs": [
    {
     "ename": "ValueError",
     "evalue": "Input contains NaN, infinity or a value too large for dtype('float64').",
     "output_type": "error",
     "traceback": [
      "\u001b[0;31m---------------------------------------------------------------------------\u001b[0m",
      "\u001b[0;31mValueError\u001b[0m                                Traceback (most recent call last)",
      "\u001b[0;32m<ipython-input-42-cede4f13719b>\u001b[0m in \u001b[0;36m<module>\u001b[0;34m()\u001b[0m\n\u001b[1;32m      7\u001b[0m \u001b[0;34m\u001b[0m\u001b[0m\n\u001b[1;32m      8\u001b[0m \u001b[0;31m# Model\u001b[0m\u001b[0;34m\u001b[0m\u001b[0;34m\u001b[0m\u001b[0m\n\u001b[0;32m----> 9\u001b[0;31m \u001b[0mmnb_gs\u001b[0m \u001b[0;34m=\u001b[0m \u001b[0mfit_model\u001b[0m\u001b[0;34m(\u001b[0m\u001b[0mMultinomialNB\u001b[0m\u001b[0;34m,\u001b[0m \u001b[0malphas\u001b[0m\u001b[0;34m,\u001b[0m \u001b[0mscore\u001b[0m\u001b[0;34m,\u001b[0m \u001b[0mX_train_pow\u001b[0m\u001b[0;34m,\u001b[0m \u001b[0my_train\u001b[0m\u001b[0;34m,\u001b[0m \u001b[0mcv\u001b[0m\u001b[0;34m)\u001b[0m\u001b[0;34m\u001b[0m\u001b[0m\n\u001b[0m\u001b[1;32m     10\u001b[0m \u001b[0mgrid_scores\u001b[0m \u001b[0;34m=\u001b[0m \u001b[0mpd\u001b[0m\u001b[0;34m.\u001b[0m\u001b[0mDataFrame\u001b[0m\u001b[0;34m(\u001b[0m\u001b[0mmnb_gs\u001b[0m\u001b[0;34m.\u001b[0m\u001b[0mgrid_scores_\u001b[0m\u001b[0;34m)\u001b[0m\u001b[0;34m\u001b[0m\u001b[0m\n\u001b[1;32m     11\u001b[0m \u001b[0malphas_search\u001b[0m \u001b[0;34m=\u001b[0m \u001b[0;34m[\u001b[0m\u001b[0;34m]\u001b[0m\u001b[0;34m\u001b[0m\u001b[0m\n",
      "\u001b[0;32m<ipython-input-9-b297c7197e57>\u001b[0m in \u001b[0;36mfit_model\u001b[0;34m(model_name, search_grid, score, train_df, train_labels, cv)\u001b[0m\n\u001b[1;32m      1\u001b[0m \u001b[0;32mdef\u001b[0m \u001b[0mfit_model\u001b[0m\u001b[0;34m(\u001b[0m\u001b[0mmodel_name\u001b[0m\u001b[0;34m,\u001b[0m \u001b[0msearch_grid\u001b[0m\u001b[0;34m,\u001b[0m \u001b[0mscore\u001b[0m\u001b[0;34m,\u001b[0m \u001b[0mtrain_df\u001b[0m\u001b[0;34m,\u001b[0m \u001b[0mtrain_labels\u001b[0m\u001b[0;34m,\u001b[0m\u001b[0mcv\u001b[0m\u001b[0;34m)\u001b[0m\u001b[0;34m:\u001b[0m\u001b[0;34m\u001b[0m\u001b[0m\n\u001b[1;32m      2\u001b[0m     \u001b[0mparam_searcher\u001b[0m \u001b[0;34m=\u001b[0m \u001b[0mGridSearchCV\u001b[0m\u001b[0;34m(\u001b[0m\u001b[0mmodel_name\u001b[0m\u001b[0;34m(\u001b[0m\u001b[0;34m)\u001b[0m\u001b[0;34m,\u001b[0m \u001b[0msearch_grid\u001b[0m\u001b[0;34m,\u001b[0m \u001b[0mcv\u001b[0m\u001b[0;34m=\u001b[0m\u001b[0mcv\u001b[0m\u001b[0;34m,\u001b[0m \u001b[0mscoring\u001b[0m\u001b[0;34m=\u001b[0m\u001b[0mscore\u001b[0m\u001b[0;34m)\u001b[0m\u001b[0;34m\u001b[0m\u001b[0m\n\u001b[0;32m----> 3\u001b[0;31m     \u001b[0mparam_searcher\u001b[0m\u001b[0;34m.\u001b[0m\u001b[0mfit\u001b[0m\u001b[0;34m(\u001b[0m\u001b[0mtrain_df\u001b[0m\u001b[0;34m,\u001b[0m \u001b[0mtrain_labels\u001b[0m\u001b[0;34m)\u001b[0m\u001b[0;34m\u001b[0m\u001b[0m\n\u001b[0m\u001b[1;32m      4\u001b[0m     \u001b[0;32mreturn\u001b[0m \u001b[0mparam_searcher\u001b[0m\u001b[0;34m\u001b[0m\u001b[0m\n",
      "\u001b[0;32m/Users/mauracullen/anaconda/lib/python2.7/site-packages/sklearn/grid_search.pyc\u001b[0m in \u001b[0;36mfit\u001b[0;34m(self, X, y)\u001b[0m\n\u001b[1;32m    827\u001b[0m \u001b[0;34m\u001b[0m\u001b[0m\n\u001b[1;32m    828\u001b[0m         \"\"\"\n\u001b[0;32m--> 829\u001b[0;31m         \u001b[0;32mreturn\u001b[0m \u001b[0mself\u001b[0m\u001b[0;34m.\u001b[0m\u001b[0m_fit\u001b[0m\u001b[0;34m(\u001b[0m\u001b[0mX\u001b[0m\u001b[0;34m,\u001b[0m \u001b[0my\u001b[0m\u001b[0;34m,\u001b[0m \u001b[0mParameterGrid\u001b[0m\u001b[0;34m(\u001b[0m\u001b[0mself\u001b[0m\u001b[0;34m.\u001b[0m\u001b[0mparam_grid\u001b[0m\u001b[0;34m)\u001b[0m\u001b[0;34m)\u001b[0m\u001b[0;34m\u001b[0m\u001b[0m\n\u001b[0m\u001b[1;32m    830\u001b[0m \u001b[0;34m\u001b[0m\u001b[0m\n\u001b[1;32m    831\u001b[0m \u001b[0;34m\u001b[0m\u001b[0m\n",
      "\u001b[0;32m/Users/mauracullen/anaconda/lib/python2.7/site-packages/sklearn/grid_search.pyc\u001b[0m in \u001b[0;36m_fit\u001b[0;34m(self, X, y, parameter_iterable)\u001b[0m\n\u001b[1;32m    571\u001b[0m                                     \u001b[0mself\u001b[0m\u001b[0;34m.\u001b[0m\u001b[0mfit_params\u001b[0m\u001b[0;34m,\u001b[0m \u001b[0mreturn_parameters\u001b[0m\u001b[0;34m=\u001b[0m\u001b[0mTrue\u001b[0m\u001b[0;34m,\u001b[0m\u001b[0;34m\u001b[0m\u001b[0m\n\u001b[1;32m    572\u001b[0m                                     error_score=self.error_score)\n\u001b[0;32m--> 573\u001b[0;31m                 \u001b[0;32mfor\u001b[0m \u001b[0mparameters\u001b[0m \u001b[0;32min\u001b[0m \u001b[0mparameter_iterable\u001b[0m\u001b[0;34m\u001b[0m\u001b[0m\n\u001b[0m\u001b[1;32m    574\u001b[0m                 for train, test in cv)\n\u001b[1;32m    575\u001b[0m \u001b[0;34m\u001b[0m\u001b[0m\n",
      "\u001b[0;32m/Users/mauracullen/anaconda/lib/python2.7/site-packages/sklearn/externals/joblib/parallel.pyc\u001b[0m in \u001b[0;36m__call__\u001b[0;34m(self, iterable)\u001b[0m\n\u001b[1;32m    756\u001b[0m             \u001b[0;31m# was dispatched. In particular this covers the edge\u001b[0m\u001b[0;34m\u001b[0m\u001b[0;34m\u001b[0m\u001b[0m\n\u001b[1;32m    757\u001b[0m             \u001b[0;31m# case of Parallel used with an exhausted iterator.\u001b[0m\u001b[0;34m\u001b[0m\u001b[0;34m\u001b[0m\u001b[0m\n\u001b[0;32m--> 758\u001b[0;31m             \u001b[0;32mwhile\u001b[0m \u001b[0mself\u001b[0m\u001b[0;34m.\u001b[0m\u001b[0mdispatch_one_batch\u001b[0m\u001b[0;34m(\u001b[0m\u001b[0miterator\u001b[0m\u001b[0;34m)\u001b[0m\u001b[0;34m:\u001b[0m\u001b[0;34m\u001b[0m\u001b[0m\n\u001b[0m\u001b[1;32m    759\u001b[0m                 \u001b[0mself\u001b[0m\u001b[0;34m.\u001b[0m\u001b[0m_iterating\u001b[0m \u001b[0;34m=\u001b[0m \u001b[0mTrue\u001b[0m\u001b[0;34m\u001b[0m\u001b[0m\n\u001b[1;32m    760\u001b[0m             \u001b[0;32melse\u001b[0m\u001b[0;34m:\u001b[0m\u001b[0;34m\u001b[0m\u001b[0m\n",
      "\u001b[0;32m/Users/mauracullen/anaconda/lib/python2.7/site-packages/sklearn/externals/joblib/parallel.pyc\u001b[0m in \u001b[0;36mdispatch_one_batch\u001b[0;34m(self, iterator)\u001b[0m\n\u001b[1;32m    606\u001b[0m                 \u001b[0;32mreturn\u001b[0m \u001b[0mFalse\u001b[0m\u001b[0;34m\u001b[0m\u001b[0m\n\u001b[1;32m    607\u001b[0m             \u001b[0;32melse\u001b[0m\u001b[0;34m:\u001b[0m\u001b[0;34m\u001b[0m\u001b[0m\n\u001b[0;32m--> 608\u001b[0;31m                 \u001b[0mself\u001b[0m\u001b[0;34m.\u001b[0m\u001b[0m_dispatch\u001b[0m\u001b[0;34m(\u001b[0m\u001b[0mtasks\u001b[0m\u001b[0;34m)\u001b[0m\u001b[0;34m\u001b[0m\u001b[0m\n\u001b[0m\u001b[1;32m    609\u001b[0m                 \u001b[0;32mreturn\u001b[0m \u001b[0mTrue\u001b[0m\u001b[0;34m\u001b[0m\u001b[0m\n\u001b[1;32m    610\u001b[0m \u001b[0;34m\u001b[0m\u001b[0m\n",
      "\u001b[0;32m/Users/mauracullen/anaconda/lib/python2.7/site-packages/sklearn/externals/joblib/parallel.pyc\u001b[0m in \u001b[0;36m_dispatch\u001b[0;34m(self, batch)\u001b[0m\n\u001b[1;32m    569\u001b[0m         \u001b[0mdispatch_timestamp\u001b[0m \u001b[0;34m=\u001b[0m \u001b[0mtime\u001b[0m\u001b[0;34m.\u001b[0m\u001b[0mtime\u001b[0m\u001b[0;34m(\u001b[0m\u001b[0;34m)\u001b[0m\u001b[0;34m\u001b[0m\u001b[0m\n\u001b[1;32m    570\u001b[0m         \u001b[0mcb\u001b[0m \u001b[0;34m=\u001b[0m \u001b[0mBatchCompletionCallBack\u001b[0m\u001b[0;34m(\u001b[0m\u001b[0mdispatch_timestamp\u001b[0m\u001b[0;34m,\u001b[0m \u001b[0mlen\u001b[0m\u001b[0;34m(\u001b[0m\u001b[0mbatch\u001b[0m\u001b[0;34m)\u001b[0m\u001b[0;34m,\u001b[0m \u001b[0mself\u001b[0m\u001b[0;34m)\u001b[0m\u001b[0;34m\u001b[0m\u001b[0m\n\u001b[0;32m--> 571\u001b[0;31m         \u001b[0mjob\u001b[0m \u001b[0;34m=\u001b[0m \u001b[0mself\u001b[0m\u001b[0;34m.\u001b[0m\u001b[0m_backend\u001b[0m\u001b[0;34m.\u001b[0m\u001b[0mapply_async\u001b[0m\u001b[0;34m(\u001b[0m\u001b[0mbatch\u001b[0m\u001b[0;34m,\u001b[0m \u001b[0mcallback\u001b[0m\u001b[0;34m=\u001b[0m\u001b[0mcb\u001b[0m\u001b[0;34m)\u001b[0m\u001b[0;34m\u001b[0m\u001b[0m\n\u001b[0m\u001b[1;32m    572\u001b[0m         \u001b[0mself\u001b[0m\u001b[0;34m.\u001b[0m\u001b[0m_jobs\u001b[0m\u001b[0;34m.\u001b[0m\u001b[0mappend\u001b[0m\u001b[0;34m(\u001b[0m\u001b[0mjob\u001b[0m\u001b[0;34m)\u001b[0m\u001b[0;34m\u001b[0m\u001b[0m\n\u001b[1;32m    573\u001b[0m \u001b[0;34m\u001b[0m\u001b[0m\n",
      "\u001b[0;32m/Users/mauracullen/anaconda/lib/python2.7/site-packages/sklearn/externals/joblib/_parallel_backends.pyc\u001b[0m in \u001b[0;36mapply_async\u001b[0;34m(self, func, callback)\u001b[0m\n\u001b[1;32m    107\u001b[0m     \u001b[0;32mdef\u001b[0m \u001b[0mapply_async\u001b[0m\u001b[0;34m(\u001b[0m\u001b[0mself\u001b[0m\u001b[0;34m,\u001b[0m \u001b[0mfunc\u001b[0m\u001b[0;34m,\u001b[0m \u001b[0mcallback\u001b[0m\u001b[0;34m=\u001b[0m\u001b[0mNone\u001b[0m\u001b[0;34m)\u001b[0m\u001b[0;34m:\u001b[0m\u001b[0;34m\u001b[0m\u001b[0m\n\u001b[1;32m    108\u001b[0m         \u001b[0;34m\"\"\"Schedule a func to be run\"\"\"\u001b[0m\u001b[0;34m\u001b[0m\u001b[0m\n\u001b[0;32m--> 109\u001b[0;31m         \u001b[0mresult\u001b[0m \u001b[0;34m=\u001b[0m \u001b[0mImmediateResult\u001b[0m\u001b[0;34m(\u001b[0m\u001b[0mfunc\u001b[0m\u001b[0;34m)\u001b[0m\u001b[0;34m\u001b[0m\u001b[0m\n\u001b[0m\u001b[1;32m    110\u001b[0m         \u001b[0;32mif\u001b[0m \u001b[0mcallback\u001b[0m\u001b[0;34m:\u001b[0m\u001b[0;34m\u001b[0m\u001b[0m\n\u001b[1;32m    111\u001b[0m             \u001b[0mcallback\u001b[0m\u001b[0;34m(\u001b[0m\u001b[0mresult\u001b[0m\u001b[0;34m)\u001b[0m\u001b[0;34m\u001b[0m\u001b[0m\n",
      "\u001b[0;32m/Users/mauracullen/anaconda/lib/python2.7/site-packages/sklearn/externals/joblib/_parallel_backends.pyc\u001b[0m in \u001b[0;36m__init__\u001b[0;34m(self, batch)\u001b[0m\n\u001b[1;32m    324\u001b[0m         \u001b[0;31m# Don't delay the application, to avoid keeping the input\u001b[0m\u001b[0;34m\u001b[0m\u001b[0;34m\u001b[0m\u001b[0m\n\u001b[1;32m    325\u001b[0m         \u001b[0;31m# arguments in memory\u001b[0m\u001b[0;34m\u001b[0m\u001b[0;34m\u001b[0m\u001b[0m\n\u001b[0;32m--> 326\u001b[0;31m         \u001b[0mself\u001b[0m\u001b[0;34m.\u001b[0m\u001b[0mresults\u001b[0m \u001b[0;34m=\u001b[0m \u001b[0mbatch\u001b[0m\u001b[0;34m(\u001b[0m\u001b[0;34m)\u001b[0m\u001b[0;34m\u001b[0m\u001b[0m\n\u001b[0m\u001b[1;32m    327\u001b[0m \u001b[0;34m\u001b[0m\u001b[0m\n\u001b[1;32m    328\u001b[0m     \u001b[0;32mdef\u001b[0m \u001b[0mget\u001b[0m\u001b[0;34m(\u001b[0m\u001b[0mself\u001b[0m\u001b[0;34m)\u001b[0m\u001b[0;34m:\u001b[0m\u001b[0;34m\u001b[0m\u001b[0m\n",
      "\u001b[0;32m/Users/mauracullen/anaconda/lib/python2.7/site-packages/sklearn/externals/joblib/parallel.pyc\u001b[0m in \u001b[0;36m__call__\u001b[0;34m(self)\u001b[0m\n\u001b[1;32m    129\u001b[0m \u001b[0;34m\u001b[0m\u001b[0m\n\u001b[1;32m    130\u001b[0m     \u001b[0;32mdef\u001b[0m \u001b[0m__call__\u001b[0m\u001b[0;34m(\u001b[0m\u001b[0mself\u001b[0m\u001b[0;34m)\u001b[0m\u001b[0;34m:\u001b[0m\u001b[0;34m\u001b[0m\u001b[0m\n\u001b[0;32m--> 131\u001b[0;31m         \u001b[0;32mreturn\u001b[0m \u001b[0;34m[\u001b[0m\u001b[0mfunc\u001b[0m\u001b[0;34m(\u001b[0m\u001b[0;34m*\u001b[0m\u001b[0margs\u001b[0m\u001b[0;34m,\u001b[0m \u001b[0;34m**\u001b[0m\u001b[0mkwargs\u001b[0m\u001b[0;34m)\u001b[0m \u001b[0;32mfor\u001b[0m \u001b[0mfunc\u001b[0m\u001b[0;34m,\u001b[0m \u001b[0margs\u001b[0m\u001b[0;34m,\u001b[0m \u001b[0mkwargs\u001b[0m \u001b[0;32min\u001b[0m \u001b[0mself\u001b[0m\u001b[0;34m.\u001b[0m\u001b[0mitems\u001b[0m\u001b[0;34m]\u001b[0m\u001b[0;34m\u001b[0m\u001b[0m\n\u001b[0m\u001b[1;32m    132\u001b[0m \u001b[0;34m\u001b[0m\u001b[0m\n\u001b[1;32m    133\u001b[0m     \u001b[0;32mdef\u001b[0m \u001b[0m__len__\u001b[0m\u001b[0;34m(\u001b[0m\u001b[0mself\u001b[0m\u001b[0;34m)\u001b[0m\u001b[0;34m:\u001b[0m\u001b[0;34m\u001b[0m\u001b[0m\n",
      "\u001b[0;32m/Users/mauracullen/anaconda/lib/python2.7/site-packages/sklearn/cross_validation.pyc\u001b[0m in \u001b[0;36m_fit_and_score\u001b[0;34m(estimator, X, y, scorer, train, test, verbose, parameters, fit_params, return_train_score, return_parameters, error_score)\u001b[0m\n\u001b[1;32m   1663\u001b[0m             \u001b[0mestimator\u001b[0m\u001b[0;34m.\u001b[0m\u001b[0mfit\u001b[0m\u001b[0;34m(\u001b[0m\u001b[0mX_train\u001b[0m\u001b[0;34m,\u001b[0m \u001b[0;34m**\u001b[0m\u001b[0mfit_params\u001b[0m\u001b[0;34m)\u001b[0m\u001b[0;34m\u001b[0m\u001b[0m\n\u001b[1;32m   1664\u001b[0m         \u001b[0;32melse\u001b[0m\u001b[0;34m:\u001b[0m\u001b[0;34m\u001b[0m\u001b[0m\n\u001b[0;32m-> 1665\u001b[0;31m             \u001b[0mestimator\u001b[0m\u001b[0;34m.\u001b[0m\u001b[0mfit\u001b[0m\u001b[0;34m(\u001b[0m\u001b[0mX_train\u001b[0m\u001b[0;34m,\u001b[0m \u001b[0my_train\u001b[0m\u001b[0;34m,\u001b[0m \u001b[0;34m**\u001b[0m\u001b[0mfit_params\u001b[0m\u001b[0;34m)\u001b[0m\u001b[0;34m\u001b[0m\u001b[0m\n\u001b[0m\u001b[1;32m   1666\u001b[0m \u001b[0;34m\u001b[0m\u001b[0m\n\u001b[1;32m   1667\u001b[0m     \u001b[0;32mexcept\u001b[0m \u001b[0mException\u001b[0m \u001b[0;32mas\u001b[0m \u001b[0me\u001b[0m\u001b[0;34m:\u001b[0m\u001b[0;34m\u001b[0m\u001b[0m\n",
      "\u001b[0;32m/Users/mauracullen/anaconda/lib/python2.7/site-packages/sklearn/naive_bayes.pyc\u001b[0m in \u001b[0;36mfit\u001b[0;34m(self, X, y, sample_weight)\u001b[0m\n\u001b[1;32m    560\u001b[0m             \u001b[0mReturns\u001b[0m \u001b[0mself\u001b[0m\u001b[0;34m.\u001b[0m\u001b[0;34m\u001b[0m\u001b[0m\n\u001b[1;32m    561\u001b[0m         \"\"\"\n\u001b[0;32m--> 562\u001b[0;31m         \u001b[0mX\u001b[0m\u001b[0;34m,\u001b[0m \u001b[0my\u001b[0m \u001b[0;34m=\u001b[0m \u001b[0mcheck_X_y\u001b[0m\u001b[0;34m(\u001b[0m\u001b[0mX\u001b[0m\u001b[0;34m,\u001b[0m \u001b[0my\u001b[0m\u001b[0;34m,\u001b[0m \u001b[0;34m'csr'\u001b[0m\u001b[0;34m)\u001b[0m\u001b[0;34m\u001b[0m\u001b[0m\n\u001b[0m\u001b[1;32m    563\u001b[0m         \u001b[0m_\u001b[0m\u001b[0;34m,\u001b[0m \u001b[0mn_features\u001b[0m \u001b[0;34m=\u001b[0m \u001b[0mX\u001b[0m\u001b[0;34m.\u001b[0m\u001b[0mshape\u001b[0m\u001b[0;34m\u001b[0m\u001b[0m\n\u001b[1;32m    564\u001b[0m \u001b[0;34m\u001b[0m\u001b[0m\n",
      "\u001b[0;32m/Users/mauracullen/anaconda/lib/python2.7/site-packages/sklearn/utils/validation.pyc\u001b[0m in \u001b[0;36mcheck_X_y\u001b[0;34m(X, y, accept_sparse, dtype, order, copy, force_all_finite, ensure_2d, allow_nd, multi_output, ensure_min_samples, ensure_min_features, y_numeric, warn_on_dtype, estimator)\u001b[0m\n\u001b[1;32m    519\u001b[0m     X = check_array(X, accept_sparse, dtype, order, copy, force_all_finite,\n\u001b[1;32m    520\u001b[0m                     \u001b[0mensure_2d\u001b[0m\u001b[0;34m,\u001b[0m \u001b[0mallow_nd\u001b[0m\u001b[0;34m,\u001b[0m \u001b[0mensure_min_samples\u001b[0m\u001b[0;34m,\u001b[0m\u001b[0;34m\u001b[0m\u001b[0m\n\u001b[0;32m--> 521\u001b[0;31m                     ensure_min_features, warn_on_dtype, estimator)\n\u001b[0m\u001b[1;32m    522\u001b[0m     \u001b[0;32mif\u001b[0m \u001b[0mmulti_output\u001b[0m\u001b[0;34m:\u001b[0m\u001b[0;34m\u001b[0m\u001b[0m\n\u001b[1;32m    523\u001b[0m         y = check_array(y, 'csr', force_all_finite=True, ensure_2d=False,\n",
      "\u001b[0;32m/Users/mauracullen/anaconda/lib/python2.7/site-packages/sklearn/utils/validation.pyc\u001b[0m in \u001b[0;36mcheck_array\u001b[0;34m(array, accept_sparse, dtype, order, copy, force_all_finite, ensure_2d, allow_nd, ensure_min_samples, ensure_min_features, warn_on_dtype, estimator)\u001b[0m\n\u001b[1;32m    405\u001b[0m                              % (array.ndim, estimator_name))\n\u001b[1;32m    406\u001b[0m         \u001b[0;32mif\u001b[0m \u001b[0mforce_all_finite\u001b[0m\u001b[0;34m:\u001b[0m\u001b[0;34m\u001b[0m\u001b[0m\n\u001b[0;32m--> 407\u001b[0;31m             \u001b[0m_assert_all_finite\u001b[0m\u001b[0;34m(\u001b[0m\u001b[0marray\u001b[0m\u001b[0;34m)\u001b[0m\u001b[0;34m\u001b[0m\u001b[0m\n\u001b[0m\u001b[1;32m    408\u001b[0m \u001b[0;34m\u001b[0m\u001b[0m\n\u001b[1;32m    409\u001b[0m     \u001b[0mshape_repr\u001b[0m \u001b[0;34m=\u001b[0m \u001b[0m_shape_repr\u001b[0m\u001b[0;34m(\u001b[0m\u001b[0marray\u001b[0m\u001b[0;34m.\u001b[0m\u001b[0mshape\u001b[0m\u001b[0;34m)\u001b[0m\u001b[0;34m\u001b[0m\u001b[0m\n",
      "\u001b[0;32m/Users/mauracullen/anaconda/lib/python2.7/site-packages/sklearn/utils/validation.pyc\u001b[0m in \u001b[0;36m_assert_all_finite\u001b[0;34m(X)\u001b[0m\n\u001b[1;32m     56\u001b[0m             and not np.isfinite(X).all()):\n\u001b[1;32m     57\u001b[0m         raise ValueError(\"Input contains NaN, infinity\"\n\u001b[0;32m---> 58\u001b[0;31m                          \" or a value too large for %r.\" % X.dtype)\n\u001b[0m\u001b[1;32m     59\u001b[0m \u001b[0;34m\u001b[0m\u001b[0m\n\u001b[1;32m     60\u001b[0m \u001b[0;34m\u001b[0m\u001b[0m\n",
      "\u001b[0;31mValueError\u001b[0m: Input contains NaN, infinity or a value too large for dtype('float64')."
     ]
    }
   ],
   "source": [
    "# Partial fit if need be\n",
    "alphas = {'alpha': np.linspace(0, 100, 1000, endpoint=True)}\n",
    "alphas = {'alpha': np.linspace(0, 100, 10, endpoint=True)}\n",
    "\n",
    "X_train_pow = X_train.apply(np.sqrt, axis = 0)\n",
    "X_dev_pow = X_dev.apply(np.sqrt, axis = 0)\n",
    "\n",
    "# Model\n",
    "mnb_gs = fit_model(MultinomialNB, alphas, score, X_train_pow, y_train, cv)\n",
    "grid_scores = pd.DataFrame(mnb_gs.grid_scores_)\n",
    "alphas_search = []\n",
    "for i in range(len(grid_scores['parameters'])):\n",
    "    alphas_search.append(grid_scores['parameters'][i]['alpha'])\n",
    "\n",
    "# Visualize Scores for each Search\n",
    "plot_grid_scores(alphas_search,grid_scores['mean_validation_score'], \"Alphas\", \n",
    "                 \"Mean Validation Score\", \"Bernoulli Naive Bayes: Alpha Grid Search\", \n",
    "                 mnb_gs.best_params_.get('alpha'), mnb_gs.best_score_)\n",
    "\n",
    "# Fit best model from Grid Search\n",
    "mnb = MultinomialNB(alpha = mnb_gs.best_params_.get('alpha'))\n",
    "mnb.fit(X_train_pow, y_train)\n",
    "\n",
    "# Print Classification Summary Scored in Development \n",
    "print \"Accuracy Score on Dev Set with Best Params: Alpha = %i, %0.2f%%\" % (mnb_gs.best_params_.get('alpha'), \n",
    "                                                                              mnb.score(X_dev_pow,y_dev))\n",
    "\n",
    "preds = mnb.predict(X_dev)\n",
    "print metrics.classification_report(y_dev, preds,\n",
    "                                    target_names = target_names_list)\n",
    "\n"
   ]
  },
  {
   "cell_type": "code",
   "execution_count": null,
   "metadata": {},
   "outputs": [],
   "source": []
  },
  {
   "cell_type": "markdown",
   "metadata": {},
   "source": [
    "## Decision Tree"
   ]
  },
  {
   "cell_type": "code",
   "execution_count": 63,
   "metadata": {},
   "outputs": [
    {
     "data": {
      "text/plain": [
       "0.49738796101331628"
      ]
     },
     "execution_count": 63,
     "metadata": {},
     "output_type": "execute_result"
    }
   ],
   "source": [
    "# Simple/Quick Dtree\n",
    "dt = DecisionTreeRegressor()\n",
    "dt.fit(X_train, y_train)\n",
    "dt.score(X_dev, y_dev)"
   ]
  },
  {
   "cell_type": "code",
   "execution_count": 66,
   "metadata": {},
   "outputs": [
    {
     "ename": "AttributeError",
     "evalue": "'Dot' object has no attribute 'show'",
     "output_type": "error",
     "traceback": [
      "\u001b[0;31m---------------------------------------------------------------------------\u001b[0m",
      "\u001b[0;31mAttributeError\u001b[0m                            Traceback (most recent call last)",
      "\u001b[0;32m<ipython-input-66-dd244d7ac83b>\u001b[0m in \u001b[0;36m<module>\u001b[0;34m()\u001b[0m\n\u001b[1;32m      4\u001b[0m                                 special_characters=True)\n\u001b[1;32m      5\u001b[0m \u001b[0mgraph\u001b[0m \u001b[0;34m=\u001b[0m \u001b[0mpydotplus\u001b[0m\u001b[0;34m.\u001b[0m\u001b[0mgraphviz\u001b[0m\u001b[0;34m.\u001b[0m\u001b[0mgraph_from_dot_file\u001b[0m\u001b[0;34m(\u001b[0m\u001b[0;34m'tmp.dot'\u001b[0m\u001b[0;34m)\u001b[0m\u001b[0;34m\u001b[0m\u001b[0m\n\u001b[0;32m----> 6\u001b[0;31m \u001b[0mgraph\u001b[0m\u001b[0;34m.\u001b[0m\u001b[0mshow\u001b[0m\u001b[0;34m(\u001b[0m\u001b[0;34m)\u001b[0m\u001b[0;34m\u001b[0m\u001b[0m\n\u001b[0m\u001b[1;32m      7\u001b[0m \u001b[0;31m# Image(graph.create_png())\u001b[0m\u001b[0;34m\u001b[0m\u001b[0;34m\u001b[0m\u001b[0m\n",
      "\u001b[0;31mAttributeError\u001b[0m: 'Dot' object has no attribute 'show'"
     ]
    }
   ],
   "source": [
    "dot_data = tree.export_graphviz(dt, out_file='tmp.dot',\n",
    "                                feature_names=X_train.columns,  \n",
    "                                filled=True, rounded=True,  \n",
    "                                special_characters=True)\n",
    "graph = pydotplus.graphviz.graph_from_dot_file('tmp.dot')\n",
    "graph.show()\n",
    "# Image(graph.create_png())  "
   ]
  },
  {
   "cell_type": "code",
   "execution_count": null,
   "metadata": {},
   "outputs": [],
   "source": [
    "# criterion, splitter, max_depth, min_samples_split, min_samples_leaf, max_features, max_leaf_nodes\n",
    "\n",
    "\n",
    "\n",
    "# Model\n",
    "dt_gs = fit_model(DecisionTreeRegressor, params, score, X_train, y_train, cv)\n",
    "grid_scores = pd.DataFrame(dt_gs.grid_scores_)\n",
    "alphas_search = []\n",
    "for i in range(len(grid_scores['parameters'])):\n",
    "    alphas_search.append(grid_scores['parameters'][i]['alpha'])\n"
   ]
  },
  {
   "cell_type": "code",
   "execution_count": null,
   "metadata": {},
   "outputs": [],
   "source": []
  },
  {
   "cell_type": "code",
   "execution_count": null,
   "metadata": {},
   "outputs": [],
   "source": []
  },
  {
   "cell_type": "code",
   "execution_count": null,
   "metadata": {},
   "outputs": [],
   "source": [
    "# Create Predictions from Test Set \n",
    "test_preds = knn.predict(test_df)\n",
    "submission_df = pd.DataFrame(data= {'Id': test_df['Id'], 'Cover_Type': test_preds})\n",
    "submission_df.to_csv(file_path + '/submission.csv')"
   ]
  }
 ],
 "metadata": {
  "kernelspec": {
   "display_name": "Python 2",
   "language": "python",
   "name": "python2"
  },
  "language_info": {
   "codemirror_mode": {
    "name": "ipython",
    "version": 2
   },
   "file_extension": ".py",
   "mimetype": "text/x-python",
   "name": "python",
   "nbconvert_exporter": "python",
   "pygments_lexer": "ipython2",
   "version": "2.7.11"
  }
 },
 "nbformat": 4,
 "nbformat_minor": 2
}
