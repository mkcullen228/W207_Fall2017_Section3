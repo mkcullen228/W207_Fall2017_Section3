{
 "cells": [
  {
   "cell_type": "code",
   "execution_count": 21,
   "metadata": {},
   "outputs": [],
   "source": [
    "import numpy as np\n",
    "import pandas as pd\n",
    "import sys\n",
    "import os.path\n",
    "import matplotlib.pyplot as plt\n",
    "\n",
    "from sklearn.cross_validation import train_test_split\n",
    "from sklearn.grid_search import GridSearchCV\n",
    "from sklearn.tree import DecisionTreeClassifier \n",
    "from sklearn.ensemble import RandomForestClassifier\n",
    "%matplotlib inline\n",
    "\n"
   ]
  },
  {
   "cell_type": "code",
   "execution_count": 22,
   "metadata": {},
   "outputs": [
    {
     "name": "stdout",
     "output_type": "stream",
     "text": [
      "Train data size 10584 X 54\n",
      "Test data size 4536 X 54\n"
     ]
    }
   ],
   "source": [
    "## Prepare Data \n",
    "\n",
    "# Load data \n",
    "file_path = os.getcwd() + \"/data\"\n",
    "train_df = pd.read_csv(file_path + '/train.csv')\n",
    "# print train_df.head()\n",
    "test_df = pd.read_csv(file_path + '/test.csv')\n",
    "# print test_df.head()\n",
    "\n",
    "target = train_df['Cover_Type']\n",
    "train_df = train_df.drop('Cover_Type', 1)\n",
    "train_df = train_df.drop('Id',1)\n",
    "\n",
    "# Split into Train, Dev, Test Sets \n",
    "predictors = train_df.columns\n",
    "l = len(target)\n",
    "X_train, X_dev, y_train, y_dev = train_test_split(train_df, target, test_size=0.30, random_state=42)\n",
    "print \"Train data size %i X %i\" % (X_train.shape[0], X_train.shape[1])\n",
    "print \"Test data size %i X %i\" % (X_dev.shape[0], X_dev.shape[1])\n"
   ]
  },
  {
   "cell_type": "markdown",
   "metadata": {},
   "source": [
    "### Decision Tree Search"
   ]
  },
  {
   "cell_type": "code",
   "execution_count": 37,
   "metadata": {},
   "outputs": [
    {
     "name": "stdout",
     "output_type": "stream",
     "text": [
      "{'min_samples_split': 3, 'criterion': 'gini', 'max_depth': 6}\n",
      "Best Score 0.69\n"
     ]
    },
    {
     "data": {
      "text/plain": [
       "DecisionTreeClassifier(class_weight=None, criterion='gini', max_depth=6,\n",
       "            max_features=None, max_leaf_nodes=None,\n",
       "            min_impurity_split=1e-07, min_samples_leaf=1,\n",
       "            min_samples_split=2, min_weight_fraction_leaf=0.0,\n",
       "            presort=False, random_state=None, splitter='best')"
      ]
     },
     "execution_count": 37,
     "metadata": {},
     "output_type": "execute_result"
    }
   ],
   "source": [
    "# Grid Search with Decision Tree\n",
    "# 'max_leaf_nodes' = [1,3,5]\n",
    "\n",
    "tree_para = {'criterion':['gini','entropy'],\n",
    "             'min_samples_split': np.linspace(2, 200, 50, endpoint=True, dtype = int),\n",
    "             'max_depth':[4,5,6,7,8,9,10,11,12,15,20,30,40,50,70,90,120,150]}\n",
    "\n",
    "tree_para = {'criterion':['gini','entropy'],\n",
    "             'min_samples_split':[3,5],\n",
    "             'max_depth':[4,5,6]}\n",
    "\n",
    "clf = GridSearchCV(DecisionTreeClassifier(), tree_para, cv=5)\n",
    "clf.fit(X_train, y_train)\n",
    "print clf.best_params_\n",
    "print \"Best Score %0.2f\" % clf.best_score_\n",
    "\n",
    "dt = DecisionTreeClassifier(criterion=clf.best_params_.get('criterion'),\n",
    "                           max_depth=clf.best_params_.get('max_depth'))\n",
    "dt.fit(X_train,y_train)"
   ]
  },
  {
   "cell_type": "code",
   "execution_count": 38,
   "metadata": {},
   "outputs": [
    {
     "name": "stdout",
     "output_type": "stream",
     "text": [
      "Accuracy Score on Dev Set: 0.70%\n",
      "Mean squared error = 2.78240740741\n",
      "R^2 = 0.708238851096\n",
      "\n",
      "Top 15 Fetaures in Subset Analysis: Dev Accuracy 0.70%\n",
      " Feature                               | Importance Value\n",
      "0  Elevation                           |  0.666\n",
      "1  Hillshade_9am                       |  0.066\n",
      "2  Horizontal_Distance_To_Fire_Points  |  0.043\n",
      "3  Horizontal_Distance_To_Hydrology    |  0.039\n",
      "4  Horizontal_Distance_To_Roadways     |  0.034\n",
      "5  Soil_Type10                         |  0.024\n",
      "6  Wilderness_Area1                    |  0.022\n",
      "7  Soil_Type3                          |  0.021\n",
      "8  Soil_Type4                          |  0.016\n",
      "9  Soil_Type39                         |  0.011\n",
      "10 Soil_Type12                         |  0.009\n",
      "11 Hillshade_3pm                       |  0.008\n",
      "12 Hillshade_Noon                      |  0.007\n",
      "13 Soil_Type38                         |  0.006\n",
      "14 Soil_Type17                         |  0.006\n"
     ]
    }
   ],
   "source": [
    "feature_importance = dt.feature_importances_\n",
    "feats_to_use = 15\n",
    "feats = np.argsort(-feature_importance)[:15]\n",
    "\n",
    "print \"Accuracy Score on Dev Set: %0.2f%%\" % (dt.score(X_dev,y_dev))\n",
    "preds = dt.predict(X_dev)\n",
    "mse = np.mean((preds - y_dev) ** 2)\n",
    "print 'Mean squared error = {}'.format(mse)\n",
    "print 'R^2 = {}'.format(dt.score(X_train, y_train))\n",
    "\n",
    "print \"\\nTop 15 Fetaures in Subset Analysis: Dev Accuracy %0.2f%%\" % dt.score(X_dev,y_dev) \n",
    "print \" Feature%-30s | Importance Value\" % ''\n",
    "for i in range(15):\n",
    "    print \"%-2i %-35s |  %0.3f\" %(i, X_train.columns[feats[i]], feature_importance[feats[i]])\n"
   ]
  },
  {
   "cell_type": "code",
   "execution_count": 39,
   "metadata": {},
   "outputs": [
    {
     "data": {
      "text/plain": [
       "<matplotlib.axes._subplots.AxesSubplot at 0x11bab4b10>"
      ]
     },
     "execution_count": 39,
     "metadata": {},
     "output_type": "execute_result"
    },
    {
     "data": {
      "image/png": "[encoded data removed]",
      "text/plain": [
       "<matplotlib.figure.Figure at 0x11b38a290>"
      ]
     },
     "metadata": {},
     "output_type": "display_data"
    },
    {
     "data": {
      "image/png": "[encoded data removed]",
      "text/plain": [
       "<matplotlib.figure.Figure at 0x1196fc9d0>"
      ]
     },
     "metadata": {},
     "output_type": "display_data"
    }
   ],
   "source": [
    "# Report Feature Importnace in DTREE \n",
    "importance_df = pd.DataFrame({\n",
    "        'feature': predictors,\n",
    "        'importance': dt.feature_importances_\n",
    "    })\n",
    "\n",
    "importance_df.sort_values('importance', ascending = False).plot(x='feature', kind='bar')\n",
    "# only plot importances > 0.001\n",
    "importance_df1 = importance_df[importance_df['importance'] >= 0.001]\n",
    "importance_df1.sort_values('importance', ascending = False).plot(x='feature', kind='bar')"
   ]
  },
  {
   "cell_type": "markdown",
   "metadata": {},
   "source": [
    "### Grid Search with Random Forest "
   ]
  },
  {
   "cell_type": "code",
   "execution_count": 42,
   "metadata": {},
   "outputs": [
    {
     "ename": "SyntaxError",
     "evalue": "invalid syntax (<ipython-input-42-03a44c03c4bd>, line 7)",
     "output_type": "error",
     "traceback": [
      "\u001b[0;36m  File \u001b[0;32m\"<ipython-input-42-03a44c03c4bd>\"\u001b[0;36m, line \u001b[0;32m7\u001b[0m\n\u001b[0;31m    'max_depth':[4,5,6,7,8,9,10,11,12,15,20,30,40,50,70,90,120,150]}\u001b[0m\n\u001b[0m              ^\u001b[0m\n\u001b[0;31mSyntaxError\u001b[0m\u001b[0;31m:\u001b[0m invalid syntax\n"
     ]
    }
   ],
   "source": [
    "# Grid Search with Decision Tree\n",
    "# 'max_leaf_nodes' = [1,3,5]\n",
    "\n",
    "tree_para = {'n_estimators': np.linspace(1, 100, 50, endpoint=True, dtype = int),\n",
    "             'criterion':['gini','entropy'],\n",
    "             'min_samples_split': np.linspace(2, 200, 50, endpoint=True, dtype = int),\n",
    "             'max_depth':[4,5,6,7,8,9,10,11,12,15,20,30,40,50,70,90,120,150]}\n",
    "\n",
    "tree_para = {'n_estimators': [1,3,5],\n",
    "             'criterion':['gini','entropy'],\n",
    "             'min_samples_split': [2,4],\n",
    "             'max_depth': [4,5,6]}\n",
    "\n",
    "clf = GridSearchCV(RandomForestClassifier(), tree_para, cv=5)\n",
    "clf.fit(X_train, y_train)\n",
    "print clf.best_params_\n",
    "print \"Best Score %0.2f\" % clf.best_score_\n",
    "\n",
    "rf = DecisionTreeClassifier(criterion=clf.best_params_.get('criterion'),\n",
    "                           max_depth=clf.best_params_.get('max_depth'))\n",
    "rf.fit(X_train,y_train)"
   ]
  },
  {
   "cell_type": "code",
   "execution_count": null,
   "metadata": {},
   "outputs": [],
   "source": [
    "feature_importance = rf.feature_importances_\n",
    "feats_to_use = 15\n",
    "feats = np.argsort(-feature_importance)[:15]\n",
    "\n",
    "print \"Accuracy Score on Dev Set: %0.2f%%\" % (rf.score(X_dev,y_dev))\n",
    "preds = rf.predict(X_dev)\n",
    "mse = np.mean((preds - y_dev) ** 2)\n",
    "print 'Mean squared error = {}'.format(mse)\n",
    "print 'R^2 = {}'.format(rf.score(X_train, y_train))\n",
    "\n",
    "print \"\\nTop 15 Fetaures in Subset Analysis: Dev Accuracy %0.2f%%\" % dt.score(X_dev,y_dev) \n",
    "print \" Feature%-30s | Importance Value\" % ''\n",
    "for i in range(15):\n",
    "    print \"%-2i %-35s |  %0.3f\" %(i, X_train.columns[feats[i]], feature_importance[feats[i]])\n"
   ]
  },
  {
   "cell_type": "code",
   "execution_count": null,
   "metadata": {},
   "outputs": [],
   "source": [
    "# Report Feature Importnace in DTREE \n",
    "importance_df = pd.DataFrame({\n",
    "        'feature': predictors,\n",
    "        'importance': rf.feature_importances_\n",
    "    })\n",
    "\n",
    "importance_df.sort_values('importance', ascending = False).plot(x='feature', kind='bar')\n",
    "# only plot importances > 0.001\n",
    "importance_df1 = importance_df[importance_df['importance'] >= 0.001]\n",
    "importance_df1.sort_values('importance', ascending = False).plot(x='feature', kind='bar')"
   ]
  },
  {
   "cell_type": "code",
   "execution_count": null,
   "metadata": {},
   "outputs": [],
   "source": []
  },
  {
   "cell_type": "code",
   "execution_count": null,
   "metadata": {},
   "outputs": [],
   "source": []
  },
  {
   "cell_type": "code",
   "execution_count": null,
   "metadata": {},
   "outputs": [],
   "source": []
  },
  {
   "cell_type": "code",
   "execution_count": null,
   "metadata": {},
   "outputs": [],
   "source": [
    "# List of best features"
   ]
  }
 ],
 "metadata": {
  "kernelspec": {
   "display_name": "Python 2",
   "language": "python",
   "name": "python2"
  },
  "language_info": {
   "codemirror_mode": {
    "name": "ipython",
    "version": 2
   },
   "file_extension": ".py",
   "mimetype": "text/x-python",
   "name": "python",
   "nbconvert_exporter": "python",
   "pygments_lexer": "ipython2",
   "version": "2.7.13"
  }
 },
 "nbformat": 4,
 "nbformat_minor": 2
}
