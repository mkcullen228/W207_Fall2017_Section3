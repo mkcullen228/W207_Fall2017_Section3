{
 "cells": [
  {
   "cell_type": "code",
   "execution_count": 39,
   "metadata": {},
   "outputs": [],
   "source": [
    "import numpy as np\n",
    "import pandas as pd\n",
    "\n",
    "from sklearn.model_selection import train_test_split\n",
    "from sklearn.neighbors import KNeighborsClassifier\n",
    "from sklearn.linear_model import LogisticRegression\n",
    "from sklearn.metrics import confusion_matrix\n",
    "from sklearn.metrics import average_precision_score\n"
   ]
  },
  {
   "cell_type": "code",
   "execution_count": 55,
   "metadata": {},
   "outputs": [
    {
     "name": "stdout",
     "output_type": "stream",
     "text": [
      "   Id  Elevation  Aspect  Slope  Horizontal_Distance_To_Hydrology  \\\n",
      "0   1       2596      51      3                               258   \n",
      "1   2       2590      56      2                               212   \n",
      "2   3       2804     139      9                               268   \n",
      "3   4       2785     155     18                               242   \n",
      "4   5       2595      45      2                               153   \n",
      "\n",
      "   Vertical_Distance_To_Hydrology  Horizontal_Distance_To_Roadways  \\\n",
      "0                               0                              510   \n",
      "1                              -6                              390   \n",
      "2                              65                             3180   \n",
      "3                             118                             3090   \n",
      "4                              -1                              391   \n",
      "\n",
      "   Hillshade_9am  Hillshade_Noon  Hillshade_3pm     ...      Soil_Type32  \\\n",
      "0            221             232            148     ...                0   \n",
      "1            220             235            151     ...                0   \n",
      "2            234             238            135     ...                0   \n",
      "3            238             238            122     ...                0   \n",
      "4            220             234            150     ...                0   \n",
      "\n",
      "   Soil_Type33  Soil_Type34  Soil_Type35  Soil_Type36  Soil_Type37  \\\n",
      "0            0            0            0            0            0   \n",
      "1            0            0            0            0            0   \n",
      "2            0            0            0            0            0   \n",
      "3            0            0            0            0            0   \n",
      "4            0            0            0            0            0   \n",
      "\n",
      "   Soil_Type38  Soil_Type39  Soil_Type40  Cover_Type  \n",
      "0            0            0            0           5  \n",
      "1            0            0            0           5  \n",
      "2            0            0            0           2  \n",
      "3            0            0            0           2  \n",
      "4            0            0            0           5  \n",
      "\n",
      "[5 rows x 56 columns]\n",
      "      Id  Elevation  Aspect  Slope  Horizontal_Distance_To_Hydrology  \\\n",
      "0  15121       2680     354     14                                 0   \n",
      "1  15122       2683       0     13                                 0   \n",
      "2  15123       2713      16     15                                 0   \n",
      "3  15124       2709      24     17                                 0   \n",
      "4  15125       2706      29     19                                 0   \n",
      "\n",
      "   Vertical_Distance_To_Hydrology  Horizontal_Distance_To_Roadways  \\\n",
      "0                               0                             2684   \n",
      "1                               0                             2654   \n",
      "2                               0                             2980   \n",
      "3                               0                             2950   \n",
      "4                               0                             2920   \n",
      "\n",
      "   Hillshade_9am  Hillshade_Noon  Hillshade_3pm     ...       Soil_Type31  \\\n",
      "0            196             214            156     ...                 0   \n",
      "1            201             216            152     ...                 0   \n",
      "2            206             208            137     ...                 0   \n",
      "3            208             201            125     ...                 0   \n",
      "4            210             195            115     ...                 0   \n",
      "\n",
      "   Soil_Type32  Soil_Type33  Soil_Type34  Soil_Type35  Soil_Type36  \\\n",
      "0            0            0            0            0            0   \n",
      "1            0            0            0            0            0   \n",
      "2            0            0            0            0            0   \n",
      "3            0            0            0            0            0   \n",
      "4            0            0            0            0            0   \n",
      "\n",
      "   Soil_Type37  Soil_Type38  Soil_Type39  Soil_Type40  \n",
      "0            0            0            0            0  \n",
      "1            0            0            0            0  \n",
      "2            0            0            0            0  \n",
      "3            0            0            0            0  \n",
      "4            0            0            0            0  \n",
      "\n",
      "[5 rows x 55 columns]\n"
     ]
    }
   ],
   "source": [
    "# Load data \n",
    "file_path = '/Users/mauracullen/Documents/UCB_MIDS/W207_AppliedMachineLearning/W207_Fall2017_Section3/Final_Project/data'\n",
    "trian_df = pd.read_csv(file_path + '/train.csv')\n",
    "print trian_df.head()\n",
    "test_df = pd.read_csv(file_path + '/test.csv')\n",
    "print test_df.head()"
   ]
  },
  {
   "cell_type": "code",
   "execution_count": 44,
   "metadata": {},
   "outputs": [],
   "source": [
    "target = trian_df['Cover_Type']\n",
    "trian_df = trian_df.drop('Cover_Type', 1)"
   ]
  },
  {
   "cell_type": "code",
   "execution_count": 45,
   "metadata": {},
   "outputs": [
    {
     "name": "stdout",
     "output_type": "stream",
     "text": [
      "Train data size 10130 X 55\n",
      "Test data size 4990 X 55\n"
     ]
    }
   ],
   "source": [
    "# Split into Train, Dev, Test Sets \n",
    "l = len(target)\n",
    "X_train, X_dev, y_train, y_dev = train_test_split(trian_df, target, test_size=0.33, random_state=42)\n",
    "print \"Train data size %i X %i\" % (X_train.shape[0], X_train.shape[1])\n",
    "print \"Test data size %i X %i\" % (X_dev.shape[0], X_dev.shape[1])"
   ]
  },
  {
   "cell_type": "code",
   "execution_count": 10,
   "metadata": {},
   "outputs": [],
   "source": [
    "#TODO: Clean data. Check Features"
   ]
  },
  {
   "cell_type": "code",
   "execution_count": 47,
   "metadata": {},
   "outputs": [
    {
     "name": "stdout",
     "output_type": "stream",
     "text": [
      "KNN test Score: 0.78%\n",
      "Confusion Matrix\n"
     ]
    },
    {
     "data": {
      "text/plain": [
       "array([[428, 115,   4,   0,  40,   4,  88],\n",
       "       [133, 389,  37,   0, 114,  26,  23],\n",
       "       [  0,   5, 488,  90,  15, 106,   0],\n",
       "       [  0,   0,  28, 696,   0,  15,   0],\n",
       "       [  0,  22,  22,   0, 672,   5,   0],\n",
       "       [  0,   8,  80,  51,   9, 574,   0],\n",
       "       [ 32,   2,   0,   0,   0,   0, 669]])"
      ]
     },
     "execution_count": 47,
     "metadata": {},
     "output_type": "execute_result"
    }
   ],
   "source": [
    "# Quick KNN Model \n",
    "knn = KNeighborsClassifier(n_neighbors = 7)\n",
    "knn.fit(X_train, y_train)\n",
    "print \"KNN test Score: %0.2f%%\" % knn.score(X_dev,y_dev)\n",
    "preds = knn.predict(X_dev)\n",
    "print \"Confusion Matrix\"\n",
    "confusion_matrix(y_dev, preds)"
   ]
  },
  {
   "cell_type": "code",
   "execution_count": 49,
   "metadata": {},
   "outputs": [
    {
     "name": "stdout",
     "output_type": "stream",
     "text": [
      "Logistic Regression test Score: 0.66%\n",
      "Confusion Matrix\n"
     ]
    },
    {
     "data": {
      "text/plain": [
       "array([[403, 114,   4,   0,  49,   3, 106],\n",
       "       [172, 337,  22,   3, 147,  25,  16],\n",
       "       [  0,   3, 329, 127,  43, 201,   1],\n",
       "       [  0,   0,  38, 675,   0,  26,   0],\n",
       "       [ 18, 127,  48,   0, 495,  33,   0],\n",
       "       [  0,  19, 123,  78,  88, 414,   0],\n",
       "       [ 59,   3,   2,   0,   3,   0, 636]])"
      ]
     },
     "execution_count": 49,
     "metadata": {},
     "output_type": "execute_result"
    }
   ],
   "source": [
    "# Quick Logistic Regression \n",
    "lr = LogisticRegression()\n",
    "lr.fit(X_train, y_train)\n",
    "print \"Logistic Regression test Score: %0.2f%%\" % lr.score(X_dev, y_dev)\n",
    "preds = lr.predict(X_dev)\n",
    "print \"Confusion Matrix\"\n",
    "confusion_matrix(y_dev, preds)"
   ]
  },
  {
   "cell_type": "code",
   "execution_count": null,
   "metadata": {},
   "outputs": [],
   "source": []
  },
  {
   "cell_type": "code",
   "execution_count": 65,
   "metadata": {},
   "outputs": [],
   "source": [
    "# Create Predictions from Test Set \n",
    "test_preds = knn.predict(test_df)\n",
    "submission_df = pd.DataFrame(data= {'ID': test_df['Id'], 'Cover_Type': test_preds})\n",
    "submission_df.to_csv(file_path + '/submission.csv')"
   ]
  },
  {
   "cell_type": "code",
   "execution_count": 64,
   "metadata": {},
   "outputs": [],
   "source": []
  },
  {
   "cell_type": "code",
   "execution_count": null,
   "metadata": {},
   "outputs": [],
   "source": []
  }
 ],
 "metadata": {
  "kernelspec": {
   "display_name": "Python 2",
   "language": "python",
   "name": "python2"
  },
  "language_info": {
   "codemirror_mode": {
    "name": "ipython",
    "version": 2
   },
   "file_extension": ".py",
   "mimetype": "text/x-python",
   "name": "python",
   "nbconvert_exporter": "python",
   "pygments_lexer": "ipython2",
   "version": "2.7.13"
  }
 },
 "nbformat": 4,
 "nbformat_minor": 2
}
