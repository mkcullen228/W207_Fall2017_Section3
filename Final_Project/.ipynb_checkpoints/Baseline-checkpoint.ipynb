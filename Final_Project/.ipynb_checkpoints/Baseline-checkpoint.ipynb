{
 "cells": [
  {
   "cell_type": "code",
   "execution_count": 1,
   "metadata": {},
   "outputs": [
    {
     "name": "stderr",
     "output_type": "stream",
     "text": [
      "/Users/mauracullen/anaconda/lib/python2.7/site-packages/sklearn/cross_validation.py:44: DeprecationWarning: This module was deprecated in version 0.18 in favor of the model_selection module into which all the refactored classes and functions are moved. Also note that the interface of the new CV iterators are different from that of this module. This module will be removed in 0.20.\n",
      "  \"This module will be removed in 0.20.\", DeprecationWarning)\n"
     ]
    }
   ],
   "source": [
    "import numpy as np\n",
    "import pandas as pd\n",
    "import sys\n",
    "import os.path\n",
    "\n",
    "from sklearn.cross_validation import train_test_split\n",
    "from sklearn.neighbors import KNeighborsClassifier\n",
    "from sklearn.linear_model import LogisticRegression\n",
    "from sklearn.metrics import confusion_matrix\n",
    "from sklearn.metrics import average_precision_score\n"
   ]
  },
  {
   "cell_type": "code",
   "execution_count": 2,
   "metadata": {},
   "outputs": [
    {
     "name": "stdout",
     "output_type": "stream",
     "text": [
      "   Id  Elevation  Aspect  Slope  Horizontal_Distance_To_Hydrology  \\\n",
      "0   1       2596      51      3                               258   \n",
      "1   2       2590      56      2                               212   \n",
      "2   3       2804     139      9                               268   \n",
      "3   4       2785     155     18                               242   \n",
      "4   5       2595      45      2                               153   \n",
      "\n",
      "   Vertical_Distance_To_Hydrology  Horizontal_Distance_To_Roadways  \\\n",
      "0                               0                              510   \n",
      "1                              -6                              390   \n",
      "2                              65                             3180   \n",
      "3                             118                             3090   \n",
      "4                              -1                              391   \n",
      "\n",
      "   Hillshade_9am  Hillshade_Noon  Hillshade_3pm     ...      Soil_Type32  \\\n",
      "0            221             232            148     ...                0   \n",
      "1            220             235            151     ...                0   \n",
      "2            234             238            135     ...                0   \n",
      "3            238             238            122     ...                0   \n",
      "4            220             234            150     ...                0   \n",
      "\n",
      "   Soil_Type33  Soil_Type34  Soil_Type35  Soil_Type36  Soil_Type37  \\\n",
      "0            0            0            0            0            0   \n",
      "1            0            0            0            0            0   \n",
      "2            0            0            0            0            0   \n",
      "3            0            0            0            0            0   \n",
      "4            0            0            0            0            0   \n",
      "\n",
      "   Soil_Type38  Soil_Type39  Soil_Type40  Cover_Type  \n",
      "0            0            0            0           5  \n",
      "1            0            0            0           5  \n",
      "2            0            0            0           2  \n",
      "3            0            0            0           2  \n",
      "4            0            0            0           5  \n",
      "\n",
      "[5 rows x 56 columns]\n",
      "      Id  Elevation  Aspect  Slope  Horizontal_Distance_To_Hydrology  \\\n",
      "0  15121       2680     354     14                                 0   \n",
      "1  15122       2683       0     13                                 0   \n",
      "2  15123       2713      16     15                                 0   \n",
      "3  15124       2709      24     17                                 0   \n",
      "4  15125       2706      29     19                                 0   \n",
      "\n",
      "   Vertical_Distance_To_Hydrology  Horizontal_Distance_To_Roadways  \\\n",
      "0                               0                             2684   \n",
      "1                               0                             2654   \n",
      "2                               0                             2980   \n",
      "3                               0                             2950   \n",
      "4                               0                             2920   \n",
      "\n",
      "   Hillshade_9am  Hillshade_Noon  Hillshade_3pm     ...       Soil_Type31  \\\n",
      "0            196             214            156     ...                 0   \n",
      "1            201             216            152     ...                 0   \n",
      "2            206             208            137     ...                 0   \n",
      "3            208             201            125     ...                 0   \n",
      "4            210             195            115     ...                 0   \n",
      "\n",
      "   Soil_Type32  Soil_Type33  Soil_Type34  Soil_Type35  Soil_Type36  \\\n",
      "0            0            0            0            0            0   \n",
      "1            0            0            0            0            0   \n",
      "2            0            0            0            0            0   \n",
      "3            0            0            0            0            0   \n",
      "4            0            0            0            0            0   \n",
      "\n",
      "   Soil_Type37  Soil_Type38  Soil_Type39  Soil_Type40  \n",
      "0            0            0            0            0  \n",
      "1            0            0            0            0  \n",
      "2            0            0            0            0  \n",
      "3            0            0            0            0  \n",
      "4            0            0            0            0  \n",
      "\n",
      "[5 rows x 55 columns]\n"
     ]
    }
   ],
   "source": [
    "# Load data \n",
    "file_path = os.getcwd() + \"/data\"\n",
    "trian_df = pd.read_csv(file_path + '/train.csv')\n",
    "print trian_df.head()\n",
    "test_df = pd.read_csv(file_path + '/test.csv')\n",
    "print test_df.head()"
   ]
  },
  {
   "cell_type": "code",
   "execution_count": 3,
   "metadata": {},
   "outputs": [],
   "source": [
    "target = trian_df['Cover_Type']\n",
    "trian_df = trian_df.drop('Cover_Type', 1)"
   ]
  },
  {
   "cell_type": "code",
   "execution_count": 4,
   "metadata": {},
   "outputs": [
    {
     "name": "stdout",
     "output_type": "stream",
     "text": [
      "Train data size 10130 X 55\n",
      "Test data size 4990 X 55\n"
     ]
    }
   ],
   "source": [
    "# Split into Train, Dev, Test Sets \n",
    "l = len(target)\n",
    "X_train, X_dev, y_train, y_dev = train_test_split(trian_df, target, test_size=0.33, random_state=42)\n",
    "print \"Train data size %i X %i\" % (X_train.shape[0], X_train.shape[1])\n",
    "print \"Test data size %i X %i\" % (X_dev.shape[0], X_dev.shape[1])"
   ]
  },
  {
   "cell_type": "code",
   "execution_count": 17,
   "metadata": {},
   "outputs": [
    {
     "name": "stdout",
     "output_type": "stream",
     "text": [
      "[1 2 3 4 5 6 7]\n"
     ]
    },
    {
     "data": {
      "text/plain": [
       "3388         4\n",
       "10782        7\n",
       "13624        9\n",
       "7855        16\n",
       "11884       17\n",
       "8388        24\n",
       "3126        28\n",
       "1156        29\n",
       "14916       35\n",
       "32          40\n",
       "11277       43\n",
       "11729       45\n",
       "1336        46\n",
       "13646       49\n",
       "9694        50\n",
       "12949       56\n",
       "8899        63\n",
       "1610        68\n",
       "939         70\n",
       "13072       76\n",
       "4023        82\n",
       "6347        88\n",
       "5434        92\n",
       "12462       96\n",
       "745         98\n",
       "4083       102\n",
       "7012       109\n",
       "2877       114\n",
       "8672       115\n",
       "4701       118\n",
       "         ...  \n",
       "3385     40309\n",
       "4555     40312\n",
       "1184     40317\n",
       "6420     40323\n",
       "5051     40327\n",
       "5311     40331\n",
       "2433     40336\n",
       "6949     40337\n",
       "13803    40342\n",
       "10583    40344\n",
       "769      40346\n",
       "1685     40351\n",
       "8322     40356\n",
       "11111    40362\n",
       "11363    40363\n",
       "11636    40368\n",
       "14423    40375\n",
       "5578     40379\n",
       "4426     40384\n",
       "13526    40389\n",
       "466      40390\n",
       "6265     40396\n",
       "5734     40403\n",
       "11284    40406\n",
       "11964    40409\n",
       "5191     40413\n",
       "13418    40417\n",
       "5390     40419\n",
       "860      40424\n",
       "7270     40431\n",
       "Name: Cover_Type, Length: 10130, dtype: int64"
      ]
     },
     "execution_count": 17,
     "metadata": {},
     "output_type": "execute_result"
    }
   ],
   "source": [
    "# Dirstribution of true classes\n",
    "print np.unique(y_train)\n",
    "y_train.cumsum()"
   ]
  },
  {
   "cell_type": "code",
   "execution_count": 14,
   "metadata": {},
   "outputs": [
    {
     "ename": "AttributeError",
     "evalue": "'module' object has no attribute 'count'",
     "output_type": "error",
     "traceback": [
      "\u001b[0;31m---------------------------------------------------------------------------\u001b[0m",
      "\u001b[0;31mAttributeError\u001b[0m                            Traceback (most recent call last)",
      "\u001b[0;32m<ipython-input-14-7f3862dd72f3>\u001b[0m in \u001b[0;36m<module>\u001b[0;34m()\u001b[0m\n\u001b[1;32m      1\u001b[0m \u001b[0;31m#TODO: Clean data. Check Features\u001b[0m\u001b[0;34m\u001b[0m\u001b[0;34m\u001b[0m\u001b[0m\n\u001b[1;32m      2\u001b[0m \u001b[0;34m\u001b[0m\u001b[0m\n\u001b[0;32m----> 3\u001b[0;31m \u001b[0mnp\u001b[0m\u001b[0;34m.\u001b[0m\u001b[0mcount\u001b[0m\u001b[0;34m(\u001b[0m\u001b[0my_train\u001b[0m\u001b[0;34m)\u001b[0m\u001b[0;34m\u001b[0m\u001b[0m\n\u001b[0m",
      "\u001b[0;31mAttributeError\u001b[0m: 'module' object has no attribute 'count'"
     ]
    }
   ],
   "source": [
    "#TODO: Clean data. Check Features\n",
    "\n"
   ]
  },
  {
   "cell_type": "code",
   "execution_count": null,
   "metadata": {},
   "outputs": [],
   "source": [
    "# Quick KNN Model \n",
    "knn = KNeighborsClassifier(n_neighbors = 7)\n",
    "knn.fit(X_train, y_train)\n",
    "print \"KNN test Score: %0.2f%%\" % knn.score(X_dev,y_dev)\n",
    "preds = knn.predict(X_dev)\n",
    "print \"Confusion Matrix\"\n",
    "confusion_matrix(y_dev, preds)"
   ]
  },
  {
   "cell_type": "code",
   "execution_count": null,
   "metadata": {},
   "outputs": [],
   "source": [
    "# Quick Logistic Regression \n",
    "lr = LogisticRegression()\n",
    "lr.fit(X_train, y_train)\n",
    "print \"Logistic Regression test Score: %0.2f%%\" % lr.score(X_dev, y_dev)\n",
    "preds = lr.predict(X_dev)\n",
    "print \"Confusion Matrix\"\n",
    "confusion_matrix(y_dev, preds)"
   ]
  },
  {
   "cell_type": "code",
   "execution_count": null,
   "metadata": {},
   "outputs": [],
   "source": []
  },
  {
   "cell_type": "code",
   "execution_count": null,
   "metadata": {},
   "outputs": [],
   "source": [
    "# Create Predictions from Test Set \n",
    "test_preds = knn.predict(test_df)\n",
    "submission_df = pd.DataFrame(data= {'Id': test_df['Id'], 'Cover_Type': test_preds})\n",
    "submission_df.to_csv(file_path + '/submission.csv')"
   ]
  },
  {
   "cell_type": "code",
   "execution_count": null,
   "metadata": {},
   "outputs": [],
   "source": []
  },
  {
   "cell_type": "code",
   "execution_count": null,
   "metadata": {},
   "outputs": [],
   "source": []
  }
 ],
 "metadata": {
  "kernelspec": {
   "display_name": "Python 2",
   "language": "python",
   "name": "python2"
  },
  "language_info": {
   "codemirror_mode": {
    "name": "ipython",
    "version": 2
   },
   "file_extension": ".py",
   "mimetype": "text/x-python",
   "name": "python",
   "nbconvert_exporter": "python",
   "pygments_lexer": "ipython2",
   "version": "2.7.13"
  }
 },
 "nbformat": 4,
 "nbformat_minor": 2
}
