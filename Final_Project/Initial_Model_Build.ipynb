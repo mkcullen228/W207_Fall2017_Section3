{
 "cells": [
  {
   "cell_type": "markdown",
   "metadata": {},
   "source": [
    "# Inital Model Builds and Results"
   ]
  },
  {
   "cell_type": "code",
   "execution_count": 25,
   "metadata": {},
   "outputs": [],
   "source": [
    "# Import Libraries\n",
    "import numpy as np\n",
    "import pandas as pd\n",
    "import sys\n",
    "import os.path\n",
    "import matplotlib.pyplot as plt\n",
    "\n",
    "# Scikit Learn \n",
    "from sklearn.grid_search import GridSearchCV\n",
    "from sklearn.cross_validation import train_test_split\n",
    "from sklearn.tree import DecisionTreeClassifier # For feature Selection\n",
    "from sklearn.ensemble import RandomForestClassifier # For feature Selection\n",
    "from sklearn.ensemble import AdaBoostClassifier\n",
    "from sklearn.mixture import GMM # GuassianMixture\n",
    "from sklearn.linear_model import LinearRegression\n",
    "from sklearn.linear_model import LogisticRegression\n",
    "from sklearn.decomposition import PCA\n",
    "from sklearn import metrics\n",
    "\n",
    "from sklearn.metrics import precision_score\n",
    "from sklearn.metrics import recall_score\n",
    "\n",
    "%matplotlib inline"
   ]
  },
  {
   "cell_type": "markdown",
   "metadata": {},
   "source": [
    "# Import and Prep Data "
   ]
  },
  {
   "cell_type": "code",
   "execution_count": 26,
   "metadata": {},
   "outputs": [],
   "source": [
    "# Import Data \n",
    "file_path = os.getcwd() + \"/data\"\n",
    "trian_df = pd.read_csv(file_path + '/train.csv')\n",
    "# test_df = pd.read_csv(file_path + '/test.csv') # final test set\n",
    "\n",
    "# Target Column\n",
    "train_labels = trian_df['Cover_Type']\n",
    "trian_df = trian_df.drop('Cover_Type', 1)"
   ]
  },
  {
   "cell_type": "code",
   "execution_count": 27,
   "metadata": {},
   "outputs": [],
   "source": [
    "# Define variable types\n",
    "continuous = [\n",
    "            'Elevation', 'Aspect', 'Slope',\n",
    "            'Horizontal_Distance_To_Hydrology', 'Vertical_Distance_To_Hydrology',\n",
    "            'Horizontal_Distance_To_Roadways', 'Hillshade_9am', 'Hillshade_Noon',\n",
    "            'Hillshade_3pm', 'Horizontal_Distance_To_Fire_Points'\n",
    "            ]\n",
    "\n",
    "# remove \"Soil_Type7\",\"Soil_Type15\" because their data was only one value (data cannot be seperable and irrelevantc)\n",
    "binary = [\n",
    "        'Wilderness_Area1', 'Wilderness_Area2', 'Wilderness_Area3',\n",
    "        'Wilderness_Area4', 'Soil_Type1', 'Soil_Type2', 'Soil_Type3',\n",
    "        'Soil_Type4', 'Soil_Type5', 'Soil_Type6', 'Soil_Type7',\n",
    "        'Soil_Type8', 'Soil_Type9', 'Soil_Type10', 'Soil_Type11',\n",
    "        'Soil_Type12', 'Soil_Type13', 'Soil_Type14', 'Soil_Type15',\n",
    "        'Soil_Type16', 'Soil_Type17', 'Soil_Type18', 'Soil_Type19',\n",
    "        'Soil_Type20', 'Soil_Type21', 'Soil_Type22', 'Soil_Type23',\n",
    "        'Soil_Type24', 'Soil_Type25', 'Soil_Type26', 'Soil_Type27',\n",
    "        'Soil_Type28', 'Soil_Type29', 'Soil_Type30', 'Soil_Type31',\n",
    "        'Soil_Type32', 'Soil_Type33', 'Soil_Type34', 'Soil_Type35',\n",
    "        'Soil_Type36', 'Soil_Type37', 'Soil_Type38', 'Soil_Type39',\n",
    "        'Soil_Type40'\n",
    "        ]\n",
    "\n",
    "predictors = continuous + binary\n",
    "\n",
    "# objective variable is a category\n",
    "target = 'Cover_Type'\n"
   ]
  },
  {
   "cell_type": "code",
   "execution_count": 28,
   "metadata": {},
   "outputs": [],
   "source": [
    "\n",
    "# Drop Binary data (?)\n"
   ]
  },
  {
   "cell_type": "code",
   "execution_count": 29,
   "metadata": {},
   "outputs": [
    {
     "name": "stdout",
     "output_type": "stream",
     "text": [
      "Train data size 10584 X 55\n",
      "Test data size 4536 X 55\n"
     ]
    }
   ],
   "source": [
    "# Test Train Split \n",
    "# l = len(target)\n",
    "X_train, X_test, y_train, y_test = train_test_split(trian_df, train_labels, test_size=0.30, random_state=42)\n",
    "print \"Train data size %i X %i\" % (X_train.shape[0], X_train.shape[1])\n",
    "print \"Test data size %i X %i\" % (X_test.shape[0], X_test.shape[1])\n"
   ]
  },
  {
   "cell_type": "markdown",
   "metadata": {},
   "source": [
    "## Test Model Types\n",
    "\n",
    "#### Initial Settings for Models"
   ]
  },
  {
   "cell_type": "code",
   "execution_count": 30,
   "metadata": {},
   "outputs": [],
   "source": [
    "# Fetaure Selection Settings\n",
    "# grid_search = False\n",
    "importance_threshold = 0.01\n",
    "\n",
    "# Model Settings \n",
    "run_adaBoost = True\n",
    "run_GMM = True\n",
    "run_PCA = True\n",
    "score = 'f1_weighted'\n",
    "cv = 10\n",
    "\n",
    "# Grid Parameters \n",
    "\n",
    "\n",
    "\n",
    "# Target Variable Names \n",
    "target_names_list = [\"Spruce/Fir\", \"Lodgepole Pine\", \"Ponderosa Pine\", \n",
    "                \"Cottonwood/Willow\", \"Aspen\", \"Douglas-fir\", \"Krummholz\"]\n",
    "target_names_dict = {1:\"Spruce/Fir\",2:\"Lodgepole Pine\",3:\"Ponderosa Pine\", \n",
    "                4:\"Cottonwood/Willow\",5:\"Aspen\", 6:\"Douglas-fir\", 7:\"Krummholz\"}\n"
   ]
  },
  {
   "cell_type": "markdown",
   "metadata": {},
   "source": [
    "### Feature Selection"
   ]
  },
  {
   "cell_type": "code",
   "execution_count": 31,
   "metadata": {},
   "outputs": [],
   "source": [
    "# Dtree Fetaure Selection "
   ]
  },
  {
   "cell_type": "code",
   "execution_count": 32,
   "metadata": {},
   "outputs": [],
   "source": [
    "# Define function for finding feature importance \n",
    "def find_fetaure_importnace(X_train_data, y_train_data, importance_threshold): \n",
    "    # Make a grid search? \n",
    "    dt = DecisionTreeClassifier()\n",
    "    len(X_train_data)\n",
    "    len(y_train_data)\n",
    "    dt.fit(X_train_data, y_train_data)\n",
    "\n",
    "    # Report Feature Importnace in DTREE \n",
    "    importance_df = pd.DataFrame({\n",
    "        'feature': X_train_data.columns,\n",
    "        'importance': dt.feature_importances_\n",
    "    })\n",
    "    importance_df.sort_values('importance').plot(x='feature', kind='bar')\n",
    "    \n",
    "    print \"Select only features >= %0.3f importance as predicted by Dtree\" % importance_threshold \n",
    "    importance_df_reduced = importance_df[importance_df['importance'] >= importance_threshold]\n",
    "    importance_df_reduced.sort_values('importance').plot(x='feature', kind='bar')\n",
    "    \n",
    "    # Select Columns to keep \n",
    "    df = X_train_data[importance_df_reduced.feature.values]\n",
    "    return importance_df_reduced.feature.values, df\n"
   ]
  },
  {
   "cell_type": "code",
   "execution_count": 33,
   "metadata": {},
   "outputs": [
    {
     "name": "stdout",
     "output_type": "stream",
     "text": [
      "Original Dataset Size 10584 X 55\n",
      "Select only features >= 0.010 importance as predicted by Dtree\n",
      "Reduced Dataset Size 10584 X 15\n",
      "\n",
      "Keeping 15 Columns: \n",
      "['Id', 'Elevation', 'Aspect', 'Slope', 'Horizontal_Distance_To_Hydrology', 'Vertical_Distance_To_Hydrology', 'Horizontal_Distance_To_Roadways', 'Hillshade_9am', 'Hillshade_Noon', 'Hillshade_3pm', 'Horizontal_Distance_To_Fire_Points', 'Wilderness_Area1', 'Soil_Type3', 'Soil_Type4', 'Soil_Type10']\n"
     ]
    },
    {
     "data": {
      "image/png": "[encoded data removed]",
      "text/plain": [
       "<matplotlib.figure.Figure at 0x11082cf90>"
      ]
     },
     "metadata": {},
     "output_type": "display_data"
    },
    {
     "data": {
      "image/png": "[encoded data removed]",
      "text/plain": [
       "<matplotlib.figure.Figure at 0x110b65350>"
      ]
     },
     "metadata": {},
     "output_type": "display_data"
    }
   ],
   "source": [
    "# Feature Selection with all Data \n",
    "print \"Original Dataset Size %i X %i\" %(X_train.shape[0],X_train.shape[1])\n",
    "\n",
    "# Reduce Dataset\n",
    "feature_names, X_train_reduced = find_fetaure_importnace(X_train, y_train, importance_threshold)\n",
    "X_test_reduced =  X_test[feature_names]\n",
    "\n",
    "print \"Reduced Dataset Size %i X %i\" %(X_train_reduced.shape[0],\n",
    "                                       X_train_reduced.shape[1])\n",
    "print \"\\nKeeping %i Columns: \" % len(feature_names)\n",
    "print list(feature_names)\n"
   ]
  },
  {
   "cell_type": "code",
   "execution_count": 34,
   "metadata": {},
   "outputs": [
    {
     "name": "stdout",
     "output_type": "stream",
     "text": [
      "Original Dataset Size 10584 X 11\n",
      "Select only features >= 0.010 importance as predicted by Dtree\n",
      "Reduced Dataset Size 10584 X 11\n",
      "\n",
      "Keeping 11 Columns: \n",
      "['Id', 'Elevation', 'Aspect', 'Slope', 'Horizontal_Distance_To_Hydrology', 'Vertical_Distance_To_Hydrology', 'Horizontal_Distance_To_Roadways', 'Hillshade_9am', 'Hillshade_Noon', 'Hillshade_3pm', 'Horizontal_Distance_To_Fire_Points']\n"
     ]
    },
    {
     "data": {
      "image/png": "[encoded data removed]",
      "text/plain": [
       "<matplotlib.figure.Figure at 0x112b2cdd0>"
      ]
     },
     "metadata": {},
     "output_type": "display_data"
    },
    {
     "data": {
      "image/png": "[encoded data removed]",
      "text/plain": [
       "<matplotlib.figure.Figure at 0x1108ec350>"
      ]
     },
     "metadata": {},
     "output_type": "display_data"
    }
   ],
   "source": [
    "# Feature Selection with no Binary Data \n",
    "# Drop Binary Data \n",
    "X_train_noBin = X_train.drop(binary, axis=1)\n",
    "X_test_noBin = X_test.drop(binary, axis = 1)\n",
    "print \"Original Dataset Size %i X %i\" %(X_train_noBin.shape[0],X_train_noBin.shape[1])\n",
    "\n",
    "# Reduce Dataset\n",
    "feature_names, X_train_noBin_reduced = find_fetaure_importnace(X_train_noBin, y_train, importance_threshold)\n",
    "X_test_noBin_reduced =  X_test[feature_names]\n",
    "print \"Reduced Dataset Size %i X %i\" %(X_train_noBin.shape[0],X_train_noBin.shape[1])\n",
    "print \"\\nKeeping %i Columns: \" % len(feature_names)\n",
    "print list(feature_names)\n"
   ]
  },
  {
   "cell_type": "markdown",
   "metadata": {},
   "source": [
    "### Models"
   ]
  },
  {
   "cell_type": "code",
   "execution_count": 35,
   "metadata": {},
   "outputs": [],
   "source": [
    "# TODO: Remember results for final summary \n",
    "# model name, train data, params, rcall, precision, accuracy\n",
    "results_df = pd.DataFrame(columns = ['model_name', 'train_data', 'Best_Parameters',\n",
    "                                     'recall', 'precision'])"
   ]
  },
  {
   "cell_type": "code",
   "execution_count": 36,
   "metadata": {},
   "outputs": [],
   "source": [
    "def fit_model(model_name, search_grid, score, train_df, train_labels, cv):\n",
    "    param_searcher = GridSearchCV(model_name(), search_grid, cv=cv, scoring=score)\n",
    "    param_searcher.fit(train_df, train_labels)\n",
    "    return param_searcher\n"
   ]
  },
  {
   "cell_type": "code",
   "execution_count": 37,
   "metadata": {},
   "outputs": [],
   "source": [
    "def plot_grid_scores(x,y,x_label,y_label,title):\n",
    "    plt.plot(x, y, '.')\n",
    "    plt.xlabel(x_label)\n",
    "    plt.ylabel(y_label)\n",
    "    plt.title(title)\n",
    "    plt.show()\n",
    "    return plt"
   ]
  },
  {
   "cell_type": "markdown",
   "metadata": {},
   "source": [
    "#### ADA Boost "
   ]
  },
  {
   "cell_type": "code",
   "execution_count": null,
   "metadata": {},
   "outputs": [],
   "source": [
    "from sklearn.metrics import recall_score\n",
    "\n",
    "def run_ada_boost(search_grid, train_data, train_labels, test_data, test_labels): \n",
    "    \n",
    "    ada_gs = fit_model(AdaBoostClassifier, search_grid, score, \n",
    "                      train_data, train_labels, cv)\n",
    "    \n",
    "    ada_gs.grid_scores_\n",
    "    grid_scores = pd.DataFrame(ada_gs.grid_scores_)\n",
    "    params = []\n",
    "    for i in range(len(grid_scores['parameters'])):\n",
    "        params.append(grid_scores['parameters'][i]['n_estimators'])\n",
    "    \n",
    "    plot_grid_scores(params, grid_scores['mean_validation_score'], \"n_estimators\", \n",
    "                     \"Mean Validation Score\", \"GridSearch ADA Boost\")\n",
    "    \n",
    "    print \"Best Parameters\" \n",
    "    print ada_gs.best_params_\n",
    "    # fit ada with best parameters\n",
    "    ada = AdaBoostClassifier(algorithm=ada_gs.best_params_['algorithm'],\n",
    "                            n_estimators = ada_gs.best_params_['n_estimators'])\n",
    "    \n",
    "    ada.fit(train_data, train_labels)\n",
    "    # Print Classification Summary Scored in Development \n",
    "    print \"Accuracy Score on Test Set with Best Params: %0.2f%%\" % (ada.score(test_data, y_test))\n",
    "\n",
    "    preds = ada.predict(test_data)\n",
    "    print metrics.classification_report(test_labels, preds, target_names = target_names_list)                       \n",
    "    recall = recall_score(test_labels, preds, average='weighted')\n",
    "    precision = precision_score(test_labels, preds, average='weighted' )\n",
    "    return ada, ada_gs, precision, recall \n",
    "    "
   ]
  },
  {
   "cell_type": "code",
   "execution_count": null,
   "metadata": {},
   "outputs": [],
   "source": [
    "# Train with reduced data \n",
    "if run_adaBoost == True: \n",
    "    search_grid = {'n_estimators': np.linspace(1,1000,50, dtype = int), 'algorithm': ['SAMME', 'SAMME.R']}\n",
    "    \n",
    "    ada, ada_gs, precision, recall = run_ada_boost(search_grid, X_train_reduced, y_train, X_test_reduced, y_test)\n",
    "    \n",
    "    # Save Results \n",
    "    rowi = pd.DataFrame({'model_name': \"AdaBoost\", 'train_data': \"train_reduced\", 'Best_Parameters': str(ada_gs.best_params_),\n",
    "                     'recall': recall, 'precision': precision}, index=[0]) \n",
    "    results_df = pd.concat([results_df, rowi], axis = 0)\n",
    "    "
   ]
  },
  {
   "cell_type": "code",
   "execution_count": null,
   "metadata": {},
   "outputs": [],
   "source": [
    "# Train witn reduced data and no binary data \n",
    "if run_adaBoost == True: \n",
    "    search_grid = {'n_estimators': np.linspace(1,1000,50, dtype = int), 'algorithm': ['SAMME', 'SAMME.R']}\n",
    "    ada, ada_gs, precision, recall = run_ada_boost(search_grid, X_train_noBin_reduced, y_train, \n",
    "                                                   X_test_noBin_reduced, y_test)\n",
    "    \n",
    "    # Save Results \n",
    "    rowi = pd.DataFrame({'model_name': \"AdaBoost\", 'train_data': \"noBin_reduced\", 'Best_Parameters': str(ada_gs.best_params_),\n",
    "                     'recall': recall, 'precision': precision}, index=[0]) \n",
    "    results_df = pd.concat([results_df, rowi], axis = 0)\n",
    "\n",
    "   "
   ]
  },
  {
   "cell_type": "markdown",
   "metadata": {},
   "source": [
    "#### PCA "
   ]
  },
  {
   "cell_type": "code",
   "execution_count": null,
   "metadata": {},
   "outputs": [],
   "source": [
    "def find_best_components(n_features, X_train_data, train_labels, X_test_data, test_labels):\n",
    "    pca = PCA(n_components=n_features)\n",
    "    X_transformed = pca.fit_transform(X_train_data)\n",
    "    lr = LinearRegression()\n",
    "    lr.fit(X_transformed, train_labels)\n",
    "    return lr.score(pca.transform(X_test_data), test_labels)\n",
    "\n",
    "# out = [best_components(i) for i in range(1, 121)]\n"
   ]
  },
  {
   "cell_type": "code",
   "execution_count": null,
   "metadata": {},
   "outputs": [],
   "source": [
    "def report_explained_variance(train_data): \n",
    "    pca = PCA()\n",
    "    pca.fit(train_data)\n",
    "    X_train = pca.transform(train_data)\n",
    "    var_explained = pd.Series(range(51)).apply(lambda k: sum(pca.explained_variance_ratio_[0:k]))\n",
    "    \n",
    "    print \"Train Data Shape After PCA: %i X %i\" % (X_train.shape[0],X_train.shape[1])\n",
    "    print \"\\nVariance Explained: \"\n",
    "    print \"n_components  |  PC var explained\"\n",
    "    for i in range(5):\n",
    "        print \"%13i |    %1.2f%%\" % (i+1, var_explained[i])\n",
    "\n",
    "    # Calculate Fraction of the total variance explained by the first k principal components, for k in [1, 50]\n",
    "    print \"\\nFraction of Total Variance explained by first k componentes where k = [1,50]\"\n",
    "    plt.plot(var_explained)\n",
    "    plt.xlabel(\"Number of Principal Components\")\n",
    "    plt.ylabel(\"Percentage Exaplained\")\n",
    "    plt.title(\"Percentage of Variance Explained by Principal Components\")\n",
    "    plt.show()\n",
    "    \n",
    "    return(var_explained, pca)"
   ]
  },
  {
   "cell_type": "code",
   "execution_count": null,
   "metadata": {},
   "outputs": [],
   "source": [
    "# Fetaure Mapping Plot \n",
    "def plot_feature_mapping(pca):\n",
    "    Vt = pca.components_[:pca.components_.shape[0], :]\n",
    "    comp0 = pd.Series(dict(zip(X_train.columns, Vt[0, :])))\n",
    "    comp1 = pd.Series(dict(zip(X_train.columns, Vt[1, :])))\n",
    "    col_order = comp0.sort_values().index\n",
    "    plt.figure(figsize=(4, 24))\n",
    "    comp0[col_order].plot(kind='barh')\n",
    "    comp1[col_order].plot(kind='barh', color='red')"
   ]
  },
  {
   "cell_type": "code",
   "execution_count": null,
   "metadata": {
    "scrolled": false
   },
   "outputs": [],
   "source": [
    "# if run_pca == True: \n",
    "# find variance explained for each iteration   \n",
    "var_explained, pca = report_explained_variance(X_train_reduced)\n",
    "\n",
    "# Plot for features explaination\n",
    "# plot_feature_mapping(pca)\n",
    "\n",
    "# TODO: Plot Training space\n"
   ]
  },
  {
   "cell_type": "code",
   "execution_count": null,
   "metadata": {},
   "outputs": [],
   "source": [
    "# Choose n_components to use for traing \n",
    "pca = PCA(n_components=3)\n",
    "pca.fit(X_train_reduced)\n",
    "X_train_pca = pca.transform(X_train_reduced)\n",
    "X_test_pca = pca.transform(X_test_reduced)\n"
   ]
  },
  {
   "cell_type": "code",
   "execution_count": null,
   "metadata": {},
   "outputs": [],
   "source": [
    "# Train models using PCA data from above \n",
    "# TODO: Grid Search LR\n",
    "# Linear Regression\n",
    "lr = LinearRegression()\n",
    "lr.fit(X_train_pca, y_train)\n",
    "\n",
    "print 'Train R-squared: {:.3}'.format(lr.score(X_train_pca, y_train))\n",
    "print 'Test R-squared: {:.3}'.format(lr.score(X_test_pca, y_test))\n",
    "\n",
    "# Logistic Regression, Random Forest \n"
   ]
  },
  {
   "cell_type": "code",
   "execution_count": null,
   "metadata": {},
   "outputs": [],
   "source": [
    "# GMM/ PCA"
   ]
  },
  {
   "cell_type": "markdown",
   "metadata": {},
   "source": [
    "#### Guassian Mixture Model  "
   ]
  },
  {
   "cell_type": "code",
   "execution_count": null,
   "metadata": {},
   "outputs": [],
   "source": [
    "def fit_gmm(pca_components, gmm_components, covariance_type, train_data, train_labels, test_data, test_labels):\n",
    "    # RUN PCA\n",
    "    pca = PCA(n_components=pca_components)\n",
    "    pca.fit(train_data)\n",
    "    train= pca.transform(train_data)\n",
    "    test = pca.transform(test_data)\n",
    "    \n",
    "    # fit  GMM\n",
    "    gmm = GMM(n_components = gmm_components,  covariance_type = covariance_type)\n",
    "    gmm.fit(train[np.where(train_labels==1)])\n",
    "    y_hat_pos = gmm.score(test)\n",
    "    # Negative Model\n",
    "    gmm.fit(train[np.where(train_labels==0)])\n",
    "    y_hat_neg = gmm.score(test)\n",
    "    \n",
    "    \n",
    "    # REPORT ACCURACY \n",
    "    preds = np.zeros(len(y_hat_pos))\n",
    "    preds[np.where(y_hat_pos > y_hat_neg)] = 1\n",
    "    acc = metrics.accuracy_score(test_labels, preds)\n",
    "    \n",
    "    return acc, preds"
   ]
  },
  {
   "cell_type": "code",
   "execution_count": null,
   "metadata": {},
   "outputs": [],
   "source": [
    "# TODO: Ask Mike if we have to fit one for all 7 types"
   ]
  },
  {
   "cell_type": "code",
   "execution_count": null,
   "metadata": {},
   "outputs": [],
   "source": [
    "# Param search: pca_components, n_components, cavariance types\n",
    "# Fit model for each of 7 parameters\n",
    "\n",
    "gmm = GMM()\n",
    "gmm.fit(X_train_reduced, y_train)\n",
    "np.unique(gmm.predict(X_test_reduced))\n",
    "\n",
    "# np.unique(gmm.predict(X_test_reduced))\n"
   ]
  },
  {
   "cell_type": "code",
   "execution_count": null,
   "metadata": {},
   "outputs": [],
   "source": [
    "# Look at AIC/BIC\n",
    "# Should I be used PCA data with this? \n",
    "# Recreat P3 density plot with this\n"
   ]
  },
  {
   "cell_type": "markdown",
   "metadata": {},
   "source": [
    "### Results "
   ]
  },
  {
   "cell_type": "code",
   "execution_count": null,
   "metadata": {},
   "outputs": [],
   "source": [
    "# Report Results for all Models for Comparison \n",
    "# Accuracy, Recall, Precision, Number of Parameters, Features Used in model \n"
   ]
  }
 ],
 "metadata": {
  "kernelspec": {
   "display_name": "Python 2",
   "language": "python",
   "name": "python2"
  },
  "language_info": {
   "codemirror_mode": {
    "name": "ipython",
    "version": 2
   },
   "file_extension": ".py",
   "mimetype": "text/x-python",
   "name": "python",
   "nbconvert_exporter": "python",
   "pygments_lexer": "ipython2",
   "version": "2.7.13"
  }
 },
 "nbformat": 4,
 "nbformat_minor": 2
}
