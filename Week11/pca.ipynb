{
 "cells": [
  {
   "cell_type": "markdown",
   "metadata": {},
   "source": [
    "# Dimensionality Reduction"
   ]
  },
  {
   "cell_type": "code",
   "execution_count": 1,
   "metadata": {},
   "outputs": [],
   "source": [
    "import numpy as np\n",
    "import pandas as pd\n",
    "\n",
    "from sklearn.decomposition import PCA\n",
    "\n",
    "import matplotlib.pyplot as plt\n",
    "%matplotlib inline"
   ]
  },
  {
   "cell_type": "markdown",
   "metadata": {},
   "source": [
    "We will continue to work with the Crime data introduced in Week 8"
   ]
  },
  {
   "cell_type": "code",
   "execution_count": 2,
   "metadata": {},
   "outputs": [],
   "source": [
    "from sklearn.model_selection import train_test_split\n",
    "from sklearn.preprocessing import Imputer, StandardScaler\n",
    "from sklearn.pipeline import Pipeline\n",
    "\n",
    "# Load some crime data\n",
    "headers = pd.read_csv('comm_names.txt', squeeze=True)\n",
    "headers = headers.apply(lambda s: s.split()[1])\n",
    "crime = (pd.read_csv('http://archive.ics.uci.edu/ml/machine-learning-databases/communities/communities.data', \n",
    "                    header=None, na_values=['?'], names=headers)\n",
    "         .iloc[:, 5:]\n",
    "         .dropna()\n",
    "         )\n",
    "\n",
    "# Set target and predictors\n",
    "target = 'ViolentCrimesPerPop'\n",
    "predictors = [c for c in crime.columns if not c == target]\n",
    "\n",
    "# Train/test split\n",
    "X = crime[predictors]\n",
    "y = crime[[target]]\n",
    "X_train, X_test, y_train, y_test = train_test_split(X, y, random_state=2)"
   ]
  },
  {
   "cell_type": "code",
   "execution_count": 3,
   "metadata": {},
   "outputs": [
    {
     "data": {
      "text/plain": [
       "(239, 121)"
      ]
     },
     "execution_count": 3,
     "metadata": {},
     "output_type": "execute_result"
    }
   ],
   "source": [
    "X_train.shape"
   ]
  },
  {
   "cell_type": "code",
   "execution_count": 4,
   "metadata": {},
   "outputs": [
    {
     "data": {
      "text/html": [
       "<div>\n",
       "<table border=\"1\" class=\"dataframe\">\n",
       "  <thead>\n",
       "    <tr style=\"text-align: right;\">\n",
       "      <th></th>\n",
       "      <th>householdsize</th>\n",
       "      <th>racepctblack</th>\n",
       "      <th>racePctWhite</th>\n",
       "      <th>racePctAsian</th>\n",
       "      <th>racePctHisp</th>\n",
       "      <th>agePct12t21</th>\n",
       "      <th>agePct12t29</th>\n",
       "      <th>agePct16t24</th>\n",
       "      <th>agePct65up</th>\n",
       "      <th>numbUrban</th>\n",
       "      <th>...</th>\n",
       "      <th>PolicAveOTWorked</th>\n",
       "      <th>LandArea</th>\n",
       "      <th>PopDens</th>\n",
       "      <th>PctUsePubTrans</th>\n",
       "      <th>PolicCars</th>\n",
       "      <th>PolicOperBudg</th>\n",
       "      <th>LemasPctPolicOnPatr</th>\n",
       "      <th>LemasGangUnitDeploy</th>\n",
       "      <th>LemasPctOfficDrugUn</th>\n",
       "      <th>PolicBudgPerPop</th>\n",
       "    </tr>\n",
       "  </thead>\n",
       "  <tbody>\n",
       "    <tr>\n",
       "      <th>54</th>\n",
       "      <td>0.23</td>\n",
       "      <td>0.28</td>\n",
       "      <td>0.76</td>\n",
       "      <td>0.08</td>\n",
       "      <td>0.01</td>\n",
       "      <td>0.32</td>\n",
       "      <td>0.37</td>\n",
       "      <td>0.22</td>\n",
       "      <td>0.61</td>\n",
       "      <td>0.09</td>\n",
       "      <td>...</td>\n",
       "      <td>0.46</td>\n",
       "      <td>0.08</td>\n",
       "      <td>0.16</td>\n",
       "      <td>0.29</td>\n",
       "      <td>0.09</td>\n",
       "      <td>0.01</td>\n",
       "      <td>0.56</td>\n",
       "      <td>0.0</td>\n",
       "      <td>1.00</td>\n",
       "      <td>0.12</td>\n",
       "    </tr>\n",
       "    <tr>\n",
       "      <th>41</th>\n",
       "      <td>0.58</td>\n",
       "      <td>0.01</td>\n",
       "      <td>0.83</td>\n",
       "      <td>0.13</td>\n",
       "      <td>0.21</td>\n",
       "      <td>0.44</td>\n",
       "      <td>0.49</td>\n",
       "      <td>0.29</td>\n",
       "      <td>0.25</td>\n",
       "      <td>0.06</td>\n",
       "      <td>...</td>\n",
       "      <td>0.11</td>\n",
       "      <td>0.05</td>\n",
       "      <td>0.16</td>\n",
       "      <td>0.20</td>\n",
       "      <td>0.06</td>\n",
       "      <td>0.04</td>\n",
       "      <td>0.22</td>\n",
       "      <td>0.5</td>\n",
       "      <td>0.59</td>\n",
       "      <td>0.48</td>\n",
       "    </tr>\n",
       "    <tr>\n",
       "      <th>13</th>\n",
       "      <td>0.47</td>\n",
       "      <td>0.74</td>\n",
       "      <td>0.37</td>\n",
       "      <td>0.08</td>\n",
       "      <td>0.05</td>\n",
       "      <td>0.49</td>\n",
       "      <td>0.57</td>\n",
       "      <td>0.40</td>\n",
       "      <td>0.34</td>\n",
       "      <td>0.27</td>\n",
       "      <td>...</td>\n",
       "      <td>0.00</td>\n",
       "      <td>0.63</td>\n",
       "      <td>0.07</td>\n",
       "      <td>0.08</td>\n",
       "      <td>0.37</td>\n",
       "      <td>0.04</td>\n",
       "      <td>0.74</td>\n",
       "      <td>0.5</td>\n",
       "      <td>0.84</td>\n",
       "      <td>0.09</td>\n",
       "    </tr>\n",
       "    <tr>\n",
       "      <th>1</th>\n",
       "      <td>0.45</td>\n",
       "      <td>0.83</td>\n",
       "      <td>0.34</td>\n",
       "      <td>0.04</td>\n",
       "      <td>0.01</td>\n",
       "      <td>0.48</td>\n",
       "      <td>0.53</td>\n",
       "      <td>0.36</td>\n",
       "      <td>0.37</td>\n",
       "      <td>0.30</td>\n",
       "      <td>...</td>\n",
       "      <td>0.07</td>\n",
       "      <td>0.39</td>\n",
       "      <td>0.12</td>\n",
       "      <td>0.09</td>\n",
       "      <td>0.04</td>\n",
       "      <td>0.01</td>\n",
       "      <td>0.00</td>\n",
       "      <td>0.0</td>\n",
       "      <td>0.36</td>\n",
       "      <td>0.01</td>\n",
       "    </tr>\n",
       "    <tr>\n",
       "      <th>19</th>\n",
       "      <td>0.43</td>\n",
       "      <td>0.04</td>\n",
       "      <td>0.89</td>\n",
       "      <td>0.09</td>\n",
       "      <td>0.06</td>\n",
       "      <td>0.45</td>\n",
       "      <td>0.48</td>\n",
       "      <td>0.31</td>\n",
       "      <td>0.46</td>\n",
       "      <td>0.13</td>\n",
       "      <td>...</td>\n",
       "      <td>0.29</td>\n",
       "      <td>0.16</td>\n",
       "      <td>0.12</td>\n",
       "      <td>0.07</td>\n",
       "      <td>0.04</td>\n",
       "      <td>0.01</td>\n",
       "      <td>0.81</td>\n",
       "      <td>1.0</td>\n",
       "      <td>0.56</td>\n",
       "      <td>0.09</td>\n",
       "    </tr>\n",
       "  </tbody>\n",
       "</table>\n",
       "<p>5 rows × 121 columns</p>\n",
       "</div>"
      ],
      "text/plain": [
       "    householdsize  racepctblack  racePctWhite  racePctAsian  racePctHisp  \\\n",
       "54           0.23          0.28          0.76          0.08         0.01   \n",
       "41           0.58          0.01          0.83          0.13         0.21   \n",
       "13           0.47          0.74          0.37          0.08         0.05   \n",
       "1            0.45          0.83          0.34          0.04         0.01   \n",
       "19           0.43          0.04          0.89          0.09         0.06   \n",
       "\n",
       "    agePct12t21  agePct12t29  agePct16t24  agePct65up  numbUrban  \\\n",
       "54         0.32         0.37         0.22        0.61       0.09   \n",
       "41         0.44         0.49         0.29        0.25       0.06   \n",
       "13         0.49         0.57         0.40        0.34       0.27   \n",
       "1          0.48         0.53         0.36        0.37       0.30   \n",
       "19         0.45         0.48         0.31        0.46       0.13   \n",
       "\n",
       "         ...         PolicAveOTWorked  LandArea  PopDens  PctUsePubTrans  \\\n",
       "54       ...                     0.46      0.08     0.16            0.29   \n",
       "41       ...                     0.11      0.05     0.16            0.20   \n",
       "13       ...                     0.00      0.63     0.07            0.08   \n",
       "1        ...                     0.07      0.39     0.12            0.09   \n",
       "19       ...                     0.29      0.16     0.12            0.07   \n",
       "\n",
       "    PolicCars  PolicOperBudg  LemasPctPolicOnPatr  LemasGangUnitDeploy  \\\n",
       "54       0.09           0.01                 0.56                  0.0   \n",
       "41       0.06           0.04                 0.22                  0.5   \n",
       "13       0.37           0.04                 0.74                  0.5   \n",
       "1        0.04           0.01                 0.00                  0.0   \n",
       "19       0.04           0.01                 0.81                  1.0   \n",
       "\n",
       "    LemasPctOfficDrugUn  PolicBudgPerPop  \n",
       "54                 1.00             0.12  \n",
       "41                 0.59             0.48  \n",
       "13                 0.84             0.09  \n",
       "1                  0.36             0.01  \n",
       "19                 0.56             0.09  \n",
       "\n",
       "[5 rows x 121 columns]"
      ]
     },
     "execution_count": 4,
     "metadata": {},
     "output_type": "execute_result"
    }
   ],
   "source": [
    "X_train.head()"
   ]
  },
  {
   "cell_type": "markdown",
   "metadata": {},
   "source": [
    "In Week five we build a linear model with this data. The problem was that there were too many variables and so it was too easy to overfit. We used regularization to solve this problem.\n",
    "\n",
    "This week, we will use a different strategy. Instead of regularization, we will reduce overfitting by reducing the number of variables that are used in the model. First, we will make sure we understand how to use PCA."
   ]
  },
  {
   "cell_type": "markdown",
   "metadata": {},
   "source": [
    "### Learn the principal components of the training data"
   ]
  },
  {
   "cell_type": "markdown",
   "metadata": {},
   "source": [
    "First lets look at the covariance of the training data, which tells us about the relationships between the various variables."
   ]
  },
  {
   "cell_type": "code",
   "execution_count": 5,
   "metadata": {},
   "outputs": [
    {
     "data": {
      "text/html": [
       "<div>\n",
       "<table border=\"1\" class=\"dataframe\">\n",
       "  <thead>\n",
       "    <tr style=\"text-align: right;\">\n",
       "      <th></th>\n",
       "      <th>householdsize</th>\n",
       "      <th>racepctblack</th>\n",
       "      <th>racePctWhite</th>\n",
       "      <th>racePctAsian</th>\n",
       "      <th>racePctHisp</th>\n",
       "      <th>agePct12t21</th>\n",
       "      <th>agePct12t29</th>\n",
       "      <th>agePct16t24</th>\n",
       "      <th>agePct65up</th>\n",
       "      <th>numbUrban</th>\n",
       "      <th>...</th>\n",
       "      <th>PolicAveOTWorked</th>\n",
       "      <th>LandArea</th>\n",
       "      <th>PopDens</th>\n",
       "      <th>PctUsePubTrans</th>\n",
       "      <th>PolicCars</th>\n",
       "      <th>PolicOperBudg</th>\n",
       "      <th>LemasPctPolicOnPatr</th>\n",
       "      <th>LemasGangUnitDeploy</th>\n",
       "      <th>LemasPctOfficDrugUn</th>\n",
       "      <th>PolicBudgPerPop</th>\n",
       "    </tr>\n",
       "  </thead>\n",
       "  <tbody>\n",
       "    <tr>\n",
       "      <th>householdsize</th>\n",
       "      <td>0.021410</td>\n",
       "      <td>-0.000127</td>\n",
       "      <td>-0.011699</td>\n",
       "      <td>0.007105</td>\n",
       "      <td>0.022312</td>\n",
       "      <td>0.008448</td>\n",
       "      <td>0.005489</td>\n",
       "      <td>0.003611</td>\n",
       "      <td>-0.013051</td>\n",
       "      <td>0.000907</td>\n",
       "      <td>...</td>\n",
       "      <td>0.004106</td>\n",
       "      <td>0.000477</td>\n",
       "      <td>0.003530</td>\n",
       "      <td>-0.003442</td>\n",
       "      <td>-0.002739</td>\n",
       "      <td>-0.000461</td>\n",
       "      <td>0.000065</td>\n",
       "      <td>0.003671</td>\n",
       "      <td>-0.002352</td>\n",
       "      <td>-0.004670</td>\n",
       "    </tr>\n",
       "    <tr>\n",
       "      <th>racepctblack</th>\n",
       "      <td>-0.000127</td>\n",
       "      <td>0.092122</td>\n",
       "      <td>-0.062022</td>\n",
       "      <td>-0.023163</td>\n",
       "      <td>-0.016497</td>\n",
       "      <td>0.010070</td>\n",
       "      <td>0.006355</td>\n",
       "      <td>0.007921</td>\n",
       "      <td>-0.001788</td>\n",
       "      <td>0.008230</td>\n",
       "      <td>...</td>\n",
       "      <td>-0.009082</td>\n",
       "      <td>0.005963</td>\n",
       "      <td>0.002844</td>\n",
       "      <td>0.019239</td>\n",
       "      <td>0.012588</td>\n",
       "      <td>0.004061</td>\n",
       "      <td>-0.012726</td>\n",
       "      <td>0.007832</td>\n",
       "      <td>0.007020</td>\n",
       "      <td>-0.000865</td>\n",
       "    </tr>\n",
       "    <tr>\n",
       "      <th>racePctWhite</th>\n",
       "      <td>-0.011699</td>\n",
       "      <td>-0.062022</td>\n",
       "      <td>0.061215</td>\n",
       "      <td>-0.005825</td>\n",
       "      <td>-0.014351</td>\n",
       "      <td>-0.010141</td>\n",
       "      <td>-0.008796</td>\n",
       "      <td>-0.007804</td>\n",
       "      <td>0.010488</td>\n",
       "      <td>-0.012800</td>\n",
       "      <td>...</td>\n",
       "      <td>-0.002211</td>\n",
       "      <td>-0.004517</td>\n",
       "      <td>-0.017188</td>\n",
       "      <td>-0.020940</td>\n",
       "      <td>-0.009573</td>\n",
       "      <td>-0.005864</td>\n",
       "      <td>0.007443</td>\n",
       "      <td>-0.012998</td>\n",
       "      <td>-0.006491</td>\n",
       "      <td>0.002158</td>\n",
       "    </tr>\n",
       "    <tr>\n",
       "      <th>racePctAsian</th>\n",
       "      <td>0.007105</td>\n",
       "      <td>-0.023163</td>\n",
       "      <td>-0.005825</td>\n",
       "      <td>0.056827</td>\n",
       "      <td>0.016331</td>\n",
       "      <td>-0.002698</td>\n",
       "      <td>0.003220</td>\n",
       "      <td>0.000884</td>\n",
       "      <td>-0.010732</td>\n",
       "      <td>0.008682</td>\n",
       "      <td>...</td>\n",
       "      <td>0.014028</td>\n",
       "      <td>-0.001759</td>\n",
       "      <td>0.018240</td>\n",
       "      <td>0.011425</td>\n",
       "      <td>-0.003540</td>\n",
       "      <td>0.004182</td>\n",
       "      <td>0.005368</td>\n",
       "      <td>0.010434</td>\n",
       "      <td>-0.001469</td>\n",
       "      <td>-0.000444</td>\n",
       "    </tr>\n",
       "    <tr>\n",
       "      <th>racePctHisp</th>\n",
       "      <td>0.022312</td>\n",
       "      <td>-0.016497</td>\n",
       "      <td>-0.014351</td>\n",
       "      <td>0.016331</td>\n",
       "      <td>0.063348</td>\n",
       "      <td>0.004709</td>\n",
       "      <td>0.005313</td>\n",
       "      <td>0.001569</td>\n",
       "      <td>-0.011534</td>\n",
       "      <td>0.006021</td>\n",
       "      <td>...</td>\n",
       "      <td>0.013533</td>\n",
       "      <td>-0.003201</td>\n",
       "      <td>0.027619</td>\n",
       "      <td>0.008045</td>\n",
       "      <td>0.002171</td>\n",
       "      <td>0.003755</td>\n",
       "      <td>0.003162</td>\n",
       "      <td>0.006303</td>\n",
       "      <td>0.001483</td>\n",
       "      <td>-0.000006</td>\n",
       "    </tr>\n",
       "  </tbody>\n",
       "</table>\n",
       "<p>5 rows × 121 columns</p>\n",
       "</div>"
      ],
      "text/plain": [
       "               householdsize  racepctblack  racePctWhite  racePctAsian  \\\n",
       "householdsize       0.021410     -0.000127     -0.011699      0.007105   \n",
       "racepctblack       -0.000127      0.092122     -0.062022     -0.023163   \n",
       "racePctWhite       -0.011699     -0.062022      0.061215     -0.005825   \n",
       "racePctAsian        0.007105     -0.023163     -0.005825      0.056827   \n",
       "racePctHisp         0.022312     -0.016497     -0.014351      0.016331   \n",
       "\n",
       "               racePctHisp  agePct12t21  agePct12t29  agePct16t24  agePct65up  \\\n",
       "householdsize     0.022312     0.008448     0.005489     0.003611   -0.013051   \n",
       "racepctblack     -0.016497     0.010070     0.006355     0.007921   -0.001788   \n",
       "racePctWhite     -0.014351    -0.010141    -0.008796    -0.007804    0.010488   \n",
       "racePctAsian      0.016331    -0.002698     0.003220     0.000884   -0.010732   \n",
       "racePctHisp       0.063348     0.004709     0.005313     0.001569   -0.011534   \n",
       "\n",
       "               numbUrban       ...         PolicAveOTWorked  LandArea  \\\n",
       "householdsize   0.000907       ...                 0.004106  0.000477   \n",
       "racepctblack    0.008230       ...                -0.009082  0.005963   \n",
       "racePctWhite   -0.012800       ...                -0.002211 -0.004517   \n",
       "racePctAsian    0.008682       ...                 0.014028 -0.001759   \n",
       "racePctHisp     0.006021       ...                 0.013533 -0.003201   \n",
       "\n",
       "                PopDens  PctUsePubTrans  PolicCars  PolicOperBudg  \\\n",
       "householdsize  0.003530       -0.003442  -0.002739      -0.000461   \n",
       "racepctblack   0.002844        0.019239   0.012588       0.004061   \n",
       "racePctWhite  -0.017188       -0.020940  -0.009573      -0.005864   \n",
       "racePctAsian   0.018240        0.011425  -0.003540       0.004182   \n",
       "racePctHisp    0.027619        0.008045   0.002171       0.003755   \n",
       "\n",
       "               LemasPctPolicOnPatr  LemasGangUnitDeploy  LemasPctOfficDrugUn  \\\n",
       "householdsize             0.000065             0.003671            -0.002352   \n",
       "racepctblack             -0.012726             0.007832             0.007020   \n",
       "racePctWhite              0.007443            -0.012998            -0.006491   \n",
       "racePctAsian              0.005368             0.010434            -0.001469   \n",
       "racePctHisp               0.003162             0.006303             0.001483   \n",
       "\n",
       "               PolicBudgPerPop  \n",
       "householdsize        -0.004670  \n",
       "racepctblack         -0.000865  \n",
       "racePctWhite          0.002158  \n",
       "racePctAsian         -0.000444  \n",
       "racePctHisp          -0.000006  \n",
       "\n",
       "[5 rows x 121 columns]"
      ]
     },
     "execution_count": 5,
     "metadata": {},
     "output_type": "execute_result"
    }
   ],
   "source": [
    "covar = X_train.cov()\n",
    "covar.head()"
   ]
  },
  {
   "cell_type": "markdown",
   "metadata": {},
   "source": [
    "Total Variance"
   ]
  },
  {
   "cell_type": "code",
   "execution_count": 6,
   "metadata": {},
   "outputs": [
    {
     "data": {
      "text/plain": [
       "4.5646812840617415"
      ]
     },
     "execution_count": 6,
     "metadata": {},
     "output_type": "execute_result"
    }
   ],
   "source": [
    "np.trace(covar)"
   ]
  },
  {
   "cell_type": "markdown",
   "metadata": {},
   "source": [
    "Now lets transform the data into principal component space."
   ]
  },
  {
   "cell_type": "code",
   "execution_count": 7,
   "metadata": {},
   "outputs": [],
   "source": [
    "pca = PCA()\n",
    "X_transformed = pca.fit_transform(X_train)"
   ]
  },
  {
   "cell_type": "code",
   "execution_count": 11,
   "metadata": {},
   "outputs": [
    {
     "data": {
      "text/html": [
       "<div>\n",
       "<table border=\"1\" class=\"dataframe\">\n",
       "  <thead>\n",
       "    <tr style=\"text-align: right;\">\n",
       "      <th></th>\n",
       "      <th>0</th>\n",
       "      <th>1</th>\n",
       "      <th>2</th>\n",
       "      <th>3</th>\n",
       "      <th>4</th>\n",
       "      <th>5</th>\n",
       "      <th>6</th>\n",
       "      <th>7</th>\n",
       "      <th>8</th>\n",
       "      <th>9</th>\n",
       "      <th>...</th>\n",
       "      <th>111</th>\n",
       "      <th>112</th>\n",
       "      <th>113</th>\n",
       "      <th>114</th>\n",
       "      <th>115</th>\n",
       "      <th>116</th>\n",
       "      <th>117</th>\n",
       "      <th>118</th>\n",
       "      <th>119</th>\n",
       "      <th>120</th>\n",
       "    </tr>\n",
       "  </thead>\n",
       "  <tbody>\n",
       "    <tr>\n",
       "      <th>0</th>\n",
       "      <td>-0.835436</td>\n",
       "      <td>-0.782788</td>\n",
       "      <td>-0.240360</td>\n",
       "      <td>-0.546547</td>\n",
       "      <td>0.155633</td>\n",
       "      <td>0.413783</td>\n",
       "      <td>0.031923</td>\n",
       "      <td>0.164605</td>\n",
       "      <td>0.571219</td>\n",
       "      <td>-0.375413</td>\n",
       "      <td>...</td>\n",
       "      <td>0.002787</td>\n",
       "      <td>-0.009088</td>\n",
       "      <td>-0.006674</td>\n",
       "      <td>0.001066</td>\n",
       "      <td>0.002344</td>\n",
       "      <td>-0.001072</td>\n",
       "      <td>-0.004996</td>\n",
       "      <td>0.002008</td>\n",
       "      <td>-0.001231</td>\n",
       "      <td>0.000531</td>\n",
       "    </tr>\n",
       "    <tr>\n",
       "      <th>1</th>\n",
       "      <td>0.482213</td>\n",
       "      <td>-0.533173</td>\n",
       "      <td>-0.427922</td>\n",
       "      <td>0.475401</td>\n",
       "      <td>-0.271597</td>\n",
       "      <td>0.056032</td>\n",
       "      <td>-0.056781</td>\n",
       "      <td>0.200377</td>\n",
       "      <td>-0.640000</td>\n",
       "      <td>0.674431</td>\n",
       "      <td>...</td>\n",
       "      <td>0.000891</td>\n",
       "      <td>-0.015754</td>\n",
       "      <td>0.002402</td>\n",
       "      <td>0.002503</td>\n",
       "      <td>-0.002733</td>\n",
       "      <td>-0.005956</td>\n",
       "      <td>0.002562</td>\n",
       "      <td>-0.001938</td>\n",
       "      <td>-0.001192</td>\n",
       "      <td>-0.000249</td>\n",
       "    </tr>\n",
       "    <tr>\n",
       "      <th>2</th>\n",
       "      <td>-0.958639</td>\n",
       "      <td>-0.132297</td>\n",
       "      <td>0.116940</td>\n",
       "      <td>0.438736</td>\n",
       "      <td>-0.216893</td>\n",
       "      <td>-0.211926</td>\n",
       "      <td>0.305924</td>\n",
       "      <td>0.308060</td>\n",
       "      <td>-0.007235</td>\n",
       "      <td>-0.230562</td>\n",
       "      <td>...</td>\n",
       "      <td>-0.008031</td>\n",
       "      <td>-0.003205</td>\n",
       "      <td>0.000035</td>\n",
       "      <td>-0.003474</td>\n",
       "      <td>-0.000604</td>\n",
       "      <td>-0.000791</td>\n",
       "      <td>0.002741</td>\n",
       "      <td>-0.005113</td>\n",
       "      <td>0.002432</td>\n",
       "      <td>0.000446</td>\n",
       "    </tr>\n",
       "    <tr>\n",
       "      <th>3</th>\n",
       "      <td>-1.112468</td>\n",
       "      <td>-0.161564</td>\n",
       "      <td>0.005551</td>\n",
       "      <td>0.184264</td>\n",
       "      <td>-0.042920</td>\n",
       "      <td>-0.892427</td>\n",
       "      <td>0.541019</td>\n",
       "      <td>0.592848</td>\n",
       "      <td>0.461473</td>\n",
       "      <td>-0.163100</td>\n",
       "      <td>...</td>\n",
       "      <td>-0.005494</td>\n",
       "      <td>0.004937</td>\n",
       "      <td>-0.003637</td>\n",
       "      <td>0.000213</td>\n",
       "      <td>0.001290</td>\n",
       "      <td>-0.000079</td>\n",
       "      <td>-0.001456</td>\n",
       "      <td>-0.005941</td>\n",
       "      <td>-0.002815</td>\n",
       "      <td>-0.000394</td>\n",
       "    </tr>\n",
       "    <tr>\n",
       "      <th>4</th>\n",
       "      <td>-0.465933</td>\n",
       "      <td>-0.782386</td>\n",
       "      <td>-0.341636</td>\n",
       "      <td>0.523286</td>\n",
       "      <td>0.042809</td>\n",
       "      <td>0.104373</td>\n",
       "      <td>-0.545111</td>\n",
       "      <td>-0.626676</td>\n",
       "      <td>0.008542</td>\n",
       "      <td>0.215413</td>\n",
       "      <td>...</td>\n",
       "      <td>0.005067</td>\n",
       "      <td>-0.007544</td>\n",
       "      <td>-0.002542</td>\n",
       "      <td>-0.003181</td>\n",
       "      <td>-0.002574</td>\n",
       "      <td>-0.001933</td>\n",
       "      <td>0.000923</td>\n",
       "      <td>-0.008091</td>\n",
       "      <td>-0.001164</td>\n",
       "      <td>-0.000052</td>\n",
       "    </tr>\n",
       "  </tbody>\n",
       "</table>\n",
       "<p>5 rows × 121 columns</p>\n",
       "</div>"
      ],
      "text/plain": [
       "        0         1         2         3         4         5         6    \\\n",
       "0 -0.835436 -0.782788 -0.240360 -0.546547  0.155633  0.413783  0.031923   \n",
       "1  0.482213 -0.533173 -0.427922  0.475401 -0.271597  0.056032 -0.056781   \n",
       "2 -0.958639 -0.132297  0.116940  0.438736 -0.216893 -0.211926  0.305924   \n",
       "3 -1.112468 -0.161564  0.005551  0.184264 -0.042920 -0.892427  0.541019   \n",
       "4 -0.465933 -0.782386 -0.341636  0.523286  0.042809  0.104373 -0.545111   \n",
       "\n",
       "        7         8         9      ...          111       112       113  \\\n",
       "0  0.164605  0.571219 -0.375413    ...     0.002787 -0.009088 -0.006674   \n",
       "1  0.200377 -0.640000  0.674431    ...     0.000891 -0.015754  0.002402   \n",
       "2  0.308060 -0.007235 -0.230562    ...    -0.008031 -0.003205  0.000035   \n",
       "3  0.592848  0.461473 -0.163100    ...    -0.005494  0.004937 -0.003637   \n",
       "4 -0.626676  0.008542  0.215413    ...     0.005067 -0.007544 -0.002542   \n",
       "\n",
       "        114       115       116       117       118       119       120  \n",
       "0  0.001066  0.002344 -0.001072 -0.004996  0.002008 -0.001231  0.000531  \n",
       "1  0.002503 -0.002733 -0.005956  0.002562 -0.001938 -0.001192 -0.000249  \n",
       "2 -0.003474 -0.000604 -0.000791  0.002741 -0.005113  0.002432  0.000446  \n",
       "3  0.000213  0.001290 -0.000079 -0.001456 -0.005941 -0.002815 -0.000394  \n",
       "4 -0.003181 -0.002574 -0.001933  0.000923 -0.008091 -0.001164 -0.000052  \n",
       "\n",
       "[5 rows x 121 columns]"
      ]
     },
     "execution_count": 11,
     "metadata": {},
     "output_type": "execute_result"
    }
   ],
   "source": [
    "pd.DataFrame(X_transformed).head()"
   ]
  },
  {
   "cell_type": "markdown",
   "metadata": {},
   "source": [
    "What does the covariance look like now?"
   ]
  },
  {
   "cell_type": "code",
   "execution_count": 13,
   "metadata": {},
   "outputs": [
    {
     "data": {
      "text/html": [
       "<div>\n",
       "<table border=\"1\" class=\"dataframe\">\n",
       "  <thead>\n",
       "    <tr style=\"text-align: right;\">\n",
       "      <th></th>\n",
       "      <th>0</th>\n",
       "      <th>1</th>\n",
       "      <th>2</th>\n",
       "      <th>3</th>\n",
       "      <th>4</th>\n",
       "      <th>5</th>\n",
       "      <th>6</th>\n",
       "      <th>7</th>\n",
       "      <th>8</th>\n",
       "      <th>9</th>\n",
       "      <th>...</th>\n",
       "      <th>111</th>\n",
       "      <th>112</th>\n",
       "      <th>113</th>\n",
       "      <th>114</th>\n",
       "      <th>115</th>\n",
       "      <th>116</th>\n",
       "      <th>117</th>\n",
       "      <th>118</th>\n",
       "      <th>119</th>\n",
       "      <th>120</th>\n",
       "    </tr>\n",
       "  </thead>\n",
       "  <tbody>\n",
       "    <tr>\n",
       "      <th>0</th>\n",
       "      <td>1.0</td>\n",
       "      <td>0.000</td>\n",
       "      <td>0.000</td>\n",
       "      <td>0.000</td>\n",
       "      <td>-0.000</td>\n",
       "      <td>-0.0</td>\n",
       "      <td>0.0</td>\n",
       "      <td>0.0</td>\n",
       "      <td>-0.0</td>\n",
       "      <td>-0.0</td>\n",
       "      <td>...</td>\n",
       "      <td>-0.0</td>\n",
       "      <td>0.0</td>\n",
       "      <td>-0.0</td>\n",
       "      <td>0.0</td>\n",
       "      <td>0.0</td>\n",
       "      <td>-0.0</td>\n",
       "      <td>0.0</td>\n",
       "      <td>-0.0</td>\n",
       "      <td>-0.0</td>\n",
       "      <td>-0.0</td>\n",
       "    </tr>\n",
       "    <tr>\n",
       "      <th>1</th>\n",
       "      <td>0.0</td>\n",
       "      <td>0.945</td>\n",
       "      <td>0.000</td>\n",
       "      <td>-0.000</td>\n",
       "      <td>-0.000</td>\n",
       "      <td>0.0</td>\n",
       "      <td>0.0</td>\n",
       "      <td>-0.0</td>\n",
       "      <td>0.0</td>\n",
       "      <td>-0.0</td>\n",
       "      <td>...</td>\n",
       "      <td>-0.0</td>\n",
       "      <td>-0.0</td>\n",
       "      <td>0.0</td>\n",
       "      <td>-0.0</td>\n",
       "      <td>0.0</td>\n",
       "      <td>0.0</td>\n",
       "      <td>-0.0</td>\n",
       "      <td>0.0</td>\n",
       "      <td>0.0</td>\n",
       "      <td>-0.0</td>\n",
       "    </tr>\n",
       "    <tr>\n",
       "      <th>2</th>\n",
       "      <td>0.0</td>\n",
       "      <td>0.000</td>\n",
       "      <td>0.366</td>\n",
       "      <td>0.000</td>\n",
       "      <td>0.000</td>\n",
       "      <td>0.0</td>\n",
       "      <td>0.0</td>\n",
       "      <td>-0.0</td>\n",
       "      <td>0.0</td>\n",
       "      <td>0.0</td>\n",
       "      <td>...</td>\n",
       "      <td>-0.0</td>\n",
       "      <td>0.0</td>\n",
       "      <td>0.0</td>\n",
       "      <td>-0.0</td>\n",
       "      <td>-0.0</td>\n",
       "      <td>0.0</td>\n",
       "      <td>-0.0</td>\n",
       "      <td>0.0</td>\n",
       "      <td>-0.0</td>\n",
       "      <td>0.0</td>\n",
       "    </tr>\n",
       "    <tr>\n",
       "      <th>3</th>\n",
       "      <td>0.0</td>\n",
       "      <td>-0.000</td>\n",
       "      <td>0.000</td>\n",
       "      <td>0.341</td>\n",
       "      <td>-0.000</td>\n",
       "      <td>0.0</td>\n",
       "      <td>-0.0</td>\n",
       "      <td>-0.0</td>\n",
       "      <td>-0.0</td>\n",
       "      <td>0.0</td>\n",
       "      <td>...</td>\n",
       "      <td>-0.0</td>\n",
       "      <td>-0.0</td>\n",
       "      <td>0.0</td>\n",
       "      <td>-0.0</td>\n",
       "      <td>0.0</td>\n",
       "      <td>0.0</td>\n",
       "      <td>-0.0</td>\n",
       "      <td>0.0</td>\n",
       "      <td>0.0</td>\n",
       "      <td>0.0</td>\n",
       "    </tr>\n",
       "    <tr>\n",
       "      <th>4</th>\n",
       "      <td>-0.0</td>\n",
       "      <td>-0.000</td>\n",
       "      <td>0.000</td>\n",
       "      <td>-0.000</td>\n",
       "      <td>0.229</td>\n",
       "      <td>0.0</td>\n",
       "      <td>0.0</td>\n",
       "      <td>0.0</td>\n",
       "      <td>-0.0</td>\n",
       "      <td>-0.0</td>\n",
       "      <td>...</td>\n",
       "      <td>0.0</td>\n",
       "      <td>0.0</td>\n",
       "      <td>0.0</td>\n",
       "      <td>0.0</td>\n",
       "      <td>0.0</td>\n",
       "      <td>-0.0</td>\n",
       "      <td>0.0</td>\n",
       "      <td>-0.0</td>\n",
       "      <td>-0.0</td>\n",
       "      <td>-0.0</td>\n",
       "    </tr>\n",
       "  </tbody>\n",
       "</table>\n",
       "<p>5 rows × 121 columns</p>\n",
       "</div>"
      ],
      "text/plain": [
       "   0      1      2      3      4    5    6    7    8    9   ...   111  112  \\\n",
       "0  1.0  0.000  0.000  0.000 -0.000 -0.0  0.0  0.0 -0.0 -0.0 ...  -0.0  0.0   \n",
       "1  0.0  0.945  0.000 -0.000 -0.000  0.0  0.0 -0.0  0.0 -0.0 ...  -0.0 -0.0   \n",
       "2  0.0  0.000  0.366  0.000  0.000  0.0  0.0 -0.0  0.0  0.0 ...  -0.0  0.0   \n",
       "3  0.0 -0.000  0.000  0.341 -0.000  0.0 -0.0 -0.0 -0.0  0.0 ...  -0.0 -0.0   \n",
       "4 -0.0 -0.000  0.000 -0.000  0.229  0.0  0.0  0.0 -0.0 -0.0 ...   0.0  0.0   \n",
       "\n",
       "   113  114  115  116  117  118  119  120  \n",
       "0 -0.0  0.0  0.0 -0.0  0.0 -0.0 -0.0 -0.0  \n",
       "1  0.0 -0.0  0.0  0.0 -0.0  0.0  0.0 -0.0  \n",
       "2  0.0 -0.0 -0.0  0.0 -0.0  0.0 -0.0  0.0  \n",
       "3  0.0 -0.0  0.0  0.0 -0.0  0.0  0.0  0.0  \n",
       "4  0.0  0.0  0.0 -0.0  0.0 -0.0 -0.0 -0.0  \n",
       "\n",
       "[5 rows x 121 columns]"
      ]
     },
     "execution_count": 13,
     "metadata": {},
     "output_type": "execute_result"
    }
   ],
   "source": [
    "new_covar = pd.DataFrame(X_transformed).cov()\n",
    "new_covar.head().round(3)"
   ]
  },
  {
   "cell_type": "markdown",
   "metadata": {},
   "source": [
    "What about the total variance?"
   ]
  },
  {
   "cell_type": "code",
   "execution_count": 14,
   "metadata": {},
   "outputs": [
    {
     "data": {
      "text/plain": [
       "4.5646812840617423"
      ]
     },
     "execution_count": 14,
     "metadata": {},
     "output_type": "execute_result"
    }
   ],
   "source": [
    "np.trace(new_covar)"
   ]
  },
  {
   "cell_type": "markdown",
   "metadata": {},
   "source": [
    "The explained variance is also an attribute of the PCA object"
   ]
  },
  {
   "cell_type": "code",
   "execution_count": 16,
   "metadata": {},
   "outputs": [
    {
     "data": {
      "text/plain": [
       "array([ 0.996,  0.941,  0.365,  0.34 ,  0.228,  0.19 ,  0.163,  0.148,\n",
       "        0.107,  0.095,  0.077,  0.07 ,  0.057,  0.053,  0.051,  0.044,\n",
       "        0.042,  0.039,  0.037,  0.035,  0.03 ,  0.029,  0.027,  0.025,\n",
       "        0.023,  0.021,  0.019,  0.017,  0.017,  0.015,  0.014,  0.014,\n",
       "        0.013,  0.012,  0.011,  0.011,  0.01 ,  0.009,  0.009,  0.008,\n",
       "        0.008,  0.007,  0.007,  0.006,  0.006,  0.006,  0.005,  0.005,\n",
       "        0.005,  0.005,  0.004,  0.004,  0.004,  0.004,  0.003,  0.003,\n",
       "        0.003,  0.003,  0.003,  0.003,  0.002,  0.002,  0.002,  0.002,\n",
       "        0.002,  0.002,  0.002,  0.002,  0.001,  0.001,  0.001,  0.001,\n",
       "        0.001,  0.001,  0.001,  0.001,  0.001,  0.001,  0.001,  0.001,\n",
       "        0.001,  0.001,  0.001,  0.001,  0.001,  0.001,  0.   ,  0.   ,\n",
       "        0.   ,  0.   ,  0.   ,  0.   ,  0.   ,  0.   ,  0.   ,  0.   ,\n",
       "        0.   ,  0.   ,  0.   ,  0.   ,  0.   ,  0.   ,  0.   ,  0.   ,\n",
       "        0.   ,  0.   ,  0.   ,  0.   ,  0.   ,  0.   ,  0.   ,  0.   ,\n",
       "        0.   ,  0.   ,  0.   ,  0.   ,  0.   ,  0.   ,  0.   ,  0.   ,  0.   ])"
      ]
     },
     "execution_count": 16,
     "metadata": {},
     "output_type": "execute_result"
    }
   ],
   "source": [
    "np.round(pca.explained_variance_, 3)"
   ]
  },
  {
   "cell_type": "markdown",
   "metadata": {},
   "source": [
    "### Exercise\n",
    "\n",
    "A typical rule of thumb is to keep the components that account for 90% of the total variance. Use PCA to create a new data frame X_reduced. The total variance in the columns of X_reduced should account for about 90% of the variance in X_train"
   ]
  },
  {
   "cell_type": "markdown",
   "metadata": {},
   "source": [
    "Fit PCA to the training data"
   ]
  },
  {
   "cell_type": "code",
   "execution_count": 17,
   "metadata": {},
   "outputs": [],
   "source": [
    "pca = PCA().fit(X_train)"
   ]
  },
  {
   "cell_type": "markdown",
   "metadata": {},
   "source": [
    "Scree plot of explained variance"
   ]
  },
  {
   "cell_type": "code",
   "execution_count": 20,
   "metadata": {},
   "outputs": [
    {
     "data": {
      "text/plain": [
       "[<matplotlib.lines.Line2D at 0x1100b57d0>]"
      ]
     },
     "execution_count": 20,
     "metadata": {},
     "output_type": "execute_result"
    },
    {
     "data": {
      "image/png": "[encoded data removed]",
      "text/plain": [
       "<matplotlib.figure.Figure at 0x10eb209d0>"
      ]
     },
     "metadata": {},
     "output_type": "display_data"
    }
   ],
   "source": [
    "plt.plot(np.cumsum(pca.explained_variance_ratio_))"
   ]
  },
  {
   "cell_type": "code",
   "execution_count": 21,
   "metadata": {},
   "outputs": [
    {
     "data": {
      "text/plain": [
       "[<matplotlib.lines.Line2D at 0x11628e250>]"
      ]
     },
     "execution_count": 21,
     "metadata": {},
     "output_type": "execute_result"
    },
    {
     "data": {
      "image/png": "[encoded data removed]",
      "text/plain": [
       "<matplotlib.figure.Figure at 0x1101d2510>"
      ]
     },
     "metadata": {},
     "output_type": "display_data"
    }
   ],
   "source": [
    "plt.plot(pca.explained_variance_ratio_)"
   ]
  },
  {
   "cell_type": "markdown",
   "metadata": {},
   "source": [
    "Decide how many components to use"
   ]
  },
  {
   "cell_type": "code",
   "execution_count": 24,
   "metadata": {},
   "outputs": [
    {
     "data": {
      "text/plain": [
       "20"
      ]
     },
     "execution_count": 24,
     "metadata": {},
     "output_type": "execute_result"
    }
   ],
   "source": [
    "num_comp = np.sum(np.cumsum(pca.explained_variance_ratio_) < .9)\n",
    "num_comp"
   ]
  },
  {
   "cell_type": "markdown",
   "metadata": {},
   "source": [
    "There are at least three different ways to use this PCA object to reduce the dimension of the data. It is instructive to go through all three options."
   ]
  },
  {
   "cell_type": "markdown",
   "metadata": {},
   "source": [
    "#### Method One"
   ]
  },
  {
   "cell_type": "markdown",
   "metadata": {},
   "source": [
    "Create a new PCA object that is explicity a dimension reducer"
   ]
  },
  {
   "cell_type": "code",
   "execution_count": 25,
   "metadata": {},
   "outputs": [],
   "source": [
    "X_reduced = PCA(n_components=20).fit_transform(X_train)"
   ]
  },
  {
   "cell_type": "code",
   "execution_count": 26,
   "metadata": {},
   "outputs": [
    {
     "data": {
      "text/plain": [
       "(239, 20)"
      ]
     },
     "execution_count": 26,
     "metadata": {},
     "output_type": "execute_result"
    }
   ],
   "source": [
    "X_reduced.shape"
   ]
  },
  {
   "cell_type": "code",
   "execution_count": 27,
   "metadata": {},
   "outputs": [
    {
     "data": {
      "text/plain": [
       "array([[-0.83543565, -0.78278795, -0.24035994, -0.54654713,  0.15563304],\n",
       "       [ 0.48221287, -0.5331727 , -0.42792212,  0.47540061, -0.27159707],\n",
       "       [-0.95863882, -0.13229706,  0.11693975,  0.43873554, -0.21689277],\n",
       "       [-1.11246824, -0.16156369,  0.00555115,  0.18426371, -0.04292035],\n",
       "       [-0.46593257, -0.78238634, -0.34163554,  0.5232864 ,  0.04280874]])"
      ]
     },
     "execution_count": 27,
     "metadata": {},
     "output_type": "execute_result"
    }
   ],
   "source": [
    "X_reduced[:5, :5]"
   ]
  },
  {
   "cell_type": "markdown",
   "metadata": {},
   "source": [
    "#### Method Two"
   ]
  },
  {
   "cell_type": "markdown",
   "metadata": {},
   "source": [
    "Transform the data using the original PCA, but keep only the first num_comp columns"
   ]
  },
  {
   "cell_type": "code",
   "execution_count": 28,
   "metadata": {},
   "outputs": [],
   "source": [
    "X_reduced = PCA().fit_transform(X_train)[:, :20]"
   ]
  },
  {
   "cell_type": "code",
   "execution_count": 29,
   "metadata": {},
   "outputs": [
    {
     "data": {
      "text/plain": [
       "(239, 20)"
      ]
     },
     "execution_count": 29,
     "metadata": {},
     "output_type": "execute_result"
    }
   ],
   "source": [
    "X_reduced.shape"
   ]
  },
  {
   "cell_type": "code",
   "execution_count": 30,
   "metadata": {},
   "outputs": [
    {
     "data": {
      "text/plain": [
       "array([[-0.83543565, -0.78278795, -0.24035994, -0.54654713,  0.15563304],\n",
       "       [ 0.48221287, -0.5331727 , -0.42792212,  0.47540061, -0.27159707],\n",
       "       [-0.95863882, -0.13229706,  0.11693975,  0.43873554, -0.21689277],\n",
       "       [-1.11246824, -0.16156369,  0.00555115,  0.18426371, -0.04292035],\n",
       "       [-0.46593257, -0.78238634, -0.34163554,  0.5232864 ,  0.04280874]])"
      ]
     },
     "execution_count": 30,
     "metadata": {},
     "output_type": "execute_result"
    }
   ],
   "source": [
    "X_reduced[:5, :5]"
   ]
  },
  {
   "cell_type": "markdown",
   "metadata": {},
   "source": [
    "#### Method Three\n",
    "\n",
    "The key to understanding PCA is the following equation:\n",
    "\n",
    "$$\n",
    "\\underset{m \\times n}M \\approx \\underset{m \\times k}U \\times \\underset{k \\times n}V^T\n",
    "$$\n",
    "\n",
    "- $M$ is the original data matrix (as long as each column has zero mean)\n",
    "- $k$ is the dimension to reduce to\n",
    "- $U$ maps from rows of M to components\n",
    "- $V^T$ maps from components to columns of M (features)"
   ]
  },
  {
   "cell_type": "code",
   "execution_count": 31,
   "metadata": {},
   "outputs": [],
   "source": [
    "pca = PCA().fit(X_train)"
   ]
  },
  {
   "cell_type": "code",
   "execution_count": 33,
   "metadata": {},
   "outputs": [
    {
     "data": {
      "text/plain": [
       "(121, 121)"
      ]
     },
     "execution_count": 33,
     "metadata": {},
     "output_type": "execute_result"
    }
   ],
   "source": [
    "pca.components_.shape"
   ]
  },
  {
   "cell_type": "code",
   "execution_count": 34,
   "metadata": {},
   "outputs": [],
   "source": [
    "M = X_train - X_train.mean()\n",
    "Vt = pca.components_[:20, :]\n",
    "U = np.matmul(M, np.transpose(Vt))"
   ]
  },
  {
   "cell_type": "code",
   "execution_count": 35,
   "metadata": {},
   "outputs": [
    {
     "data": {
      "text/plain": [
       "(239, 20)"
      ]
     },
     "execution_count": 35,
     "metadata": {},
     "output_type": "execute_result"
    }
   ],
   "source": [
    "U.shape"
   ]
  },
  {
   "cell_type": "code",
   "execution_count": 36,
   "metadata": {},
   "outputs": [
    {
     "data": {
      "text/plain": [
       "array([[-0.83543565, -0.78278795, -0.24035994, -0.54654713,  0.15563304],\n",
       "       [ 0.48221287, -0.5331727 , -0.42792212,  0.47540061, -0.27159707],\n",
       "       [-0.95863882, -0.13229706,  0.11693975,  0.43873554, -0.21689277],\n",
       "       [-1.11246824, -0.16156369,  0.00555115,  0.18426371, -0.04292035],\n",
       "       [-0.46593257, -0.78238634, -0.34163554,  0.5232864 ,  0.04280874]])"
      ]
     },
     "execution_count": 36,
     "metadata": {},
     "output_type": "execute_result"
    }
   ],
   "source": [
    "U[:5, :5]"
   ]
  },
  {
   "cell_type": "markdown",
   "metadata": {},
   "source": [
    "### Exercise\n",
    "\n",
    "The component matrix $V$ tells us the mapping between principal components and the original features. Use this matrix to try to interpret the first two principal components"
   ]
  },
  {
   "cell_type": "code",
   "execution_count": 41,
   "metadata": {
    "scrolled": true
   },
   "outputs": [
    {
     "data": {
      "text/plain": [
       "PctNotSpeakEnglWell    0.206046\n",
       "PctIlleg               0.191114\n",
       "PctPersDenseHous       0.191065\n",
       "racePctHisp            0.180157\n",
       "PctRecImmig10          0.175007\n",
       "PctLargHouseFam        0.174359\n",
       "pctWPubAsst            0.173927\n",
       "PctRecImmig8           0.170854\n",
       "PctRecImmig5           0.167628\n",
       "PctRecentImmig         0.161552\n",
       "PctWOFullPlumb         0.160409\n",
       "PopDens                0.160108\n",
       "PctForeignBorn         0.152902\n",
       "PctLargHouseOccup      0.149430\n",
       "PctLess9thGrade        0.146794\n",
       "PctPolicMinor          0.141652\n",
       "PctUnemployed          0.137359\n",
       "PctNotHSGrad           0.133515\n",
       "PctPopUnderPov         0.131821\n",
       "PctUsePubTrans         0.128574\n",
       "NumUnderPov            0.122033\n",
       "racepctblack           0.116232\n",
       "NumIlleg               0.113874\n",
       "PctVacantBoarded       0.109888\n",
       "PctHousNoPhone         0.108616\n",
       "PersPerRentOccHous     0.106511\n",
       "PersPerFam             0.105481\n",
       "PctPolicHisp           0.103649\n",
       "NumImmig               0.099158\n",
       "MalePctNevMarr         0.095950\n",
       "                         ...   \n",
       "pctWWage              -0.025600\n",
       "pctWFarmSelf          -0.028329\n",
       "AsianPerCap           -0.028360\n",
       "LemasSwFTFieldOps     -0.030040\n",
       "OtherPerCap           -0.030491\n",
       "agePct65up            -0.040680\n",
       "HispPerCap            -0.043353\n",
       "PctWorkMomYoungKids   -0.046215\n",
       "whitePerCap           -0.047262\n",
       "pctWRetire            -0.051721\n",
       "PctEmploy             -0.051750\n",
       "medIncome             -0.060341\n",
       "PctOccupMgmtProf      -0.063155\n",
       "PctBSorMore           -0.065036\n",
       "MedYrHousBuilt        -0.067728\n",
       "medFamInc             -0.072630\n",
       "perCapInc             -0.073105\n",
       "PctWorkMom            -0.076659\n",
       "MedNumBR              -0.081001\n",
       "PctHousOwnOcc         -0.100267\n",
       "pctWInvInc            -0.103002\n",
       "RacialMatchCommPol    -0.104497\n",
       "PctTeen2Par           -0.105267\n",
       "PctPersOwnOccup       -0.117335\n",
       "PctFam2Par            -0.118306\n",
       "PctYoungKids2Par      -0.120274\n",
       "PctKids2Par           -0.129709\n",
       "PctPolicWhite         -0.129810\n",
       "PctSpeakEnglOnly      -0.176444\n",
       "racePctWhite          -0.183660\n",
       "dtype: float64"
      ]
     },
     "execution_count": 41,
     "metadata": {},
     "output_type": "execute_result"
    }
   ],
   "source": [
    "comp1 = pd.Series(dict(zip(X_train.columns, pca.components_[1, :])))\n",
    "comp1.sort_values(ascending=False)"
   ]
  },
  {
   "cell_type": "markdown",
   "metadata": {},
   "source": [
    "## Application: Linear Regression\n",
    "\n",
    "We tried regularized regression on this dataset before. Let's remind ourselves of the results"
   ]
  },
  {
   "cell_type": "markdown",
   "metadata": {},
   "source": [
    "#### Vanilla"
   ]
  },
  {
   "cell_type": "code",
   "execution_count": 42,
   "metadata": {},
   "outputs": [
    {
     "name": "stdout",
     "output_type": "stream",
     "text": [
      "Train R-squared: 0.823\n",
      "Test R-squared: 0.509\n"
     ]
    }
   ],
   "source": [
    "from sklearn.linear_model import LinearRegression\n",
    "lr = LinearRegression()\n",
    "lr.fit(X_train, y_train)\n",
    "\n",
    "print 'Train R-squared: {:.3}'.format(lr.score(X_train, y_train))\n",
    "print 'Test R-squared: {:.3}'.format(lr.score(X_test, y_test))"
   ]
  },
  {
   "cell_type": "markdown",
   "metadata": {},
   "source": [
    "#### Lasso"
   ]
  },
  {
   "cell_type": "code",
   "execution_count": 43,
   "metadata": {},
   "outputs": [
    {
     "name": "stdout",
     "output_type": "stream",
     "text": [
      "Train R-squared: 0.661\n",
      "Test R-squared: 0.722\n"
     ]
    },
    {
     "name": "stderr",
     "output_type": "stream",
     "text": [
      "/Users/zalexander/anaconda/lib/python2.7/site-packages/sklearn/linear_model/coordinate_descent.py:1082: DataConversionWarning: A column-vector y was passed when a 1d array was expected. Please change the shape of y to (n_samples, ), for example using ravel().\n",
      "  y = column_or_1d(y, warn=True)\n"
     ]
    }
   ],
   "source": [
    "from sklearn.linear_model import LassoCV\n",
    "lasso = LassoCV(alphas= 2. ** np.arange(-10, 10))\n",
    "lasso.fit(X_train, y_train)\n",
    "\n",
    "print 'Train R-squared: {:.3}'.format(lasso.score(X_train, y_train))\n",
    "print 'Test R-squared: {:.3}'.format(lasso.score(X_test, y_test))"
   ]
  },
  {
   "cell_type": "markdown",
   "metadata": {},
   "source": [
    "### Using Dimensionality Reduction\n",
    "\n",
    "The reason the un-regularized model does so poorly is that there are way too many features compared to the number of observations. Another approach to regularization is simply to choose a smaller number of features.\n",
    "\n",
    "## Exercise\n",
    "\n",
    "Below are three approaches to reducing the number of features used in the model. For each approach, \n",
    "\n",
    "1. Plot the R-squared (on X_test) vs number of features used.\n",
    "2. Report the best R-squared\n",
    "3. Report the number of features used to get the best R-squared"
   ]
  },
  {
   "cell_type": "markdown",
   "metadata": {},
   "source": [
    "#### 1. Randomly choose subsets of features\n",
    "\n",
    "This is the most naive approach to dimensionality reduction; just pick $k$ features at random."
   ]
  },
  {
   "cell_type": "code",
   "execution_count": 44,
   "metadata": {},
   "outputs": [
    {
     "data": {
      "text/plain": [
       "[<matplotlib.lines.Line2D at 0x10fc5a050>]"
      ]
     },
     "execution_count": 44,
     "metadata": {},
     "output_type": "execute_result"
    },
    {
     "data": {
      "image/png": "[encoded data removed]",
      "text/plain": [
       "<matplotlib.figure.Figure at 0x10eb20490>"
      ]
     },
     "metadata": {},
     "output_type": "display_data"
    }
   ],
   "source": [
    "def random_features(nfeatures):\n",
    "    cols = np.random.choice(X_train.columns, nfeatures, replace=False)\n",
    "    lr = LinearRegression()\n",
    "    lr.fit(X_train.loc[:, cols], y_train)\n",
    "    return lr.score(X_test.loc[:, cols], y_test)\n",
    "\n",
    "out = [random_features(i) for i in range(1, 120)]\n",
    "plt.plot(out)"
   ]
  },
  {
   "cell_type": "code",
   "execution_count": 45,
   "metadata": {},
   "outputs": [
    {
     "data": {
      "text/plain": [
       "0.7290559561325578"
      ]
     },
     "execution_count": 45,
     "metadata": {},
     "output_type": "execute_result"
    }
   ],
   "source": [
    "np.max(out)"
   ]
  },
  {
   "cell_type": "code",
   "execution_count": 47,
   "metadata": {},
   "outputs": [
    {
     "data": {
      "text/plain": [
       "25"
      ]
     },
     "execution_count": 47,
     "metadata": {},
     "output_type": "execute_result"
    }
   ],
   "source": [
    "np.argmax(out)"
   ]
  },
  {
   "cell_type": "markdown",
   "metadata": {},
   "source": [
    "#### 2. Intelligently choose subsets of features\n",
    "\n",
    "We can do a little better than randomly choosing sets of features. Use the sklearn function `f_regression` to rank the features in order of their correlation with the target, then pick the top $k$ features."
   ]
  },
  {
   "cell_type": "code",
   "execution_count": null,
   "metadata": {},
   "outputs": [],
   "source": []
  },
  {
   "cell_type": "markdown",
   "metadata": {},
   "source": [
    "#### 3. Intelligently choose a projections into principal component space\n",
    "\n",
    "Lastly, we can use PCA to compress as much information into as few features as possible. The number of features to use is the number of principal components."
   ]
  },
  {
   "cell_type": "code",
   "execution_count": null,
   "metadata": {
    "collapsed": true
   },
   "outputs": [],
   "source": []
  }
 ],
 "metadata": {
  "kernelspec": {
   "display_name": "Python [conda root]",
   "language": "python",
   "name": "conda-root-py"
  },
  "language_info": {
   "codemirror_mode": {
    "name": "ipython",
    "version": 2
   },
   "file_extension": ".py",
   "mimetype": "text/x-python",
   "name": "python",
   "nbconvert_exporter": "python",
   "pygments_lexer": "ipython2",
   "version": "2.7.13"
  }
 },
 "nbformat": 4,
 "nbformat_minor": 2
}
